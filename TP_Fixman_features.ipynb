{
 "cells": [
  {
   "cell_type": "code",
   "execution_count": 1,
   "metadata": {
    "ExecuteTime": {
     "end_time": "2016-09-25T01:36:55.520393",
     "start_time": "2016-09-25T01:36:54.860923"
    },
    "collapsed": false,
    "init_cell": true
   },
   "outputs": [],
   "source": [
    "from __future__ import print_function\n",
    "from __future__ import division\n",
    "\n",
    "import pandas\n",
    "import numpy\n",
    "import scipy\n",
    "import matplotlib\n",
    "import seaborn\n",
    "import sklearn\n",
    "import sys\n",
    "\n",
    "import itertools\n",
    "\n",
    "from matplotlib import pyplot"
   ]
  },
  {
   "cell_type": "markdown",
   "metadata": {
    "heading_collapsed": true
   },
   "source": [
    "# Classification"
   ]
  },
  {
   "cell_type": "code",
   "execution_count": 2,
   "metadata": {
    "ExecuteTime": {
     "end_time": "2016-09-24T19:29:33.612500",
     "start_time": "2016-09-24T19:29:19.157228"
    },
    "collapsed": false,
    "hidden": true,
    "init_cell": false
   },
   "outputs": [
    {
     "name": "stderr",
     "output_type": "stream",
     "text": [
      "/usr/lib/python2.7/site-packages/IPython/core/interactiveshell.py:2717: DtypeWarning: Columns (0,1,2,3,4,5,6,7,8,9,10,11,12,13,14,15,16,17,18,19,20,21,22,23,24,25,26,27,28,29,30,31,32,33,34,35,36,37,38,39,40,41,42,43,44,45,46,47,48,49,50,51,52,53,54,55,56,57,58,59,60,61,62,63,64,65,66,67,68,69,70,71,72,73,74,75,76,77,78,79,80,81,82,83,84,85,86,87,88,89,90,91,92,93,94,95,96,97,98,99,100,101,102,103,104,105,106,107,108,109,110,111,112,113,114,115,116,117,118,119,120,121,122,123,124,125,126,127,128,129,130,131,132,133,134,135,136,137,138,139,140,141,142,143,144,145,146,147,148,149,150,151,152,153,154,155,156,157,158,159,160,161,162,163,164,165,166,167,168,169,170,171,172,173,174,175,176,177,178,179,180,181,182,183,184,185,186,187,188,189,190,191,192,193,194,195,196,197,198,199,200,201,202,203,204,205,206,207,208,209,210,211,212,213,214,215,216,217,218,219,220,221,222,223,224,225,226,227,228,229,230,231,232,233,234,235,236,237,238,239,240,241,242,243,244,245,246,247,248,249,250,251,252,253,254,255,256,257,258,259,260,261,262,263,264,265,266,267,268,269,270,271,272,273,274,275,276,277,278,279,280,281,282,283,284,285,286,287,288,289,290,291,292,293,294,295,296,297,298,299,300,301,302,303,304,305,306,307,308,309,310,311,312,313,314,315,316,317,318,319,320,321,322,323,324,325,326,327,328,329,330,331,332,333,334,335,336,337,338,339,340,341,342,343,344,345,346,347,348,349,350,351,352,353,354,355,356,357,358,359,360,361,362,363,364,365,366,367,368,369,370,371,372,373,374,375,376,377,378,379,380,381,382,383,384,385,386,387,388,389,390,391,392,393,394,395,396,397,398,399,400,401,402,403,404,405,406,407,408,409,410,411,412,413,414,415,416,417,418,419,420,421,422,423,424,425,426,427,428,429,430,431,432,433,434,435,436,437,438,439,440,441,442,443,444,445,446,447,448,449,450,451,452,453,454,455,456,457,458,459,460,461,462,463,464,465,466,467,468,469,470,471,472,473,474,475,476,477,478,479,480,481,482,483,484,485,486,487,488,489,490,491,492,493,494,495,496,497,498,499,500,501,502,503,504,505,506,507,508,509,510,511,512,513,514,515,516,517,518,519,520,521,522,523,524,525,526,527,528,529,530,531,532,533,534,535,536,537,538,539,540,541,542,543,544,545,546,547,548,549,550,551,552,553,554,555,556,557,558,559,560,561,562,563,564,565,566,567,568,569,570,571,572,573,574,575,576,577,578,579,580,581,582,583,584,585,586,587,588,589,590,591,592,593,594,595,596,597,598,599,600,601,602,603,604,605,606,607,608,609,610,611,612,613,614,615,616,617,618,619,620,621,622,623,624,625,626,627,628,629,630,631,632,633,634,635,636,637,638,639,640,641,642,643,644,645,646,647,648,649,650,651,652,653,654,655,656,657,658,659,660,661,662,663,664,665,666,667,668,669,670,671,672,673,674,675,676,677,678,679,680,681,682,683,684,685,686,687,688,689,690,691,692,693,694,695,696,697,698,699,700,701,702,703,704,705,706,707,708,709,710,711,712,713,714,715,716,717,718,719,720,721,722,723,724,725,726,727,728,729,730,731,732,733,734,735,736,737,738,739,740,741,742,743,744,745,746,747,748,749,750,751,752,753,754,755,756,757,758,759,760,761,762,763,764,765,766,767,768,769,770,771,772,773,774,775,776,777,778,779,780,781,782,783,784,785,786,787,788,789,790,791,792,793,794,795,796,797,798,799,800,801,802,803,804,805,806,807,808,809,810,811,812,813,814,815,816,817,818,819,820,821,822,823,824,825,826,827,828,829,830,831,832,833,834,835,836,837,838,839,840,841,842,843,844,845,846,847,848,849,850,851,852,853,854,855,856,857,858,859,860,861,862,863,864,865,866,867,868,869,870,871,872,873,874,875,876,877,878,879,880,881,882,883,884,885,886,887,888,889,890,891,892,893,894,895,896,897,898,899,900,901,902,903,904,905,906,907,908,909,910,911,912,913,914,915,916,917,918,919,920,921,922,923,924,925,926,927,928,929,930,931,932,933) have mixed types. Specify dtype option on import or set low_memory=False.\n",
      "  interactivity=interactivity, compiler=compiler, result=result)\n"
     ]
    }
   ],
   "source": [
    "features = pandas.read_csv('dev/features.csv')"
   ]
  },
  {
   "cell_type": "markdown",
   "metadata": {
    "hidden": true
   },
   "source": []
  },
  {
   "cell_type": "code",
   "execution_count": 3,
   "metadata": {
    "ExecuteTime": {
     "end_time": "2016-09-24T19:29:33.723433",
     "start_time": "2016-09-24T19:29:33.613936"
    },
    "collapsed": false,
    "hidden": true,
    "init_cell": false
   },
   "outputs": [],
   "source": [
    "from sklearn import cross_validation\n",
    "from sklearn.linear_model import LogisticRegression"
   ]
  },
  {
   "cell_type": "code",
   "execution_count": 7,
   "metadata": {
    "ExecuteTime": {
     "end_time": "2016-09-21T23:15:34.381914",
     "start_time": "2016-09-21T23:15:34.244241"
    },
    "collapsed": false,
    "hidden": true
   },
   "outputs": [],
   "source": [
    "X = features.drop('spam', axis = 1)\n",
    "y = features.spam\n",
    "\n",
    "%xdel features"
   ]
  },
  {
   "cell_type": "code",
   "execution_count": 21,
   "metadata": {
    "ExecuteTime": {
     "end_time": "2016-09-21T23:18:41.994841",
     "start_time": "2016-09-21T23:18:41.568782"
    },
    "collapsed": false,
    "hidden": true
   },
   "outputs": [],
   "source": [
    "X_train, X_test, y_train, y_test = cross_validation.train_test_split(X, y, train_size = .5, random_state = 0)"
   ]
  },
  {
   "cell_type": "markdown",
   "metadata": {
    "heading_collapsed": true,
    "hidden": true
   },
   "source": [
    "## Logistic Regression"
   ]
  },
  {
   "cell_type": "code",
   "execution_count": 14,
   "metadata": {
    "ExecuteTime": {
     "end_time": "2016-09-21T22:18:13.143541",
     "start_time": "2016-09-21T22:18:12.404381"
    },
    "collapsed": false,
    "hidden": true
   },
   "outputs": [
    {
     "ename": "ValueError",
     "evalue": "Input contains NaN, infinity or a value too large for dtype('float64').",
     "output_type": "error",
     "traceback": [
      "\u001b[0;31m---------------------------------------------------------------------------\u001b[0m",
      "\u001b[0;31mValueError\u001b[0m                                Traceback (most recent call last)",
      "\u001b[0;32m<ipython-input-14-49cd4f2c1e3d>\u001b[0m in \u001b[0;36m<module>\u001b[0;34m()\u001b[0m\n\u001b[1;32m      1\u001b[0m \u001b[0mlr\u001b[0m \u001b[0;34m=\u001b[0m \u001b[0mLogisticRegression\u001b[0m\u001b[0;34m(\u001b[0m\u001b[0mn_jobs\u001b[0m \u001b[0;34m=\u001b[0m \u001b[0;34m-\u001b[0m\u001b[0;36m1\u001b[0m\u001b[0;34m)\u001b[0m\u001b[0;34m\u001b[0m\u001b[0m\n\u001b[0;32m----> 2\u001b[0;31m \u001b[0mlr\u001b[0m\u001b[0;34m.\u001b[0m\u001b[0mfit\u001b[0m\u001b[0;34m(\u001b[0m\u001b[0mX_train\u001b[0m\u001b[0;34m,\u001b[0m \u001b[0my_train\u001b[0m\u001b[0;34m)\u001b[0m\u001b[0;34m\u001b[0m\u001b[0m\n\u001b[0m",
      "\u001b[0;32m/usr/lib/python2.7/site-packages/sklearn/linear_model/logistic.pyc\u001b[0m in \u001b[0;36mfit\u001b[0;34m(self, X, y, sample_weight)\u001b[0m\n\u001b[1;32m   1140\u001b[0m \u001b[0;34m\u001b[0m\u001b[0m\n\u001b[1;32m   1141\u001b[0m         X, y = check_X_y(X, y, accept_sparse='csr', dtype=np.float64, \n\u001b[0;32m-> 1142\u001b[0;31m                          order=\"C\")\n\u001b[0m\u001b[1;32m   1143\u001b[0m         \u001b[0mcheck_classification_targets\u001b[0m\u001b[0;34m(\u001b[0m\u001b[0my\u001b[0m\u001b[0;34m)\u001b[0m\u001b[0;34m\u001b[0m\u001b[0m\n\u001b[1;32m   1144\u001b[0m         \u001b[0mself\u001b[0m\u001b[0;34m.\u001b[0m\u001b[0mclasses_\u001b[0m \u001b[0;34m=\u001b[0m \u001b[0mnp\u001b[0m\u001b[0;34m.\u001b[0m\u001b[0munique\u001b[0m\u001b[0;34m(\u001b[0m\u001b[0my\u001b[0m\u001b[0;34m)\u001b[0m\u001b[0;34m\u001b[0m\u001b[0m\n",
      "\u001b[0;32m/usr/lib/python2.7/site-packages/sklearn/utils/validation.pyc\u001b[0m in \u001b[0;36mcheck_X_y\u001b[0;34m(X, y, accept_sparse, dtype, order, copy, force_all_finite, ensure_2d, allow_nd, multi_output, ensure_min_samples, ensure_min_features, y_numeric, warn_on_dtype, estimator)\u001b[0m\n\u001b[1;32m    508\u001b[0m     X = check_array(X, accept_sparse, dtype, order, copy, force_all_finite,\n\u001b[1;32m    509\u001b[0m                     \u001b[0mensure_2d\u001b[0m\u001b[0;34m,\u001b[0m \u001b[0mallow_nd\u001b[0m\u001b[0;34m,\u001b[0m \u001b[0mensure_min_samples\u001b[0m\u001b[0;34m,\u001b[0m\u001b[0;34m\u001b[0m\u001b[0m\n\u001b[0;32m--> 510\u001b[0;31m                     ensure_min_features, warn_on_dtype, estimator)\n\u001b[0m\u001b[1;32m    511\u001b[0m     \u001b[0;32mif\u001b[0m \u001b[0mmulti_output\u001b[0m\u001b[0;34m:\u001b[0m\u001b[0;34m\u001b[0m\u001b[0m\n\u001b[1;32m    512\u001b[0m         y = check_array(y, 'csr', force_all_finite=True, ensure_2d=False,\n",
      "\u001b[0;32m/usr/lib/python2.7/site-packages/sklearn/utils/validation.pyc\u001b[0m in \u001b[0;36mcheck_array\u001b[0;34m(array, accept_sparse, dtype, order, copy, force_all_finite, ensure_2d, allow_nd, ensure_min_samples, ensure_min_features, warn_on_dtype, estimator)\u001b[0m\n\u001b[1;32m    396\u001b[0m                              % (array.ndim, estimator_name))\n\u001b[1;32m    397\u001b[0m         \u001b[0;32mif\u001b[0m \u001b[0mforce_all_finite\u001b[0m\u001b[0;34m:\u001b[0m\u001b[0;34m\u001b[0m\u001b[0m\n\u001b[0;32m--> 398\u001b[0;31m             \u001b[0m_assert_all_finite\u001b[0m\u001b[0;34m(\u001b[0m\u001b[0marray\u001b[0m\u001b[0;34m)\u001b[0m\u001b[0;34m\u001b[0m\u001b[0m\n\u001b[0m\u001b[1;32m    399\u001b[0m \u001b[0;34m\u001b[0m\u001b[0m\n\u001b[1;32m    400\u001b[0m     \u001b[0mshape_repr\u001b[0m \u001b[0;34m=\u001b[0m \u001b[0m_shape_repr\u001b[0m\u001b[0;34m(\u001b[0m\u001b[0marray\u001b[0m\u001b[0;34m.\u001b[0m\u001b[0mshape\u001b[0m\u001b[0;34m)\u001b[0m\u001b[0;34m\u001b[0m\u001b[0m\n",
      "\u001b[0;32m/usr/lib/python2.7/site-packages/sklearn/utils/validation.pyc\u001b[0m in \u001b[0;36m_assert_all_finite\u001b[0;34m(X)\u001b[0m\n\u001b[1;32m     52\u001b[0m             and not np.isfinite(X).all()):\n\u001b[1;32m     53\u001b[0m         raise ValueError(\"Input contains NaN, infinity\"\n\u001b[0;32m---> 54\u001b[0;31m                          \" or a value too large for %r.\" % X.dtype)\n\u001b[0m\u001b[1;32m     55\u001b[0m \u001b[0;34m\u001b[0m\u001b[0m\n\u001b[1;32m     56\u001b[0m \u001b[0;34m\u001b[0m\u001b[0m\n",
      "\u001b[0;31mValueError\u001b[0m: Input contains NaN, infinity or a value too large for dtype('float64')."
     ]
    }
   ],
   "source": [
    "lr = LogisticRegression(n_jobs = -1)\n",
    "lr.fit(X_train, y_train)"
   ]
  },
  {
   "cell_type": "code",
   "execution_count": null,
   "metadata": {
    "collapsed": false,
    "hidden": true
   },
   "outputs": [],
   "source": [
    "lr."
   ]
  },
  {
   "cell_type": "markdown",
   "metadata": {
    "hidden": true
   },
   "source": [
    "## Decision Tree"
   ]
  },
  {
   "cell_type": "code",
   "execution_count": 5,
   "metadata": {
    "ExecuteTime": {
     "end_time": "2016-09-21T23:15:25.618832",
     "start_time": "2016-09-21T23:15:25.596292"
    },
    "collapsed": false,
    "hidden": true
   },
   "outputs": [],
   "source": [
    "from sklearn.tree import DecisionTreeClassifier"
   ]
  },
  {
   "cell_type": "code",
   "execution_count": 48,
   "metadata": {
    "ExecuteTime": {
     "end_time": "2016-09-21T22:31:06.938204",
     "start_time": "2016-09-21T22:31:06.491415"
    },
    "collapsed": false,
    "hidden": true
   },
   "outputs": [
    {
     "data": {
      "text/plain": [
       "DecisionTreeClassifier(class_weight='balanced', criterion='entropy',\n",
       "            max_depth=None, max_features='sqrt', max_leaf_nodes=None,\n",
       "            min_samples_leaf=1, min_samples_split=2,\n",
       "            min_weight_fraction_leaf=0.0, presort=False, random_state=0,\n",
       "            splitter='random')"
      ]
     },
     "execution_count": 48,
     "metadata": {},
     "output_type": "execute_result"
    }
   ],
   "source": [
    "dt = DecisionTreeClassifier(criterion = 'entropy', random_state = 0, splitter = 'random', max_features = 'sqrt', class_weight = 'balanced')\n",
    "dt.fit(X_train.fillna(0), y_train.fillna(0))"
   ]
  },
  {
   "cell_type": "code",
   "execution_count": 49,
   "metadata": {
    "ExecuteTime": {
     "end_time": "2016-09-21T22:31:07.069859",
     "start_time": "2016-09-21T22:31:06.940396"
    },
    "collapsed": false,
    "hidden": true
   },
   "outputs": [
    {
     "data": {
      "text/plain": [
       "0.99254320987654321"
      ]
     },
     "execution_count": 49,
     "metadata": {},
     "output_type": "execute_result"
    }
   ],
   "source": [
    "dt.score(X_test.fillna(0), y_test.fillna(0))"
   ]
  },
  {
   "cell_type": "code",
   "execution_count": 70,
   "metadata": {
    "ExecuteTime": {
     "end_time": "2016-09-21T22:54:40.695981",
     "start_time": "2016-09-21T22:54:40.691888"
    },
    "collapsed": false,
    "hidden": true
   },
   "outputs": [],
   "source": [
    "options = {\n",
    "    'criterion': ['gini', 'entropy'],\n",
    "    'splitter': ['best', 'random'],\n",
    "    'max_features': ['sqrt', 'log2']\n",
    "}\n",
    "\n",
    "options = [{k: v for k, v in zip(options.keys(), x)} for x in itertools.product(*options.values())]"
   ]
  },
  {
   "cell_type": "code",
   "execution_count": 84,
   "metadata": {
    "ExecuteTime": {
     "end_time": "2016-09-21T23:05:08.025244",
     "start_time": "2016-09-21T23:04:53.037119"
    },
    "collapsed": false,
    "hidden": true
   },
   "outputs": [
    {
     "data": {
      "text/plain": [
       "[(0.99506172839506168,\n",
       "  {'criterion': 'gini', 'max_features': None, 'splitter': 'random'}),\n",
       " (0.99486419753086419,\n",
       "  {'criterion': 'entropy', 'max_features': None, 'splitter': 'random'}),\n",
       " (0.9946666666666667,\n",
       "  {'criterion': 'gini', 'max_features': 'sqrt', 'splitter': 'random'}),\n",
       " (0.99451851851851847,\n",
       "  {'criterion': 'entropy', 'max_features': None, 'splitter': 'best'}),\n",
       " (0.99377777777777776,\n",
       "  {'criterion': 'gini', 'max_features': None, 'splitter': 'best'}),\n",
       " (0.99259259259259258,\n",
       "  {'criterion': 'gini', 'max_features': 'log2', 'splitter': 'best'}),\n",
       " (0.99239506172839509,\n",
       "  {'criterion': 'entropy', 'max_features': 'sqrt', 'splitter': 'random'}),\n",
       " (0.99209876543209874,\n",
       "  {'criterion': 'entropy', 'max_features': 'log2', 'splitter': 'best'}),\n",
       " (0.99111111111111116,\n",
       "  {'criterion': 'entropy', 'max_features': 'sqrt', 'splitter': 'best'}),\n",
       " (0.99037037037037035,\n",
       "  {'criterion': 'gini', 'max_features': 'sqrt', 'splitter': 'best'}),\n",
       " (0.98997530864197536,\n",
       "  {'criterion': 'entropy', 'max_features': 'log2', 'splitter': 'random'}),\n",
       " (0.98799999999999999,\n",
       "  {'criterion': 'gini', 'max_features': 'log2', 'splitter': 'random'})]"
      ]
     },
     "execution_count": 84,
     "metadata": {},
     "output_type": "execute_result"
    }
   ],
   "source": [
    "q = []\n",
    "\n",
    "for p in options:\n",
    "    dt = DecisionTreeClassifier(random_state = 0, **p)\n",
    "    dt.fit(X_train.fillna(0), y_train.fillna(0))\n",
    "    q.append((dt.score(X_test.fillna(0), y_test.fillna(0)), p))\n",
    "\n",
    "sorted(q, reverse = True)"
   ]
  },
  {
   "cell_type": "code",
   "execution_count": 29,
   "metadata": {
    "ExecuteTime": {
     "end_time": "2016-09-21T23:32:26.577324",
     "start_time": "2016-09-21T23:32:26.055008"
    },
    "collapsed": false,
    "hidden": true
   },
   "outputs": [
    {
     "data": {
      "text/plain": [
       "0.9996049382716049"
      ]
     },
     "execution_count": 29,
     "metadata": {},
     "output_type": "execute_result"
    }
   ],
   "source": [
    "dt = DecisionTreeClassifier(random_state = 0, splitter = 'random', max_features = 'sqrt', max_depth = 6)\n",
    "dt.fit(X_train.fillna(.5), y_train.fillna(.5))\n",
    "dt.score(X_test.fillna(.5), y_test.fillna(.5))"
   ]
  },
  {
   "cell_type": "code",
   "execution_count": 30,
   "metadata": {
    "ExecuteTime": {
     "end_time": "2016-09-21T23:32:26.822316",
     "start_time": "2016-09-21T23:32:26.578982"
    },
    "collapsed": false,
    "hidden": true
   },
   "outputs": [],
   "source": [
    "sklearn.tree.export_graphviz(dt.tree_, out_file = 'sqrt.dot', class_names = ['ham', 'spam'], feature_names = X.columns, filled = True, proportion = True)\n",
    "!dot -Tpng sqrt.dot > sqrt.png"
   ]
  },
  {
   "cell_type": "markdown",
   "metadata": {},
   "source": [
    "# Newer and better"
   ]
  },
  {
   "cell_type": "code",
   "execution_count": 2,
   "metadata": {
    "ExecuteTime": {
     "end_time": "2016-09-24T19:43:38.369625",
     "start_time": "2016-09-24T19:43:38.031196"
    },
    "collapsed": false
   },
   "outputs": [],
   "source": [
    "columns = pandas.read_csv('dev/features_all.csv', nrows = 0).columns\n",
    "duplicated = numpy.ones_like(columns, dtype = bool)"
   ]
  },
  {
   "cell_type": "code",
   "execution_count": 3,
   "metadata": {
    "ExecuteTime": {
     "end_time": "2016-09-24T19:45:13.096252",
     "start_time": "2016-09-24T19:43:40.891766"
    },
    "collapsed": false
   },
   "outputs": [
    {
     "name": "stderr",
     "output_type": "stream",
     "text": [
      "Chunk 0\n",
      "Chunk 1\n",
      "Chunk 2\n",
      "Chunk 3\n",
      "Chunk 4\n",
      "Chunk 5\n",
      "Chunk 6\n",
      "Chunk 7\n",
      "Chunk 8\n"
     ]
    },
    {
     "data": {
      "text/plain": [
       "1658"
      ]
     },
     "execution_count": 3,
     "metadata": {},
     "output_type": "execute_result"
    }
   ],
   "source": [
    "sys.setrecursionlimit(10000)\n",
    "for e, c in enumerate(pandas.read_csv('dev/features_all.csv', chunksize = 10000)):\n",
    "    print('Chunk {}'.format(e), file = sys.stderr)\n",
    "    duplicated &= c.T.duplicated().T\n",
    "\n",
    "duplicated.sum()"
   ]
  },
  {
   "cell_type": "code",
   "execution_count": 12,
   "metadata": {
    "ExecuteTime": {
     "end_time": "2016-09-24T19:47:35.150412",
     "start_time": "2016-09-24T19:47:35.144328"
    },
    "collapsed": false
   },
   "outputs": [
    {
     "data": {
      "text/plain": [
       "5070"
      ]
     },
     "execution_count": 12,
     "metadata": {},
     "output_type": "execute_result"
    }
   ],
   "source": [
    "(columns == 'spam').argmax()"
   ]
  },
  {
   "cell_type": "code",
   "execution_count": 13,
   "metadata": {
    "ExecuteTime": {
     "end_time": "2016-09-24T19:47:42.720934",
     "start_time": "2016-09-24T19:47:42.710169"
    },
    "collapsed": false
   },
   "outputs": [
    {
     "data": {
      "text/plain": [
       "False"
      ]
     },
     "execution_count": 13,
     "metadata": {},
     "output_type": "execute_result"
    }
   ],
   "source": [
    "duplicated[5070]"
   ]
  },
  {
   "cell_type": "code",
   "execution_count": 16,
   "metadata": {
    "ExecuteTime": {
     "end_time": "2016-09-24T19:51:39.657819",
     "start_time": "2016-09-24T19:49:05.574617"
    },
    "collapsed": false
   },
   "outputs": [
    {
     "name": "stderr",
     "output_type": "stream",
     "text": [
      "Chunk 0\n",
      "Chunk 1\n",
      "Chunk 2\n",
      "Chunk 3\n",
      "Chunk 4\n",
      "Chunk 5\n",
      "Chunk 6\n",
      "Chunk 7\n",
      "Chunk 8\n"
     ]
    }
   ],
   "source": [
    "dedup_columns = columns[~duplicated]\n",
    "\n",
    "for e, c in enumerate(pandas.read_csv('dev/features_all.csv', chunksize = 10000)):\n",
    "    print('Chunk {}'.format(e), file = sys.stderr)\n",
    "    c[dedup_columns].to_csv('dev/features_dedup.csv', header = e == 0, index = False, mode = 'w' if e == 0 else 'a')"
   ]
  },
  {
   "cell_type": "code",
   "execution_count": 15,
   "metadata": {
    "ExecuteTime": {
     "end_time": "2016-09-24T19:48:47.228594",
     "start_time": "2016-09-24T19:48:47.224027"
    },
    "collapsed": false
   },
   "outputs": [
    {
     "data": {
      "text/plain": [
       "(5071,)"
      ]
     },
     "execution_count": 15,
     "metadata": {},
     "output_type": "execute_result"
    }
   ],
   "source": [
    "duplicated.shape"
   ]
  },
  {
   "cell_type": "markdown",
   "metadata": {},
   "source": [
    "# OneHotEncoding"
   ]
  },
  {
   "cell_type": "markdown",
   "metadata": {},
   "source": [
    "## Getting allowable columns"
   ]
  },
  {
   "cell_type": "code",
   "execution_count": 2,
   "metadata": {
    "ExecuteTime": {
     "end_time": "2016-09-25T01:37:06.331556",
     "start_time": "2016-09-25T01:37:03.298349"
    },
    "collapsed": false
   },
   "outputs": [],
   "source": [
    "head = pandas.read_csv('data/train_shuf.csv', nrows = 25000, dtype = object, index_col = 'num').drop('spam', axis = 1)"
   ]
  },
  {
   "cell_type": "code",
   "execution_count": 3,
   "metadata": {
    "ExecuteTime": {
     "end_time": "2016-09-25T01:37:20.121169",
     "start_time": "2016-09-25T01:37:06.333392"
    },
    "collapsed": false
   },
   "outputs": [],
   "source": [
    "cols = head[head.columns[head.apply(lambda x: (x.fillna('').str.strip().str.len() > 0).sum() >= 25)]].apply(lambda x: x.str.strip().nunique() < 10 and x.str.strip().nunique() > 1)\n",
    "dict_columns = cols[cols].index"
   ]
  },
  {
   "cell_type": "code",
   "execution_count": 5,
   "metadata": {
    "collapsed": false
   },
   "outputs": [
    {
     "data": {
      "text/plain": [
       "Index([u'Content-Language', u'Content-transfer-encoding', u'Importance',\n",
       "       u'List-Owner', u'List-Subscribe', u'Mailing-List', u'Mime-Version',\n",
       "       u'Precedence', u'Priority', u'Sensitivity', u'X-Accept-Language',\n",
       "       u'X-Commissioner-id', u'X-Commissioner-league', u'X-Library',\n",
       "       u'X-Lotus-FromDomain', u'X-MS-Has-Attach', u'X-MSMail-Priority',\n",
       "       u'X-MSMail-priority', u'X-Mimeole', u'content-class',\n",
       "       u'content-transfer-encoding', u'importance', u'mime-version',\n",
       "       u'my_linesep', u'my_reason', u'x-accept-language', u'x-msmail-priority',\n",
       "       u'x-origin', u'x-priority'],\n",
       "      dtype='object')"
      ]
     },
     "execution_count": 5,
     "metadata": {},
     "output_type": "execute_result"
    }
   ],
   "source": [
    "dict_columns"
   ]
  },
  {
   "cell_type": "markdown",
   "metadata": {},
   "source": [
    "## OneHotEncoder on this subset"
   ]
  },
  {
   "cell_type": "code",
   "execution_count": 4,
   "metadata": {
    "ExecuteTime": {
     "end_time": "2016-09-25T01:37:20.142559",
     "start_time": "2016-09-25T01:37:20.122977"
    },
    "collapsed": false
   },
   "outputs": [],
   "source": [
    "from sklearn.feature_extraction import DictVectorizer"
   ]
  },
  {
   "cell_type": "code",
   "execution_count": 5,
   "metadata": {
    "ExecuteTime": {
     "end_time": "2016-09-25T01:37:23.417641",
     "start_time": "2016-09-25T01:37:20.144465"
    },
    "collapsed": false
   },
   "outputs": [],
   "source": [
    "table = pandas.read_csv('data/train.csv', usecols = dict_columns | ['num'], dtype = object, index_col = 'num')"
   ]
  },
  {
   "cell_type": "code",
   "execution_count": 6,
   "metadata": {
    "ExecuteTime": {
     "end_time": "2016-09-25T01:37:28.780074",
     "start_time": "2016-09-25T01:37:23.419510"
    },
    "collapsed": false
   },
   "outputs": [],
   "source": [
    "dv = DictVectorizer(sparse = False)\n",
    "categorized = pandas.DataFrame(dv.fit_transform(table.to_dict(orient = 'records')), columns = map(str.strip, dv.get_feature_names()), index = table.index)\n",
    "valid = categorized.columns[~categorized.isnull().any()]"
   ]
  },
  {
   "cell_type": "code",
   "execution_count": 7,
   "metadata": {
    "ExecuteTime": {
     "end_time": "2016-09-25T01:37:31.963265",
     "start_time": "2016-09-25T01:37:28.781965"
    },
    "collapsed": false
   },
   "outputs": [],
   "source": [
    "categorized[valid].astype(int).to_csv('dev/feature_header_categories.csv', header = True, index = True)"
   ]
  },
  {
   "cell_type": "markdown",
   "metadata": {},
   "source": [
    "# Removing more columns"
   ]
  },
  {
   "cell_type": "code",
   "execution_count": 2,
   "metadata": {
    "ExecuteTime": {
     "end_time": "2016-09-25T00:39:20.674652",
     "start_time": "2016-09-25T00:39:15.573315"
    },
    "collapsed": false
   },
   "outputs": [],
   "source": [
    "a = pandas.read_csv('dev/features_header_comp.csv', index_col = 'num', nrows = 10000)"
   ]
  },
  {
   "cell_type": "code",
   "execution_count": 4,
   "metadata": {
    "ExecuteTime": {
     "end_time": "2016-09-25T00:40:10.463070",
     "start_time": "2016-09-25T00:40:03.840679"
    },
    "collapsed": false
   },
   "outputs": [
    {
     "data": {
      "text/plain": [
       "-Message-Info_length              False\n",
       "0X-Accept-Language_length         False\n",
       "AG-BBI_length                     False\n",
       "Alternate-Recipient_length        False\n",
       "Apparently-To_length              False\n",
       "Approved_length                   False\n",
       "Approved-By_length                False\n",
       "Authentication-Results_length     False\n",
       "Auto-Forwarded_length             False\n",
       "Auto-Submitted_length             False\n",
       "BASEURL=http_length               False\n",
       "BCc_length                        False\n",
       "Bcc_length                        False\n",
       "Body_length                       False\n",
       "Bounces-to_length                 False\n",
       "CC_length                         False\n",
       "CONTENT-TYPE_length               False\n",
       "Cc_length                         False\n",
       "Comments_length                   False\n",
       "Content-Alias_length              False\n",
       "Content-Base_length               False\n",
       "Content-Class_length              False\n",
       "Content-Description_length        False\n",
       "Content-Disposition_length        False\n",
       "Content-ID_length                 False\n",
       "Content-Identifier_length         False\n",
       "Content-Language_length           False\n",
       "Content-Location_length           False\n",
       "Content-MD5_length                False\n",
       "Content-Return_length             False\n",
       "                                  ...  \n",
       "x-sending-ip_exists               False\n",
       "x-server_exists                   False\n",
       "x-skrzynka-av_exists              False\n",
       "x-skrzynka-av-mail-from_exists    False\n",
       "x-source_exists                   False\n",
       "x-source-args_exists              False\n",
       "x-source-dir_exists               False\n",
       "x-spam-checker-version_exists     False\n",
       "x-spam-level_exists               False\n",
       "x-spam-processed_exists           False\n",
       "x-spam-score_exists               False\n",
       "x-spam-status_exists              False\n",
       "x-starscan-version_exists         False\n",
       "x-subscriber_exists               False\n",
       "x-tmorder_exists                  False\n",
       "x-tnz-problem-type_exists         False\n",
       "x-to_exists                       False\n",
       "x-uidl_exists                     False\n",
       "x-unsent_exists                   False\n",
       "x-unsubscribe_exists              False\n",
       "x-user--ip_exists                 False\n",
       "x-userid_exists                   False\n",
       "x-virus-scanned_exists            False\n",
       "x-viruschecked_exists             False\n",
       "x-webmail-time_exists             False\n",
       "x-yahoo-newman-property_exists    False\n",
       "x-yahoo-profile_exists            False\n",
       "xType_exists                      False\n",
       "xref_exists                       False\n",
       "spam                              False\n",
       "dtype: bool"
      ]
     },
     "execution_count": 4,
     "metadata": {},
     "output_type": "execute_result"
    }
   ],
   "source": [
    "a.apply(lambda x: pandas.concat([x.value_counts(sort = True, normalize = True), pandas.Series([0])]).iloc[1] >= .01)"
   ]
  },
  {
   "cell_type": "code",
   "execution_count": 8,
   "metadata": {
    "ExecuteTime": {
     "end_time": "2016-09-25T00:41:11.283385",
     "start_time": "2016-09-25T00:41:11.273624"
    },
    "collapsed": false
   },
   "outputs": [
    {
     "data": {
      "text/plain": [
       "0    1.0\n",
       "0    0.0\n",
       "dtype: float64"
      ]
     },
     "execution_count": 8,
     "metadata": {},
     "output_type": "execute_result"
    }
   ],
   "source": [
    "pandas.concat([a['AG-BBI_length'].value_counts(normalize = True), pandas.Series([0])])"
   ]
  },
  {
   "cell_type": "markdown",
   "metadata": {},
   "source": [
    "# Whitespace"
   ]
  },
  {
   "cell_type": "markdown",
   "metadata": {},
   "source": [
    "&nbsp;\n",
    "\n",
    "&nbsp;\n",
    "\n",
    "&nbsp;\n",
    "\n",
    "&nbsp;\n",
    "\n",
    "&nbsp;\n",
    "\n",
    "&nbsp;\n",
    "\n",
    "&nbsp;\n",
    "\n",
    "&nbsp;\n",
    "\n",
    "&nbsp;\n",
    "\n",
    "&nbsp;\n",
    "\n",
    "&nbsp;\n",
    "\n",
    "&nbsp;\n",
    "\n",
    "&nbsp;\n",
    "\n",
    "&nbsp;\n",
    "\n",
    "&nbsp;\n",
    "\n",
    "&nbsp;\n",
    "\n",
    "&nbsp;\n",
    "\n",
    "&nbsp;\n",
    "\n",
    "&nbsp;\n",
    "\n",
    "&nbsp;\n",
    "\n",
    "&nbsp;\n",
    "\n",
    "&nbsp;\n",
    "\n",
    "&nbsp;\n",
    "\n",
    "&nbsp;\n",
    "\n",
    "&nbsp;\n",
    "\n",
    "&nbsp;\n",
    "\n",
    "&nbsp;\n",
    "\n",
    "&nbsp;\n",
    "\n",
    "&nbsp;\n",
    "\n",
    "&nbsp;\n",
    "\n",
    "&nbsp;\n",
    "\n",
    "&nbsp;\n",
    "\n"
   ]
  }
 ],
 "metadata": {
  "celltoolbar": "Initialisation Cell",
  "kernelspec": {
   "display_name": "Python 2",
   "language": "python",
   "name": "python2"
  },
  "language_info": {
   "codemirror_mode": {
    "name": "ipython",
    "version": 2
   },
   "file_extension": ".py",
   "mimetype": "text/x-python",
   "name": "python",
   "nbconvert_exporter": "python",
   "pygments_lexer": "ipython2",
   "version": "2.7.12"
  },
  "notify_time": "5"
 },
 "nbformat": 4,
 "nbformat_minor": 1
}

{
 "cells": [
  {
   "cell_type": "code",
   "execution_count": 1,
   "metadata": {
    "ExecuteTime": {
     "end_time": "2016-09-24T23:19:08.964325",
     "start_time": "2016-09-24T23:19:08.471851"
    },
    "collapsed": false,
    "init_cell": true
   },
   "outputs": [],
   "source": [
    "from __future__ import print_function\n",
    "from __future__ import division\n",
    "\n",
    "import pandas\n",
    "import numpy\n",
    "import scipy\n",
    "import matplotlib\n",
    "import seaborn\n",
    "import sklearn\n",
    "import sys\n",
    "\n",
    "import itertools\n",
    "\n",
    "from matplotlib import pyplot"
   ]
  },
  {
   "cell_type": "markdown",
   "metadata": {
    "heading_collapsed": true
   },
   "source": [
    "# Classification"
   ]
  },
  {
   "cell_type": "code",
   "execution_count": 2,
   "metadata": {
    "ExecuteTime": {
     "end_time": "2016-09-24T19:29:33.612500",
     "start_time": "2016-09-24T19:29:19.157228"
    },
    "collapsed": false,
    "hidden": true,
    "init_cell": false
   },
   "outputs": [
    {
     "name": "stderr",
     "output_type": "stream",
     "text": [
      "/usr/lib/python2.7/site-packages/IPython/core/interactiveshell.py:2717: DtypeWarning: Columns (0,1,2,3,4,5,6,7,8,9,10,11,12,13,14,15,16,17,18,19,20,21,22,23,24,25,26,27,28,29,30,31,32,33,34,35,36,37,38,39,40,41,42,43,44,45,46,47,48,49,50,51,52,53,54,55,56,57,58,59,60,61,62,63,64,65,66,67,68,69,70,71,72,73,74,75,76,77,78,79,80,81,82,83,84,85,86,87,88,89,90,91,92,93,94,95,96,97,98,99,100,101,102,103,104,105,106,107,108,109,110,111,112,113,114,115,116,117,118,119,120,121,122,123,124,125,126,127,128,129,130,131,132,133,134,135,136,137,138,139,140,141,142,143,144,145,146,147,148,149,150,151,152,153,154,155,156,157,158,159,160,161,162,163,164,165,166,167,168,169,170,171,172,173,174,175,176,177,178,179,180,181,182,183,184,185,186,187,188,189,190,191,192,193,194,195,196,197,198,199,200,201,202,203,204,205,206,207,208,209,210,211,212,213,214,215,216,217,218,219,220,221,222,223,224,225,226,227,228,229,230,231,232,233,234,235,236,237,238,239,240,241,242,243,244,245,246,247,248,249,250,251,252,253,254,255,256,257,258,259,260,261,262,263,264,265,266,267,268,269,270,271,272,273,274,275,276,277,278,279,280,281,282,283,284,285,286,287,288,289,290,291,292,293,294,295,296,297,298,299,300,301,302,303,304,305,306,307,308,309,310,311,312,313,314,315,316,317,318,319,320,321,322,323,324,325,326,327,328,329,330,331,332,333,334,335,336,337,338,339,340,341,342,343,344,345,346,347,348,349,350,351,352,353,354,355,356,357,358,359,360,361,362,363,364,365,366,367,368,369,370,371,372,373,374,375,376,377,378,379,380,381,382,383,384,385,386,387,388,389,390,391,392,393,394,395,396,397,398,399,400,401,402,403,404,405,406,407,408,409,410,411,412,413,414,415,416,417,418,419,420,421,422,423,424,425,426,427,428,429,430,431,432,433,434,435,436,437,438,439,440,441,442,443,444,445,446,447,448,449,450,451,452,453,454,455,456,457,458,459,460,461,462,463,464,465,466,467,468,469,470,471,472,473,474,475,476,477,478,479,480,481,482,483,484,485,486,487,488,489,490,491,492,493,494,495,496,497,498,499,500,501,502,503,504,505,506,507,508,509,510,511,512,513,514,515,516,517,518,519,520,521,522,523,524,525,526,527,528,529,530,531,532,533,534,535,536,537,538,539,540,541,542,543,544,545,546,547,548,549,550,551,552,553,554,555,556,557,558,559,560,561,562,563,564,565,566,567,568,569,570,571,572,573,574,575,576,577,578,579,580,581,582,583,584,585,586,587,588,589,590,591,592,593,594,595,596,597,598,599,600,601,602,603,604,605,606,607,608,609,610,611,612,613,614,615,616,617,618,619,620,621,622,623,624,625,626,627,628,629,630,631,632,633,634,635,636,637,638,639,640,641,642,643,644,645,646,647,648,649,650,651,652,653,654,655,656,657,658,659,660,661,662,663,664,665,666,667,668,669,670,671,672,673,674,675,676,677,678,679,680,681,682,683,684,685,686,687,688,689,690,691,692,693,694,695,696,697,698,699,700,701,702,703,704,705,706,707,708,709,710,711,712,713,714,715,716,717,718,719,720,721,722,723,724,725,726,727,728,729,730,731,732,733,734,735,736,737,738,739,740,741,742,743,744,745,746,747,748,749,750,751,752,753,754,755,756,757,758,759,760,761,762,763,764,765,766,767,768,769,770,771,772,773,774,775,776,777,778,779,780,781,782,783,784,785,786,787,788,789,790,791,792,793,794,795,796,797,798,799,800,801,802,803,804,805,806,807,808,809,810,811,812,813,814,815,816,817,818,819,820,821,822,823,824,825,826,827,828,829,830,831,832,833,834,835,836,837,838,839,840,841,842,843,844,845,846,847,848,849,850,851,852,853,854,855,856,857,858,859,860,861,862,863,864,865,866,867,868,869,870,871,872,873,874,875,876,877,878,879,880,881,882,883,884,885,886,887,888,889,890,891,892,893,894,895,896,897,898,899,900,901,902,903,904,905,906,907,908,909,910,911,912,913,914,915,916,917,918,919,920,921,922,923,924,925,926,927,928,929,930,931,932,933) have mixed types. Specify dtype option on import or set low_memory=False.\n",
      "  interactivity=interactivity, compiler=compiler, result=result)\n"
     ]
    }
   ],
   "source": [
    "features = pandas.read_csv('dev/features.csv')"
   ]
  },
  {
   "cell_type": "markdown",
   "metadata": {
    "hidden": true
   },
   "source": []
  },
  {
   "cell_type": "code",
   "execution_count": 3,
   "metadata": {
    "ExecuteTime": {
     "end_time": "2016-09-24T19:29:33.723433",
     "start_time": "2016-09-24T19:29:33.613936"
    },
    "collapsed": false,
    "hidden": true,
    "init_cell": false
   },
   "outputs": [],
   "source": [
    "from sklearn import cross_validation\n",
    "from sklearn.linear_model import LogisticRegression"
   ]
  },
  {
   "cell_type": "code",
   "execution_count": 7,
   "metadata": {
    "ExecuteTime": {
     "end_time": "2016-09-21T23:15:34.381914",
     "start_time": "2016-09-21T23:15:34.244241"
    },
    "collapsed": false,
    "hidden": true
   },
   "outputs": [],
   "source": [
    "X = features.drop('spam', axis = 1)\n",
    "y = features.spam\n",
    "\n",
    "%xdel features"
   ]
  },
  {
   "cell_type": "code",
   "execution_count": 21,
   "metadata": {
    "ExecuteTime": {
     "end_time": "2016-09-21T23:18:41.994841",
     "start_time": "2016-09-21T23:18:41.568782"
    },
    "collapsed": false,
    "hidden": true
   },
   "outputs": [],
   "source": [
    "X_train, X_test, y_train, y_test = cross_validation.train_test_split(X, y, train_size = .5, random_state = 0)"
   ]
  },
  {
   "cell_type": "markdown",
   "metadata": {
    "heading_collapsed": true,
    "hidden": true
   },
   "source": [
    "## Logistic Regression"
   ]
  },
  {
   "cell_type": "code",
   "execution_count": 14,
   "metadata": {
    "ExecuteTime": {
     "end_time": "2016-09-21T22:18:13.143541",
     "start_time": "2016-09-21T22:18:12.404381"
    },
    "collapsed": false,
    "hidden": true
   },
   "outputs": [
    {
     "ename": "ValueError",
     "evalue": "Input contains NaN, infinity or a value too large for dtype('float64').",
     "output_type": "error",
     "traceback": [
      "\u001b[0;31m---------------------------------------------------------------------------\u001b[0m",
      "\u001b[0;31mValueError\u001b[0m                                Traceback (most recent call last)",
      "\u001b[0;32m<ipython-input-14-49cd4f2c1e3d>\u001b[0m in \u001b[0;36m<module>\u001b[0;34m()\u001b[0m\n\u001b[1;32m      1\u001b[0m \u001b[0mlr\u001b[0m \u001b[0;34m=\u001b[0m \u001b[0mLogisticRegression\u001b[0m\u001b[0;34m(\u001b[0m\u001b[0mn_jobs\u001b[0m \u001b[0;34m=\u001b[0m \u001b[0;34m-\u001b[0m\u001b[0;36m1\u001b[0m\u001b[0;34m)\u001b[0m\u001b[0;34m\u001b[0m\u001b[0m\n\u001b[0;32m----> 2\u001b[0;31m \u001b[0mlr\u001b[0m\u001b[0;34m.\u001b[0m\u001b[0mfit\u001b[0m\u001b[0;34m(\u001b[0m\u001b[0mX_train\u001b[0m\u001b[0;34m,\u001b[0m \u001b[0my_train\u001b[0m\u001b[0;34m)\u001b[0m\u001b[0;34m\u001b[0m\u001b[0m\n\u001b[0m",
      "\u001b[0;32m/usr/lib/python2.7/site-packages/sklearn/linear_model/logistic.pyc\u001b[0m in \u001b[0;36mfit\u001b[0;34m(self, X, y, sample_weight)\u001b[0m\n\u001b[1;32m   1140\u001b[0m \u001b[0;34m\u001b[0m\u001b[0m\n\u001b[1;32m   1141\u001b[0m         X, y = check_X_y(X, y, accept_sparse='csr', dtype=np.float64, \n\u001b[0;32m-> 1142\u001b[0;31m                          order=\"C\")\n\u001b[0m\u001b[1;32m   1143\u001b[0m         \u001b[0mcheck_classification_targets\u001b[0m\u001b[0;34m(\u001b[0m\u001b[0my\u001b[0m\u001b[0;34m)\u001b[0m\u001b[0;34m\u001b[0m\u001b[0m\n\u001b[1;32m   1144\u001b[0m         \u001b[0mself\u001b[0m\u001b[0;34m.\u001b[0m\u001b[0mclasses_\u001b[0m \u001b[0;34m=\u001b[0m \u001b[0mnp\u001b[0m\u001b[0;34m.\u001b[0m\u001b[0munique\u001b[0m\u001b[0;34m(\u001b[0m\u001b[0my\u001b[0m\u001b[0;34m)\u001b[0m\u001b[0;34m\u001b[0m\u001b[0m\n",
      "\u001b[0;32m/usr/lib/python2.7/site-packages/sklearn/utils/validation.pyc\u001b[0m in \u001b[0;36mcheck_X_y\u001b[0;34m(X, y, accept_sparse, dtype, order, copy, force_all_finite, ensure_2d, allow_nd, multi_output, ensure_min_samples, ensure_min_features, y_numeric, warn_on_dtype, estimator)\u001b[0m\n\u001b[1;32m    508\u001b[0m     X = check_array(X, accept_sparse, dtype, order, copy, force_all_finite,\n\u001b[1;32m    509\u001b[0m                     \u001b[0mensure_2d\u001b[0m\u001b[0;34m,\u001b[0m \u001b[0mallow_nd\u001b[0m\u001b[0;34m,\u001b[0m \u001b[0mensure_min_samples\u001b[0m\u001b[0;34m,\u001b[0m\u001b[0;34m\u001b[0m\u001b[0m\n\u001b[0;32m--> 510\u001b[0;31m                     ensure_min_features, warn_on_dtype, estimator)\n\u001b[0m\u001b[1;32m    511\u001b[0m     \u001b[0;32mif\u001b[0m \u001b[0mmulti_output\u001b[0m\u001b[0;34m:\u001b[0m\u001b[0;34m\u001b[0m\u001b[0m\n\u001b[1;32m    512\u001b[0m         y = check_array(y, 'csr', force_all_finite=True, ensure_2d=False,\n",
      "\u001b[0;32m/usr/lib/python2.7/site-packages/sklearn/utils/validation.pyc\u001b[0m in \u001b[0;36mcheck_array\u001b[0;34m(array, accept_sparse, dtype, order, copy, force_all_finite, ensure_2d, allow_nd, ensure_min_samples, ensure_min_features, warn_on_dtype, estimator)\u001b[0m\n\u001b[1;32m    396\u001b[0m                              % (array.ndim, estimator_name))\n\u001b[1;32m    397\u001b[0m         \u001b[0;32mif\u001b[0m \u001b[0mforce_all_finite\u001b[0m\u001b[0;34m:\u001b[0m\u001b[0;34m\u001b[0m\u001b[0m\n\u001b[0;32m--> 398\u001b[0;31m             \u001b[0m_assert_all_finite\u001b[0m\u001b[0;34m(\u001b[0m\u001b[0marray\u001b[0m\u001b[0;34m)\u001b[0m\u001b[0;34m\u001b[0m\u001b[0m\n\u001b[0m\u001b[1;32m    399\u001b[0m \u001b[0;34m\u001b[0m\u001b[0m\n\u001b[1;32m    400\u001b[0m     \u001b[0mshape_repr\u001b[0m \u001b[0;34m=\u001b[0m \u001b[0m_shape_repr\u001b[0m\u001b[0;34m(\u001b[0m\u001b[0marray\u001b[0m\u001b[0;34m.\u001b[0m\u001b[0mshape\u001b[0m\u001b[0;34m)\u001b[0m\u001b[0;34m\u001b[0m\u001b[0m\n",
      "\u001b[0;32m/usr/lib/python2.7/site-packages/sklearn/utils/validation.pyc\u001b[0m in \u001b[0;36m_assert_all_finite\u001b[0;34m(X)\u001b[0m\n\u001b[1;32m     52\u001b[0m             and not np.isfinite(X).all()):\n\u001b[1;32m     53\u001b[0m         raise ValueError(\"Input contains NaN, infinity\"\n\u001b[0;32m---> 54\u001b[0;31m                          \" or a value too large for %r.\" % X.dtype)\n\u001b[0m\u001b[1;32m     55\u001b[0m \u001b[0;34m\u001b[0m\u001b[0m\n\u001b[1;32m     56\u001b[0m \u001b[0;34m\u001b[0m\u001b[0m\n",
      "\u001b[0;31mValueError\u001b[0m: Input contains NaN, infinity or a value too large for dtype('float64')."
     ]
    }
   ],
   "source": [
    "lr = LogisticRegression(n_jobs = -1)\n",
    "lr.fit(X_train, y_train)"
   ]
  },
  {
   "cell_type": "code",
   "execution_count": null,
   "metadata": {
    "collapsed": false,
    "hidden": true
   },
   "outputs": [],
   "source": [
    "lr."
   ]
  },
  {
   "cell_type": "markdown",
   "metadata": {
    "hidden": true
   },
   "source": [
    "## Decision Tree"
   ]
  },
  {
   "cell_type": "code",
   "execution_count": 5,
   "metadata": {
    "ExecuteTime": {
     "end_time": "2016-09-21T23:15:25.618832",
     "start_time": "2016-09-21T23:15:25.596292"
    },
    "collapsed": false,
    "hidden": true
   },
   "outputs": [],
   "source": [
    "from sklearn.tree import DecisionTreeClassifier"
   ]
  },
  {
   "cell_type": "code",
   "execution_count": 48,
   "metadata": {
    "ExecuteTime": {
     "end_time": "2016-09-21T22:31:06.938204",
     "start_time": "2016-09-21T22:31:06.491415"
    },
    "collapsed": false,
    "hidden": true
   },
   "outputs": [
    {
     "data": {
      "text/plain": [
       "DecisionTreeClassifier(class_weight='balanced', criterion='entropy',\n",
       "            max_depth=None, max_features='sqrt', max_leaf_nodes=None,\n",
       "            min_samples_leaf=1, min_samples_split=2,\n",
       "            min_weight_fraction_leaf=0.0, presort=False, random_state=0,\n",
       "            splitter='random')"
      ]
     },
     "execution_count": 48,
     "metadata": {},
     "output_type": "execute_result"
    }
   ],
   "source": [
    "dt = DecisionTreeClassifier(criterion = 'entropy', random_state = 0, splitter = 'random', max_features = 'sqrt', class_weight = 'balanced')\n",
    "dt.fit(X_train.fillna(0), y_train.fillna(0))"
   ]
  },
  {
   "cell_type": "code",
   "execution_count": 49,
   "metadata": {
    "ExecuteTime": {
     "end_time": "2016-09-21T22:31:07.069859",
     "start_time": "2016-09-21T22:31:06.940396"
    },
    "collapsed": false,
    "hidden": true
   },
   "outputs": [
    {
     "data": {
      "text/plain": [
       "0.99254320987654321"
      ]
     },
     "execution_count": 49,
     "metadata": {},
     "output_type": "execute_result"
    }
   ],
   "source": [
    "dt.score(X_test.fillna(0), y_test.fillna(0))"
   ]
  },
  {
   "cell_type": "code",
   "execution_count": 70,
   "metadata": {
    "ExecuteTime": {
     "end_time": "2016-09-21T22:54:40.695981",
     "start_time": "2016-09-21T22:54:40.691888"
    },
    "collapsed": false,
    "hidden": true
   },
   "outputs": [],
   "source": [
    "options = {\n",
    "    'criterion': ['gini', 'entropy'],\n",
    "    'splitter': ['best', 'random'],\n",
    "    'max_features': ['sqrt', 'log2']\n",
    "}\n",
    "\n",
    "options = [{k: v for k, v in zip(options.keys(), x)} for x in itertools.product(*options.values())]"
   ]
  },
  {
   "cell_type": "code",
   "execution_count": 84,
   "metadata": {
    "ExecuteTime": {
     "end_time": "2016-09-21T23:05:08.025244",
     "start_time": "2016-09-21T23:04:53.037119"
    },
    "collapsed": false,
    "hidden": true
   },
   "outputs": [
    {
     "data": {
      "text/plain": [
       "[(0.99506172839506168,\n",
       "  {'criterion': 'gini', 'max_features': None, 'splitter': 'random'}),\n",
       " (0.99486419753086419,\n",
       "  {'criterion': 'entropy', 'max_features': None, 'splitter': 'random'}),\n",
       " (0.9946666666666667,\n",
       "  {'criterion': 'gini', 'max_features': 'sqrt', 'splitter': 'random'}),\n",
       " (0.99451851851851847,\n",
       "  {'criterion': 'entropy', 'max_features': None, 'splitter': 'best'}),\n",
       " (0.99377777777777776,\n",
       "  {'criterion': 'gini', 'max_features': None, 'splitter': 'best'}),\n",
       " (0.99259259259259258,\n",
       "  {'criterion': 'gini', 'max_features': 'log2', 'splitter': 'best'}),\n",
       " (0.99239506172839509,\n",
       "  {'criterion': 'entropy', 'max_features': 'sqrt', 'splitter': 'random'}),\n",
       " (0.99209876543209874,\n",
       "  {'criterion': 'entropy', 'max_features': 'log2', 'splitter': 'best'}),\n",
       " (0.99111111111111116,\n",
       "  {'criterion': 'entropy', 'max_features': 'sqrt', 'splitter': 'best'}),\n",
       " (0.99037037037037035,\n",
       "  {'criterion': 'gini', 'max_features': 'sqrt', 'splitter': 'best'}),\n",
       " (0.98997530864197536,\n",
       "  {'criterion': 'entropy', 'max_features': 'log2', 'splitter': 'random'}),\n",
       " (0.98799999999999999,\n",
       "  {'criterion': 'gini', 'max_features': 'log2', 'splitter': 'random'})]"
      ]
     },
     "execution_count": 84,
     "metadata": {},
     "output_type": "execute_result"
    }
   ],
   "source": [
    "q = []\n",
    "\n",
    "for p in options:\n",
    "    dt = DecisionTreeClassifier(random_state = 0, **p)\n",
    "    dt.fit(X_train.fillna(0), y_train.fillna(0))\n",
    "    q.append((dt.score(X_test.fillna(0), y_test.fillna(0)), p))\n",
    "\n",
    "sorted(q, reverse = True)"
   ]
  },
  {
   "cell_type": "code",
   "execution_count": 29,
   "metadata": {
    "ExecuteTime": {
     "end_time": "2016-09-21T23:32:26.577324",
     "start_time": "2016-09-21T23:32:26.055008"
    },
    "collapsed": false,
    "hidden": true
   },
   "outputs": [
    {
     "data": {
      "text/plain": [
       "0.9996049382716049"
      ]
     },
     "execution_count": 29,
     "metadata": {},
     "output_type": "execute_result"
    }
   ],
   "source": [
    "dt = DecisionTreeClassifier(random_state = 0, splitter = 'random', max_features = 'sqrt', max_depth = 6)\n",
    "dt.fit(X_train.fillna(.5), y_train.fillna(.5))\n",
    "dt.score(X_test.fillna(.5), y_test.fillna(.5))"
   ]
  },
  {
   "cell_type": "code",
   "execution_count": 30,
   "metadata": {
    "ExecuteTime": {
     "end_time": "2016-09-21T23:32:26.822316",
     "start_time": "2016-09-21T23:32:26.578982"
    },
    "collapsed": false,
    "hidden": true
   },
   "outputs": [],
   "source": [
    "sklearn.tree.export_graphviz(dt.tree_, out_file = 'sqrt.dot', class_names = ['ham', 'spam'], feature_names = X.columns, filled = True, proportion = True)\n",
    "!dot -Tpng sqrt.dot > sqrt.png"
   ]
  },
  {
   "cell_type": "markdown",
   "metadata": {},
   "source": [
    "# Newer and better"
   ]
  },
  {
   "cell_type": "code",
   "execution_count": 2,
   "metadata": {
    "ExecuteTime": {
     "end_time": "2016-09-24T19:43:38.369625",
     "start_time": "2016-09-24T19:43:38.031196"
    },
    "collapsed": true
   },
   "outputs": [],
   "source": [
    "columns = pandas.read_csv('dev/features_all.csv', nrows = 0).columns\n",
    "duplicated = numpy.ones_like(columns, dtype = bool)"
   ]
  },
  {
   "cell_type": "code",
   "execution_count": 3,
   "metadata": {
    "ExecuteTime": {
     "end_time": "2016-09-24T19:45:13.096252",
     "start_time": "2016-09-24T19:43:40.891766"
    },
    "collapsed": false
   },
   "outputs": [
    {
     "name": "stderr",
     "output_type": "stream",
     "text": [
      "Chunk 0\n",
      "Chunk 1\n",
      "Chunk 2\n",
      "Chunk 3\n",
      "Chunk 4\n",
      "Chunk 5\n",
      "Chunk 6\n",
      "Chunk 7\n",
      "Chunk 8\n"
     ]
    },
    {
     "data": {
      "text/plain": [
       "1658"
      ]
     },
     "execution_count": 3,
     "metadata": {},
     "output_type": "execute_result"
    }
   ],
   "source": [
    "sys.setrecursionlimit(10000)\n",
    "for e, c in enumerate(pandas.read_csv('dev/features_all.csv', chunksize = 10000)):\n",
    "    print('Chunk {}'.format(e), file = sys.stderr)\n",
    "    duplicated &= c.T.duplicated().T\n",
    "\n",
    "duplicated.sum()"
   ]
  },
  {
   "cell_type": "code",
   "execution_count": 12,
   "metadata": {
    "ExecuteTime": {
     "end_time": "2016-09-24T19:47:35.150412",
     "start_time": "2016-09-24T19:47:35.144328"
    },
    "collapsed": false
   },
   "outputs": [
    {
     "data": {
      "text/plain": [
       "5070"
      ]
     },
     "execution_count": 12,
     "metadata": {},
     "output_type": "execute_result"
    }
   ],
   "source": [
    "(columns == 'spam').argmax()"
   ]
  },
  {
   "cell_type": "code",
   "execution_count": 13,
   "metadata": {
    "ExecuteTime": {
     "end_time": "2016-09-24T19:47:42.720934",
     "start_time": "2016-09-24T19:47:42.710169"
    },
    "collapsed": false
   },
   "outputs": [
    {
     "data": {
      "text/plain": [
       "False"
      ]
     },
     "execution_count": 13,
     "metadata": {},
     "output_type": "execute_result"
    }
   ],
   "source": [
    "duplicated[5070]"
   ]
  },
  {
   "cell_type": "code",
   "execution_count": 16,
   "metadata": {
    "ExecuteTime": {
     "end_time": "2016-09-24T19:51:39.657819",
     "start_time": "2016-09-24T19:49:05.574617"
    },
    "collapsed": false
   },
   "outputs": [
    {
     "name": "stderr",
     "output_type": "stream",
     "text": [
      "Chunk 0\n",
      "Chunk 1\n",
      "Chunk 2\n",
      "Chunk 3\n",
      "Chunk 4\n",
      "Chunk 5\n",
      "Chunk 6\n",
      "Chunk 7\n",
      "Chunk 8\n"
     ]
    }
   ],
   "source": [
    "dedup_columns = columns[~duplicated]\n",
    "\n",
    "for e, c in enumerate(pandas.read_csv('dev/features_all.csv', chunksize = 10000)):\n",
    "    print('Chunk {}'.format(e), file = sys.stderr)\n",
    "    c[dedup_columns].to_csv('dev/features_dedup.csv', header = e == 0, index = False, mode = 'w' if e == 0 else 'a')"
   ]
  },
  {
   "cell_type": "code",
   "execution_count": 15,
   "metadata": {
    "ExecuteTime": {
     "end_time": "2016-09-24T19:48:47.228594",
     "start_time": "2016-09-24T19:48:47.224027"
    },
    "collapsed": false
   },
   "outputs": [
    {
     "data": {
      "text/plain": [
       "(5071,)"
      ]
     },
     "execution_count": 15,
     "metadata": {},
     "output_type": "execute_result"
    }
   ],
   "source": [
    "duplicated.shape"
   ]
  },
  {
   "cell_type": "markdown",
   "metadata": {},
   "source": [
    "# OneHotEncoding"
   ]
  },
  {
   "cell_type": "markdown",
   "metadata": {},
   "source": [
    "## Getting allowable columns"
   ]
  },
  {
   "cell_type": "code",
   "execution_count": 47,
   "metadata": {
    "ExecuteTime": {
     "end_time": "2016-09-24T23:31:27.673002",
     "start_time": "2016-09-24T23:31:24.914989"
    },
    "collapsed": false
   },
   "outputs": [],
   "source": [
    "head = pandas.read_csv('novi/train_shuf.csv', nrows = 25000, dtype = object, index_col = 'num').drop('spam', axis = 1)"
   ]
  },
  {
   "cell_type": "code",
   "execution_count": 71,
   "metadata": {
    "ExecuteTime": {
     "end_time": "2016-09-24T23:38:04.222849",
     "start_time": "2016-09-24T23:37:52.567356"
    },
    "collapsed": false
   },
   "outputs": [],
   "source": [
    "cols = head[head.columns[head.apply(lambda x: (x.fillna('').str.strip().str.len() > 0).sum() >= 25)]].apply(lambda x: x.str.strip().nunique() < 10 and x.str.strip().nunique() > 1)\n",
    "dict_columns = cols[cols].index"
   ]
  },
  {
   "cell_type": "markdown",
   "metadata": {},
   "source": [
    "## OneHotEncoder on this subset"
   ]
  },
  {
   "cell_type": "code",
   "execution_count": 74,
   "metadata": {
    "ExecuteTime": {
     "end_time": "2016-09-24T23:38:23.023918",
     "start_time": "2016-09-24T23:38:23.017753"
    },
    "collapsed": false
   },
   "outputs": [],
   "source": [
    "from sklearn.feature_extraction import DictVectorizer"
   ]
  },
  {
   "cell_type": "code",
   "execution_count": 75,
   "metadata": {
    "ExecuteTime": {
     "end_time": "2016-09-24T23:38:25.033022",
     "start_time": "2016-09-24T23:38:23.184711"
    },
    "collapsed": false
   },
   "outputs": [],
   "source": [
    "table = pandas.read_csv('novi/train.csv', usecols = dict_columns | ['num'], dtype = object, index_col = 'num')"
   ]
  },
  {
   "cell_type": "code",
   "execution_count": 76,
   "metadata": {
    "ExecuteTime": {
     "end_time": "2016-09-24T23:38:29.650454",
     "start_time": "2016-09-24T23:38:25.034522"
    },
    "collapsed": false
   },
   "outputs": [],
   "source": [
    "dv = DictVectorizer(sparse = False)\n",
    "categorized = pandas.DataFrame(dv.fit_transform(table.to_dict(orient = 'records')), columns = map(str.strip, dv.get_feature_names()), index = table.index)\n",
    "valid = categorized.columns[~categorized.isnull().any()]"
   ]
  },
  {
   "cell_type": "code",
   "execution_count": 77,
   "metadata": {
    "ExecuteTime": {
     "end_time": "2016-09-24T23:38:37.287359",
     "start_time": "2016-09-24T23:38:34.478163"
    },
    "collapsed": false
   },
   "outputs": [],
   "source": [
    "categorized[valid].astype(int).to_csv('novi/feature_header_categories.csv', header = True, index = True)"
   ]
  },
  {
   "cell_type": "code",
   "execution_count": 54,
   "metadata": {
    "ExecuteTime": {
     "end_time": "2016-09-24T23:31:56.148950",
     "start_time": "2016-09-24T23:31:56.131406"
    },
    "collapsed": false
   },
   "outputs": [
    {
     "data": {
      "text/plain": [
       "['Content-transfer-encoding',\n",
       " 'Content-transfer-encoding= 7BIT',\n",
       " 'Content-transfer-encoding= 7Bit',\n",
       " 'Content-transfer-encoding= 7bit',\n",
       " 'Content-transfer-encoding= 8BIT',\n",
       " 'Content-transfer-encoding= 8bit',\n",
       " 'Content-transfer-encoding= quoted-printable',\n",
       " 'Importance',\n",
       " 'Importance= ',\n",
       " 'Importance= High',\n",
       " 'Importance= Medium',\n",
       " 'Importance= Normal',\n",
       " 'Importance= Normal ',\n",
       " 'Importance= high',\n",
       " 'Importance= low',\n",
       " 'Importance= normal',\n",
       " 'Mailing-List',\n",
       " 'Mailing-List= contact customers-help@list.frontierairlines.com; run by ezmlm',\n",
       " 'Mailing-List= contact dm-kz1-help@mail.dmx0.com; run by ezmlm',\n",
       " 'Mailing-List= contact entertainment3-help@ronald.joke-land.com; run by ezmlm',\n",
       " 'Mailing-List= contact foxsportsflash_h-help@mailings.foxsports.com; run by ezmlm',\n",
       " 'Mailing-List= contact quickflicks-help@free-irewards.com; run by ezmlm',\n",
       " 'Mailing-List= list ASME-OMAE-Houston@yahoogroups.com; contact ASME-OMAE-Houston-owner@yahoogroups.com',\n",
       " 'Mailing-List= list EnerfaxGOLD@yahoogroups.com; contact EnerfaxGOLD-owner@yahoogroups.com',\n",
       " 'Mailing-List= list Enerfaxweb@yahoogroups.com; contact Enerfaxweb-owner@yahoogroups.com',\n",
       " 'Mailing-List= list cheatsheets@yahoogroups.com; contact cheatsheets-owner@yahoogroups.com',\n",
       " 'Mailing-List= list emca@yahoogroups.com; contact emca-owner@yahoogroups.com',\n",
       " 'Mailing-List= list enerfax@yahoogroups.com; contact enerfax-owner@yahoogroups.com',\n",
       " 'Mailing-List= list spacecity-dsp@yahoogroups.com; contact spacecity-dsp-owner@yahoogroups.com',\n",
       " 'Mime-Version',\n",
       " 'Mime-Version= 1.0',\n",
       " 'Mime-Version= 1.0 ',\n",
       " 'Mime-Version= 1.0 (2)',\n",
       " 'Mime-Version= 1.0 (987)',\n",
       " 'Mime-Version= 1.0 (Apple Message framework v552)',\n",
       " 'Mime-Version= 1.0 (Apple Message framework v725)',\n",
       " 'Mime-Version= 1.0 (Apple Message framework v728)',\n",
       " 'Mime-Version= 1.0 (News mailer)',\n",
       " 'Mime-Version= 1.278',\n",
       " 'Mime-Version= 1.5',\n",
       " 'Precedence',\n",
       " 'Precedence= Bulk',\n",
       " 'Precedence= bulk',\n",
       " 'Precedence= fm-user',\n",
       " 'Precedence= list',\n",
       " 'Precedence= normal',\n",
       " 'Priority',\n",
       " 'Priority= NORMAL',\n",
       " 'Priority= Non-Urgent',\n",
       " 'Priority= Normal',\n",
       " 'Priority= Urgent',\n",
       " 'Priority= normal',\n",
       " 'Sensitivity',\n",
       " 'Sensitivity= ',\n",
       " 'Sensitivity= 2',\n",
       " 'Sensitivity= 9',\n",
       " 'Sensitivity= Company-Confidential',\n",
       " 'Sensitivity= Confidential',\n",
       " 'Sensitivity= Normal',\n",
       " 'Sensitivity= Personal',\n",
       " 'Sensitivity= Private',\n",
       " 'Sensitivity= none',\n",
       " 'X-Accept-Language',\n",
       " 'X-Accept-Language= en',\n",
       " 'X-Accept-Language= en ',\n",
       " 'X-Accept-Language= en,es',\n",
       " 'X-Accept-Language= en,pdf',\n",
       " 'X-Accept-Language= en,zh-TW,zh-CN,zh,ja,ko,tr,ru',\n",
       " 'X-Accept-Language= en-us',\n",
       " 'X-Accept-Language= en-us, en',\n",
       " 'X-Accept-Language= es',\n",
       " 'X-Accept-Language= ja',\n",
       " 'X-Accept-Language= pt',\n",
       " 'X-Commissioner-id',\n",
       " 'X-Commissioner-id= dominator128',\n",
       " 'X-Commissioner-id= fermis',\n",
       " 'X-Commissioner-id= grigsby',\n",
       " 'X-Commissioner-id= hullbass',\n",
       " 'X-Commissioner-id= mcuilla',\n",
       " 'X-Commissioner-id= mrstdk',\n",
       " 'X-Commissioner-id= plucci',\n",
       " 'X-Commissioner-id= teamchick',\n",
       " 'X-Commissioner-league',\n",
       " 'X-Commissioner-league= bige01',\n",
       " 'X-Commissioner-league= ee',\n",
       " 'X-Commissioner-league= ene',\n",
       " 'X-Commissioner-league= getbad',\n",
       " 'X-Commissioner-league= kourn',\n",
       " 'X-Library',\n",
       " 'X-Library= Caretop Library',\n",
       " 'X-Library= Indy 8.0.16-B',\n",
       " 'X-Library= Indy 8.0.22',\n",
       " 'X-Library= Indy 8.0.25',\n",
       " 'X-Library= Indy 9.0.3-B',\n",
       " 'X-Library= Indy 9.00.10',\n",
       " 'X-Lotus-FromDomain',\n",
       " 'X-Lotus-FromDomain= AONNA',\n",
       " 'X-Lotus-FromDomain= BNPPARIBAS@INTERNET',\n",
       " 'X-Lotus-FromDomain= MP',\n",
       " 'X-Lotus-FromDomain= OMGROUP@OMEXT',\n",
       " 'X-Lotus-FromDomain= PRUDENTIAL',\n",
       " 'X-Lotus-FromDomain= SANWA_BK_JPN@SANWA_MTJ_JPN',\n",
       " 'X-Lotus-FromDomain= TSMCSJ',\n",
       " 'X-Lotus-FromDomain= TXUE@TU@TUSMTP',\n",
       " 'X-Lotus-FromDomain= XENERGY',\n",
       " 'X-MS-Has-Attach',\n",
       " 'X-MS-Has-Attach= ',\n",
       " 'X-MS-Has-Attach= yes',\n",
       " 'X-MSMail-Priority',\n",
       " 'X-MSMail-Priority= HIGH',\n",
       " 'X-MSMail-Priority= High',\n",
       " 'X-MSMail-Priority= Low',\n",
       " 'X-MSMail-Priority= Medium',\n",
       " 'X-MSMail-Priority= NORMAL',\n",
       " 'X-MSMail-Priority= Normal',\n",
       " 'X-MSMail-Priority= Normal ',\n",
       " 'X-MSMail-priority',\n",
       " 'X-MSMail-priority= High',\n",
       " 'X-MSMail-priority= Normal',\n",
       " 'X-Mimeole',\n",
       " 'X-Mimeole= Produced By Microsoft Exchange V6.0.4712.0',\n",
       " 'X-Mimeole= Produced By Microsoft Exchange V6.0.5762.3',\n",
       " 'X-Mimeole= Produced By Microsoft MimeOLE V4.72.3612.1700',\n",
       " 'X-Mimeole= Produced By Microsoft MimeOLE V5.00.2615.200',\n",
       " 'X-Mimeole= Produced By Microsoft MimeOLE V5.00.2919.6600',\n",
       " 'X-Mimeole= Produced By Microsoft MimeOLE V5.50.4133.2400',\n",
       " 'X-Mimeole= Produced By Microsoft MimeOLE V5.50.4522.1200',\n",
       " 'X-Mimeole= Produced By Microsoft MimeOLE V5.50.4807.1700',\n",
       " 'X-Mimeole= Produced By Microsoft MimeOLE V6.00.2600.0000',\n",
       " 'X-Mimeole= Produced By Microsoft MimeOLE V6.00.2800.1106',\n",
       " 'X-Source',\n",
       " 'X-Source-Args',\n",
       " 'X-Source-Args= ',\n",
       " 'X-Source-Args=  /usr/local/apache/bin/httpd -DSSL',\n",
       " 'X-Source-Args= /bin/sh /usr/local/etc/rc.d/040exim.sh start ',\n",
       " 'X-Source-Args= /usr/bin/php index.php ',\n",
       " 'X-Source-Args= /usr/bin/php modules.php ',\n",
       " 'X-Source-Args= /usr/local/apache/bin/httpd -DSSL ',\n",
       " 'X-Source-Args= /usr/local/cpanel/3rdparty/bin/php /usr/local/cpanel/base/3rdparty/squirrelmail/src/compose.php ',\n",
       " 'X-Source-Args= sh -c /usr/sbin/sendmail -t -i ',\n",
       " 'X-Source= ',\n",
       " 'X-Source= /bin/sh',\n",
       " 'X-Source= /usr/bin/php',\n",
       " 'X-Source= /usr/local/cpanel/3rdparty/bin/php',\n",
       " 'content-class',\n",
       " 'content-class= urn:content-classes:appointment',\n",
       " 'content-class= urn:content-classes:calendarmessage',\n",
       " 'content-class= urn:content-classes:dsn',\n",
       " 'content-class= urn:content-classes:mdn',\n",
       " 'content-class= urn:content-classes:message',\n",
       " 'content-transfer-encoding',\n",
       " 'content-transfer-encoding= 7bit',\n",
       " 'content-transfer-encoding= 7bit ',\n",
       " 'content-transfer-encoding= 8bit',\n",
       " 'content-transfer-encoding= 8bit<CR>',\n",
       " 'content-transfer-encoding= base64',\n",
       " 'content-transfer-encoding= binary',\n",
       " 'content-transfer-encoding= quoted-printable',\n",
       " 'importance',\n",
       " 'importance= high',\n",
       " 'importance= highest',\n",
       " 'importance= medium',\n",
       " 'importance= normal',\n",
       " 'importance= normal ',\n",
       " 'mime-version',\n",
       " 'mime-version= 1.0',\n",
       " 'mime-version= 1.0 (2)',\n",
       " 'mime-version= 1.0 (987)',\n",
       " 'mime-version= 1.0 (apple message framework v624)',\n",
       " 'mime-version= 1.0 (apple message framework v728)',\n",
       " 'mime-version= 1.0 (intermedia mail)',\n",
       " 'mime-version= 1.0 (intermedia news script)',\n",
       " 'mime-version= 1.0 (produced by  1.2)',\n",
       " 'mime-version= 1.0 (produced by  4.0)',\n",
       " 'mime-version= 1.0 (produced by  5.6)',\n",
       " 'mime-version= 1.0 (produced by  6.0)',\n",
       " 'mime-version= 1.0<CR>',\n",
       " 'my_linesep',\n",
       " 'my_linesep=<CR><NL>',\n",
       " 'my_linesep=<NL>',\n",
       " 'my_reason',\n",
       " 'my_reason=badheader',\n",
       " 'my_reason=nosep',\n",
       " 'x-accept-language',\n",
       " 'x-accept-language= af',\n",
       " 'x-accept-language= en',\n",
       " 'x-accept-language= en-us',\n",
       " 'x-accept-language= en-us, en',\n",
       " 'x-accept-language= es',\n",
       " 'x-bcc',\n",
       " 'x-bcc= ',\n",
       " \"x-bcc= moreno, abraham </o=#####/ou=na/cn=recipients/cn=notesaddr/cn=3631e849-6d8bed9a-862569e0-57a7fb>, cortes, adriana </o=#####/ou=na/cn=recipients/cn=acortes>, tran, agatha </o=#####/ou=na/cn=recipients/cn=atran>, engberg, alan </o=#####/ou=na/cn=recipients/cn=aengber>, haro, alex </o=#####/ou=na/cn=recipients/cn=aharo>, hidalgo, alex </o=#####/ou=na/cn=recipients/cn=notesaddr/cn=b2bcfc9e-4a394f3b-6256a00-544f08>, green, alma </o=#####/ou=na/cn=recipients/cn=agreen1>, ebow, amber </o=#####/ou=na/cn=recipients/cn=aebow>, jon, amy </o=#####/ou=na/cn=recipients/cn=ajon>, trevino, ana </o=#####/ou=na/cn=recipients/cn=notesaddr/cn=a636300f-f714788f-862569e6-7c53f0>, morales, analyn </o=#####/ou=na/cn=recipients/cn=amorale3>, richards, andrea </o=#####/ou=na/cn=recipients/cn=arichard>, miles, andrew </o=#####/ou=na/cn=recipients/cn=amiles>, buis, angie </o=#####/ou=na/cn=recipients/cn=abuis>, o'brian, angie </o=#####/ou=na/cn=recipients/cn=aobrian>, guerrero, anita </o=#####/ou=na/cn=recipients/cn=notesaddr/cn=993b1c2d-85a87b72-862567a6-511a13>, joyner, ann </o=#####/ou=na/cn=recipients/cn=ajoyner>, beliveaux, anne </o=#####/ou=na/cn=recipients/cn=abelive>, bertino, anne </o=#####/ou=na/cn=recipients/cn=notesaddr/cn=c6248a07-12fbf44b-862564c2-4d8a75>, yao, anne s. </o=#####/ou=na/cn=recipients/cn=ayao>, thompson, annette </o=#####/ou=na/cn=recipients/cn=athomps5>, antionette.forrest#####, berlanga, araceli </o=#####/ou=na/cn=recipients/cn=aberlan>, jivan, azim </o=#####/ou=na/cn=recipients/cn=ajivan>, hankins, barbara </o=#####/ou=na/cn=recipients/cn=notesaddr/cn=c75fb98d-a4b992e0-862569cc-6692b9>, pham, becky </o=#####/ou=na/cn=recipients/cn=bpham>, tung, benedicta </o=#####/ou=na/cn=recipients/cn=btung>, rodriguez, bernice </o=#####/ou=na/cn=recipients/cn=brodrig>, davidson, binky </o=#####/ou=na/cn=recipients/cn=bdavids>, bollom, blanca </o=#####/ou=na/cn=recipients/cn=bbollom>, franco, blanca </o=#####/ou=na/cn=recipients/cn=bfranco>, martinez, blanca </o=#####/ou=na/cn=recipients/cn=bmartin2>, shults, bob </o=#####/ou=na/cn=recipients/cn=rshults>, tessandori, bobbi </o=#####/ou=na/cn=recipients/cn=btessan>, barreda, brenda </o=#####/ou=na/cn=recipients/cn=notesaddr/cn=97f5026a-9d2ddb4b-86256930-5421ea>, johnston, brenda j. </o=#####/ou=na/cn=recipients/cn=bjohnst>, maronge, bridget </o=#####/ou=na/cn=recipients/cn=bmarong>, williams, bridget </o=#####/ou=na/cn=recipients/cn=bwilliam>, anderson, bridgette </o=#####/ou=na/cn=recipients/cn=bander2>, jozwiak, c j </o=#####/ou=na/cn=recipients/cn=notesaddr/cn=f12dd89-1a0f6808-862568f5-65a1ae>, best, cameron </o=#####/ou=na/cn=recipients/cn=notesaddr/cn=ae41839-461d5d7c-86256a4e-640fbd>, bywaters, candy  hpl/aep </o=#####/ou=na/cn=recipients/cn=cbywate>, carlos castillo/########## <??scarlos castillo/##########>, jones, carmella </o=#####/ou=na/cn=recipients/cn=cjones11>, perez, carmen </o=#####/ou=na/cn=recipients/cn=cperez>, mcspadden, carol </o=#####/ou=na/cn=recipients/cn=cmcspad>, george, carolyn </o=#####/ou=na/cn=recipients/cn=cgeorge>, graham, carolyn </o=#####/ou=na/cn=recipients/cn=cgraham>, ayala-nelson, catalina </o=#####/ou=na/cn=recipients/cn=cnelson>, phillips, cathy </o=#####/ou=na/cn=recipients/cn=cphilli>, rodriguez, cecilia </o=#####/ou=na/cn=recipients/cn=crodrig4>, villanueva, chantelle </o=#####/ou=na/cn=recipients/cn=cvillar>, arguijo, cheryl </o=#####/ou=na/cn=recipients/cn=carguij>, brashier, cheryl </o=#####/ou=na/cn=recipients/cn=notesaddr/cn=d278f75e-d119a853-86256841-5ea862>, lesage, cheryl </o=#####/ou=na/cn=recipients/cn=notesaddr/cn=fceed163-b329771a-8625659a-80194e>, lun, ching </o=#####/ou=na/cn=recipients/cn=clun>, chollan#####, hendrix, chris </o=#####/ou=na/cn=recipients/cn=notesaddr/cn=8ed04a81-63705c0f-862564c2-6b9ece>, leonard, chris </o=#####/ou=na/cn=recipients/cn=cleonard>, culwell, christi </o=#####/ou=na/cn=recipients/cn=cculwel>, barthel, christina </o=#####/ou=na/cn=recipients/cn=cbarthe>, jasso, christina </o=#####/ou=na/cn=recipients/cn=notesaddr/cn=7bdbed56-516d23d8-862569bd-7bb154>, cicchetti, cindy </o=#####/ou=na/cn=recipients/cn=notesaddr/cn=7f9605b-350da33f-86256a0f-6b4d81>, shaffer, cindy </o=#####/ou=na/cn=recipients/cn=cshaffe>, guerra, claudia </o=#####/ou=na/cn=recipients/cn=cguerra2>, blackwood, connie </o=#####/ou=na/cn=recipients/cn=cblackw>, charles, constance </o=#####/ou=na/cn=recipients/cn=ccharle>, rivera, coralina </o=#####/ou=na/cn=recipients/cn=crivera2>, courtney campbell/########## <??scourtney campbell/##########>, breslau, craig </o=#####/ou=na/cn=recipients/cn=cbresla>, kinsler, cris </o=#####/ou=na/cn=recipients/cn=notesaddr/cn=3cb26d8d-bf5b0c6b-862564c2-4ec958>, castagnola, daniel </o=#####/ou=na/cn=recipients/cn=dcastag>, forsyth, darlene c. </o=#####/ou=na/cn=recipients/cn=dforsyt>, mckeever, darlene </o=#####/ou=na/cn=recipients/cn=dmckeev>, mcdonald, dawn </o=#####/ou=na/cn=recipients/cn=dmcdonal>, busch, debbie </o=#####/ou=na/cn=recipients/cn=dbusch>, doyle, debbie </o=#####/ou=na/cn=recipients/cn=ddoyle>, lucadou, debbie </o=#####/ou=na/cn=recipients/cn=notesaddr/cn=4989c968-a1c8946-86256942-4c33d5>, suchoff, debbie </o=#####/ou=na/cn=recipients/cn=dsuchoff>, delgado, deborah </o=#####/ou=na/cn=recipients/cn=notesaddr/cn=2ccd1d73-15acac40-8625688e-576ff0>, brannen, debra </o=#####/ou=na/cn=recipients/cn=dbrannen>, hicks, debra </o=#####/ou=na/cn=recipients/cn=dhicks3>, ortiz, dellanira </o=#####/ou=na/cn=recipients/cn=dortiz>, munoz, delma </o=#####/ou=na/cn=recipients/cn=dmunoz>, naiser, denise </o=#####/ou=na/cn=recipients/cn=dnaiser>, ovalle, diana </o=#####/ou=na/cn=recipients/cn=dovalle>, langeland, dianne </o=#####/ou=na/cn=recipients/cn=dlangel>, latson, diane </o=#####/ou=na/cn=recipients/cn=dlatson>, dupree, dianna </o=#####/ou=na/cn=recipients/cn=ddupree>, sanchez, diana t </o=#####/ou=na/cn=recipients/cn=dsanche4>, escamilla, dolores </o=#####/ou=na/cn=recipients/cn=descami>, powell, don </o=#####/ou=na/cn=recipients/cn=dpowell1>, teal, donna </o=#####/ou=na/cn=recipients/cn=notesaddr/cn=359d12db-1a7014e6-86256989-4d650c>, traylor, donnis </o=#####/ou=na/cn=recipients/cn=dtraylor>, burrell, dorothy </o=#####/ou=na/cn=recipients/cn=dburrel>, leschber, edie </o=#####/ou=na/cn=recipients/cn=eleschb>, gongora, edith </o=#####/ou=na/cn=recipients/cn=edith_gongora>, rodriguez, elaine </o=#####/ou=na/cn=recipients/cn=notesaddr/cn=862bbfe-1def4df0-86256ad9-76e79e>, atkinson, elizabeth </o=#####/ou=na/cn=recipients/cn=eatkins>, brown, elizabeth </o=#####/ou=na/cn=recipients/cn=ebrown1>, ahmadi, ellie </o=#####/ou=na/cn=recipients/cn=eahmadi>, beltran, erica </o=#####/ou=na/cn=recipients/cn=ebeltra>, rodriguez, erica </o=#####/ou=na/cn=recipients/cn=erodri2>, hernandez, eva </o=#####/ou=na/cn=recipients/cn=notesaddr/cn=93475135-cafeb121-86256aca-66210f>, metoyer, evelyn </o=#####/ou=na/cn=recipients/cn=emetoyer>, corneiro, eydie </o=#####/ou=na/cn=recipients/cn=ecorneir>, fogleman65#####, deltoro, fran </o=#####/ou=na/cn=recipients/cn=notesaddr/cn=c23e8122-ffcce47f-86256775-523538>, mayes, fran </o=#####/ou=na/cn=recipients/cn=fmayes>, garcia, frances (eeos) </o=#####/ou=na/cn=recipients/cn=fgarcia>, friendlyone#####, tan, fred </o=#####/ou=na/cn=recipients/cn=ftan>, law, gary </o=#####/ou=na/cn=recipients/cn=glaw>, russo, gavin </o=#####/ou=na/cn=recipients/cn=grusso>, lachner, george r. </o=#####/ou=na/cn=recipients/cn=glachne>, moore, georgene </o=#####/ou=na/cn=recipients/cn=gmoore2>, landau, georgi </o=#####/ou=na/cn=recipients/cn=glandau>, ward, georgia </o=#####/ou=na/cn=recipients/cn=gward>, adams, gerald </o=#####/ou=na/cn=recipients/cn=gadams3>, warner, geriann </o=#####/ou=na/cn=recipients/cn=gwarner>, bartz, gilda </o=#####/ou=na/cn=recipients/cn=gbartz>, mitchell, glenda d. </o=#####/ou=na/cn=recipients/cn=gmitche>, alvarez, gloria </o=#####/ou=na/cn=recipients/cn=galvare2>, solis, gloria </o=#####/ou=na/cn=recipients/cn=gsolis>, keiser, holly </o=#####/ou=na/cn=recipients/cn=hkeiser>, waser, iris </o=#####/ou=na/cn=recipients/cn=iwaser>, resendez, isabel y. </o=#####/ou=na/cn=recipients/cn=iresend>, estrada, israel </o=#####/ou=na/cn=recipients/cn=iestrada>, henry, jackie </o=#####/ou=na/cn=recipients/cn=notesaddr/cn=55100dfa-5b86dfd5-8625697a-5413cc>, copeland, james l. </o=#####/ou=na/cn=recipients/cn=jcopela>, mihalic, james </o=#####/ou=na/cn=recipients/cn=notesaddr/cn=1fdec189-2db88f0e-862566cd-771f0e>, dobernecker, jan </o=#####/ou=na/cn=recipients/cn=notesaddr/cn=9a8466c5-70a7d61a-86256744-544c3b>, moore, jan </o=#####/ou=na/cn=recipients/cn=jmoore3>, jane.allen#####, elbertson, janette </o=#####/ou=na/cn=recipients/cn=jelbert>, butler, janet </o=#####/ou=na/cn=recipients/cn=jbutler>, hogan, janice </o=#####/ou=na/cn=recipients/cn=jhogan>, priddy, janice </o=#####/ou=na/cn=recipients/cn=jpriddy>, lewis, jeff </o=#####/ou=na/cn=recipients/cn=jlewis5>, sommers, jeffrey e. </o=#####/ou=na/cn=recipients/cn=jsommer>, adams, jennifer </o=#####/ou=na/cn=recipients/cn=notesaddr/cn=c8c6afac-aee2bc3e-86256a9c-66391b>, cutaia, jennifer </o=#####/ou=na/cn=recipients/cn=jcutaia>, mata, jessie </o=#####/ou=na/cn=recipients/cn=mmata2>, poleo, jesus </o=#####/ou=na/cn=recipients/cn=jpoleo>, meyn, jim </o=#####/ou=na/cn=recipients/cn=jmeyn>, matson, jo ann </o=#####/ou=na/cn=recipients/cn=jmatson>, rozycki, joanne </o=#####/ou=na/cn=recipients/cn=jrozycki>, darensbourg, joe </o=#####/ou=na/cn=recipients/cn=jdarens>, morrow, joey </o=#####/ou=na/cn=recipients/cn=notesaddr/cn=bf19d3dc-2bccc7e8-8625665c-722b9d>, krueger, johanna </o=#####/ou=na/cn=recipients/cn=jkrueger>, keiser, john </o=#####/ou=na/cn=recipients/cn=jkeiser>, munoz, john </o=#####/ou=na/cn=recipients/cn=jmunoz3>, fisher, joni </o=#####/ou=na/cn=recipients/cn=notesaddr/cn=235a0375-7a9ca7b2-862566bd-7c5ae3>, moeller, joni </o=#####/ou=na/cn=recipients/cn=jmoelle>, dorsey, joyce </o=#####/ou=na/cn=recipients/cn=jdorsey>, carter, judi </o=#####/ou=na/cn=recipients/cn=notesaddr/cn=de9cfbb1-ee7398bd-86256881-612a50>, davis, judy </o=#####/ou=na/cn=recipients/cn=notesaddr/cn=eb20f947-801fdd2-86256966-6c3e62>, griffith, judi </o=#####/ou=na/cn=recipients/cn=jgriffi3>, lin, judy </o=#####/ou=na/cn=recipients/cn=jlin>, gartner, julie s. </o=#####/ou=na/cn=recipients/cn=jgartne>, armstrong, julie </o=#####/ou=na/cn=recipients/cn=jarmstr>, garcia, julie a. </o=#####/ou=na/cn=recipients/cn=jgarci2>, gartner, julie s. </o=#####/ou=na/cn=recipients/cn=jgartne>, keiser, kam </o=#####/ou=na/cn=recipients/cn=kkeiser>, brostad, karen </o=#####/ou=na/cn=recipients/cn=kbrosta>, clapper, karen </o=#####/ou=na/cn=recipients/cn=kclappe>, heathman, karen k. </o=#####/ou=na/cn=recipients/cn=kheathm>, williams, karen lynn </o=#####/ou=na/cn=recipients/cn=kwillia4>, myer, karen </o=#####/ou=na/cn=recipients/cn=kmyer>, williams, karen </o=#####/ou=na/cn=recipients/cn=notesaddr/cn=103f9d84-4cf1c17f-882568ac-7a90b6>, karen_davis#####, oquinn, kari </o=#####/ou=na/cn=recipients/cn=koquinn>, clark, kathleen </o=#####/ou=na/cn=recipients/cn=kclark3>, young, kay </o=#####/ou=na/cn=recipients/cn=kyoung>, lacalli, kelly </o=#####/ou=na/cn=recipients/cn=klacalli>, mathis, ken </o=#####/ou=na/cn=recipients/cn=kmathis>, dromgoole, kendra </o=#####/ou=na/cn=recipients/cn=kdromgoo>, hickok, kim </o=#####/ou=na/cn=recipients/cn=khickok>, perez, kim </o=#####/ou=na/cn=recipients/cn=kperez>, perkins, kim </o=#####/ou=na/cn=recipients/cn=kperkin>, niekamp, kimberly </o=#####/ou=na/cn=recipients/cn=kniekamp>, sullivan, kriste </o=#####/ou=na/cn=recipients/cn=ksulliv>, adeyinka, latrice </o=#####/ou=na/cn=recipients/cn=ladeyin>, glenn, laura </o=#####/ou=na/cn=recipients/cn=lglenn>, hutcherson, leesa </o=#####/ou=na/cn=recipients/cn=lhutche2>, barnett, leola </o=#####/ou=na/cn=recipients/cn=lbarnet>, ayers, lesley </o=#####/ou=na/cn=recipients/cn=layers>, leal, leticia </o=#####/ou=na/cn=recipients/cn=lleal>, chan, li n. </o=#####/ou=na/cn=recipients/cn=lchan>, roman, lilia </o=#####/ou=na/cn=recipients/cn=lroman>, simmons, linda j. </o=#####/ou=na/cn=recipients/cn=lsimmo2>, escamilla, linda </o=#####/ou=na/cn=recipients/cn=lescami>, hallmark, linda </o=#####/ou=na/cn=recipients/cn=lhallma>, noske, linda j. </o=#####/ou=na/cn=recipients/cn=lnoske>, trevino, linda s. </o=#####/ou=na/cn=recipients/cn=ltrevin2>, dietz, lisa </o=#####/ou=na/cn=recipients/cn=notesaddr/cn=151d360-3231ddbc-862568af-51bf0e>, kumbalek, lisa m. </o=#####/ou=na/cn=recipients/cn=lkumbal>, brown, lisa </o=#####/ou=na/cn=recipients/cn=lbrown7>, wolfe, lisa </o=#####/ou=na/cn=recipients/cn=notesaddr/cn=564faeee-2f43e8de-62569e5-801fce>, jones, lisa </o=#####/ou=na/cn=recipients/cn=ljones3>, black, lois </o=#####/ou=na/cn=recipients/cn=notesaddr/cn=62e44a17-7f654870-862567c4-6dbef3>, hendricks, lois </o=#####/ou=na/cn=recipients/cn=lhendri>, brooks, loretta </o=#####/ou=na/cn=recipients/cn=lbrooks>, belsha, lorie </o=#####/ou=na/cn=recipients/cn=lbelsha>, becker, lorraine </o=#####/ou=na/cn=recipients/cn=lbecker>, diamond, lou </o=#####/ou=na/cn=recipients/cn=notesaddr/cn=dea572f7-e747fb79-625699f-7f9340>, ltrevino#####, johnson, luchas </o=#####/ou=na/cn=recipients/cn=ljohnso5>, stephens, luly </o=#####/ou=na/cn=recipients/cn=lstephe2>, laferla, lynda  </o=#####/ou=na/cn=recipients/cn=llaferl>, pham, lynda </o=#####/ou=na/cn=recipients/cn=lpham>, tippery, lynn </o=#####/ou=na/cn=recipients/cn=ltipper>, madeline_chan#####, distefano, marc </o=#####/ou=na/cn=recipients/cn=mdistefa>, doucette, margaret </o=#####/ou=na/cn=recipients/cn=mdoucet>, ho, margaux </o=#####/ou=na/cn=recipients/cn=notesaddr/cn=108b91de-486360e3-862569bb-6e428b>, cisneros, maria </o=#####/ou=na/cn=recipients/cn=mcisner2>, lebeau, maria </o=#####/ou=na/cn=recipients/cn=mlebeau>, maldonado, maria </o=#####/ou=na/cn=recipients/cn=mmaldon>, sandoval, maria </o=#####/ou=na/cn=recipients/cn=msandov>, chavez, maricela </o=#####/ou=na/cn=recipients/cn=notesaddr/cn=7f77502e-f80ffb8e-862567e1-4fb9ca>, thibaut, marie </o=#####/ou=na/cn=recipients/cn=mthibau>, rivera, marilyn </o=#####/ou=na/cn=recipients/cn=mrivera>, sczykutowicz, marion </o=#####/ou=na/cn=recipients/cn=msczyku>, zarate, maritza </o=#####/ou=na/cn=recipients/cn=mzarate>, evans, mark </o=#####/ou=na/cn=recipients/cn=notesaddr/cn=48bca2e6-ea0779b7-86256993-7168e5>, adleman, mark </o=#####/ou=na/cn=recipients/cn=madlema>, canterbury, mark r. </o=#####/ou=na/cn=recipients/cn=mcanter>, diedrich, mark </o=#####/ou=na/cn=recipients/cn=mdiedri>, ng, mark </o=#####/ou=na/cn=recipients/cn=mng>, barnard, marla </o=#####/ou=na/cn=recipients/cn=mbarnar>, braddy, martha </o=#####/ou=na/cn=recipients/cn=mbraddy>, keesler, martha </o=#####/ou=na/cn=recipients/cn=mkeesler>, birmingham, mary </o=#####/ou=na/cn=recipients/cn=mbirmin>, martinez, mary g </o=#####/ou=na/cn=recipients/cn=mmartin9>, nguyen, mary </o=#####/ou=na/cn=recipients/cn=mnguye3>, ogden, mary </o=#####/ou=na/cn=recipients/cn=mogden>, phillips, mary </o=#####/ou=na/cn=recipients/cn=mphilli2>, sontag, mary </o=#####/ou=na/cn=recipients/cn=msontag>, rose, mary sue </o=#####/ou=na/cn=recipients/cn=notesaddr/cn=a9bcc707-a0bdf14e-86256960-6d98a6>, browder, mary lou </o=#####/ou=na/cn=recipients/cn=mbrowder>, martinez, maryhelen </o=#####/ou=na/cn=recipients/cn=mmartin4>, mendez, mayra </o=#####/ou=na/cn=recipients/cn=mmendez2>, mdburkesa#####, meyer, melinda g. </o=#####/ou=na/cn=recipients/cn=mmeyer>, yarbrough, melinda s. </o=#####/ou=na/cn=recipients/cn=myarbro>, lassle, michael </o=#####/ou=na/cn=recipients/cn=notesaddr/cn=a188d511-59398ee9-862567b0-539028>, mcneill, michael </o=#####/ou=na/cn=recipients/cn=mmcneil>, suchoff, michael </o=#####/ou=na/cn=recipients/cn=msuchoff>, cash, michelle </o=#####/ou=na/cn=recipients/cn=mcash>, hargrave, michelle </o=#####/ou=na/cn=recipients/cn=mhargra>, lokay, michelle </o=#####/ou=na/cn=recipients/cn=mlokay>, mnguyen#####, phillips, monique </o=#####/ou=na/cn=recipients/cn=mphilli4>, mwatkin#####, callans, nancy </o=#####/ou=na/cn=recipients/cn=ncallan>, vu, nancy h. </o=#####/ou=na/cn=recipients/cn=nvu>, nell_weaver#####, carpenter, nelly </o=#####/ou=na/cn=recipients/cn=ncarpent>, mendez, nicole </o=#####/ou=na/cn=recipients/cn=nmendez>, flores, nony </o=#####/ou=na/cn=recipients/cn=nflores>, bhatia, om </o=#####/ou=na/cn=recipients/cn=obhatia>, garcia, orlando </o=#####/ou=na/cn=recipients/cn=notesaddr/cn=a0bf6333-c2b9033a-86256952-63b6b3>, wilkinson, paige </o=#####/ou=na/cn=recipients/cn=pwilkins>, stein, pam </o=#####/ou=na/cn=recipients/cn=pstein>, blande, pamela k. </o=#####/ou=na/cn=recipients/cn=pblande>, perry, pamela </o=#####/ou=na/cn=recipients/cn=pperry>, lee, patricia a. </o=#####/ou=na/cn=recipients/cn=plee2>, downey, patricia </o=#####/ou=na/cn=recipients/cn=pdowney>, steele, patricia </o=#####/ou=na/cn=recipients/cn=psteele>, carroll jr., paul </o=#####/ou=na/cn=recipients/cn=pcarrol>, curry, paul d. </o=#####/ou=na/cn=recipients/cn=pcurry>, garcia, paul </o=#####/ou=na/cn=recipients/cn=pgarcia>, olvera, paulita </o=#####/ou=na/cn=recipients/cn=polver2>, massey, rachel </o=#####/ou=na/cn=recipients/cn=notesaddr/cn=dee99b83-3e9a38e8-86256942-7322e3>, rodriguez, ramona </o=#####/ou=na/cn=recipients/cn=rrodrig9>, longoria, rebecca </o=#####/ou=na/cn=recipients/cn=rlongor>, marks, rebecca </o=#####/ou=na/cn=recipients/cn=rmarks2>, smith, renee </o=#####/ou=na/cn=recipients/cn=rsmith25>, kennedy, phyllis r. </o=#####/ou=na/cn=recipients/cn=pkenned>, sanders, richard b. </o=#####/ou=na/cn=recipients/cn=rsander>, castillo, richard </o=#####/ou=na/cn=recipients/cn=notesaddr/cn=49d41cb3-c124e30d-8625696d-5c257c>, elwood, richard </o=#####/ou=na/cn=recipients/cn=relwood>, zamora, richard </o=#####/ou=na/cn=recipients/cn=rzamora2>, rosa, robert </o=#####/ou=na/cn=recipients/cn=rrosa>, hill, robin </o=#####/ou=na/cn=recipients/cn=rhill4>, veariel, robin </o=#####/ou=na/cn=recipients/cn=rvearie>, jaramillo, rosa </o=#####/ou=na/cn=recipients/cn=rjaramil>, rivera, rose </o=#####/ou=na/cn=recipients/cn=rrivera1>, leblanc, rosemary </o=#####/ou=na/cn=recipients/cn=rleblan>, quinn, roxana </o=#####/ou=na/cn=recipients/cn=notesaddr/cn=dfd3e1b6-8c40c1c9-86256996-7a935b>, brown, ruth ann </o=#####/ou=na/cn=recipients/cn=notesaddr/cn=c5066cc1-99bc3768-86256737-82635f>, hartensteiner, ruth </o=#####/ou=na/cn=recipients/cn=rharten>, mann, ruth </o=#####/ou=na/cn=recipients/cn=rmann>, mclaughlin, sabrina </o=#####/ou=na/cn=recipients/cn=smclaug>, keepers, sally </o=#####/ou=na/cn=recipients/cn=skeeper>, craig, sally </o=#####/ou=na/cn=recipients/cn=scraig2>, shuler, sally </o=#####/ou=na/cn=recipients/cn=sshuler>, maldonado, sandra a. </o=#####/ou=na/cn=recipients/cn=smaldon2>, sandra.a.maldonando#####, bruck, sarah </o=#####/ou=na/cn=recipients/cn=sbruck>, bruck, sarah </o=#####/ou=na/cn=recipients/cn=sbruck>, garza, sarita </o=#####/ou=na/cn=recipients/cn=sgarza>, churbock, scott </o=#####/ou=na/cn=recipients/cn=schurboc>, lakho, shahnaz </o=#####/ou=na/cn=recipients/cn=slakho>, yelverton, shane </o=#####/ou=na/cn=recipients/cn=syelver>, patel, shashi </o=#####/ou=na/cn=recipients/cn=notesaddr/cn=b47f1105-9c260302-86256871-527b63>, thomas, sheila </o=#####/ou=na/cn=recipients/cn=notesaddr/cn=67dbfe87-5d94c52-862566a3-481072>, leith, shelly </o=#####/ou=na/cn=recipients/cn=notesaddr/cn=eb1b83b0-df648c86-862566d5-5d79a1>, butler, sherry </o=#####/ou=na/cn=recipients/cn=sbutle2>, hunter, sherry h. </o=#####/ou=na/cn=recipients/cn=shunter>, stone, sherryl </o=#####/ou=na/cn=recipients/cn=notesaddr/cn=14b8677c-f1e8d7a9-86256a87-705095>, varkey, shiji </o=#####/ou=na/cn=recipients/cn=svarkey>, isbell, shirley </o=#####/ou=na/cn=recipients/cn=sisbell>, davis, sophia </o=#####/ou=na/cn=recipients/cn=notesaddr/cn=9887a4c7-d57c7df8-862569af-749daa>, cole, stephanie </o=#####/ou=na/cn=recipients/cn=scole>, donaldson, stuart </o=#####/ou=na/cn=recipients/cn=sdonald2>, zisman, stuart </o=#####/ou=na/cn=recipients/cn=szisman>, sunny14u#####, chou, sunny </o=#####/ou=na/cn=recipients/cn=schou>, carrera, susan </o=#####/ou=na/cn=recipients/cn=scarrer>, rouse, susan </o=#####/ou=na/cn=recipients/cn=notesaddr/cn=89d20286-2126bd9e-62568a9-743745>, skarness, susan </o=#####/ou=na/cn=recipients/cn=sskarne>, dewitt, susan </o=#####/ou=na/cn=recipients/cn=sdewitt>, kelly, suzanne </o=#####/ou=na/cn=recipients/cn=skelly4>, hu, sylvia </o=#####/ou=na/cn=recipients/cn=shu>, shelby, sylvia </o=#####/ou=na/cn=recipients/cn=sshelby>, kovalcik, tammy </o=#####/ou=na/cn=recipients/cn=tkovalc>, nguyen, thao </o=#####/ou=na/cn=recipients/cn=tnguye>, zucha, theresa </o=#####/ou=na/cn=recipients/cn=tzucha>, butler, tj </o=#####/ou=na/cn=recipients/cn=tbutler2>, walker, todd </o=#####/ou=na/cn=recipients/cn=twalker3>, garza jr., tommy </o=#####/ou=na/cn=recipients/cn=tgarza>, bustamante, toni </o=#####/ou=na/cn=recipients/cn=tbustam>, adams, tracy m. </o=#####/ou=na/cn=recipients/cn=tadams3>, rogers, twaillah </o=#####/ou=na/cn=recipients/cn=notesaddr/cn=bf593602-87f93966-62569fe-6aa04e>, hope, valeria a. </o=#####/ou=na/cn=recipients/cn=vhope>, confer, valley </o=#####/ou=na/cn=recipients/cn=vconfer>, griffin, vanessa </o=#####/ou=na/cn=recipients/cn=vgriffin>, castellano, bonne </o=#####/ou=na/cn=recipients/cn=bcastel>, arriaga, veronica i. </o=#####/ou=na/cn=recipients/cn=varriag>, montiel, veronica </o=#####/ou=na/cn=recipients/cn=vmontie>, martinez, victoria </o=#####/ou=na/cn=recipients/cn=notesaddr/cn=14c94423-812fba61-862566d7-5c6071>, hart, vivian </o=#####/ou=na/cn=recipients/cn=vhart>, hicks, w. wade </o=#####/ou=na/cn=recipients/cn=whicks>, truxillo, wayne </o=#####/ou=na/cn=recipients/cn=notesaddr/cn=bf1dfd34-c51f00a-862564c2-54d138>, johnson, wendy </o=#####/ou=na/cn=recipients/cn=notesaddr/cn=86256608-65acba-86256703-7cc427>, ngai, winnie </o=#####/ou=na/cn=recipients/cn=wngai>, arriaga, yolanda </o=#####/ou=na/cn=recipients/cn=yarriag>, stevenson, yvette </o=#####/ou=na/cn=recipients/cn=notesaddr/cn=92478a96-9b9464f3-86256831-5d5999>, mcclure, zakiyyah </o=#####/ou=na/cn=recipients/cn=zmcclure>, paschal, zelda </o=#####/ou=na/cn=recipients/cn=zpascha>, carter, zuela </o=#####/ou=na/cn=recipients/cn=zcarter>\",\n",
       " \"x-bcc= moreno, abraham </o=#####/ou=na/cn=recipients/cn=notesaddr/cn=3631e849-6d8bed9a-862569e0-57a7fb>, cortes, adriana </o=#####/ou=na/cn=recipients/cn=acortes>, tran, agatha </o=#####/ou=na/cn=recipients/cn=atran>, engberg, alan </o=#####/ou=na/cn=recipients/cn=aengber>, haro, alex </o=#####/ou=na/cn=recipients/cn=aharo>, hidalgo, alex </o=#####/ou=na/cn=recipients/cn=notesaddr/cn=b2bcfc9e-4a394f3b-6256a00-544f08>, green, alma </o=#####/ou=na/cn=recipients/cn=agreen1>, ebow, amber </o=#####/ou=na/cn=recipients/cn=aebow>, jon, amy </o=#####/ou=na/cn=recipients/cn=ajon>, trevino, ana </o=#####/ou=na/cn=recipients/cn=notesaddr/cn=a636300f-f714788f-862569e6-7c53f0>, morales, analyn </o=#####/ou=na/cn=recipients/cn=amorale3>, richards, andrea </o=#####/ou=na/cn=recipients/cn=arichard>, miles, andrew </o=#####/ou=na/cn=recipients/cn=amiles>, buis, angie </o=#####/ou=na/cn=recipients/cn=abuis>, o'brian, angie </o=#####/ou=na/cn=recipients/cn=aobrian>, guerrero, anita </o=#####/ou=na/cn=recipients/cn=notesaddr/cn=993b1c2d-85a87b72-862567a6-511a13>, joyner, ann </o=#####/ou=na/cn=recipients/cn=ajoyner>, beliveaux, anne </o=#####/ou=na/cn=recipients/cn=abelive>, bertino, anne </o=#####/ou=na/cn=recipients/cn=notesaddr/cn=c6248a07-12fbf44b-862564c2-4d8a75>, yao, anne s. </o=#####/ou=na/cn=recipients/cn=ayao>, thompson, annette </o=#####/ou=na/cn=recipients/cn=athomps5>, antionette.forrest#####, berlanga, araceli </o=#####/ou=na/cn=recipients/cn=aberlan>, jivan, azim </o=#####/ou=na/cn=recipients/cn=ajivan>, hankins, barbara </o=#####/ou=na/cn=recipients/cn=notesaddr/cn=c75fb98d-a4b992e0-862569cc-6692b9>, pham, becky </o=#####/ou=na/cn=recipients/cn=bpham>, tung, benedicta </o=#####/ou=na/cn=recipients/cn=btung>, rodriguez, bernice </o=#####/ou=na/cn=recipients/cn=brodrig>, davidson, binky </o=#####/ou=na/cn=recipients/cn=bdavids>, bollom, blanca </o=#####/ou=na/cn=recipients/cn=bbollom>, franco, blanca </o=#####/ou=na/cn=recipients/cn=bfranco>, martinez, blanca </o=#####/ou=na/cn=recipients/cn=bmartin2>, shults, bob </o=#####/ou=na/cn=recipients/cn=rshults>, tessandori, bobbi </o=#####/ou=na/cn=recipients/cn=btessan>, barreda, brenda </o=#####/ou=na/cn=recipients/cn=notesaddr/cn=97f5026a-9d2ddb4b-86256930-5421ea>, johnston, brenda j. </o=#####/ou=na/cn=recipients/cn=bjohnst>, maronge, bridget </o=#####/ou=na/cn=recipients/cn=bmarong>, williams, bridget </o=#####/ou=na/cn=recipients/cn=bwilliam>, anderson, bridgette </o=#####/ou=na/cn=recipients/cn=bander2>, jozwiak, c j </o=#####/ou=na/cn=recipients/cn=notesaddr/cn=f12dd89-1a0f6808-862568f5-65a1ae>, best, cameron </o=#####/ou=na/cn=recipients/cn=notesaddr/cn=ae41839-461d5d7c-86256a4e-640fbd>, bywaters, candy  hpl/aep </o=#####/ou=na/cn=recipients/cn=cbywate>, carlos castillo/########## <??scarlos castillo/##########>, jones, carmella </o=#####/ou=na/cn=recipients/cn=cjones11>, perez, carmen </o=#####/ou=na/cn=recipients/cn=cperez>, mcspadden, carol </o=#####/ou=na/cn=recipients/cn=cmcspad>, george, carolyn </o=#####/ou=na/cn=recipients/cn=cgeorge>, graham, carolyn </o=#####/ou=na/cn=recipients/cn=cgraham>, ayala-nelson, catalina </o=#####/ou=na/cn=recipients/cn=cnelson>, phillips, cathy </o=#####/ou=na/cn=recipients/cn=cphilli>, rodriguez, cecilia </o=#####/ou=na/cn=recipients/cn=crodrig4>, villanueva, chantelle </o=#####/ou=na/cn=recipients/cn=cvillar>, arguijo, cheryl </o=#####/ou=na/cn=recipients/cn=carguij>, brashier, cheryl </o=#####/ou=na/cn=recipients/cn=notesaddr/cn=d278f75e-d119a853-86256841-5ea862>, lesage, cheryl </o=#####/ou=na/cn=recipients/cn=notesaddr/cn=fceed163-b329771a-8625659a-80194e>, lun, ching </o=#####/ou=na/cn=recipients/cn=clun>, chollan#####, hendrix, chris </o=#####/ou=na/cn=recipients/cn=notesaddr/cn=8ed04a81-63705c0f-862564c2-6b9ece>, leonard, chris </o=#####/ou=na/cn=recipients/cn=cleonard>, culwell, christi </o=#####/ou=na/cn=recipients/cn=cculwel>, barthel, christina </o=#####/ou=na/cn=recipients/cn=cbarthe>, jasso, christina </o=#####/ou=na/cn=recipients/cn=notesaddr/cn=7bdbed56-516d23d8-862569bd-7bb154>, cicchetti, cindy </o=#####/ou=na/cn=recipients/cn=notesaddr/cn=7f9605b-350da33f-86256a0f-6b4d81>, shaffer, cindy </o=#####/ou=na/cn=recipients/cn=cshaffe>, guerra, claudia </o=#####/ou=na/cn=recipients/cn=cguerra2>, blackwood, connie </o=#####/ou=na/cn=recipients/cn=cblackw>, charles, constance </o=#####/ou=na/cn=recipients/cn=ccharle>, rivera, coralina </o=#####/ou=na/cn=recipients/cn=crivera2>, courtney campbell/########## <??scourtney campbell/##########>, breslau, craig </o=#####/ou=na/cn=recipients/cn=cbresla>, kinsler, cris </o=#####/ou=na/cn=recipients/cn=notesaddr/cn=3cb26d8d-bf5b0c6b-862564c2-4ec958>, castagnola, daniel </o=#####/ou=na/cn=recipients/cn=dcastag>, forsyth, darlene c. </o=#####/ou=na/cn=recipients/cn=dforsyt>, mckeever, darlene </o=#####/ou=na/cn=recipients/cn=dmckeev>, mcdonald, dawn </o=#####/ou=na/cn=recipients/cn=dmcdonal>, busch, debbie </o=#####/ou=na/cn=recipients/cn=dbusch>, doyle, debbie </o=#####/ou=na/cn=recipients/cn=ddoyle>, lucadou, debbie </o=#####/ou=na/cn=recipients/cn=notesaddr/cn=4989c968-a1c8946-86256942-4c33d5>, suchoff, debbie </o=#####/ou=na/cn=recipients/cn=dsuchoff>, delgado, deborah </o=#####/ou=na/cn=recipients/cn=notesaddr/cn=2ccd1d73-15acac40-8625688e-576ff0>, brannen, debra </o=#####/ou=na/cn=recipients/cn=dbrannen>, hicks, debra </o=#####/ou=na/cn=recipients/cn=dhicks3>, ortiz, dellanira </o=#####/ou=na/cn=recipients/cn=dortiz>, munoz, delma </o=#####/ou=na/cn=recipients/cn=dmunoz>, naiser, denise </o=#####/ou=na/cn=recipients/cn=dnaiser>, ovalle, diana </o=#####/ou=na/cn=recipients/cn=dovalle>, langeland, dianne </o=#####/ou=na/cn=recipients/cn=dlangel>, latson, diane </o=#####/ou=na/cn=recipients/cn=dlatson>, dupree, dianna </o=#####/ou=na/cn=recipients/cn=ddupree>, sanchez, diana t </o=#####/ou=na/cn=recipients/cn=dsanche4>, escamilla, dolores </o=#####/ou=na/cn=recipients/cn=descami>, powell, don </o=#####/ou=na/cn=recipients/cn=dpowell1>, teal, donna </o=#####/ou=na/cn=recipients/cn=notesaddr/cn=359d12db-1a7014e6-86256989-4d650c>, traylor, donnis </o=#####/ou=na/cn=recipients/cn=dtraylor>, leschber, edie </o=#####/ou=na/cn=recipients/cn=eleschb>, gongora, edith </o=#####/ou=na/cn=recipients/cn=edith_gongora>, rodriguez, elaine </o=#####/ou=na/cn=recipients/cn=notesaddr/cn=862bbfe-1def4df0-86256ad9-76e79e>, atkinson, elizabeth </o=#####/ou=na/cn=recipients/cn=eatkins>, brown, elizabeth </o=#####/ou=na/cn=recipients/cn=ebrown1>, ahmadi, ellie </o=#####/ou=na/cn=recipients/cn=eahmadi>, beltran, erica </o=#####/ou=na/cn=recipients/cn=ebeltra>, rodriguez, erica </o=#####/ou=na/cn=recipients/cn=erodri2>, hernandez, eva </o=#####/ou=na/cn=recipients/cn=notesaddr/cn=93475135-cafeb121-86256aca-66210f>, metoyer, evelyn </o=#####/ou=na/cn=recipients/cn=emetoyer>, corneiro, eydie </o=#####/ou=na/cn=recipients/cn=ecorneir>, fogleman65#####, deltoro, fran </o=#####/ou=na/cn=recipients/cn=notesaddr/cn=c23e8122-ffcce47f-86256775-523538>, mayes, fran </o=#####/ou=na/cn=recipients/cn=fmayes>, garcia, frances (eeos) </o=#####/ou=na/cn=recipients/cn=fgarcia>, friendlyone#####, tan, fred </o=#####/ou=na/cn=recipients/cn=ftan>, law, gary </o=#####/ou=na/cn=recipients/cn=glaw>, russo, gavin </o=#####/ou=na/cn=recipients/cn=grusso>, lachner, george r. </o=#####/ou=na/cn=recipients/cn=glachne>, moore, georgene </o=#####/ou=na/cn=recipients/cn=gmoore2>, landau, georgi </o=#####/ou=na/cn=recipients/cn=glandau>, ward, georgia </o=#####/ou=na/cn=recipients/cn=gward>, adams, gerald </o=#####/ou=na/cn=recipients/cn=gadams3>, warner, geriann </o=#####/ou=na/cn=recipients/cn=gwarner>, bartz, gilda </o=#####/ou=na/cn=recipients/cn=gbartz>, mitchell, glenda d. </o=#####/ou=na/cn=recipients/cn=gmitche>, alvarez, gloria </o=#####/ou=na/cn=recipients/cn=galvare2>, solis, gloria </o=#####/ou=na/cn=recipients/cn=gsolis>, keiser, holly </o=#####/ou=na/cn=recipients/cn=hkeiser>, waser, iris </o=#####/ou=na/cn=recipients/cn=iwaser>, resendez, isabel y. </o=#####/ou=na/cn=recipients/cn=iresend>, estrada, israel </o=#####/ou=na/cn=recipients/cn=iestrada>, henry, jackie </o=#####/ou=na/cn=recipients/cn=notesaddr/cn=55100dfa-5b86dfd5-8625697a-5413cc>, copeland, james l. </o=#####/ou=na/cn=recipients/cn=jcopela>, mihalic, james </o=#####/ou=na/cn=recipients/cn=notesaddr/cn=1fdec189-2db88f0e-862566cd-771f0e>, dobernecker, jan </o=#####/ou=na/cn=recipients/cn=notesaddr/cn=9a8466c5-70a7d61a-86256744-544c3b>, moore, jan </o=#####/ou=na/cn=recipients/cn=jmoore3>, jane.allen#####, elbertson, janette </o=#####/ou=na/cn=recipients/cn=jelbert>, butler, janet </o=#####/ou=na/cn=recipients/cn=jbutler>, hogan, janice </o=#####/ou=na/cn=recipients/cn=jhogan>, priddy, janice </o=#####/ou=na/cn=recipients/cn=jpriddy>, lewis, jeff </o=#####/ou=na/cn=recipients/cn=jlewis5>, sommers, jeffrey e. </o=#####/ou=na/cn=recipients/cn=jsommer>, adams, jennifer </o=#####/ou=na/cn=recipients/cn=notesaddr/cn=c8c6afac-aee2bc3e-86256a9c-66391b>, cutaia, jennifer </o=#####/ou=na/cn=recipients/cn=jcutaia>, mata, jessie </o=#####/ou=na/cn=recipients/cn=mmata2>, poleo, jesus </o=#####/ou=na/cn=recipients/cn=jpoleo>, meyn, jim </o=#####/ou=na/cn=recipients/cn=jmeyn>, matson, jo ann </o=#####/ou=na/cn=recipients/cn=jmatson>, rozycki, joanne </o=#####/ou=na/cn=recipients/cn=jrozycki>, darensbourg, joe </o=#####/ou=na/cn=recipients/cn=jdarens>, morrow, joey </o=#####/ou=na/cn=recipients/cn=notesaddr/cn=bf19d3dc-2bccc7e8-8625665c-722b9d>, krueger, johanna </o=#####/ou=na/cn=recipients/cn=jkrueger>, keiser, john </o=#####/ou=na/cn=recipients/cn=jkeiser>, munoz, john </o=#####/ou=na/cn=recipients/cn=jmunoz3>, fisher, joni </o=#####/ou=na/cn=recipients/cn=notesaddr/cn=235a0375-7a9ca7b2-862566bd-7c5ae3>, moeller, joni </o=#####/ou=na/cn=recipients/cn=jmoelle>, dorsey, joyce </o=#####/ou=na/cn=recipients/cn=jdorsey>, carter, judi </o=#####/ou=na/cn=recipients/cn=notesaddr/cn=de9cfbb1-ee7398bd-86256881-612a50>, davis, judy </o=#####/ou=na/cn=recipients/cn=notesaddr/cn=eb20f947-801fdd2-86256966-6c3e62>, griffith, judi </o=#####/ou=na/cn=recipients/cn=jgriffi3>, lin, judy </o=#####/ou=na/cn=recipients/cn=jlin>, gartner, julie s. </o=#####/ou=na/cn=recipients/cn=jgartne>, armstrong, julie </o=#####/ou=na/cn=recipients/cn=jarmstr>, garcia, julie a. </o=#####/ou=na/cn=recipients/cn=jgarci2>, gartner, julie s. </o=#####/ou=na/cn=recipients/cn=jgartne>, keiser, kam </o=#####/ou=na/cn=recipients/cn=kkeiser>, brostad, karen </o=#####/ou=na/cn=recipients/cn=kbrosta>, clapper, karen </o=#####/ou=na/cn=recipients/cn=kclappe>, heathman, karen k. </o=#####/ou=na/cn=recipients/cn=kheathm>, williams, karen lynn </o=#####/ou=na/cn=recipients/cn=kwillia4>, myer, karen </o=#####/ou=na/cn=recipients/cn=kmyer>, williams, karen </o=#####/ou=na/cn=recipients/cn=notesaddr/cn=103f9d84-4cf1c17f-882568ac-7a90b6>, karen_davis#####, oquinn, kari </o=#####/ou=na/cn=recipients/cn=koquinn>, clark, kathleen </o=#####/ou=na/cn=recipients/cn=kclark3>, young, kay </o=#####/ou=na/cn=recipients/cn=kyoung>, lacalli, kelly </o=#####/ou=na/cn=recipients/cn=klacalli>, mathis, ken </o=#####/ou=na/cn=recipients/cn=kmathis>, dromgoole, kendra </o=#####/ou=na/cn=recipients/cn=kdromgoo>, hickok, kim </o=#####/ou=na/cn=recipients/cn=khickok>, perez, kim </o=#####/ou=na/cn=recipients/cn=kperez>, perkins, kim </o=#####/ou=na/cn=recipients/cn=kperkin>, niekamp, kimberly </o=#####/ou=na/cn=recipients/cn=kniekamp>, sullivan, kriste </o=#####/ou=na/cn=recipients/cn=ksulliv>, adeyinka, latrice </o=#####/ou=na/cn=recipients/cn=ladeyin>, glenn, laura </o=#####/ou=na/cn=recipients/cn=lglenn>, hutcherson, leesa </o=#####/ou=na/cn=recipients/cn=lhutche2>, barnett, leola </o=#####/ou=na/cn=recipients/cn=lbarnet>, ayers, lesley </o=#####/ou=na/cn=recipients/cn=layers>, leal, leticia </o=#####/ou=na/cn=recipients/cn=lleal>, chan, li n. </o=#####/ou=na/cn=recipients/cn=lchan>, roman, lilia </o=#####/ou=na/cn=recipients/cn=lroman>, simmons, linda j. </o=#####/ou=na/cn=recipients/cn=lsimmo2>, escamilla, linda </o=#####/ou=na/cn=recipients/cn=lescami>, hallmark, linda </o=#####/ou=na/cn=recipients/cn=lhallma>, noske, linda j. </o=#####/ou=na/cn=recipients/cn=lnoske>, trevino, linda s. </o=#####/ou=na/cn=recipients/cn=ltrevin2>, dietz, lisa </o=#####/ou=na/cn=recipients/cn=notesaddr/cn=151d360-3231ddbc-862568af-51bf0e>, kumbalek, lisa m. </o=#####/ou=na/cn=recipients/cn=lkumbal>, brown, lisa </o=#####/ou=na/cn=recipients/cn=lbrown7>, wolfe, lisa </o=#####/ou=na/cn=recipients/cn=notesaddr/cn=564faeee-2f43e8de-62569e5-801fce>, jones, lisa </o=#####/ou=na/cn=recipients/cn=ljones3>, black, lois </o=#####/ou=na/cn=recipients/cn=notesaddr/cn=62e44a17-7f654870-862567c4-6dbef3>, hendricks, lois </o=#####/ou=na/cn=recipients/cn=lhendri>, brooks, loretta </o=#####/ou=na/cn=recipients/cn=lbrooks>, belsha, lorie </o=#####/ou=na/cn=recipients/cn=lbelsha>, becker, lorraine </o=#####/ou=na/cn=recipients/cn=lbecker>, diamond, lou </o=#####/ou=na/cn=recipients/cn=notesaddr/cn=dea572f7-e747fb79-625699f-7f9340>, ltrevino#####, johnson, luchas </o=#####/ou=na/cn=recipients/cn=ljohnso5>, stephens, luly </o=#####/ou=na/cn=recipients/cn=lstephe2>, laferla, lynda  </o=#####/ou=na/cn=recipients/cn=llaferl>, pham, lynda </o=#####/ou=na/cn=recipients/cn=lpham>, tippery, lynn </o=#####/ou=na/cn=recipients/cn=ltipper>, madeline_chan#####, distefano, marc </o=#####/ou=na/cn=recipients/cn=mdistefa>, doucette, margaret </o=#####/ou=na/cn=recipients/cn=mdoucet>, ho, margaux </o=#####/ou=na/cn=recipients/cn=notesaddr/cn=108b91de-486360e3-862569bb-6e428b>, cisneros, maria </o=#####/ou=na/cn=recipients/cn=mcisner2>, lebeau, maria </o=#####/ou=na/cn=recipients/cn=mlebeau>, maldonado, maria </o=#####/ou=na/cn=recipients/cn=mmaldon>, sandoval, maria </o=#####/ou=na/cn=recipients/cn=msandov>, chavez, maricela </o=#####/ou=na/cn=recipients/cn=notesaddr/cn=7f77502e-f80ffb8e-862567e1-4fb9ca>, thibaut, marie </o=#####/ou=na/cn=recipients/cn=mthibau>, rivera, marilyn </o=#####/ou=na/cn=recipients/cn=mrivera>, sczykutowicz, marion </o=#####/ou=na/cn=recipients/cn=msczyku>, zarate, maritza </o=#####/ou=na/cn=recipients/cn=mzarate>, evans, mark </o=#####/ou=na/cn=recipients/cn=notesaddr/cn=48bca2e6-ea0779b7-86256993-7168e5>, adleman, mark </o=#####/ou=na/cn=recipients/cn=madlema>, canterbury, mark r. </o=#####/ou=na/cn=recipients/cn=mcanter>, diedrich, mark </o=#####/ou=na/cn=recipients/cn=mdiedri>, ng, mark </o=#####/ou=na/cn=recipients/cn=mng>, barnard, marla </o=#####/ou=na/cn=recipients/cn=mbarnar>, braddy, martha </o=#####/ou=na/cn=recipients/cn=mbraddy>, keesler, martha </o=#####/ou=na/cn=recipients/cn=mkeesler>, birmingham, mary </o=#####/ou=na/cn=recipients/cn=mbirmin>, martinez, mary g </o=#####/ou=na/cn=recipients/cn=mmartin9>, nguyen, mary </o=#####/ou=na/cn=recipients/cn=mnguye3>, ogden, mary </o=#####/ou=na/cn=recipients/cn=mogden>, phillips, mary </o=#####/ou=na/cn=recipients/cn=mphilli2>, sontag, mary </o=#####/ou=na/cn=recipients/cn=msontag>, rose, mary sue </o=#####/ou=na/cn=recipients/cn=notesaddr/cn=a9bcc707-a0bdf14e-86256960-6d98a6>, browder, mary lou </o=#####/ou=na/cn=recipients/cn=mbrowder>, martinez, maryhelen </o=#####/ou=na/cn=recipients/cn=mmartin4>, mendez, mayra </o=#####/ou=na/cn=recipients/cn=mmendez2>, mdburkesa#####, meyer, melinda g. </o=#####/ou=na/cn=recipients/cn=mmeyer>, yarbrough, melinda s. </o=#####/ou=na/cn=recipients/cn=myarbro>, lassle, michael </o=#####/ou=na/cn=recipients/cn=notesaddr/cn=a188d511-59398ee9-862567b0-539028>, mcneill, michael </o=#####/ou=na/cn=recipients/cn=mmcneil>, suchoff, michael </o=#####/ou=na/cn=recipients/cn=msuchoff>, cash, michelle </o=#####/ou=na/cn=recipients/cn=mcash>, hargrave, michelle </o=#####/ou=na/cn=recipients/cn=mhargra>, lokay, michelle </o=#####/ou=na/cn=recipients/cn=mlokay>, mnguyen#####, phillips, monique </o=#####/ou=na/cn=recipients/cn=mphilli4>, mwatkin#####, callans, nancy </o=#####/ou=na/cn=recipients/cn=ncallan>, vu, nancy h. </o=#####/ou=na/cn=recipients/cn=nvu>, nell_weaver#####, carpenter, nelly </o=#####/ou=na/cn=recipients/cn=ncarpent>, mendez, nicole </o=#####/ou=na/cn=recipients/cn=nmendez>, flores, nony </o=#####/ou=na/cn=recipients/cn=nflores>, bhatia, om </o=#####/ou=na/cn=recipients/cn=obhatia>, garcia, orlando </o=#####/ou=na/cn=recipients/cn=notesaddr/cn=a0bf6333-c2b9033a-86256952-63b6b3>, wilkinson, paige </o=#####/ou=na/cn=recipients/cn=pwilkins>, stein, pam </o=#####/ou=na/cn=recipients/cn=pstein>, blande, pamela k. </o=#####/ou=na/cn=recipients/cn=pblande>, perry, pamela </o=#####/ou=na/cn=recipients/cn=pperry>, lee, patricia a. </o=#####/ou=na/cn=recipients/cn=plee2>, downey, patricia </o=#####/ou=na/cn=recipients/cn=pdowney>, steele, patricia </o=#####/ou=na/cn=recipients/cn=psteele>, carroll jr., paul </o=#####/ou=na/cn=recipients/cn=pcarrol>, curry, paul d. </o=#####/ou=na/cn=recipients/cn=pcurry>, garcia, paul </o=#####/ou=na/cn=recipients/cn=pgarcia>, olvera, paulita </o=#####/ou=na/cn=recipients/cn=polver2>, massey, rachel </o=#####/ou=na/cn=recipients/cn=notesaddr/cn=dee99b83-3e9a38e8-86256942-7322e3>, rodriguez, ramona </o=#####/ou=na/cn=recipients/cn=rrodrig9>, longoria, rebecca </o=#####/ou=na/cn=recipients/cn=rlongor>, marks, rebecca </o=#####/ou=na/cn=recipients/cn=rmarks2>, smith, renee </o=#####/ou=na/cn=recipients/cn=rsmith25>, kennedy, phyllis r. </o=#####/ou=na/cn=recipients/cn=pkenned>, sanders, richard b. </o=#####/ou=na/cn=recipients/cn=rsander>, castillo, richard </o=#####/ou=na/cn=recipients/cn=notesaddr/cn=49d41cb3-c124e30d-8625696d-5c257c>, elwood, richard </o=#####/ou=na/cn=recipients/cn=relwood>, zamora, richard </o=#####/ou=na/cn=recipients/cn=rzamora2>, rosa, robert </o=#####/ou=na/cn=recipients/cn=rrosa>, hill, robin </o=#####/ou=na/cn=recipients/cn=rhill4>, veariel, robin </o=#####/ou=na/cn=recipients/cn=rvearie>, jaramillo, rosa </o=#####/ou=na/cn=recipients/cn=rjaramil>, rivera, rose </o=#####/ou=na/cn=recipients/cn=rrivera1>, leblanc, rosemary </o=#####/ou=na/cn=recipients/cn=rleblan>, quinn, roxana </o=#####/ou=na/cn=recipients/cn=notesaddr/cn=dfd3e1b6-8c40c1c9-86256996-7a935b>, brown, ruth ann </o=#####/ou=na/cn=recipients/cn=notesaddr/cn=c5066cc1-99bc3768-86256737-82635f>, hartensteiner, ruth </o=#####/ou=na/cn=recipients/cn=rharten>, mann, ruth </o=#####/ou=na/cn=recipients/cn=rmann>, mclaughlin, sabrina </o=#####/ou=na/cn=recipients/cn=smclaug>, keepers, sally </o=#####/ou=na/cn=recipients/cn=skeeper>, craig, sally </o=#####/ou=na/cn=recipients/cn=scraig2>, shuler, sally </o=#####/ou=na/cn=recipients/cn=sshuler>, maldonado, sandra a. </o=#####/ou=na/cn=recipients/cn=smaldon2>, sandra.a.maldonando#####, bruck, sarah </o=#####/ou=na/cn=recipients/cn=sbruck>, bruck, sarah </o=#####/ou=na/cn=recipients/cn=sbruck>, garza, sarita </o=#####/ou=na/cn=recipients/cn=sgarza>, churbock, scott </o=#####/ou=na/cn=recipients/cn=schurboc>, lakho, shahnaz </o=#####/ou=na/cn=recipients/cn=slakho>, yelverton, shane </o=#####/ou=na/cn=recipients/cn=syelver>, patel, shashi </o=#####/ou=na/cn=recipients/cn=notesaddr/cn=b47f1105-9c260302-86256871-527b63>, thomas, sheila </o=#####/ou=na/cn=recipients/cn=notesaddr/cn=67dbfe87-5d94c52-862566a3-481072>, leith, shelly </o=#####/ou=na/cn=recipients/cn=notesaddr/cn=eb1b83b0-df648c86-862566d5-5d79a1>, butler, sherry </o=#####/ou=na/cn=recipients/cn=sbutle2>, hunter, sherry h. </o=#####/ou=na/cn=recipients/cn=shunter>, stone, sherryl </o=#####/ou=na/cn=recipients/cn=notesaddr/cn=14b8677c-f1e8d7a9-86256a87-705095>, varkey, shiji </o=#####/ou=na/cn=recipients/cn=svarkey>, isbell, shirley </o=#####/ou=na/cn=recipients/cn=sisbell>, davis, sophia </o=#####/ou=na/cn=recipients/cn=notesaddr/cn=9887a4c7-d57c7df8-862569af-749daa>, cole, stephanie </o=#####/ou=na/cn=recipients/cn=scole>, donaldson, stuart </o=#####/ou=na/cn=recipients/cn=sdonald2>, zisman, stuart </o=#####/ou=na/cn=recipients/cn=szisman>, sunny14u#####, chou, sunny </o=#####/ou=na/cn=recipients/cn=schou>, carrera, susan </o=#####/ou=na/cn=recipients/cn=scarrer>, rouse, susan </o=#####/ou=na/cn=recipients/cn=notesaddr/cn=89d20286-2126bd9e-62568a9-743745>, skarness, susan </o=#####/ou=na/cn=recipients/cn=sskarne>, dewitt, susan </o=#####/ou=na/cn=recipients/cn=sdewitt>, kelly, suzanne </o=#####/ou=na/cn=recipients/cn=skelly4>, hu, sylvia </o=#####/ou=na/cn=recipients/cn=shu>, shelby, sylvia </o=#####/ou=na/cn=recipients/cn=sshelby>, kovalcik, tammy </o=#####/ou=na/cn=recipients/cn=tkovalc>, nguyen, thao </o=#####/ou=na/cn=recipients/cn=tnguye>, zucha, theresa </o=#####/ou=na/cn=recipients/cn=tzucha>, butler, tj </o=#####/ou=na/cn=recipients/cn=tbutler2>, walker, todd </o=#####/ou=na/cn=recipients/cn=twalker3>, garza jr., tommy </o=#####/ou=na/cn=recipients/cn=tgarza>, bustamante, toni </o=#####/ou=na/cn=recipients/cn=tbustam>, adams, tracy m. </o=#####/ou=na/cn=recipients/cn=tadams3>, rogers, twaillah </o=#####/ou=na/cn=recipients/cn=notesaddr/cn=bf593602-87f93966-62569fe-6aa04e>, hope, valeria a. </o=#####/ou=na/cn=recipients/cn=vhope>, confer, valley </o=#####/ou=na/cn=recipients/cn=vconfer>, griffin, vanessa </o=#####/ou=na/cn=recipients/cn=vgriffin>, castellano, bonne </o=#####/ou=na/cn=recipients/cn=bcastel>, arriaga, veronica i. </o=#####/ou=na/cn=recipients/cn=varriag>, montiel, veronica </o=#####/ou=na/cn=recipients/cn=vmontie>, martinez, victoria </o=#####/ou=na/cn=recipients/cn=notesaddr/cn=14c94423-812fba61-862566d7-5c6071>, hart, vivian </o=#####/ou=na/cn=recipients/cn=vhart>, hicks, w. wade </o=#####/ou=na/cn=recipients/cn=whicks>, truxillo, wayne </o=#####/ou=na/cn=recipients/cn=notesaddr/cn=bf1dfd34-c51f00a-862564c2-54d138>, johnson, wendy </o=#####/ou=na/cn=recipients/cn=notesaddr/cn=86256608-65acba-86256703-7cc427>, ngai, winnie </o=#####/ou=na/cn=recipients/cn=wngai>, arriaga, yolanda </o=#####/ou=na/cn=recipients/cn=yarriag>, stevenson, yvette </o=#####/ou=na/cn=recipients/cn=notesaddr/cn=92478a96-9b9464f3-86256831-5d5999>, mcclure, zakiyyah </o=#####/ou=na/cn=recipients/cn=zmcclure>, paschal, zelda </o=#####/ou=na/cn=recipients/cn=zpascha>, carter, zuela </o=#####/ou=na/cn=recipients/cn=zcarter>\",\n",
       " \"x-bcc= moreno, abraham </o=#####/ou=na/cn=recipients/cn=notesaddr/cn=3631e849-6d8bed9a-862569e0-57a7fb>, cortes, adriana </o=#####/ou=na/cn=recipients/cn=acortes>, tran, agatha </o=#####/ou=na/cn=recipients/cn=atran>, engberg, alan </o=#####/ou=na/cn=recipients/cn=aengber>, haro, alex </o=#####/ou=na/cn=recipients/cn=aharo>, hidalgo, alex </o=#####/ou=na/cn=recipients/cn=notesaddr/cn=b2bcfc9e-4a394f3b-6256a00-544f08>, green, alma </o=#####/ou=na/cn=recipients/cn=agreen1>, ebow, amber </o=#####/ou=na/cn=recipients/cn=aebow>, jon, amy </o=#####/ou=na/cn=recipients/cn=ajon>, trevino, ana </o=#####/ou=na/cn=recipients/cn=notesaddr/cn=a636300f-f714788f-862569e6-7c53f0>, morales, analyn </o=#####/ou=na/cn=recipients/cn=amorale3>, richards, andrea </o=#####/ou=na/cn=recipients/cn=arichard>, miles, andrew </o=#####/ou=na/cn=recipients/cn=amiles>, buis, angie </o=#####/ou=na/cn=recipients/cn=abuis>, o'brian, angie </o=#####/ou=na/cn=recipients/cn=aobrian>, guerrero, anita </o=#####/ou=na/cn=recipients/cn=notesaddr/cn=993b1c2d-85a87b72-862567a6-511a13>, joyner, ann </o=#####/ou=na/cn=recipients/cn=ajoyner>, beliveaux, anne </o=#####/ou=na/cn=recipients/cn=abelive>, bertino, anne </o=#####/ou=na/cn=recipients/cn=notesaddr/cn=c6248a07-12fbf44b-862564c2-4d8a75>, yao, anne s. </o=#####/ou=na/cn=recipients/cn=ayao>, thompson, annette </o=#####/ou=na/cn=recipients/cn=athomps5>, antionette.forrest#####, berlanga, araceli </o=#####/ou=na/cn=recipients/cn=aberlan>, jivan, azim </o=#####/ou=na/cn=recipients/cn=ajivan>, hankins, barbara </o=#####/ou=na/cn=recipients/cn=notesaddr/cn=c75fb98d-a4b992e0-862569cc-6692b9>, pham, becky </o=#####/ou=na/cn=recipients/cn=bpham>, tung, benedicta </o=#####/ou=na/cn=recipients/cn=btung>, rodriguez, bernice </o=#####/ou=na/cn=recipients/cn=brodrig>, davidson, binky </o=#####/ou=na/cn=recipients/cn=bdavids>, bollom, blanca </o=#####/ou=na/cn=recipients/cn=bbollom>, franco, blanca </o=#####/ou=na/cn=recipients/cn=bfranco>, martinez, blanca </o=#####/ou=na/cn=recipients/cn=bmartin2>, shults, bob </o=#####/ou=na/cn=recipients/cn=rshults>, tessandori, bobbi </o=#####/ou=na/cn=recipients/cn=btessan>, barreda, brenda </o=#####/ou=na/cn=recipients/cn=notesaddr/cn=97f5026a-9d2ddb4b-86256930-5421ea>, johnston, brenda j. </o=#####/ou=na/cn=recipients/cn=bjohnst>, maronge, bridget </o=#####/ou=na/cn=recipients/cn=bmarong>, williams, bridget </o=#####/ou=na/cn=recipients/cn=bwilliam>, anderson, bridgette </o=#####/ou=na/cn=recipients/cn=bander2>, jozwiak, c j </o=#####/ou=na/cn=recipients/cn=notesaddr/cn=f12dd89-1a0f6808-862568f5-65a1ae>, best, cameron </o=#####/ou=na/cn=recipients/cn=notesaddr/cn=ae41839-461d5d7c-86256a4e-640fbd>, bywaters, candy  hpl/aep </o=#####/ou=na/cn=recipients/cn=cbywate>, carlos castillo/########## <??scarlos castillo/##########>, jones, carmella </o=#####/ou=na/cn=recipients/cn=cjones11>, perez, carmen </o=#####/ou=na/cn=recipients/cn=cperez>, mcspadden, carol </o=#####/ou=na/cn=recipients/cn=cmcspad>, george, carolyn </o=#####/ou=na/cn=recipients/cn=cgeorge>, graham, carolyn </o=#####/ou=na/cn=recipients/cn=cgraham>, ayala-nelson, catalina </o=#####/ou=na/cn=recipients/cn=cnelson>, phillips, cathy </o=#####/ou=na/cn=recipients/cn=cphilli>, rodriguez, cecilia </o=#####/ou=na/cn=recipients/cn=crodrig4>, villanueva, chantelle </o=#####/ou=na/cn=recipients/cn=cvillar>, arguijo, cheryl </o=#####/ou=na/cn=recipients/cn=carguij>, brashier, cheryl </o=#####/ou=na/cn=recipients/cn=notesaddr/cn=d278f75e-d119a853-86256841-5ea862>, lun, ching </o=#####/ou=na/cn=recipients/cn=clun>, chollan#####, hendrix, chris </o=#####/ou=na/cn=recipients/cn=notesaddr/cn=8ed04a81-63705c0f-862564c2-6b9ece>, leonard, chris </o=#####/ou=na/cn=recipients/cn=cleonard>, culwell, christi </o=#####/ou=na/cn=recipients/cn=cculwel>, barthel, christina </o=#####/ou=na/cn=recipients/cn=cbarthe>, jasso, christina </o=#####/ou=na/cn=recipients/cn=notesaddr/cn=7bdbed56-516d23d8-862569bd-7bb154>, cicchetti, cindy </o=#####/ou=na/cn=recipients/cn=notesaddr/cn=7f9605b-350da33f-86256a0f-6b4d81>, shaffer, cindy </o=#####/ou=na/cn=recipients/cn=cshaffe>, guerra, claudia </o=#####/ou=na/cn=recipients/cn=cguerra2>, blackwood, connie </o=#####/ou=na/cn=recipients/cn=cblackw>, charles, constance </o=#####/ou=na/cn=recipients/cn=ccharle>, rivera, coralina </o=#####/ou=na/cn=recipients/cn=crivera2>, courtney campbell/########## <??scourtney campbell/##########>, breslau, craig </o=#####/ou=na/cn=recipients/cn=cbresla>, kinsler, cris </o=#####/ou=na/cn=recipients/cn=notesaddr/cn=3cb26d8d-bf5b0c6b-862564c2-4ec958>, castagnola, daniel </o=#####/ou=na/cn=recipients/cn=dcastag>, forsyth, darlene c. </o=#####/ou=na/cn=recipients/cn=dforsyt>, mckeever, darlene </o=#####/ou=na/cn=recipients/cn=dmckeev>, mcdonald, dawn </o=#####/ou=na/cn=recipients/cn=dmcdonal>, busch, debbie </o=#####/ou=na/cn=recipients/cn=dbusch>, doyle, debbie </o=#####/ou=na/cn=recipients/cn=ddoyle>, lucadou, debbie </o=#####/ou=na/cn=recipients/cn=notesaddr/cn=4989c968-a1c8946-86256942-4c33d5>, suchoff, debbie </o=#####/ou=na/cn=recipients/cn=dsuchoff>, delgado, deborah </o=#####/ou=na/cn=recipients/cn=notesaddr/cn=2ccd1d73-15acac40-8625688e-576ff0>, brannen, debra </o=#####/ou=na/cn=recipients/cn=dbrannen>, hicks, debra </o=#####/ou=na/cn=recipients/cn=dhicks3>, ortiz, dellanira </o=#####/ou=na/cn=recipients/cn=dortiz>, munoz, delma </o=#####/ou=na/cn=recipients/cn=dmunoz>, naiser, denise </o=#####/ou=na/cn=recipients/cn=dnaiser>, ovalle, diana </o=#####/ou=na/cn=recipients/cn=dovalle>, langeland, dianne </o=#####/ou=na/cn=recipients/cn=dlangel>, latson, diane </o=#####/ou=na/cn=recipients/cn=dlatson>, dupree, dianna </o=#####/ou=na/cn=recipients/cn=ddupree>, sanchez, diana t </o=#####/ou=na/cn=recipients/cn=dsanche4>, escamilla, dolores </o=#####/ou=na/cn=recipients/cn=descami>, powell, don </o=#####/ou=na/cn=recipients/cn=dpowell1>, teal, donna </o=#####/ou=na/cn=recipients/cn=notesaddr/cn=359d12db-1a7014e6-86256989-4d650c>, traylor, donnis </o=#####/ou=na/cn=recipients/cn=dtraylor>, burrell, dorothy </o=#####/ou=na/cn=recipients/cn=dburrel>, leschber, edie </o=#####/ou=na/cn=recipients/cn=eleschb>, gongora, edith </o=#####/ou=na/cn=recipients/cn=edith_gongora>, rodriguez, elaine </o=#####/ou=na/cn=recipients/cn=notesaddr/cn=862bbfe-1def4df0-86256ad9-76e79e>, atkinson, elizabeth </o=#####/ou=na/cn=recipients/cn=eatkins>, brown, elizabeth </o=#####/ou=na/cn=recipients/cn=ebrown1>, ahmadi, ellie </o=#####/ou=na/cn=recipients/cn=eahmadi>, beltran, erica </o=#####/ou=na/cn=recipients/cn=ebeltra>, rodriguez, erica </o=#####/ou=na/cn=recipients/cn=erodri2>, hernandez, eva </o=#####/ou=na/cn=recipients/cn=notesaddr/cn=93475135-cafeb121-86256aca-66210f>, metoyer, evelyn </o=#####/ou=na/cn=recipients/cn=emetoyer>, corneiro, eydie </o=#####/ou=na/cn=recipients/cn=ecorneir>, fogleman65#####, deltoro, fran </o=#####/ou=na/cn=recipients/cn=notesaddr/cn=c23e8122-ffcce47f-86256775-523538>, mayes, fran </o=#####/ou=na/cn=recipients/cn=fmayes>, garcia, frances (eeos) </o=#####/ou=na/cn=recipients/cn=fgarcia>, friendlyone#####, tan, fred </o=#####/ou=na/cn=recipients/cn=ftan>, law, gary </o=#####/ou=na/cn=recipients/cn=glaw>, russo, gavin </o=#####/ou=na/cn=recipients/cn=grusso>, lachner, george r. </o=#####/ou=na/cn=recipients/cn=glachne>, moore, georgene </o=#####/ou=na/cn=recipients/cn=gmoore2>, landau, georgi </o=#####/ou=na/cn=recipients/cn=glandau>, ward, georgia </o=#####/ou=na/cn=recipients/cn=gward>, adams, gerald </o=#####/ou=na/cn=recipients/cn=gadams3>, warner, geriann </o=#####/ou=na/cn=recipients/cn=gwarner>, bartz, gilda </o=#####/ou=na/cn=recipients/cn=gbartz>, mitchell, glenda d. </o=#####/ou=na/cn=recipients/cn=gmitche>, alvarez, gloria </o=#####/ou=na/cn=recipients/cn=galvare2>, solis, gloria </o=#####/ou=na/cn=recipients/cn=gsolis>, keiser, holly </o=#####/ou=na/cn=recipients/cn=hkeiser>, waser, iris </o=#####/ou=na/cn=recipients/cn=iwaser>, resendez, isabel y. </o=#####/ou=na/cn=recipients/cn=iresend>, estrada, israel </o=#####/ou=na/cn=recipients/cn=iestrada>, henry, jackie </o=#####/ou=na/cn=recipients/cn=jhenry2>, copeland, james l. </o=#####/ou=na/cn=recipients/cn=jcopela>, mihalic, james </o=#####/ou=na/cn=recipients/cn=notesaddr/cn=1fdec189-2db88f0e-862566cd-771f0e>, dobernecker, jan </o=#####/ou=na/cn=recipients/cn=notesaddr/cn=9a8466c5-70a7d61a-86256744-544c3b>, moore, jan </o=#####/ou=na/cn=recipients/cn=jmoore3>, jane.allen#####, elbertson, janette </o=#####/ou=na/cn=recipients/cn=jelbert>, butler, janet </o=#####/ou=na/cn=recipients/cn=jbutler>, hogan, janice </o=#####/ou=na/cn=recipients/cn=jhogan>, priddy, janice </o=#####/ou=na/cn=recipients/cn=jpriddy>, lewis, jeff </o=#####/ou=na/cn=recipients/cn=jlewis5>, sommers, jeffrey e. </o=#####/ou=na/cn=recipients/cn=jsommer>, adams, jennifer </o=#####/ou=na/cn=recipients/cn=notesaddr/cn=c8c6afac-aee2bc3e-86256a9c-66391b>, cutaia, jennifer </o=#####/ou=na/cn=recipients/cn=jcutaia>, mata, jessie </o=#####/ou=na/cn=recipients/cn=mmata2>, poleo, jesus </o=#####/ou=na/cn=recipients/cn=jpoleo>, meyn, jim </o=#####/ou=na/cn=recipients/cn=jmeyn>, matson, jo ann </o=#####/ou=na/cn=recipients/cn=jmatson>, rozycki, joanne </o=#####/ou=na/cn=recipients/cn=jrozycki>, darensbourg, joe </o=#####/ou=na/cn=recipients/cn=jdarens>, morrow, joey </o=#####/ou=na/cn=recipients/cn=notesaddr/cn=bf19d3dc-2bccc7e8-8625665c-722b9d>, krueger, johanna </o=#####/ou=na/cn=recipients/cn=jkrueger>, keiser, john </o=#####/ou=na/cn=recipients/cn=jkeiser>, munoz, john </o=#####/ou=na/cn=recipients/cn=jmunoz3>, fisher, joni </o=#####/ou=na/cn=recipients/cn=notesaddr/cn=235a0375-7a9ca7b2-862566bd-7c5ae3>, moeller, joni </o=#####/ou=na/cn=recipients/cn=jmoelle>, dorsey, joyce </o=#####/ou=na/cn=recipients/cn=jdorsey>, carter, judi </o=#####/ou=na/cn=recipients/cn=notesaddr/cn=de9cfbb1-ee7398bd-86256881-612a50>, davis, judy </o=#####/ou=na/cn=recipients/cn=notesaddr/cn=eb20f947-801fdd2-86256966-6c3e62>, griffith, judi </o=#####/ou=na/cn=recipients/cn=jgriffi3>, lin, judy </o=#####/ou=na/cn=recipients/cn=jlin>, gartner, julie s. </o=#####/ou=na/cn=recipients/cn=jgartne>, armstrong, julie </o=#####/ou=na/cn=recipients/cn=jarmstr>, garcia, julie a. </o=#####/ou=na/cn=recipients/cn=jgarci2>, gartner, julie s. </o=#####/ou=na/cn=recipients/cn=jgartne>, keiser, kam </o=#####/ou=na/cn=recipients/cn=kkeiser>, brostad, karen </o=#####/ou=na/cn=recipients/cn=kbrosta>, clapper, karen </o=#####/ou=na/cn=recipients/cn=kclappe>, heathman, karen k. </o=#####/ou=na/cn=recipients/cn=kheathm>, williams, karen lynn </o=#####/ou=na/cn=recipients/cn=kwillia4>, myer, karen </o=#####/ou=na/cn=recipients/cn=kmyer>, williams, karen </o=#####/ou=na/cn=recipients/cn=notesaddr/cn=103f9d84-4cf1c17f-882568ac-7a90b6>, karen_davis#####, oquinn, kari </o=#####/ou=na/cn=recipients/cn=koquinn>, clark, kathleen </o=#####/ou=na/cn=recipients/cn=kclark3>, young, kay </o=#####/ou=na/cn=recipients/cn=kyoung>, lacalli, kelly </o=#####/ou=na/cn=recipients/cn=klacalli>, mathis, ken </o=#####/ou=na/cn=recipients/cn=kmathis>, dromgoole, kendra </o=#####/ou=na/cn=recipients/cn=kdromgoo>, hickok, kim </o=#####/ou=na/cn=recipients/cn=khickok>, perez, kim </o=#####/ou=na/cn=recipients/cn=kperez>, perkins, kim </o=#####/ou=na/cn=recipients/cn=kperkin>, niekamp, kimberly </o=#####/ou=na/cn=recipients/cn=kniekamp>, sullivan, kriste </o=#####/ou=na/cn=recipients/cn=ksulliv>, adeyinka, latrice </o=#####/ou=na/cn=recipients/cn=ladeyin>, glenn, laura </o=#####/ou=na/cn=recipients/cn=lglenn>, hutcherson, leesa </o=#####/ou=na/cn=recipients/cn=lhutche2>, barnett, leola </o=#####/ou=na/cn=recipients/cn=lbarnet>, ayers, lesley </o=#####/ou=na/cn=recipients/cn=layers>, leal, leticia </o=#####/ou=na/cn=recipients/cn=lleal>, chan, li n. </o=#####/ou=na/cn=recipients/cn=lchan>, roman, lilia </o=#####/ou=na/cn=recipients/cn=lroman>, simmons, linda j. </o=#####/ou=na/cn=recipients/cn=lsimmo2>, escamilla, linda </o=#####/ou=na/cn=recipients/cn=lescami>, hallmark, linda </o=#####/ou=na/cn=recipients/cn=lhallma>, noske, linda j. </o=#####/ou=na/cn=recipients/cn=lnoske>, trevino, linda s. </o=#####/ou=na/cn=recipients/cn=ltrevin2>, dietz, lisa </o=#####/ou=na/cn=recipients/cn=notesaddr/cn=151d360-3231ddbc-862568af-51bf0e>, kumbalek, lisa m. </o=#####/ou=na/cn=recipients/cn=lkumbal>, brown, lisa </o=#####/ou=na/cn=recipients/cn=lbrown7>, wolfe, lisa </o=#####/ou=na/cn=recipients/cn=lwolfe2>, jones, lisa </o=#####/ou=na/cn=recipients/cn=ljones3>, black, lois </o=#####/ou=na/cn=recipients/cn=notesaddr/cn=62e44a17-7f654870-862567c4-6dbef3>, hendricks, lois </o=#####/ou=na/cn=recipients/cn=lhendri>, brooks, loretta </o=#####/ou=na/cn=recipients/cn=lbrooks>, belsha, lorie </o=#####/ou=na/cn=recipients/cn=lbelsha>, becker, lorraine </o=#####/ou=na/cn=recipients/cn=lbecker>, diamond, lou </o=#####/ou=na/cn=recipients/cn=notesaddr/cn=dea572f7-e747fb79-625699f-7f9340>, ltrevino#####, johnson, luchas </o=#####/ou=na/cn=recipients/cn=ljohnso5>, stephens, luly </o=#####/ou=na/cn=recipients/cn=lstephe2>, laferla, lynda  </o=#####/ou=na/cn=recipients/cn=llaferl>, pham, lynda </o=#####/ou=na/cn=recipients/cn=lpham>, tippery, lynn </o=#####/ou=na/cn=recipients/cn=ltipper>, madeline_chan#####, distefano, marc </o=#####/ou=na/cn=recipients/cn=mdistefa>, doucette, margaret </o=#####/ou=na/cn=recipients/cn=mdoucet>, ho, margaux </o=#####/ou=na/cn=recipients/cn=notesaddr/cn=108b91de-486360e3-862569bb-6e428b>, cisneros, maria </o=#####/ou=na/cn=recipients/cn=mcisner2>, lebeau, maria </o=#####/ou=na/cn=recipients/cn=mlebeau>, maldonado, maria </o=#####/ou=na/cn=recipients/cn=mmaldon>, sandoval, maria </o=#####/ou=na/cn=recipients/cn=msandov>, chavez, maricela </o=#####/ou=na/cn=recipients/cn=mchavez>, thibaut, marie </o=#####/ou=na/cn=recipients/cn=mthibau>, rivera, marilyn </o=#####/ou=na/cn=recipients/cn=mrivera>, sczykutowicz, marion </o=#####/ou=na/cn=recipients/cn=msczyku>, zarate, maritza </o=#####/ou=na/cn=recipients/cn=mzarate>, evans, mark </o=#####/ou=na/cn=recipients/cn=notesaddr/cn=48bca2e6-ea0779b7-86256993-7168e5>, adleman, mark </o=#####/ou=na/cn=recipients/cn=madlema>, canterbury, mark r. </o=#####/ou=na/cn=recipients/cn=mcanter>, diedrich, mark </o=#####/ou=na/cn=recipients/cn=mdiedri>, ng, mark </o=#####/ou=na/cn=recipients/cn=mng>, barnard, marla </o=#####/ou=na/cn=recipients/cn=mbarnar>, braddy, martha </o=#####/ou=na/cn=recipients/cn=mbraddy>, keesler, martha </o=#####/ou=na/cn=recipients/cn=mkeesler>, birmingham, mary </o=#####/ou=na/cn=recipients/cn=mbirmin>, martinez, mary g </o=#####/ou=na/cn=recipients/cn=mmartin9>, nguyen, mary </o=#####/ou=na/cn=recipients/cn=mnguye3>, ogden, mary </o=#####/ou=na/cn=recipients/cn=mogden>, phillips, mary </o=#####/ou=na/cn=recipients/cn=mphilli2>, sontag, mary </o=#####/ou=na/cn=recipients/cn=msontag>, rose, mary sue </o=#####/ou=na/cn=recipients/cn=notesaddr/cn=a9bcc707-a0bdf14e-86256960-6d98a6>, browder, mary lou </o=#####/ou=na/cn=recipients/cn=mbrowder>, martinez, maryhelen </o=#####/ou=na/cn=recipients/cn=mmartin4>, mendez, mayra </o=#####/ou=na/cn=recipients/cn=mmendez2>, mdburkesa#####, meyer, melinda g. </o=#####/ou=na/cn=recipients/cn=mmeyer>, yarbrough, melinda s. </o=#####/ou=na/cn=recipients/cn=myarbro>, lassle, michael </o=#####/ou=na/cn=recipients/cn=notesaddr/cn=a188d511-59398ee9-862567b0-539028>, mcneill, michael </o=#####/ou=na/cn=recipients/cn=mmcneil>, suchoff, michael </o=#####/ou=na/cn=recipients/cn=msuchoff>, cash, michelle </o=#####/ou=na/cn=recipients/cn=mcash>, hargrave, michelle </o=#####/ou=na/cn=recipients/cn=mhargra>, lokay, michelle </o=#####/ou=na/cn=recipients/cn=mlokay>, mnguyen#####, phillips, monique </o=#####/ou=na/cn=recipients/cn=mphilli4>, mwatkin#####, callans, nancy </o=#####/ou=na/cn=recipients/cn=ncallan>, vu, nancy h. </o=#####/ou=na/cn=recipients/cn=nvu>, nell_weaver#####, carpenter, nelly </o=#####/ou=na/cn=recipients/cn=ncarpent>, mendez, nicole </o=#####/ou=na/cn=recipients/cn=nmendez>, flores, nony </o=#####/ou=na/cn=recipients/cn=nflores>, bhatia, om </o=#####/ou=na/cn=recipients/cn=obhatia>, garcia, orlando </o=#####/ou=na/cn=recipients/cn=notesaddr/cn=a0bf6333-c2b9033a-86256952-63b6b3>, wilkinson, paige </o=#####/ou=na/cn=recipients/cn=pwilkins>, stein, pam </o=#####/ou=na/cn=recipients/cn=pstein>, blande, pamela k. </o=#####/ou=na/cn=recipients/cn=pblande>, perry, pamela </o=#####/ou=na/cn=recipients/cn=pperry>, lee, patricia a. </o=#####/ou=na/cn=recipients/cn=plee2>, downey, patricia </o=#####/ou=na/cn=recipients/cn=pdowney>, steele, patricia </o=#####/ou=na/cn=recipients/cn=psteele>, carroll jr., paul </o=#####/ou=na/cn=recipients/cn=pcarrol>, curry, paul d. </o=#####/ou=na/cn=recipients/cn=pcurry>, garcia, paul </o=#####/ou=na/cn=recipients/cn=pgarcia>, olvera, paulita </o=#####/ou=na/cn=recipients/cn=polver2>, massey, rachel </o=#####/ou=na/cn=recipients/cn=notesaddr/cn=dee99b83-3e9a38e8-86256942-7322e3>, rodriguez, ramona </o=#####/ou=na/cn=recipients/cn=rrodrig9>, longoria, rebecca </o=#####/ou=na/cn=recipients/cn=rlongor>, marks, rebecca </o=#####/ou=na/cn=recipients/cn=rmarks2>, smith, renee </o=#####/ou=na/cn=recipients/cn=rsmith25>, kennedy, phyllis r. </o=#####/ou=na/cn=recipients/cn=pkenned>, sanders, richard b. </o=#####/ou=na/cn=recipients/cn=rsander>, castillo, richard </o=#####/ou=na/cn=recipients/cn=notesaddr/cn=49d41cb3-c124e30d-8625696d-5c257c>, elwood, richard </o=#####/ou=na/cn=recipients/cn=relwood>, zamora, richard </o=#####/ou=na/cn=recipients/cn=rzamora2>, rosa, robert </o=#####/ou=na/cn=recipients/cn=rrosa>, hill, robin </o=#####/ou=na/cn=recipients/cn=rhill4>, veariel, robin </o=#####/ou=na/cn=recipients/cn=rvearie>, jaramillo, rosa </o=#####/ou=na/cn=recipients/cn=rjaramil>, rivera, rose </o=#####/ou=na/cn=recipients/cn=rrivera1>, leblanc, rosemary </o=#####/ou=na/cn=recipients/cn=rleblan>, quinn, roxana </o=#####/ou=na/cn=recipients/cn=notesaddr/cn=dfd3e1b6-8c40c1c9-86256996-7a935b>, brown, ruth ann </o=#####/ou=na/cn=recipients/cn=notesaddr/cn=c5066cc1-99bc3768-86256737-82635f>, hartensteiner, ruth </o=#####/ou=na/cn=recipients/cn=rharten>, mann, ruth </o=#####/ou=na/cn=recipients/cn=rmann>, mclaughlin, sabrina </o=#####/ou=na/cn=recipients/cn=smclaug>, keepers, sally </o=#####/ou=na/cn=recipients/cn=skeeper>, craig, sally </o=#####/ou=na/cn=recipients/cn=scraig2>, shuler, sally </o=#####/ou=na/cn=recipients/cn=sshuler>, maldonado, sandra a. </o=#####/ou=na/cn=recipients/cn=smaldon2>, sandra.a.maldonando#####, bruck, sarah </o=#####/ou=na/cn=recipients/cn=sbruck>, bruck, sarah </o=#####/ou=na/cn=recipients/cn=sbruck>, garza, sarita </o=#####/ou=na/cn=recipients/cn=sgarza>, churbock, scott </o=#####/ou=na/cn=recipients/cn=schurboc>, lakho, shahnaz </o=#####/ou=na/cn=recipients/cn=slakho>, yelverton, shane </o=#####/ou=na/cn=recipients/cn=syelver>, patel, shashi </o=#####/ou=na/cn=recipients/cn=notesaddr/cn=b47f1105-9c260302-86256871-527b63>, thomas, sheila </o=#####/ou=na/cn=recipients/cn=notesaddr/cn=67dbfe87-5d94c52-862566a3-481072>, leith, shelly </o=#####/ou=na/cn=recipients/cn=notesaddr/cn=eb1b83b0-df648c86-862566d5-5d79a1>, butler, sherry </o=#####/ou=na/cn=recipients/cn=sbutle2>, hunter, sherry h. </o=#####/ou=na/cn=recipients/cn=shunter>, stone, sherryl </o=#####/ou=na/cn=recipients/cn=notesaddr/cn=14b8677c-f1e8d7a9-86256a87-705095>, varkey, shiji </o=#####/ou=na/cn=recipients/cn=svarkey>, isbell, shirley </o=#####/ou=na/cn=recipients/cn=sisbell>, davis, sophia </o=#####/ou=na/cn=recipients/cn=notesaddr/cn=9887a4c7-d57c7df8-862569af-749daa>, cole, stephanie </o=#####/ou=na/cn=recipients/cn=scole>, donaldson, stuart </o=#####/ou=na/cn=recipients/cn=sdonald2>, zisman, stuart </o=#####/ou=na/cn=recipients/cn=szisman>, sunny14u#####, chou, sunny </o=#####/ou=na/cn=recipients/cn=schou>, carrera, susan </o=#####/ou=na/cn=recipients/cn=scarrer>, rouse, susan </o=#####/ou=na/cn=recipients/cn=notesaddr/cn=89d20286-2126bd9e-62568a9-743745>, skarness, susan </o=#####/ou=na/cn=recipients/cn=sskarne>, dewitt, susan </o=#####/ou=na/cn=recipients/cn=sdewitt>, kelly, suzanne </o=#####/ou=na/cn=recipients/cn=skelly4>, hu, sylvia </o=#####/ou=na/cn=recipients/cn=shu>, shelby, sylvia </o=#####/ou=na/cn=recipients/cn=sshelby>, kovalcik, tammy </o=#####/ou=na/cn=recipients/cn=tkovalc>, nguyen, thao </o=#####/ou=na/cn=recipients/cn=tnguye>, zucha, theresa </o=#####/ou=na/cn=recipients/cn=tzucha>, butler, tj </o=#####/ou=na/cn=recipients/cn=tbutler2>, walker, todd </o=#####/ou=na/cn=recipients/cn=twalker3>, garza jr., tommy </o=#####/ou=na/cn=recipients/cn=tgarza>, bustamante, toni </o=#####/ou=na/cn=recipients/cn=tbustam>, adams, tracy m. </o=#####/ou=na/cn=recipients/cn=tadams3>, rogers, twaillah </o=#####/ou=na/cn=recipients/cn=notesaddr/cn=bf593602-87f93966-62569fe-6aa04e>, hope, valeria a. </o=#####/ou=na/cn=recipients/cn=vhope>, confer, valley </o=#####/ou=na/cn=recipients/cn=vconfer>, griffin, vanessa </o=#####/ou=na/cn=recipients/cn=vgriffin>, castellano, bonne </o=#####/ou=na/cn=recipients/cn=bcastel>, arriaga, veronica i. </o=#####/ou=na/cn=recipients/cn=varriag>, martinez, victoria </o=#####/ou=na/cn=recipients/cn=notesaddr/cn=14c94423-812fba61-862566d7-5c6071>, hart, vivian </o=#####/ou=na/cn=recipients/cn=vhart>, hicks, w. wade </o=#####/ou=na/cn=recipients/cn=whicks>, truxillo, wayne </o=#####/ou=na/cn=recipients/cn=notesaddr/cn=bf1dfd34-c51f00a-862564c2-54d138>, johnson, wendy </o=#####/ou=na/cn=recipients/cn=notesaddr/cn=86256608-65acba-86256703-7cc427>, ngai, winnie </o=#####/ou=na/cn=recipients/cn=wngai>, arriaga, yolanda </o=#####/ou=na/cn=recipients/cn=yarriag>, stevenson, yvette </o=#####/ou=na/cn=recipients/cn=notesaddr/cn=92478a96-9b9464f3-86256831-5d5999>, mcclure, zakiyyah </o=#####/ou=na/cn=recipients/cn=zmcclure>, paschal, zelda </o=#####/ou=na/cn=recipients/cn=zpascha>, carter, zuela </o=#####/ou=na/cn=recipients/cn=zcarter>\",\n",
       " \"x-bcc= moreno, abraham </o=#####/ou=na/cn=recipients/cn=notesaddr/cn=3631e849-6d8bed9a-862569e0-57a7fb>, cortes, adriana </o=#####/ou=na/cn=recipients/cn=acortes>, tran, agatha </o=#####/ou=na/cn=recipients/cn=atran>, engberg, alan </o=#####/ou=na/cn=recipients/cn=aengber>, haro, alex </o=#####/ou=na/cn=recipients/cn=aharo>, hidalgo, alex </o=#####/ou=na/cn=recipients/cn=notesaddr/cn=b2bcfc9e-4a394f3b-6256a00-544f08>, green, alma </o=#####/ou=na/cn=recipients/cn=agreen1>, ebow, amber </o=#####/ou=na/cn=recipients/cn=aebow>, jon, amy </o=#####/ou=na/cn=recipients/cn=ajon>, trevino, ana </o=#####/ou=na/cn=recipients/cn=notesaddr/cn=a636300f-f714788f-862569e6-7c53f0>, morales, analyn </o=#####/ou=na/cn=recipients/cn=amorale3>, richards, andrea </o=#####/ou=na/cn=recipients/cn=arichard>, miles, andrew </o=#####/ou=na/cn=recipients/cn=amiles>, buis, angie </o=#####/ou=na/cn=recipients/cn=abuis>, o'brian, angie </o=#####/ou=na/cn=recipients/cn=aobrian>, guerrero, anita </o=#####/ou=na/cn=recipients/cn=notesaddr/cn=993b1c2d-85a87b72-862567a6-511a13>, joyner, ann </o=#####/ou=na/cn=recipients/cn=ajoyner>, beliveaux, anne </o=#####/ou=na/cn=recipients/cn=abelive>, bertino, anne </o=#####/ou=na/cn=recipients/cn=notesaddr/cn=c6248a07-12fbf44b-862564c2-4d8a75>, yao, anne s. </o=#####/ou=na/cn=recipients/cn=ayao>, thompson, annette </o=#####/ou=na/cn=recipients/cn=athomps5>, gregory, april </o=#####/ou=na/cn=recipients/cn=agregory>, berlanga, araceli </o=#####/ou=na/cn=recipients/cn=aberlan>, jivan, azim </o=#####/ou=na/cn=recipients/cn=ajivan>, hankins, barbara </o=#####/ou=na/cn=recipients/cn=notesaddr/cn=c75fb98d-a4b992e0-862569cc-6692b9>, pham, becky </o=#####/ou=na/cn=recipients/cn=bpham>, tung, benedicta </o=#####/ou=na/cn=recipients/cn=btung>, rodriguez, bernice </o=#####/ou=na/cn=recipients/cn=brodrig>, davidson, binky </o=#####/ou=na/cn=recipients/cn=bdavids>, bollom, blanca </o=#####/ou=na/cn=recipients/cn=bbollom>, martinez, blanca </o=#####/ou=na/cn=recipients/cn=bmartin2>, shults, bob </o=#####/ou=na/cn=recipients/cn=rshults>, tessandori, bobbi </o=#####/ou=na/cn=recipients/cn=btessan>, barreda, brenda </o=#####/ou=na/cn=recipients/cn=notesaddr/cn=97f5026a-9d2ddb4b-86256930-5421ea>, johnston, brenda j. </o=#####/ou=na/cn=recipients/cn=bjohnst>, maronge, bridget </o=#####/ou=na/cn=recipients/cn=bmarong>, williams, bridget </o=#####/ou=na/cn=recipients/cn=bwilliam>, anderson, bridgette </o=#####/ou=na/cn=recipients/cn=bander2>, jozwiak, c j </o=#####/ou=na/cn=recipients/cn=notesaddr/cn=f12dd89-1a0f6808-862568f5-65a1ae>, best, cameron </o=#####/ou=na/cn=recipients/cn=notesaddr/cn=ae41839-461d5d7c-86256a4e-640fbd>, bywaters, candy  hpl/aep </o=#####/ou=na/cn=recipients/cn=cbywate>, jones, carmella </o=#####/ou=na/cn=recipients/cn=cjones11>, perez, carmen </o=#####/ou=na/cn=recipients/cn=cperez>, mcspadden, carol </o=#####/ou=na/cn=recipients/cn=cmcspad>, george, carolyn </o=#####/ou=na/cn=recipients/cn=cgeorge>, graham, carolyn </o=#####/ou=na/cn=recipients/cn=cgraham>, ayala-nelson, catalina </o=#####/ou=na/cn=recipients/cn=cnelson>, phillips, cathy </o=#####/ou=na/cn=recipients/cn=cphilli>, rodriguez, cecilia </o=#####/ou=na/cn=recipients/cn=crodrig4>, villanueva, chantelle </o=#####/ou=na/cn=recipients/cn=cvillar>, arguijo, cheryl </o=#####/ou=na/cn=recipients/cn=carguij>, brashier, cheryl </o=#####/ou=na/cn=recipients/cn=notesaddr/cn=d278f75e-d119a853-86256841-5ea862>, lun, ching </o=#####/ou=na/cn=recipients/cn=clun>, chollan#####, hendrix, chris </o=#####/ou=na/cn=recipients/cn=notesaddr/cn=8ed04a81-63705c0f-862564c2-6b9ece>, leonard, chris </o=#####/ou=na/cn=recipients/cn=cleonard>, culwell, christi </o=#####/ou=na/cn=recipients/cn=cculwel>, barthel, christina </o=#####/ou=na/cn=recipients/cn=cbarthe>, jasso, christina </o=#####/ou=na/cn=recipients/cn=notesaddr/cn=7bdbed56-516d23d8-862569bd-7bb154>, cicchetti, cindy </o=#####/ou=na/cn=recipients/cn=notesaddr/cn=7f9605b-350da33f-86256a0f-6b4d81>, shaffer, cindy </o=#####/ou=na/cn=recipients/cn=cshaffe>, guerra, claudia </o=#####/ou=na/cn=recipients/cn=cguerra2>, blackwood, connie </o=#####/ou=na/cn=recipients/cn=cblackw>, charles, constance </o=#####/ou=na/cn=recipients/cn=ccharle>, rivera, coralina </o=#####/ou=na/cn=recipients/cn=crivera2>, courtney campbell/########## <??scourtney campbell/##########>, breslau, craig </o=#####/ou=na/cn=recipients/cn=cbresla>, kinsler, cris </o=#####/ou=na/cn=recipients/cn=notesaddr/cn=3cb26d8d-bf5b0c6b-862564c2-4ec958>, castagnola, daniel </o=#####/ou=na/cn=recipients/cn=dcastag>, forsyth, darlene c. </o=#####/ou=na/cn=recipients/cn=dforsyt>, mckeever, darlene </o=#####/ou=na/cn=recipients/cn=dmckeev>, mcdonald, dawn </o=#####/ou=na/cn=recipients/cn=dmcdonal>, busch, debbie </o=#####/ou=na/cn=recipients/cn=dbusch>, doyle, debbie </o=#####/ou=na/cn=recipients/cn=ddoyle>, lucadou, debbie </o=#####/ou=na/cn=recipients/cn=notesaddr/cn=4989c968-a1c8946-86256942-4c33d5>, suchoff, debbie </o=#####/ou=na/cn=recipients/cn=dsuchoff>, culver, deborah </o=#####/ou=na/cn=recipients/cn=notesaddr/cn=be53fb3a-e5361e38-86256608-523e7a>, delgado, deborah </o=#####/ou=na/cn=recipients/cn=notesaddr/cn=2ccd1d73-15acac40-8625688e-576ff0>, long, deborah </o=#####/ou=na/cn=recipients/cn=dlong>, brannen, debra </o=#####/ou=na/cn=recipients/cn=dbrannen>, hicks, debra </o=#####/ou=na/cn=recipients/cn=dhicks3>, ortiz, dellanira </o=#####/ou=na/cn=recipients/cn=dortiz>, munoz, delma </o=#####/ou=na/cn=recipients/cn=dmunoz>, naiser, denise </o=#####/ou=na/cn=recipients/cn=dnaiser>, ovalle, diana </o=#####/ou=na/cn=recipients/cn=dovalle>, langeland, dianne </o=#####/ou=na/cn=recipients/cn=dlangel>, latson, diane </o=#####/ou=na/cn=recipients/cn=dlatson>, dupree, dianna </o=#####/ou=na/cn=recipients/cn=ddupree>, sanchez, diana t </o=#####/ou=na/cn=recipients/cn=dsanche4>, escamilla, dolores </o=#####/ou=na/cn=recipients/cn=descami>, powell, don </o=#####/ou=na/cn=recipients/cn=dpowell1>, teal, donna </o=#####/ou=na/cn=recipients/cn=notesaddr/cn=359d12db-1a7014e6-86256989-4d650c>, traylor, donnis </o=#####/ou=na/cn=recipients/cn=dtraylor>, burrell, dorothy </o=#####/ou=na/cn=recipients/cn=dburrel>, leschber, edie </o=#####/ou=na/cn=recipients/cn=eleschb>, gongora, edith </o=#####/ou=na/cn=recipients/cn=edith_gongora>, rodriguez, elaine </o=#####/ou=na/cn=recipients/cn=notesaddr/cn=862bbfe-1def4df0-86256ad9-76e79e>, atkinson, elizabeth </o=#####/ou=na/cn=recipients/cn=eatkins>, brown, elizabeth </o=#####/ou=na/cn=recipients/cn=ebrown1>, ahmadi, ellie </o=#####/ou=na/cn=recipients/cn=eahmadi>, beltran, erica </o=#####/ou=na/cn=recipients/cn=ebeltra>, rodriguez, erica </o=#####/ou=na/cn=recipients/cn=erodri2>, hernandez, eva </o=#####/ou=na/cn=recipients/cn=notesaddr/cn=93475135-cafeb121-86256aca-66210f>, metoyer, evelyn </o=#####/ou=na/cn=recipients/cn=emetoyer>, corneiro, eydie </o=#####/ou=na/cn=recipients/cn=ecorneir>, fogleman65#####, deltoro, fran </o=#####/ou=na/cn=recipients/cn=notesaddr/cn=c23e8122-ffcce47f-86256775-523538>, mayes, fran </o=#####/ou=na/cn=recipients/cn=fmayes>, garcia, frances (eeos) </o=#####/ou=na/cn=recipients/cn=fgarcia>, friendlyone#####, tan, fred </o=#####/ou=na/cn=recipients/cn=ftan>, law, gary </o=#####/ou=na/cn=recipients/cn=glaw>, russo, gavin </o=#####/ou=na/cn=recipients/cn=grusso>, lachner, george r. </o=#####/ou=na/cn=recipients/cn=glachne>, moore, georgene </o=#####/ou=na/cn=recipients/cn=gmoore2>, landau, georgi </o=#####/ou=na/cn=recipients/cn=glandau>, ward, georgia </o=#####/ou=na/cn=recipients/cn=gward>, adams, gerald </o=#####/ou=na/cn=recipients/cn=gadams3>, warner, geriann </o=#####/ou=na/cn=recipients/cn=gwarner>, bartz, gilda </o=#####/ou=na/cn=recipients/cn=gbartz>, mitchell, glenda d. </o=#####/ou=na/cn=recipients/cn=gmitche>, alvarez, gloria </o=#####/ou=na/cn=recipients/cn=galvare2>, solis, gloria </o=#####/ou=na/cn=recipients/cn=gsolis>, keiser, holly </o=#####/ou=na/cn=recipients/cn=hkeiser>, waser, iris </o=#####/ou=na/cn=recipients/cn=iwaser>, resendez, isabel y. </o=#####/ou=na/cn=recipients/cn=iresend>, estrada, israel </o=#####/ou=na/cn=recipients/cn=iestrada>, henry, jackie </o=#####/ou=na/cn=recipients/cn=jhenry2>, copeland, james l. </o=#####/ou=na/cn=recipients/cn=jcopela>, mihalic, james </o=#####/ou=na/cn=recipients/cn=notesaddr/cn=1fdec189-2db88f0e-862566cd-771f0e>, dobernecker, jan </o=#####/ou=na/cn=recipients/cn=jdoberne>, moore, jan </o=#####/ou=na/cn=recipients/cn=jmoore3>, elbertson, janette </o=#####/ou=na/cn=recipients/cn=jelbert>, butler, janet </o=#####/ou=na/cn=recipients/cn=jbutler>, hogan, janice </o=#####/ou=na/cn=recipients/cn=jhogan>, priddy, janice </o=#####/ou=na/cn=recipients/cn=jpriddy>, lewis, jeff </o=#####/ou=na/cn=recipients/cn=jlewis5>, sommers, jeffrey e. </o=#####/ou=na/cn=recipients/cn=jsommer>, adams, jennifer </o=#####/ou=na/cn=recipients/cn=jadams4>, cutaia, jennifer </o=#####/ou=na/cn=recipients/cn=jcutaia>, mata, jessie </o=#####/ou=na/cn=recipients/cn=mmata2>, poleo, jesus </o=#####/ou=na/cn=recipients/cn=jpoleo>, meyn, jim </o=#####/ou=na/cn=recipients/cn=jmeyn>, matson, jo ann </o=#####/ou=na/cn=recipients/cn=jmatson>, rozycki, joanne </o=#####/ou=na/cn=recipients/cn=jrozycki>, darensbourg, joe </o=#####/ou=na/cn=recipients/cn=jdarens>, morrow, joey </o=#####/ou=na/cn=recipients/cn=notesaddr/cn=bf19d3dc-2bccc7e8-8625665c-722b9d>, krueger, johanna </o=#####/ou=na/cn=recipients/cn=jkrueger>, keiser, john </o=#####/ou=na/cn=recipients/cn=jkeiser>, munoz, john </o=#####/ou=na/cn=recipients/cn=jmunoz3>, fisher, joni </o=#####/ou=na/cn=recipients/cn=notesaddr/cn=235a0375-7a9ca7b2-862566bd-7c5ae3>, moeller, joni </o=#####/ou=na/cn=recipients/cn=jmoelle>, dorsey, joyce </o=#####/ou=na/cn=recipients/cn=jdorsey>, carter, judi </o=#####/ou=na/cn=recipients/cn=notesaddr/cn=de9cfbb1-ee7398bd-86256881-612a50>, davis, judy </o=#####/ou=na/cn=recipients/cn=notesaddr/cn=eb20f947-801fdd2-86256966-6c3e62>, griffith, judi </o=#####/ou=na/cn=recipients/cn=jgriffi3>, lin, judy </o=#####/ou=na/cn=recipients/cn=jlin>, gartner, julie s. </o=#####/ou=na/cn=recipients/cn=jgartne>, armstrong, julie </o=#####/ou=na/cn=recipients/cn=jarmstr>, garcia, julie a. </o=#####/ou=na/cn=recipients/cn=jgarci2>, gartner, julie s. </o=#####/ou=na/cn=recipients/cn=jgartne>, keiser, kam </o=#####/ou=na/cn=recipients/cn=kkeiser>, brostad, karen </o=#####/ou=na/cn=recipients/cn=kbrosta>, clapper, karen </o=#####/ou=na/cn=recipients/cn=kclappe>, heathman, karen k. </o=#####/ou=na/cn=recipients/cn=kheathm>, williams, karen lynn </o=#####/ou=na/cn=recipients/cn=kwillia4>, myer, karen </o=#####/ou=na/cn=recipients/cn=kmyer>, williams, karin </o=#####/ou=na/cn=recipients/cn=kwillia6>, karen_davis#####, oquinn, kari </o=#####/ou=na/cn=recipients/cn=koquinn>, clark, kathleen </o=#####/ou=na/cn=recipients/cn=kclark3>, young, kay </o=#####/ou=na/cn=recipients/cn=kyoung>, lacalli, kelly </o=#####/ou=na/cn=recipients/cn=klacalli>, mathis, ken </o=#####/ou=na/cn=recipients/cn=kmathis>, dromgoole, kendra </o=#####/ou=na/cn=recipients/cn=kdromgoo>, hickok, kim </o=#####/ou=na/cn=recipients/cn=khickok>, perez, kim </o=#####/ou=na/cn=recipients/cn=kperez>, perkins, kim </o=#####/ou=na/cn=recipients/cn=kperkin>, niekamp, kimberly </o=#####/ou=na/cn=recipients/cn=kniekamp>, sullivan, kriste </o=#####/ou=na/cn=recipients/cn=ksulliv>, adeyinka, latrice </o=#####/ou=na/cn=recipients/cn=ladeyin>, glenn, laura </o=#####/ou=na/cn=recipients/cn=lglenn>, hutcherson, leesa </o=#####/ou=na/cn=recipients/cn=lhutche2>, barnett, leola </o=#####/ou=na/cn=recipients/cn=lbarnet>, ayers, lesley </o=#####/ou=na/cn=recipients/cn=layers>, leal, leticia </o=#####/ou=na/cn=recipients/cn=lleal>, chan, li n. </o=#####/ou=na/cn=recipients/cn=lchan>, roman, lilia </o=#####/ou=na/cn=recipients/cn=lroman>, simmons, linda j. </o=#####/ou=na/cn=recipients/cn=lsimmo2>, escamilla, linda </o=#####/ou=na/cn=recipients/cn=lescami>, hallmark, linda </o=#####/ou=na/cn=recipients/cn=lhallma>, noske, linda j. </o=#####/ou=na/cn=recipients/cn=lnoske>, trevino, linda s. </o=#####/ou=na/cn=recipients/cn=ltrevin2>, dietz, lisa </o=#####/ou=na/cn=recipients/cn=notesaddr/cn=151d360-3231ddbc-862568af-51bf0e>, kumbalek, lisa m. </o=#####/ou=na/cn=recipients/cn=lkumbal>, brown, lisa </o=#####/ou=na/cn=recipients/cn=lbrown7>, wolfe, lisa </o=#####/ou=na/cn=recipients/cn=lwolfe2>, jones, lisa </o=#####/ou=na/cn=recipients/cn=ljones3>, black, lois </o=#####/ou=na/cn=recipients/cn=notesaddr/cn=62e44a17-7f654870-862567c4-6dbef3>, hendricks, lois </o=#####/ou=na/cn=recipients/cn=lhendri>, brooks, loretta </o=#####/ou=na/cn=recipients/cn=lbrooks>, belsha, lorie </o=#####/ou=na/cn=recipients/cn=lbelsha>, becker, lorraine </o=#####/ou=na/cn=recipients/cn=lbecker>, diamond, louis </o=#####/ou=na/cn=recipients/cn=ldiamond>, ltrevino#####, johnson, luchas </o=#####/ou=na/cn=recipients/cn=ljohnso5>, stephens, luly </o=#####/ou=na/cn=recipients/cn=lstephe2>, laferla, lynda  </o=#####/ou=na/cn=recipients/cn=llaferl>, pham, lynda </o=#####/ou=na/cn=recipients/cn=lpham>, distefano, marc </o=#####/ou=na/cn=recipients/cn=mdistefa>, doucette, margaret </o=#####/ou=na/cn=recipients/cn=mdoucet>, ho, margaux </o=#####/ou=na/cn=recipients/cn=notesaddr/cn=108b91de-486360e3-862569bb-6e428b>, cisneros, maria </o=#####/ou=na/cn=recipients/cn=mcisner2>, lebeau, maria </o=#####/ou=na/cn=recipients/cn=mlebeau>, maldonado, maria </o=#####/ou=na/cn=recipients/cn=mmaldon>, sandoval, maria </o=#####/ou=na/cn=recipients/cn=msandov>, chavez, maricela </o=#####/ou=na/cn=recipients/cn=mchavez>, thibaut, marie </o=#####/ou=na/cn=recipients/cn=mthibau>, rivera, marilyn </o=#####/ou=na/cn=recipients/cn=mrivera>, sczykutowicz, marion </o=#####/ou=na/cn=recipients/cn=msczyku>, zarate, maritza </o=#####/ou=na/cn=recipients/cn=mzarate>, evans, mark </o=#####/ou=na/cn=recipients/cn=notesaddr/cn=48bca2e6-ea0779b7-86256993-7168e5>, adleman, mark </o=#####/ou=na/cn=recipients/cn=madlema>, canterbury, mark r. </o=#####/ou=na/cn=recipients/cn=mcanter>, ng, mark </o=#####/ou=na/cn=recipients/cn=mng>, barnard, marla </o=#####/ou=na/cn=recipients/cn=mbarnar>, braddy, martha </o=#####/ou=na/cn=recipients/cn=mbraddy>, keesler, martha </o=#####/ou=na/cn=recipients/cn=mkeesler>, birmingham, mary </o=#####/ou=na/cn=recipients/cn=mbirmin>, martinez, mary g </o=#####/ou=na/cn=recipients/cn=mmartin9>, nguyen, mary </o=#####/ou=na/cn=recipients/cn=mnguye3>, ogden, mary </o=#####/ou=na/cn=recipients/cn=mogden>, phillips, mary </o=#####/ou=na/cn=recipients/cn=mphilli2>, sontag, mary </o=#####/ou=na/cn=recipients/cn=msontag>, rose, mary sue </o=#####/ou=na/cn=recipients/cn=notesaddr/cn=a9bcc707-a0bdf14e-86256960-6d98a6>, browder, mary lou </o=#####/ou=na/cn=recipients/cn=mbrowder>, martinez, maryhelen </o=#####/ou=na/cn=recipients/cn=mmartin4>, mendez, mayra </o=#####/ou=na/cn=recipients/cn=mmendez2>, mdburkesa#####, meyer, melinda g. </o=#####/ou=na/cn=recipients/cn=mmeyer>, yarbrough, melinda s. </o=#####/ou=na/cn=recipients/cn=myarbro>, lassle, michael </o=#####/ou=na/cn=recipients/cn=mlassle>, mcneill, michael </o=#####/ou=na/cn=recipients/cn=mmcneil>, suchoff, michael </o=#####/ou=na/cn=recipients/cn=msuchoff>, cash, michelle </o=#####/ou=na/cn=recipients/cn=mcash>, hargrave, michelle </o=#####/ou=na/cn=recipients/cn=mhargra>, lokay, michelle </o=#####/ou=na/cn=recipients/cn=mlokay>, mnguyen#####, phillips, monique </o=#####/ou=na/cn=recipients/cn=mphilli4>, mwatkin#####, callans, nancy </o=#####/ou=na/cn=recipients/cn=ncallan>, vu, nancy h. </o=#####/ou=na/cn=recipients/cn=nvu>, nell_weaver#####, carpenter, nelly </o=#####/ou=na/cn=recipients/cn=ncarpent>, mendez, nicole </o=#####/ou=na/cn=recipients/cn=nmendez>, flores, nony </o=#####/ou=na/cn=recipients/cn=nflores>, bhatia, om </o=#####/ou=na/cn=recipients/cn=obhatia>, garcia, orlando </o=#####/ou=na/cn=recipients/cn=notesaddr/cn=a0bf6333-c2b9033a-86256952-63b6b3>, wilkinson, paige </o=#####/ou=na/cn=recipients/cn=pwilkins>, stein, pam </o=#####/ou=na/cn=recipients/cn=pstein>, blande, pamela k. </o=#####/ou=na/cn=recipients/cn=pblande>, pascale, pamela </o=#####/ou=na/cn=recipients/cn=ppascale>, perry, pamela </o=#####/ou=na/cn=recipients/cn=pperry>, lee, patricia a. </o=#####/ou=na/cn=recipients/cn=plee2>, downey, patricia </o=#####/ou=na/cn=recipients/cn=pdowney>, steele, patricia </o=#####/ou=na/cn=recipients/cn=psteele>, carroll jr., paul </o=#####/ou=na/cn=recipients/cn=pcarrol>, curry, paul d. </o=#####/ou=na/cn=recipients/cn=pcurry>, garcia, paul </o=#####/ou=na/cn=recipients/cn=pgarcia>, olvera, paulita </o=#####/ou=na/cn=recipients/cn=polver2>, massey, rachel </o=#####/ou=na/cn=recipients/cn=notesaddr/cn=dee99b83-3e9a38e8-86256942-7322e3>, rodriguez, ramona </o=#####/ou=na/cn=recipients/cn=rrodrig9>, longoria, rebecca </o=#####/ou=na/cn=recipients/cn=rlongor>, marks, rebecca </o=#####/ou=na/cn=recipients/cn=rmarks2>, smith, renee </o=#####/ou=na/cn=recipients/cn=rsmith25>, kennedy, phyllis r. </o=#####/ou=na/cn=recipients/cn=pkenned>, sanders, richard b. </o=#####/ou=na/cn=recipients/cn=rsander>, castillo, richard </o=#####/ou=na/cn=recipients/cn=notesaddr/cn=49d41cb3-c124e30d-8625696d-5c257c>, elwood, richard </o=#####/ou=na/cn=recipients/cn=relwood>, zamora, richard </o=#####/ou=na/cn=recipients/cn=rzamora2>, rosa, robert </o=#####/ou=na/cn=recipients/cn=rrosa>, hill, robin </o=#####/ou=na/cn=recipients/cn=rhill4>, veariel, robin </o=#####/ou=na/cn=recipients/cn=rvearie>, jaramillo, rosa </o=#####/ou=na/cn=recipients/cn=rjaramil>, rivera, rose </o=#####/ou=na/cn=recipients/cn=rrivera1>, leblanc, rosemary </o=#####/ou=na/cn=recipients/cn=rleblan>, quinn, roxana </o=#####/ou=na/cn=recipients/cn=notesaddr/cn=dfd3e1b6-8c40c1c9-86256996-7a935b>, brown, ruth ann </o=#####/ou=na/cn=recipients/cn=notesaddr/cn=c5066cc1-99bc3768-86256737-82635f>, hartensteiner, ruth </o=#####/ou=na/cn=recipients/cn=rharten>, mann, ruth </o=#####/ou=na/cn=recipients/cn=rmann>, mclaughlin, sabrina </o=#####/ou=na/cn=recipients/cn=smclaug>, keepers, sally </o=#####/ou=na/cn=recipients/cn=skeeper>, craig, sally </o=#####/ou=na/cn=recipients/cn=scraig2>, shuler, sally </o=#####/ou=na/cn=recipients/cn=sshuler>, maldonado, sandra a. </o=#####/ou=na/cn=recipients/cn=smaldon2>, bruck, sarah </o=#####/ou=na/cn=recipients/cn=sbruck>, bruck, sarah </o=#####/ou=na/cn=recipients/cn=sbruck>, garza, sarita </o=#####/ou=na/cn=recipients/cn=sgarza>, churbock, scott </o=#####/ou=na/cn=recipients/cn=schurboc>, lakho, shahnaz </o=#####/ou=na/cn=recipients/cn=slakho>, yelverton, shane </o=#####/ou=na/cn=recipients/cn=syelver>, patel, shashi </o=#####/ou=na/cn=recipients/cn=notesaddr/cn=b47f1105-9c260302-86256871-527b63>, thomas, sheila </o=#####/ou=na/cn=recipients/cn=notesaddr/cn=67dbfe87-5d94c52-862566a3-481072>, tweed, sheila </o=#####/ou=na/cn=recipients/cn=stweed>, leith, shelly </o=#####/ou=na/cn=recipients/cn=sleith>, butler, sherry </o=#####/ou=na/cn=recipients/cn=sbutle2>, hunter, sherry h. </o=#####/ou=na/cn=recipients/cn=shunter>, varkey, shiji </o=#####/ou=na/cn=recipients/cn=svarkey>, isbell, shirley </o=#####/ou=na/cn=recipients/cn=sisbell>, davis, sophia </o=#####/ou=na/cn=recipients/cn=notesaddr/cn=9887a4c7-d57c7df8-862569af-749daa>, cole, stephanie </o=#####/ou=na/cn=recipients/cn=scole>, donaldson, stuart </o=#####/ou=na/cn=recipients/cn=sdonald2>, zisman, stuart </o=#####/ou=na/cn=recipients/cn=szisman>, sunny14u#####, chou, sunny </o=#####/ou=na/cn=recipients/cn=schou>, carrera, susan </o=#####/ou=na/cn=recipients/cn=scarrer>, rouse, susan </o=#####/ou=na/cn=recipients/cn=srouse>, skarness, susan </o=#####/ou=na/cn=recipients/cn=sskarne>, kelly, suzanne </o=#####/ou=na/cn=recipients/cn=skelly4>, hu, sylvia </o=#####/ou=na/cn=recipients/cn=shu>, shelby, sylvia </o=#####/ou=na/cn=recipients/cn=sshelby>, kovalcik, tammy </o=#####/ou=na/cn=recipients/cn=tkovalc>, nguyen, thao </o=#####/ou=na/cn=recipients/cn=tnguye>, zucha, theresa </o=#####/ou=na/cn=recipients/cn=tzucha>, butler, tj </o=#####/ou=na/cn=recipients/cn=tbutler2>, walker, todd </o=#####/ou=na/cn=recipients/cn=twalker3>, garza jr., tommy </o=#####/ou=na/cn=recipients/cn=tgarza>, bustamante, toni </o=#####/ou=na/cn=recipients/cn=tbustam>, adams, tracy m. </o=#####/ou=na/cn=recipients/cn=tadams3>, rogers, twaillah </o=#####/ou=na/cn=recipients/cn=notesaddr/cn=bf593602-87f93966-62569fe-6aa04e>, hope, valeria a. </o=#####/ou=na/cn=recipients/cn=vhope>, kolesar, valerie </o=#####/ou=na/cn=recipients/cn=vkolesar>, confer, valley </o=#####/ou=na/cn=recipients/cn=vconfer>, griffin, vanessa </o=#####/ou=na/cn=recipients/cn=vgriffin>, castellano, bonne </o=#####/ou=na/cn=recipients/cn=bcastel>, arriaga, veronica i. </o=#####/ou=na/cn=recipients/cn=varriag>, hart, vivian </o=#####/ou=na/cn=recipients/cn=vhart>, hicks, w. wade </o=#####/ou=na/cn=recipients/cn=whicks>, truxillo, wayne </o=#####/ou=na/cn=recipients/cn=notesaddr/cn=bf1dfd34-c51f00a-862564c2-54d138>, johnson, wendy </o=#####/ou=na/cn=recipients/cn=notesaddr/cn=86256608-65acba-86256703-7cc427>, ngai, winnie </o=#####/ou=na/cn=recipients/cn=wngai>, arriaga, yolanda </o=#####/ou=na/cn=recipients/cn=yarriag>, stevenson, yvette </o=#####/ou=na/cn=recipients/cn=notesaddr/cn=92478a96-9b9464f3-86256831-5d5999>, mcclure, zakiyyah </o=#####/ou=na/cn=recipients/cn=zmcclure>, paschal, zelda </o=#####/ou=na/cn=recipients/cn=zpascha>, carter, zuela </o=#####/ou=na/cn=recipients/cn=zcarter>\",\n",
       " \"x-bcc= moreno, abraham </o=#####/ou=na/cn=recipients/cn=notesaddr/cn=3631e849-6d8bed9a-862569e0-57a7fb>, cortes, adriana </o=#####/ou=na/cn=recipients/cn=acortes>, tran, agatha </o=#####/ou=na/cn=recipients/cn=atran>, engberg, alan </o=#####/ou=na/cn=recipients/cn=aengber>, haro, alex </o=#####/ou=na/cn=recipients/cn=aharo>, hidalgo, alex </o=#####/ou=na/cn=recipients/cn=notesaddr/cn=b2bcfc9e-4a394f3b-6256a00-544f08>, green, alma </o=#####/ou=na/cn=recipients/cn=agreen1>, ebow, amber </o=#####/ou=na/cn=recipients/cn=aebow>, jon, amy </o=#####/ou=na/cn=recipients/cn=ajon>, trevino, ana </o=#####/ou=na/cn=recipients/cn=notesaddr/cn=a636300f-f714788f-862569e6-7c53f0>, morales, analyn </o=#####/ou=na/cn=recipients/cn=amorale3>, richards, andrea </o=#####/ou=na/cn=recipients/cn=arichard>, miles, andrew </o=#####/ou=na/cn=recipients/cn=amiles>, buis, angie </o=#####/ou=na/cn=recipients/cn=abuis>, o'brian, angie </o=#####/ou=na/cn=recipients/cn=aobrian>, guerrero, anita </o=#####/ou=na/cn=recipients/cn=notesaddr/cn=993b1c2d-85a87b72-862567a6-511a13>, joyner, ann </o=#####/ou=na/cn=recipients/cn=ajoyner>, beliveaux, anne </o=#####/ou=na/cn=recipients/cn=abelive>, bertino, anne </o=#####/ou=na/cn=recipients/cn=notesaddr/cn=c6248a07-12fbf44b-862564c2-4d8a75>, yao, anne s. </o=#####/ou=na/cn=recipients/cn=ayao>, thompson, annette </o=#####/ou=na/cn=recipients/cn=athomps5>, gregory, april </o=#####/ou=na/cn=recipients/cn=agregory>, berlanga, araceli </o=#####/ou=na/cn=recipients/cn=aberlan>, jivan, azim </o=#####/ou=na/cn=recipients/cn=ajivan>, hankins, barbara </o=#####/ou=na/cn=recipients/cn=notesaddr/cn=c75fb98d-a4b992e0-862569cc-6692b9>, pham, becky </o=#####/ou=na/cn=recipients/cn=bpham>, tung, benedicta </o=#####/ou=na/cn=recipients/cn=btung>, rodriguez, bernice </o=#####/ou=na/cn=recipients/cn=brodrig>, davidson, binky </o=#####/ou=na/cn=recipients/cn=bdavids>, bollom, blanca </o=#####/ou=na/cn=recipients/cn=bbollom>, martinez, blanca </o=#####/ou=na/cn=recipients/cn=bmartin2>, shults, bob </o=#####/ou=na/cn=recipients/cn=rshults>, tessandori, bobbi </o=#####/ou=na/cn=recipients/cn=btessan>, barreda, brenda </o=#####/ou=na/cn=recipients/cn=notesaddr/cn=97f5026a-9d2ddb4b-86256930-5421ea>, johnston, brenda j. </o=#####/ou=na/cn=recipients/cn=bjohnst>, maronge, bridget </o=#####/ou=na/cn=recipients/cn=bmarong>, williams, bridget </o=#####/ou=na/cn=recipients/cn=bwilliam>, anderson, bridgette </o=#####/ou=na/cn=recipients/cn=bander2>, jozwiak, c j </o=#####/ou=na/cn=recipients/cn=notesaddr/cn=f12dd89-1a0f6808-862568f5-65a1ae>, best, cameron </o=#####/ou=na/cn=recipients/cn=notesaddr/cn=ae41839-461d5d7c-86256a4e-640fbd>, jones, carmella </o=#####/ou=na/cn=recipients/cn=cjones11>, perez, carmen </o=#####/ou=na/cn=recipients/cn=cperez>, mcspadden, carol </o=#####/ou=na/cn=recipients/cn=cmcspad>, george, carolyn </o=#####/ou=na/cn=recipients/cn=cgeorge>, graham, carolyn </o=#####/ou=na/cn=recipients/cn=cgraham>, ayala-nelson, catalina </o=#####/ou=na/cn=recipients/cn=cnelson>, phillips, cathy </o=#####/ou=na/cn=recipients/cn=cphilli>, rodriguez, cecilia </o=#####/ou=na/cn=recipients/cn=crodrig4>, villanueva, chantelle </o=#####/ou=na/cn=recipients/cn=cvillar>, arguijo, cheryl </o=#####/ou=na/cn=recipients/cn=carguij>, brashier, cheryl </o=#####/ou=na/cn=recipients/cn=notesaddr/cn=d278f75e-d119a853-86256841-5ea862>, lun, ching </o=#####/ou=na/cn=recipients/cn=clun>, chollan#####, hendrix, chris </o=#####/ou=na/cn=recipients/cn=notesaddr/cn=8ed04a81-63705c0f-862564c2-6b9ece>, leonard, chris </o=#####/ou=na/cn=recipients/cn=cleonard>, culwell, christi </o=#####/ou=na/cn=recipients/cn=cculwel>, barthel, christina </o=#####/ou=na/cn=recipients/cn=cbarthe>, jasso, christina </o=#####/ou=na/cn=recipients/cn=notesaddr/cn=7bdbed56-516d23d8-862569bd-7bb154>, cicchetti, cindy </o=#####/ou=na/cn=recipients/cn=notesaddr/cn=7f9605b-350da33f-86256a0f-6b4d81>, shaffer, cindy </o=#####/ou=na/cn=recipients/cn=cshaffe>, guerra, claudia </o=#####/ou=na/cn=recipients/cn=cguerra2>, blackwood, connie </o=#####/ou=na/cn=recipients/cn=cblackw>, charles, constance </o=#####/ou=na/cn=recipients/cn=ccharle>, rivera, coralina </o=#####/ou=na/cn=recipients/cn=crivera2>, courtney campbell/########## <??scourtney campbell/##########>, breslau, craig </o=#####/ou=na/cn=recipients/cn=cbresla>, kinsler, cris </o=#####/ou=na/cn=recipients/cn=notesaddr/cn=3cb26d8d-bf5b0c6b-862564c2-4ec958>, castagnola, daniel </o=#####/ou=na/cn=recipients/cn=dcastag>, forsyth, darlene c. </o=#####/ou=na/cn=recipients/cn=dforsyt>, mckeever, darlene </o=#####/ou=na/cn=recipients/cn=dmckeev>, mcdonald, dawn </o=#####/ou=na/cn=recipients/cn=dmcdonal>, busch, debbie </o=#####/ou=na/cn=recipients/cn=dbusch>, doyle, debbie </o=#####/ou=na/cn=recipients/cn=ddoyle>, lucadou, debbie </o=#####/ou=na/cn=recipients/cn=notesaddr/cn=4989c968-a1c8946-86256942-4c33d5>, suchoff, debbie </o=#####/ou=na/cn=recipients/cn=dsuchoff>, delgado, deborah </o=#####/ou=na/cn=recipients/cn=notesaddr/cn=2ccd1d73-15acac40-8625688e-576ff0>, long, deborah </o=#####/ou=na/cn=recipients/cn=dlong>, brannen, debra </o=#####/ou=na/cn=recipients/cn=dbrannen>, hicks, debra </o=#####/ou=na/cn=recipients/cn=dhicks3>, ortiz, dellanira </o=#####/ou=na/cn=recipients/cn=dortiz>, munoz, delma </o=#####/ou=na/cn=recipients/cn=dmunoz>, naiser, denise </o=#####/ou=na/cn=recipients/cn=dnaiser>, ovalle, diana </o=#####/ou=na/cn=recipients/cn=dovalle>, langeland, dianne </o=#####/ou=na/cn=recipients/cn=dlangel>, latson, diane </o=#####/ou=na/cn=recipients/cn=dlatson>, dupree, dianna </o=#####/ou=na/cn=recipients/cn=ddupree>, sanchez, diana t </o=#####/ou=na/cn=recipients/cn=dsanche4>, escamilla, dolores </o=#####/ou=na/cn=recipients/cn=descami>, powell, don </o=#####/ou=na/cn=recipients/cn=dpowell1>, teal, donna </o=#####/ou=na/cn=recipients/cn=notesaddr/cn=359d12db-1a7014e6-86256989-4d650c>, traylor, donnis </o=#####/ou=na/cn=recipients/cn=dtraylor>, burrell, dorothy </o=#####/ou=na/cn=recipients/cn=dburrel>, leschber, edie </o=#####/ou=na/cn=recipients/cn=eleschb>, gongora, edith </o=#####/ou=na/cn=recipients/cn=edith_gongora>, rodriguez, elaine </o=#####/ou=na/cn=recipients/cn=notesaddr/cn=862bbfe-1def4df0-86256ad9-76e79e>, atkinson, elizabeth </o=#####/ou=na/cn=recipients/cn=eatkins>, brown, elizabeth </o=#####/ou=na/cn=recipients/cn=ebrown1>, ahmadi, ellie </o=#####/ou=na/cn=recipients/cn=eahmadi>, beltran, erica </o=#####/ou=na/cn=recipients/cn=ebeltra>, rodriguez, erica </o=#####/ou=na/cn=recipients/cn=erodri2>, hernandez, eva </o=#####/ou=na/cn=recipients/cn=notesaddr/cn=93475135-cafeb121-86256aca-66210f>, metoyer, evelyn </o=#####/ou=na/cn=recipients/cn=emetoyer>, corneiro, eydie </o=#####/ou=na/cn=recipients/cn=ecorneir>, fogleman65#####, deltoro, fran </o=#####/ou=na/cn=recipients/cn=notesaddr/cn=c23e8122-ffcce47f-86256775-523538>, mayes, fran </o=#####/ou=na/cn=recipients/cn=fmayes>, garcia, frances (eeos) </o=#####/ou=na/cn=recipients/cn=fgarcia>, friendlyone#####, tan, fred </o=#####/ou=na/cn=recipients/cn=ftan>, law, gary </o=#####/ou=na/cn=recipients/cn=glaw>, russo, gavin </o=#####/ou=na/cn=recipients/cn=grusso>, lachner, george r. </o=#####/ou=na/cn=recipients/cn=glachne>, moore, georgene </o=#####/ou=na/cn=recipients/cn=gmoore2>, landau, georgi </o=#####/ou=na/cn=recipients/cn=glandau>, ward, georgia </o=#####/ou=na/cn=recipients/cn=gward>, adams, gerald </o=#####/ou=na/cn=recipients/cn=gadams3>, warner, geriann </o=#####/ou=na/cn=recipients/cn=gwarner>, bartz, gilda </o=#####/ou=na/cn=recipients/cn=gbartz>, mitchell, glenda d. </o=#####/ou=na/cn=recipients/cn=gmitche>, alvarez, gloria </o=#####/ou=na/cn=recipients/cn=galvare2>, solis, gloria </o=#####/ou=na/cn=recipients/cn=gsolis>, keiser, holly </o=#####/ou=na/cn=recipients/cn=hkeiser>, waser, iris </o=#####/ou=na/cn=recipients/cn=iwaser>, resendez, isabel y. </o=#####/ou=na/cn=recipients/cn=iresend>, estrada, israel </o=#####/ou=na/cn=recipients/cn=iestrada>, henry, jackie </o=#####/ou=na/cn=recipients/cn=jhenry2>, copeland, james l. </o=#####/ou=na/cn=recipients/cn=jcopela>, mihalic, james </o=#####/ou=na/cn=recipients/cn=notesaddr/cn=1fdec189-2db88f0e-862566cd-771f0e>, dobernecker, jan </o=#####/ou=na/cn=recipients/cn=jdoberne>, moore, jan </o=#####/ou=na/cn=recipients/cn=jmoore3>, elbertson, janette </o=#####/ou=na/cn=recipients/cn=jelbert>, butler, janet </o=#####/ou=na/cn=recipients/cn=jbutler>, hogan, janice </o=#####/ou=na/cn=recipients/cn=jhogan>, priddy, janice </o=#####/ou=na/cn=recipients/cn=jpriddy>, lewis, jeff </o=#####/ou=na/cn=recipients/cn=jlewis5>, sommers, jeffrey e. </o=#####/ou=na/cn=recipients/cn=jsommer>, adams, jennifer </o=#####/ou=na/cn=recipients/cn=jadams4>, cutaia, jennifer </o=#####/ou=na/cn=recipients/cn=jcutaia>, mata, jessie </o=#####/ou=na/cn=recipients/cn=mmata2>, poleo, jesus </o=#####/ou=na/cn=recipients/cn=jpoleo>, meyn, jim </o=#####/ou=na/cn=recipients/cn=jmeyn>, matson, jo ann </o=#####/ou=na/cn=recipients/cn=jmatson>, rozycki, joanne </o=#####/ou=na/cn=recipients/cn=jrozycki>, darensbourg, joe </o=#####/ou=na/cn=recipients/cn=jdarens>, morrow, joey </o=#####/ou=na/cn=recipients/cn=notesaddr/cn=bf19d3dc-2bccc7e8-8625665c-722b9d>, krueger, johanna </o=#####/ou=na/cn=recipients/cn=jkrueger>, keiser, john </o=#####/ou=na/cn=recipients/cn=jkeiser>, munoz, john </o=#####/ou=na/cn=recipients/cn=jmunoz3>, fisher, joni </o=#####/ou=na/cn=recipients/cn=notesaddr/cn=235a0375-7a9ca7b2-862566bd-7c5ae3>, moeller, joni </o=#####/ou=na/cn=recipients/cn=jmoelle>, dorsey, joyce </o=#####/ou=na/cn=recipients/cn=jdorsey>, carter, judi </o=#####/ou=na/cn=recipients/cn=notesaddr/cn=de9cfbb1-ee7398bd-86256881-612a50>, davis, judy </o=#####/ou=na/cn=recipients/cn=notesaddr/cn=eb20f947-801fdd2-86256966-6c3e62>, griffith, judi </o=#####/ou=na/cn=recipients/cn=jgriffi3>, lin, judy </o=#####/ou=na/cn=recipients/cn=jlin>, gartner, julie s. </o=#####/ou=na/cn=recipients/cn=jgartne>, armstrong, julie </o=#####/ou=na/cn=recipients/cn=jarmstr>, garcia, julie a. </o=#####/ou=na/cn=recipients/cn=jgarci2>, gartner, julie s. </o=#####/ou=na/cn=recipients/cn=jgartne>, keiser, kam </o=#####/ou=na/cn=recipients/cn=kkeiser>, brostad, karen </o=#####/ou=na/cn=recipients/cn=kbrosta>, clapper, karen </o=#####/ou=na/cn=recipients/cn=kclappe>, heathman, karen k. </o=#####/ou=na/cn=recipients/cn=kheathm>, williams, karen lynn </o=#####/ou=na/cn=recipients/cn=kwillia4>, myer, karen </o=#####/ou=na/cn=recipients/cn=kmyer>, karen_davis#####, oquinn, kari </o=#####/ou=na/cn=recipients/cn=koquinn>, clark, kathleen </o=#####/ou=na/cn=recipients/cn=kclark3>, young, kay </o=#####/ou=na/cn=recipients/cn=kyoung>, lacalli, kelly </o=#####/ou=na/cn=recipients/cn=klacalli>, mathis, ken </o=#####/ou=na/cn=recipients/cn=kmathis>, dromgoole, kendra </o=#####/ou=na/cn=recipients/cn=kdromgoo>, hickok, kim </o=#####/ou=na/cn=recipients/cn=khickok>, perez, kim </o=#####/ou=na/cn=recipients/cn=kperez>, perkins, kim </o=#####/ou=na/cn=recipients/cn=kperkin>, niekamp, kimberly </o=#####/ou=na/cn=recipients/cn=kniekamp>, sullivan, kriste </o=#####/ou=na/cn=recipients/cn=ksulliv>, adeyinka, latrice </o=#####/ou=na/cn=recipients/cn=ladeyin>, glenn, laura </o=#####/ou=na/cn=recipients/cn=lglenn>, hutcherson, leesa </o=#####/ou=na/cn=recipients/cn=lhutche2>, barnett, leola </o=#####/ou=na/cn=recipients/cn=lbarnet>, ayers, lesley </o=#####/ou=na/cn=recipients/cn=layers>, leal, leticia </o=#####/ou=na/cn=recipients/cn=lleal>, chan, li n. </o=#####/ou=na/cn=recipients/cn=lchan>, roman, lilia </o=#####/ou=na/cn=recipients/cn=lroman>, simmons, linda j. </o=#####/ou=na/cn=recipients/cn=lsimmo2>, escamilla, linda </o=#####/ou=na/cn=recipients/cn=lescami>, hallmark, linda </o=#####/ou=na/cn=recipients/cn=lhallma>, noske, linda j. </o=#####/ou=na/cn=recipients/cn=lnoske>, trevino, linda s. </o=#####/ou=na/cn=recipients/cn=ltrevin2>, dietz, lisa </o=#####/ou=na/cn=recipients/cn=notesaddr/cn=151d360-3231ddbc-862568af-51bf0e>, kumbalek, lisa m. </o=#####/ou=na/cn=recipients/cn=lkumbal>, brown, lisa </o=#####/ou=na/cn=recipients/cn=lbrown7>, wolfe, lisa </o=#####/ou=na/cn=recipients/cn=lwolfe2>, jones, lisa </o=#####/ou=na/cn=recipients/cn=ljones3>, black, lois </o=#####/ou=na/cn=recipients/cn=notesaddr/cn=62e44a17-7f654870-862567c4-6dbef3>, hendricks, lois </o=#####/ou=na/cn=recipients/cn=lhendri>, brooks, loretta </o=#####/ou=na/cn=recipients/cn=lbrooks>, belsha, lorie </o=#####/ou=na/cn=recipients/cn=lbelsha>, becker, lorraine </o=#####/ou=na/cn=recipients/cn=lbecker>, diamond, lou </o=#####/ou=na/cn=recipients/cn=notesaddr/cn=dea572f7-e747fb79-625699f-7f9340>, ltrevino#####, johnson, luchas </o=#####/ou=na/cn=recipients/cn=ljohnso5>, stephens, luly </o=#####/ou=na/cn=recipients/cn=lstephe2>, laferla, lynda  </o=#####/ou=na/cn=recipients/cn=llaferl>, pham, lynda </o=#####/ou=na/cn=recipients/cn=lpham>, distefano, marc </o=#####/ou=na/cn=recipients/cn=mdistefa>, doucette, margaret </o=#####/ou=na/cn=recipients/cn=mdoucet>, ho, margaux </o=#####/ou=na/cn=recipients/cn=notesaddr/cn=108b91de-486360e3-862569bb-6e428b>, cisneros, maria </o=#####/ou=na/cn=recipients/cn=mcisner2>, lebeau, maria </o=#####/ou=na/cn=recipients/cn=mlebeau>, maldonado, maria </o=#####/ou=na/cn=recipients/cn=mmaldon>, sandoval, maria </o=#####/ou=na/cn=recipients/cn=msandov>, chavez, maricela </o=#####/ou=na/cn=recipients/cn=mchavez>, thibaut, marie </o=#####/ou=na/cn=recipients/cn=mthibau>, rivera, marilyn </o=#####/ou=na/cn=recipients/cn=mrivera>, sczykutowicz, marion </o=#####/ou=na/cn=recipients/cn=msczyku>, zarate, maritza </o=#####/ou=na/cn=recipients/cn=mzarate>, evans, mark </o=#####/ou=na/cn=recipients/cn=notesaddr/cn=48bca2e6-ea0779b7-86256993-7168e5>, adleman, mark </o=#####/ou=na/cn=recipients/cn=madlema>, canterbury, mark r. </o=#####/ou=na/cn=recipients/cn=mcanter>, ng, mark </o=#####/ou=na/cn=recipients/cn=mng>, barnard, marla </o=#####/ou=na/cn=recipients/cn=mbarnar>, braddy, martha </o=#####/ou=na/cn=recipients/cn=mbraddy>, keesler, martha </o=#####/ou=na/cn=recipients/cn=mkeesler>, birmingham, mary </o=#####/ou=na/cn=recipients/cn=mbirmin>, martinez, mary g </o=#####/ou=na/cn=recipients/cn=mmartin9>, nguyen, mary </o=#####/ou=na/cn=recipients/cn=mnguye3>, ogden, mary </o=#####/ou=na/cn=recipients/cn=mogden>, phillips, mary </o=#####/ou=na/cn=recipients/cn=mphilli2>, sontag, mary </o=#####/ou=na/cn=recipients/cn=msontag>, rose, mary sue </o=#####/ou=na/cn=recipients/cn=notesaddr/cn=a9bcc707-a0bdf14e-86256960-6d98a6>, browder, mary lou </o=#####/ou=na/cn=recipients/cn=mbrowder>, martinez, maryhelen </o=#####/ou=na/cn=recipients/cn=mmartin4>, mendez, mayra </o=#####/ou=na/cn=recipients/cn=mmendez2>, mdburkesa#####, meyer, melinda g. </o=#####/ou=na/cn=recipients/cn=mmeyer>, yarbrough, melinda s. </o=#####/ou=na/cn=recipients/cn=myarbro>, lassle, michael </o=#####/ou=na/cn=recipients/cn=notesaddr/cn=a188d511-59398ee9-862567b0-539028>, mcneill, michael </o=#####/ou=na/cn=recipients/cn=mmcneil>, suchoff, michael </o=#####/ou=na/cn=recipients/cn=msuchoff>, cash, michelle </o=#####/ou=na/cn=recipients/cn=mcash>, hargrave, michelle </o=#####/ou=na/cn=recipients/cn=mhargra>, lokay, michelle </o=#####/ou=na/cn=recipients/cn=mlokay>, mnguyen#####, phillips, monique </o=#####/ou=na/cn=recipients/cn=mphilli4>, mwatkin#####, callans, nancy </o=#####/ou=na/cn=recipients/cn=ncallan>, vu, nancy h. </o=#####/ou=na/cn=recipients/cn=nvu>, nell_weaver#####, carpenter, nelly </o=#####/ou=na/cn=recipients/cn=ncarpent>, mendez, nicole </o=#####/ou=na/cn=recipients/cn=nmendez>, flores, nony </o=#####/ou=na/cn=recipients/cn=nflores>, bhatia, om </o=#####/ou=na/cn=recipients/cn=obhatia>, garcia, orlando </o=#####/ou=na/cn=recipients/cn=notesaddr/cn=a0bf6333-c2b9033a-86256952-63b6b3>, wilkinson, paige </o=#####/ou=na/cn=recipients/cn=pwilkins>, stein, pam </o=#####/ou=na/cn=recipients/cn=pstein>, blande, pamela k. </o=#####/ou=na/cn=recipients/cn=pblande>, perry, pamela </o=#####/ou=na/cn=recipients/cn=pperry>, perry, pamela </o=#####/ou=na/cn=recipients/cn=pperry>, lee, patricia a. </o=#####/ou=na/cn=recipients/cn=plee2>, downey, patricia </o=#####/ou=na/cn=recipients/cn=pdowney>, steele, patricia </o=#####/ou=na/cn=recipients/cn=psteele>, carroll jr., paul </o=#####/ou=na/cn=recipients/cn=pcarrol>, curry, paul d. </o=#####/ou=na/cn=recipients/cn=pcurry>, garcia, paul </o=#####/ou=na/cn=recipients/cn=pgarcia>, olvera, paulita </o=#####/ou=na/cn=recipients/cn=polver2>, massey, rachel </o=#####/ou=na/cn=recipients/cn=notesaddr/cn=dee99b83-3e9a38e8-86256942-7322e3>, rodriguez, ramona </o=#####/ou=na/cn=recipients/cn=rrodrig9>, longoria, rebecca </o=#####/ou=na/cn=recipients/cn=rlongor>, marks, rebecca </o=#####/ou=na/cn=recipients/cn=rmarks2>, smith, renee </o=#####/ou=na/cn=recipients/cn=rsmith25>, kennedy, phyllis r. </o=#####/ou=na/cn=recipients/cn=pkenned>, sanders, richard b. </o=#####/ou=na/cn=recipients/cn=rsander>, castillo, richard </o=#####/ou=na/cn=recipients/cn=notesaddr/cn=49d41cb3-c124e30d-8625696d-5c257c>, elwood, richard </o=#####/ou=na/cn=recipients/cn=relwood>, zamora, richard </o=#####/ou=na/cn=recipients/cn=rzamora2>, rosa, robert </o=#####/ou=na/cn=recipients/cn=rrosa>, hill, robin </o=#####/ou=na/cn=recipients/cn=rhill4>, veariel, robin </o=#####/ou=na/cn=recipients/cn=rvearie>, jaramillo, rosa </o=#####/ou=na/cn=recipients/cn=rjaramil>, rivera, rose </o=#####/ou=na/cn=recipients/cn=rrivera1>, leblanc, rosemary </o=#####/ou=na/cn=recipients/cn=rleblan>, quinn, roxana </o=#####/ou=na/cn=recipients/cn=notesaddr/cn=dfd3e1b6-8c40c1c9-86256996-7a935b>, brown, ruth ann </o=#####/ou=na/cn=recipients/cn=notesaddr/cn=c5066cc1-99bc3768-86256737-82635f>, hartensteiner, ruth </o=#####/ou=na/cn=recipients/cn=rharten>, mann, ruth </o=#####/ou=na/cn=recipients/cn=rmann>, mclaughlin, sabrina </o=#####/ou=na/cn=recipients/cn=smclaug>, keepers, sally </o=#####/ou=na/cn=recipients/cn=skeeper>, craig, sally </o=#####/ou=na/cn=recipients/cn=scraig2>, shuler, sally </o=#####/ou=na/cn=recipients/cn=sshuler>, maldonado, sandra a. </o=#####/ou=na/cn=recipients/cn=smaldon2>, bruck, sarah </o=#####/ou=na/cn=recipients/cn=sbruck>, bruck, sarah </o=#####/ou=na/cn=recipients/cn=sbruck>, garza, sarita </o=#####/ou=na/cn=recipients/cn=sgarza>, churbock, scott </o=#####/ou=na/cn=recipients/cn=schurboc>, lakho, shahnaz </o=#####/ou=na/cn=recipients/cn=slakho>, yelverton, shane </o=#####/ou=na/cn=recipients/cn=syelver>, patel, shashi </o=#####/ou=na/cn=recipients/cn=notesaddr/cn=b47f1105-9c260302-86256871-527b63>, thomas, sheila </o=#####/ou=na/cn=recipients/cn=notesaddr/cn=67dbfe87-5d94c52-862566a3-481072>, tweed, sheila </o=#####/ou=na/cn=recipients/cn=stweed>, leith, shelly </o=#####/ou=na/cn=recipients/cn=sleith>, butler, sherry </o=#####/ou=na/cn=recipients/cn=sbutle2>, hunter, sherry h. </o=#####/ou=na/cn=recipients/cn=shunter>, varkey, shiji </o=#####/ou=na/cn=recipients/cn=svarkey>, isbell, shirley </o=#####/ou=na/cn=recipients/cn=sisbell>, davis, sophia </o=#####/ou=na/cn=recipients/cn=notesaddr/cn=9887a4c7-d57c7df8-862569af-749daa>, cole, stephanie </o=#####/ou=na/cn=recipients/cn=scole>, donaldson, stuart </o=#####/ou=na/cn=recipients/cn=sdonald2>, zisman, stuart </o=#####/ou=na/cn=recipients/cn=szisman>, sunny14u#####, chou, sunny </o=#####/ou=na/cn=recipients/cn=schou>, carrera, susan </o=#####/ou=na/cn=recipients/cn=scarrer>, rouse, susan </o=#####/ou=na/cn=recipients/cn=srouse>, skarness, susan </o=#####/ou=na/cn=recipients/cn=sskarne>, kelly, suzanne </o=#####/ou=na/cn=recipients/cn=skelly4>, hu, sylvia </o=#####/ou=na/cn=recipients/cn=shu>, shelby, sylvia </o=#####/ou=na/cn=recipients/cn=sshelby>, kovalcik, tammy </o=#####/ou=na/cn=recipients/cn=tkovalc>, nguyen, thao </o=#####/ou=na/cn=recipients/cn=tnguye>, zucha, theresa </o=#####/ou=na/cn=recipients/cn=tzucha>, butler, tj </o=#####/ou=na/cn=recipients/cn=tbutler2>, walker, todd </o=#####/ou=na/cn=recipients/cn=twalker3>, garza jr., tommy </o=#####/ou=na/cn=recipients/cn=tgarza>, bustamante, toni </o=#####/ou=na/cn=recipients/cn=tbustam>, adams, tracy m. </o=#####/ou=na/cn=recipients/cn=tadams3>, rogers, twaillah </o=#####/ou=na/cn=recipients/cn=notesaddr/cn=bf593602-87f93966-62569fe-6aa04e>, hope, valeria a. </o=#####/ou=na/cn=recipients/cn=vhope>, kolesar, valerie </o=#####/ou=na/cn=recipients/cn=vkolesar>, confer, valley </o=#####/ou=na/cn=recipients/cn=vconfer>, griffin, vanessa </o=#####/ou=na/cn=recipients/cn=vgriffin>, castellano, bonne </o=#####/ou=na/cn=recipients/cn=bcastel>, arriaga, veronica i. </o=#####/ou=na/cn=recipients/cn=varriag>, hart, vivian </o=#####/ou=na/cn=recipients/cn=vhart>, hicks, w. wade </o=#####/ou=na/cn=recipients/cn=whicks>, truxillo, wayne </o=#####/ou=na/cn=recipients/cn=notesaddr/cn=bf1dfd34-c51f00a-862564c2-54d138>, johnson, wendy </o=#####/ou=na/cn=recipients/cn=notesaddr/cn=86256608-65acba-86256703-7cc427>, ngai, winnie </o=#####/ou=na/cn=recipients/cn=wngai>, arriaga, yolanda </o=#####/ou=na/cn=recipients/cn=yarriag>, stevenson, yvette </o=#####/ou=na/cn=recipients/cn=notesaddr/cn=92478a96-9b9464f3-86256831-5d5999>, mcclure, zakiyyah </o=#####/ou=na/cn=recipients/cn=zmcclure>, paschal, zelda </o=#####/ou=na/cn=recipients/cn=zpascha>, carter, zuela </o=#####/ou=na/cn=recipients/cn=zcarter>\",\n",
       " 'x-bcc= wehring, linda </o=#####/ou=na/cn=recipients/cn=lwehrin>',\n",
       " 'x-msmail-priority',\n",
       " 'x-msmail-priority= high',\n",
       " 'x-msmail-priority= low',\n",
       " 'x-msmail-priority= medium',\n",
       " 'x-msmail-priority= normal',\n",
       " 'x-msmail-priority= normal ',\n",
       " 'x-origin',\n",
       " 'x-origin= beck-s',\n",
       " 'x-origin= farmer-d',\n",
       " 'x-origin= kaminski-v',\n",
       " 'x-origin= kitchen-l',\n",
       " 'x-origin= lokay-m',\n",
       " 'x-origin= williams-b',\n",
       " 'x-origin= williams-w3',\n",
       " 'x-priority',\n",
       " 'x-priority= 1',\n",
       " 'x-priority= 1 (high)',\n",
       " 'x-priority= 1 (highest)',\n",
       " 'x-priority= 2',\n",
       " 'x-priority= 3',\n",
       " 'x-priority= 3 (normal)',\n",
       " 'x-priority= 3 (normal) ',\n",
       " 'x-priority= 5',\n",
       " 'x-priority= 5 (lowest)']"
      ]
     },
     "execution_count": 54,
     "metadata": {},
     "output_type": "execute_result"
    }
   ],
   "source": [
    "tab"
   ]
  },
  {
   "cell_type": "markdown",
   "metadata": {},
   "source": [
    "# Whitespace"
   ]
  },
  {
   "cell_type": "markdown",
   "metadata": {},
   "source": [
    "&nbsp;\n",
    "\n",
    "&nbsp;\n",
    "\n",
    "&nbsp;\n",
    "\n",
    "&nbsp;\n",
    "\n",
    "&nbsp;\n",
    "\n",
    "&nbsp;\n",
    "\n",
    "&nbsp;\n",
    "\n",
    "&nbsp;\n",
    "\n",
    "&nbsp;\n",
    "\n",
    "&nbsp;\n",
    "\n",
    "&nbsp;\n",
    "\n",
    "&nbsp;\n",
    "\n",
    "&nbsp;\n",
    "\n",
    "&nbsp;\n",
    "\n",
    "&nbsp;\n",
    "\n",
    "&nbsp;\n",
    "\n",
    "&nbsp;\n",
    "\n",
    "&nbsp;\n",
    "\n",
    "&nbsp;\n",
    "\n",
    "&nbsp;\n",
    "\n",
    "&nbsp;\n",
    "\n",
    "&nbsp;\n",
    "\n",
    "&nbsp;\n",
    "\n",
    "&nbsp;\n",
    "\n",
    "&nbsp;\n",
    "\n",
    "&nbsp;\n",
    "\n",
    "&nbsp;\n",
    "\n",
    "&nbsp;\n",
    "\n",
    "&nbsp;\n",
    "\n",
    "&nbsp;\n",
    "\n",
    "&nbsp;\n",
    "\n",
    "&nbsp;\n",
    "\n"
   ]
  }
 ],
 "metadata": {
  "celltoolbar": "Initialisation Cell",
  "kernelspec": {
   "display_name": "Python 2",
   "language": "python2",
   "name": "python2"
  },
  "language_info": {
   "codemirror_mode": {
    "name": "ipython",
    "version": 2
   },
   "file_extension": ".py",
   "mimetype": "text/x-python",
   "name": "python",
   "nbconvert_exporter": "python",
   "pygments_lexer": "ipython2",
   "version": "2.7.12"
  }
 },
 "nbformat": 4,
 "nbformat_minor": 1
}

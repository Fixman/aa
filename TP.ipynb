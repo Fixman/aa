{
 "cells": [
  {
   "cell_type": "code",
   "execution_count": 2,
   "metadata": {
    "collapsed": false
   },
   "outputs": [
    {
     "name": "stdout",
     "output_type": "stream",
     "text": [
      "Populating the interactive namespace from numpy and matplotlib\n"
     ]
    }
   ],
   "source": [
    "%pylab inline\n",
    "\n",
    "from __future__ import print_function\n",
    "from __future__ import division\n",
    "\n",
    "import sklearn\n",
    "import numpy\n",
    "import scipy\n",
    "import pandas\n",
    "import matplotlib\n",
    "import seaborn\n",
    "\n",
    "import json\n",
    "\n",
    "from matplotlib import pyplot\n",
    "from collections import Counter"
   ]
  },
  {
   "cell_type": "code",
   "execution_count": 3,
   "metadata": {
    "collapsed": true
   },
   "outputs": [],
   "source": [
    "rcParams['figure.figsize'] = 15, 8"
   ]
  },
  {
   "cell_type": "markdown",
   "metadata": {},
   "source": [
    "Los mails se componen de varios campos entre los que está el emisor, el destinatario y el mensaje. Primero, procesaremos todos los mensajes para identificar cada uno de esos campos y su correspondiente valor.\n",
    "\n",
    "Cosas que quiero testear si se cumplen para todos los mensajes\n",
    "--------------------------------------------------------------\n",
    "\n",
    "- todos los campos tienen un nombre excepto el mensaje\n",
    "- separador de campos: '\\r\\n'\n",
    "- separador del mensaje del resto de los campos: 2*sep_campos\n",
    "- separador entre nombre de campo y campo: ':'\n",
    "\n",
    "Preguntas\n",
    "---------\n",
    "\n",
    "- el mensaje siempre es el último campo ?\n",
    "\n",
    "\n",
    "Atributos posibles\n",
    "------------------\n",
    "\n",
    "- qué están atributos presentes\n",
    "- orden de los atributos\n",
    "- largo del mensaje\n",
    "- propiedades sobre ciertos atributos:\n",
    "    - emisor\n",
    "        - dominio de la dirección\n",
    "        - largo de la dirección\n",
    "    - destinatario\n",
    "        - cantidad direcciones\n",
    "    - asunto\n",
    "        - largo\n",
    "        - análisis parecido al mensaje: palabras presentes, etc.\n",
    "- si hay manera de identificar si el mail fue forwardeado creo que sería bueno, casi nadie debe forwardea spam\n"
   ]
  },
  {
   "cell_type": "code",
   "execution_count": 23,
   "metadata": {
    "collapsed": false
   },
   "outputs": [],
   "source": [
    "linesep = '\\r\\n'\n",
    "bodysep = linesep * 2 \n",
    "\n",
    "def valid(msg):\n",
    "    return bodysep in msg\n",
    "\n",
    "def parse2(messages):\n",
    "    return [\n",
    "        {\n",
    "            x.split(':')[0]: x.split(':')[1]\n",
    "            for x in k.split(bodysep)[0].split(linesep) + [u'message:{}'.format(k.split(bodysep)[1])]\n",
    "            if ':' in x\n",
    "        }\n",
    "        for k in [m.replace('\\n\\r\\t', '') for m in messages]\n",
    "    ]\n",
    "\n",
    "def parse(messages):\n",
    "    parsed = []\n",
    "    for k in messages:\n",
    "        for x in k.split(linesep):\n",
    "            parsed.append((x.split(':')[0], x.split(':')[1]) if ':' in x else x)\n",
    "                \n",
    "    return parsed"
   ]
  },
  {
   "cell_type": "code",
   "execution_count": 27,
   "metadata": {
    "collapsed": false
   },
   "outputs": [
    {
     "data": {
      "text/plain": [
       "[(u'message-id', u' <13247446.1075856567056.javamail.evans#####>'),\n",
       " (u'date', u' mon, 26 jun 2000 14'),\n",
       " (u'from', u' vkaminski#####'),\n",
       " (u'to', u' chris#####'),\n",
       " (u'subject', u' re'),\n",
       " (u'cc', u' vkaminski#####, vkamins#####'),\n",
       " (u'mime-version', u' 1.0'),\n",
       " (u'content-type', u' text/plain; charset=us-ascii'),\n",
       " (u'content-transfer-encoding', u' 7bit'),\n",
       " (u'bcc', u' vkaminski#####, vkamins#####'),\n",
       " (u'x-from', u' vkaminski#####'),\n",
       " (u'x-to', u' chris#####'),\n",
       " (u'x-cc', u' vkaminski#####, vkamins#####'),\n",
       " (u'x-bcc', u' '),\n",
       " (u'x-origin', u' kaminski-v'),\n",
       " (u'x-filename', u' vkamins.nsf'),\n",
       " u'',\n",
       " u\"chris,\\n\\nthanks for the invitation. the evening of july the 18th is fine  with me.\\n\\nthe list looks fine and it can be easily expanded, if the first set of\\narticles is well received. i shall prepare a list of topics that occupy us\\nevery day and that we could write about without revealing the details of our\\nproprietary research.\\n\\nplease, feel free to send the message from lacima. i think that it's better\\nfor us to sign the articles with our names, giving our respective\\naffiliations. in this way, ##### gets the credit, but not the liability if\\nthere is any error in an article.\\n\\nhope to see you soon.\\n\\nvince\",\n",
       " (u'message-id', u' <2011334.1075840007235.javamail.evans#####>'),\n",
       " (u'date', u' wed, 10 oct 2001 16')]"
      ]
     },
     "execution_count": 27,
     "metadata": {},
     "output_type": "execute_result"
    }
   ],
   "source": [
    "ham_json = json.load(open('data/ham_dev.json'))\n",
    "ham = parse(ham_json)\n",
    "ham[:20]"
   ]
  },
  {
   "cell_type": "code",
   "execution_count": null,
   "metadata": {
    "collapsed": false
   },
   "outputs": [],
   "source": [
    "spam_json = json.load(open('data/spam_dev.json'))\n",
    "spam = get_messages(x for x in spam_json if valid(x))"
   ]
  },
  {
   "cell_type": "code",
   "execution_count": null,
   "metadata": {
    "collapsed": true
   },
   "outputs": [],
   "source": [
    "def key_barplot(p, limit = 0):\n",
    "    from operator import itemgetter\n",
    "    keys = __builtin__.sum((Counter(x.keys()) for x in p), Counter())\n",
    "    vals = sorted(((x, y) for x, y in keys.iteritems() if y > limit), key = itemgetter(1))\n",
    "    pyplot.xticks(rotation = 90)\n",
    "    seaborn.barplot(map(itemgetter(0), vals), map(itemgetter(1), vals))"
   ]
  },
  {
   "cell_type": "code",
   "execution_count": null,
   "metadata": {
    "collapsed": false
   },
   "outputs": [],
   "source": [
    "key_barplot(ham, limit = 5)"
   ]
  },
  {
   "cell_type": "code",
   "execution_count": null,
   "metadata": {
    "collapsed": false
   },
   "outputs": [],
   "source": [
    "key_barplot(spam, limit = 0)"
   ]
  },
  {
   "cell_type": "markdown",
   "metadata": {},
   "source": [
    "&nbsp;\n",
    "\n",
    "&nbsp;\n",
    "\n",
    "&nbsp;\n",
    "\n",
    "&nbsp;\n",
    "\n",
    "&nbsp;\n",
    "\n",
    "&nbsp;\n",
    "\n",
    "&nbsp;\n",
    "\n",
    "&nbsp;\n",
    "\n",
    "&nbsp;\n",
    "\n",
    "&nbsp;\n",
    "\n",
    "&nbsp;\n",
    "\n",
    "&nbsp;\n",
    "\n",
    "&nbsp;\n",
    "\n",
    "&nbsp;\n",
    "\n",
    "&nbsp;\n",
    "\n",
    "&nbsp;\n",
    "\n",
    "&nbsp;\n",
    "\n",
    "&nbsp;\n",
    "\n",
    "&nbsp;\n",
    "\n",
    "&nbsp;\n",
    "\n",
    "&nbsp;\n",
    "\n",
    "&nbsp;\n",
    "\n",
    "&nbsp;\n",
    "\n",
    "&nbsp;\n",
    "\n",
    "&nbsp;\n",
    "\n",
    "&nbsp;\n",
    "\n",
    "&nbsp;\n",
    "\n",
    "&nbsp;\n",
    "\n",
    "&nbsp;\n",
    "\n",
    "&nbsp;\n",
    "\n",
    "&nbsp;\n",
    "\n",
    "&nbsp;\n",
    "\n",
    "&nbsp;\n",
    "\n",
    "&nbsp;\n",
    "\n",
    "&nbsp;\n",
    "\n",
    "&nbsp;\n",
    "\n",
    "&nbsp;\n",
    "\n",
    "&nbsp;\n",
    "\n",
    "&nbsp;\n",
    "\n",
    "&nbsp;\n",
    "\n",
    "&nbsp;\n",
    "\n",
    "&nbsp;\n",
    "\n",
    "&nbsp;\n",
    "\n",
    "&nbsp;\n",
    "\n",
    "&nbsp;\n",
    "\n",
    "&nbsp;\n",
    "\n",
    "&nbsp;\n",
    "\n",
    "&nbsp;\n",
    "\n",
    "&nbsp;\n",
    "\n",
    "&nbsp;\n",
    "\n",
    "&nbsp;\n",
    "\n",
    "&nbsp;\n",
    "\n",
    "&nbsp;\n",
    "\n",
    "&nbsp;\n",
    "\n"
   ]
  }
 ],
 "metadata": {
  "kernelspec": {
   "display_name": "Python 2",
   "language": "python",
   "name": "python2"
  },
  "language_info": {
   "codemirror_mode": {
    "name": "ipython",
    "version": 2
   },
   "file_extension": ".py",
   "mimetype": "text/x-python",
   "name": "python",
   "nbconvert_exporter": "python",
   "pygments_lexer": "ipython2",
   "version": "2.7.11"
  }
 },
 "nbformat": 4,
 "nbformat_minor": 1
}

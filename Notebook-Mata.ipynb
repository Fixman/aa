{
 "cells": [
  {
   "cell_type": "code",
   "execution_count": 1,
   "metadata": {
    "collapsed": false
   },
   "outputs": [
    {
     "name": "stdout",
     "output_type": "stream",
     "text": [
      "Populating the interactive namespace from numpy and matplotlib\n"
     ]
    }
   ],
   "source": [
    "%pylab inline\n",
    "\n",
    "from __future__ import print_function\n",
    "from __future__ import division\n",
    "\n",
    "import sklearn\n",
    "import numpy\n",
    "import scipy\n",
    "import pandas\n",
    "import matplotlib\n",
    "import seaborn\n",
    "\n",
    "import json\n",
    "import re\n",
    "\n",
    "from matplotlib import pyplot\n",
    "from collections import Counter\n",
    "\n",
    "from sklearn.feature_extraction.text import CountVectorizer"
   ]
  },
  {
   "cell_type": "code",
   "execution_count": 3,
   "metadata": {
    "collapsed": true
   },
   "outputs": [],
   "source": [
    "def getlinesep(mail):\n",
    "    lineseps = ['\\r\\n', '\\n']\n",
    "    return next(x for x in lineseps if 2 * x in mail)\n",
    "\n",
    "def parse(mail):\n",
    "    ls = getlinesep(mail)\n",
    "    bs = 2 * ls\n",
    "    \n",
    "    header, body = mail.split(bs, 1)\n",
    "    header = header.replace(ls + '\\t', ' ').replace(ls + ' ', ' ')\n",
    "    \n",
    "    header = [(str(x).replace('_', '--'), y) for x, y in [z.split(':', 1) for z in header.split(ls)]]\n",
    "    body = ('body', body)\n",
    "    \n",
    "    return header + [body] + [('my_linesep', ls)]\n",
    "\n",
    "def try_parse(mail):\n",
    "    try:\n",
    "        return parse(mail)\n",
    "    except ValueError:\n",
    "        return {'my_unparseable': True, 'my_reason': 'badheader'}\n",
    "    except StopIteration:\n",
    "        return {'my_unparseable': True, 'my_reason': 'nosep'}\n",
    "    \n"
   ]
  },
  {
   "cell_type": "code",
   "execution_count": 117,
   "metadata": {
    "collapsed": false
   },
   "outputs": [],
   "source": [
    "data = pandas.read_csv('data/train.csv', usecols = ['body', 'spam']).fillna('')"
   ]
  },
  {
   "cell_type": "markdown",
   "metadata": {},
   "source": [
    "# Count Vectorizer"
   ]
  },
  {
   "cell_type": "code",
   "execution_count": 149,
   "metadata": {
    "collapsed": false
   },
   "outputs": [
    {
     "data": {
      "text/plain": [
       "81000"
      ]
     },
     "execution_count": 149,
     "metadata": {},
     "output_type": "execute_result"
    }
   ],
   "source": [
    "data.index.size"
   ]
  },
  {
   "cell_type": "code",
   "execution_count": 215,
   "metadata": {
    "collapsed": false
   },
   "outputs": [],
   "source": [
    "vec = CountVectorizer(token_pattern = r'[a-z]{4,}', min_df = 800)\n",
    "counts = vec.fit_transform(data.body)"
   ]
  },
  {
   "cell_type": "code",
   "execution_count": 216,
   "metadata": {
    "collapsed": false
   },
   "outputs": [],
   "source": [
    "appareances = counts.minimum(1)"
   ]
  },
  {
   "cell_type": "code",
   "execution_count": 217,
   "metadata": {
    "collapsed": true
   },
   "outputs": [],
   "source": [
    "Pw = appareances.mean(axis = 0)"
   ]
  },
  {
   "cell_type": "code",
   "execution_count": 218,
   "metadata": {
    "collapsed": true
   },
   "outputs": [],
   "source": [
    "Pws = appareances[numpy.where(data.spam)].mean(axis = 0)"
   ]
  },
  {
   "cell_type": "code",
   "execution_count": 219,
   "metadata": {
    "collapsed": false
   },
   "outputs": [],
   "source": [
    "Ps = data.spam.mean()"
   ]
  },
  {
   "cell_type": "code",
   "execution_count": 220,
   "metadata": {
    "collapsed": false
   },
   "outputs": [],
   "source": [
    "Psw = Pws * Ps / Pw"
   ]
  },
  {
   "cell_type": "code",
   "execution_count": 221,
   "metadata": {
    "collapsed": true
   },
   "outputs": [
    {
     "data": {
      "text/plain": [
       "(81000, 1649)"
      ]
     },
     "execution_count": 221,
     "metadata": {},
     "output_type": "execute_result"
    }
   ],
   "source": [
    "counts.shape"
   ]
  },
  {
   "cell_type": "code",
   "execution_count": 225,
   "metadata": {
    "collapsed": true
   },
   "outputs": [
    {
     "data": {
      "text/plain": [
       "matrix([[ 0.,  0.,  0., ...,  1.,  1.,  1.]])"
      ]
     },
     "execution_count": 225,
     "metadata": {},
     "output_type": "execute_result"
    }
   ],
   "source": [
    "numpy.sort(Psw)"
   ]
  },
  {
   "cell_type": "code",
   "execution_count": 228,
   "metadata": {
    "collapsed": true
   },
   "outputs": [
    {
     "data": {
      "text/plain": [
       "array([ 0.,  0.,  0., ...,  1.,  1.,  1.])"
      ]
     },
     "execution_count": 228,
     "metadata": {},
     "output_type": "execute_result"
    }
   ],
   "source": [
    "numpy.sort(numpy.asarray(Psw)[0])"
   ]
  },
  {
   "cell_type": "code",
   "execution_count": 210,
   "metadata": {
    "collapsed": true
   },
   "outputs": [
    {
     "data": {
      "text/plain": [
       "array([u'dcenter', u'corel', u'dleft', u'rfkindysadvnqw', u'nerasdf',\n",
       "       u'dreamweaver', u'dbaseline', u'cialis', u'dwindows', u'imageready'], \n",
       "      dtype='<U15')"
      ]
     },
     "execution_count": 210,
     "metadata": {},
     "output_type": "execute_result"
    }
   ],
   "source": [
    "numpy.array(vec.get_feature_names())[[numpy.argsort(numpy.asarray(Psw)[0])[::-1][:10]]]"
   ]
  },
  {
   "cell_type": "code",
   "execution_count": 77,
   "metadata": {
    "collapsed": false
   },
   "outputs": [
    {
     "data": {
      "text/plain": [
       "scipy.sparse.csr.csr_matrix"
      ]
     },
     "execution_count": 77,
     "metadata": {},
     "output_type": "execute_result"
    }
   ],
   "source": [
    "type(appareances)"
   ]
  },
  {
   "cell_type": "code",
   "execution_count": 84,
   "metadata": {
    "collapsed": true
   },
   "outputs": [],
   "source": [
    "data['spam'] = data.index > 50"
   ]
  },
  {
   "cell_type": "code",
   "execution_count": 91,
   "metadata": {
    "collapsed": true
   },
   "outputs": [
    {
     "data": {
      "text/plain": [
       "49"
      ]
     },
     "execution_count": 91,
     "metadata": {},
     "output_type": "execute_result"
    }
   ],
   "source": [
    "data.spam.sum()"
   ]
  },
  {
   "cell_type": "code",
   "execution_count": 112,
   "metadata": {
    "collapsed": true
   },
   "outputs": [
    {
     "data": {
      "text/plain": [
       "array([51, 52, 53, 54, 55, 56, 57, 58, 59, 60, 61, 62, 63, 64, 65, 66, 67,\n",
       "       68, 69, 70, 71, 72, 73, 74, 75, 76, 77, 78, 79, 80, 81, 82, 83, 84,\n",
       "       85, 86, 87, 88, 89, 90, 91, 92, 93, 94, 95, 96, 97, 98, 99])"
      ]
     },
     "execution_count": 112,
     "metadata": {},
     "output_type": "execute_result"
    }
   ],
   "source": [
    "numpy.where(data.spam)[0]"
   ]
  },
  {
   "cell_type": "code",
   "execution_count": 115,
   "metadata": {
    "collapsed": true
   },
   "outputs": [
    {
     "data": {
      "text/plain": [
       "<49x4108 sparse matrix of type '<type 'numpy.int64'>'\n",
       "\twith 5504 stored elements in Compressed Sparse Row format>"
      ]
     },
     "execution_count": 115,
     "metadata": {},
     "output_type": "execute_result"
    }
   ],
   "source": [
    "appareances[numpy.where(data.spam)]"
   ]
  },
  {
   "cell_type": "markdown",
   "metadata": {},
   "source": [
    "# Common setup"
   ]
  },
  {
   "cell_type": "code",
   "execution_count": 2,
   "metadata": {
    "collapsed": false
   },
   "outputs": [],
   "source": [
    "data = pandas.read_csv('data/train.csv', usecols = ['body', 'spam']).fillna('')\n",
    "vec = CountVectorizer(token_pattern = r'[a-z]{4,}', min_df = 800)\n",
    "data_norm = data.body.str.replace('<NL>', ' ').replace(r'\\\\', ' ').str.replace(r'\\\"', ' ').str.replace(r'\"[^\"]*\"', ' ').str.replace(r'<[^>]*>', ' ')\n",
    "counts = vec.fit_transform(data_norm)\n"
   ]
  },
  {
   "cell_type": "code",
   "execution_count": 12,
   "metadata": {
    "collapsed": false
   },
   "outputs": [],
   "source": [
    "appareances = counts.minimum(1)"
   ]
  },
  {
   "cell_type": "markdown",
   "metadata": {},
   "source": [
    "# 100 palabras más spammeras"
   ]
  },
  {
   "cell_type": "code",
   "execution_count": 4,
   "metadata": {
    "collapsed": false
   },
   "outputs": [],
   "source": [
    "Pw = appareances.mean(axis = 0)\n",
    "Pws = appareances[numpy.where(data.spam)].mean(axis = 0)\n",
    "Ps = data.spam.mean()\n",
    "Psw = Pws * Ps / Pw"
   ]
  },
  {
   "cell_type": "code",
   "execution_count": 11,
   "metadata": {
    "collapsed": false
   },
   "outputs": [],
   "source": [
    "spammeras = numpy.array(vec.get_feature_names())[[numpy.argsort(numpy.asarray(Psw)[0])[::-1][:100]]]"
   ]
  },
  {
   "cell_type": "markdown",
   "metadata": {},
   "source": [
    "# 100 palabras más hammeras"
   ]
  },
  {
   "cell_type": "code",
   "execution_count": 6,
   "metadata": {
    "collapsed": false
   },
   "outputs": [],
   "source": [
    "Pw = appareances.mean(axis = 0)\n",
    "Pwh = appareances[numpy.where(numpy.invert(data.spam))].mean(axis = 0)\n",
    "Ph = data.spam.mean()\n",
    "Phw = Pwh * Ps / Pw\n",
    "\n"
   ]
  },
  {
   "cell_type": "code",
   "execution_count": 10,
   "metadata": {
    "collapsed": false
   },
   "outputs": [],
   "source": [
    "hammeras = numpy.array(vec.get_feature_names())[[numpy.argsort(numpy.asarray(Phw)[0])[::-1][:100]]]"
   ]
  },
  {
   "cell_type": "markdown",
   "metadata": {},
   "source": [
    "# Tabla final"
   ]
  },
  {
   "cell_type": "code",
   "execution_count": 8,
   "metadata": {
    "collapsed": false
   },
   "outputs": [],
   "source": [
    "spammeras_hammeras = numpy.array([[spammeras, hammeras]]).flatten()\n",
    "vec_final = CountVectorizer(min_df = 1)\n",
    "vec_final.fit_transform(spammeras_hammeras.tolist())\n",
    "counts_total = vec_final.transform(data_norm)\n",
    "appareances_total = counts_total.minimum(1)\n"
   ]
  },
  {
   "cell_type": "markdown",
   "metadata": {},
   "source": [
    "# Pruebas"
   ]
  },
  {
   "cell_type": "code",
   "execution_count": null,
   "metadata": {
    "collapsed": true
   },
   "outputs": [],
   "source": [
    "array = numpy.asarray([5,4,3,2,1])\n",
    "indexes = numpy.argsort(array)\n",
    "array[indexes]"
   ]
  },
  {
   "cell_type": "code",
   "execution_count": 273,
   "metadata": {
    "collapsed": true
   },
   "outputs": [
    {
     "data": {
      "text/plain": [
       "0    chris,  thanks for the invitation. the evening...\n",
       "1     \\t  \\t  \\t  \\t  \\t  \\t  \\t  \\t  \\t  \\t  \\t  \\...\n",
       "2    we have determined (vickers and tycholiz and h...\n",
       "3    yes,  it is a great accomplishment.  please do...\n",
       "4    fyi  ---------------------- forwarded by richa...\n",
       "Name: body, dtype: object"
      ]
     },
     "execution_count": 273,
     "metadata": {},
     "output_type": "execute_result"
    }
   ],
   "source": [
    "data.head().body.str.replace(r'<[^>]*>', ' ')"
   ]
  },
  {
   "cell_type": "code",
   "execution_count": null,
   "metadata": {
    "collapsed": true
   },
   "outputs": [],
   "source": [
    "map(print, data_norm[data_norm.str.contains(' weight ')].head())"
   ]
  },
  {
   "cell_type": "code",
   "execution_count": null,
   "metadata": {
    "collapsed": true
   },
   "outputs": [],
   "source": [
    "appareances.todense()"
   ]
  },
  {
   "cell_type": "code",
   "execution_count": null,
   "metadata": {
    "collapsed": true
   },
   "outputs": [],
   "source": [
    "vec.get_feature_names()[numpy.argmax(Psw)]"
   ]
  },
  {
   "cell_type": "code",
   "execution_count": null,
   "metadata": {
    "collapsed": true
   },
   "outputs": [],
   "source": [
    "type(appareances)"
   ]
  }
 ],
 "metadata": {
  "kernelspec": {
   "display_name": "Python 2",
   "language": "python",
   "name": "python2"
  },
  "language_info": {
   "codemirror_mode": {
    "name": "ipython",
    "version": 2
   },
   "file_extension": ".py",
   "mimetype": "text/x-python",
   "name": "python",
   "nbconvert_exporter": "python",
   "pygments_lexer": "ipython2",
   "version": "2.7.12"
  }
 },
 "nbformat": 4,
 "nbformat_minor": 1
}

{
 "cells": [
  {
   "cell_type": "code",
   "execution_count": 2,
   "metadata": {
    "collapsed": false
   },
   "outputs": [
    {
     "name": "stdout",
     "output_type": "stream",
     "text": [
      "Populating the interactive namespace from numpy and matplotlib\n"
     ]
    }
   ],
   "source": [
    "%pylab inline\n",
    "\n",
    "from __future__ import print_function\n",
    "from __future__ import division\n",
    "\n",
    "import sklearn\n",
    "import numpy\n",
    "import scipy\n",
    "import pandas\n",
    "import matplotlib\n",
    "import seaborn\n",
    "\n",
    "import json\n",
    "import re\n",
    "\n",
    "from matplotlib import pyplot\n",
    "from collections import Counter"
   ]
  },
  {
   "cell_type": "code",
   "execution_count": 3,
   "metadata": {
    "collapsed": true
   },
   "outputs": [],
   "source": [
    "rcParams['figure.figsize'] = 15, 8"
   ]
  },
  {
   "cell_type": "markdown",
   "metadata": {},
   "source": [
    "Los mails se componen de varios campos entre los que está el emisor, el destinatario y el mensaje. Primero, procesaremos todos los mensajes para identificar cada uno de esos campos y su correspondiente valor.\n",
    "\n",
    "Cosas que quiero testear si se cumplen para todos los mensajes\n",
    "--------------------------------------------------------------\n",
    "\n",
    "- todos los campos tienen un nombre excepto el mensaje\n",
    "- separador de campos: '\\r\\n'\n",
    "- separador del mensaje del resto de los campos: 2*sep_campos\n",
    "- separador entre nombre de campo y campo: ':'\n",
    "\n",
    "Preguntas\n",
    "---------\n",
    "\n",
    "- el mensaje siempre es el último campo ?\n",
    "- Los mensajes están mezclados? Puedo usar el tail como test?\n",
    "\n",
    "\n",
    "Atributos posibles\n",
    "------------------\n",
    "\n",
    "- qué están atributos presentes\n",
    "- orden de los atributos\n",
    "- largo del mensaje\n",
    "- propiedades sobre ciertos atributos:\n",
    "    - emisor\n",
    "        - dominio de la dirección\n",
    "        - largo de la dirección\n",
    "    - destinatario\n",
    "        - cantidad direcciones\n",
    "    - asunto\n",
    "        - largo\n",
    "        - análisis parecido al mensaje: palabras presentes, etc.\n",
    "- si hay manera de identificar si el mail fue forwardeado creo que sería bueno, casi nadie debe forwardea spam\n"
   ]
  },
  {
   "cell_type": "code",
   "execution_count": 4,
   "metadata": {
    "collapsed": false
   },
   "outputs": [],
   "source": [
    "linesep = '\\r\\n'\n",
    "bodysep = linesep * 2 \n",
    "\n",
    "def valid(msg):\n",
    "    return bodysep in msg\n",
    "\n",
    "def parse2(messages):\n",
    "    return [\n",
    "        {\n",
    "            x.split(':')[0]: x.split(':')[1]\n",
    "            for x in k.split(bodysep)[0].split(linesep) + [u'message:{}'.format(k.split(bodysep)[1])]\n",
    "            if ':' in x\n",
    "        }\n",
    "        for k in [m.replace('\\n\\r\\t', '') for m in messages]\n",
    "    ]\n",
    "\n",
    "def parse(messages):\n",
    "    parsed = []\n",
    "    for k in messages:\n",
    "        for x in k.split(linesep):\n",
    "            parsed.append((x.split(':')[0], x.split(':')[1]) if ':' in x else x)\n",
    "                \n",
    "    return parsed"
   ]
  },
  {
   "cell_type": "code",
   "execution_count": 6,
   "metadata": {
    "collapsed": false
   },
   "outputs": [
    {
     "ename": "NameError",
     "evalue": "name 'parse' is not defined",
     "output_type": "error",
     "traceback": [
      "\u001b[0;31m---------------------------------------------------------------------------\u001b[0m",
      "\u001b[0;31mNameError\u001b[0m                                 Traceback (most recent call last)",
      "\u001b[0;32m<ipython-input-6-7411651c5550>\u001b[0m in \u001b[0;36m<module>\u001b[0;34m()\u001b[0m\n\u001b[1;32m      1\u001b[0m \u001b[0mham_json\u001b[0m \u001b[0;34m=\u001b[0m \u001b[0mjson\u001b[0m\u001b[0;34m.\u001b[0m\u001b[0mload\u001b[0m\u001b[0;34m(\u001b[0m\u001b[0mopen\u001b[0m\u001b[0;34m(\u001b[0m\u001b[0;34m'data/ham_train.json'\u001b[0m\u001b[0;34m)\u001b[0m\u001b[0;34m)\u001b[0m\u001b[0;34m\u001b[0m\u001b[0m\n\u001b[0;32m----> 2\u001b[0;31m \u001b[0mham\u001b[0m \u001b[0;34m=\u001b[0m \u001b[0mparse\u001b[0m\u001b[0;34m(\u001b[0m\u001b[0mham_json\u001b[0m\u001b[0;34m)\u001b[0m\u001b[0;34m\u001b[0m\u001b[0m\n\u001b[0m\u001b[1;32m      3\u001b[0m \u001b[0mham\u001b[0m\u001b[0;34m[\u001b[0m\u001b[0;34m:\u001b[0m\u001b[0;36m20\u001b[0m\u001b[0;34m]\u001b[0m\u001b[0;34m\u001b[0m\u001b[0m\n",
      "\u001b[0;31mNameError\u001b[0m: name 'parse' is not defined"
     ]
    }
   ],
   "source": [
    "ham_json = json.load(open('data/ham_train.json'))\n",
    "ham = parse(ham_json)\n",
    "ham[:20]"
   ]
  },
  {
   "cell_type": "code",
   "execution_count": 7,
   "metadata": {
    "collapsed": false
   },
   "outputs": [
    {
     "ename": "ValueError",
     "evalue": "No JSON object could be decoded",
     "output_type": "error",
     "traceback": [
      "\u001b[0;31m---------------------------------------------------------------------------\u001b[0m",
      "\u001b[0;31mValueError\u001b[0m                                Traceback (most recent call last)",
      "\u001b[0;32m<ipython-input-7-b2ab0acee6e8>\u001b[0m in \u001b[0;36m<module>\u001b[0;34m()\u001b[0m\n\u001b[0;32m----> 1\u001b[0;31m \u001b[0mspam_json\u001b[0m \u001b[0;34m=\u001b[0m \u001b[0mjson\u001b[0m\u001b[0;34m.\u001b[0m\u001b[0mload\u001b[0m\u001b[0;34m(\u001b[0m\u001b[0mopen\u001b[0m\u001b[0;34m(\u001b[0m\u001b[0;34m'data/spam_train.json'\u001b[0m\u001b[0;34m)\u001b[0m\u001b[0;34m)\u001b[0m\u001b[0;34m\u001b[0m\u001b[0m\n\u001b[0m\u001b[1;32m      2\u001b[0m \u001b[0mspam\u001b[0m \u001b[0;34m=\u001b[0m \u001b[0mparse\u001b[0m\u001b[0;34m(\u001b[0m\u001b[0mx\u001b[0m \u001b[0;32mfor\u001b[0m \u001b[0mx\u001b[0m \u001b[0;32min\u001b[0m \u001b[0mspam_json\u001b[0m \u001b[0;32mif\u001b[0m \u001b[0mvalid\u001b[0m\u001b[0;34m(\u001b[0m\u001b[0mx\u001b[0m\u001b[0;34m)\u001b[0m\u001b[0;34m)\u001b[0m\u001b[0;34m\u001b[0m\u001b[0m\n\u001b[1;32m      3\u001b[0m \u001b[0mspam\u001b[0m\u001b[0;34m[\u001b[0m\u001b[0;34m:\u001b[0m\u001b[0;36m20\u001b[0m\u001b[0;34m]\u001b[0m\u001b[0;34m\u001b[0m\u001b[0m\n",
      "\u001b[0;32m/usr/lib/python2.7/json/__init__.pyc\u001b[0m in \u001b[0;36mload\u001b[0;34m(fp, encoding, cls, object_hook, parse_float, parse_int, parse_constant, object_pairs_hook, **kw)\u001b[0m\n\u001b[1;32m    289\u001b[0m         \u001b[0mparse_float\u001b[0m\u001b[0;34m=\u001b[0m\u001b[0mparse_float\u001b[0m\u001b[0;34m,\u001b[0m \u001b[0mparse_int\u001b[0m\u001b[0;34m=\u001b[0m\u001b[0mparse_int\u001b[0m\u001b[0;34m,\u001b[0m\u001b[0;34m\u001b[0m\u001b[0m\n\u001b[1;32m    290\u001b[0m         \u001b[0mparse_constant\u001b[0m\u001b[0;34m=\u001b[0m\u001b[0mparse_constant\u001b[0m\u001b[0;34m,\u001b[0m \u001b[0mobject_pairs_hook\u001b[0m\u001b[0;34m=\u001b[0m\u001b[0mobject_pairs_hook\u001b[0m\u001b[0;34m,\u001b[0m\u001b[0;34m\u001b[0m\u001b[0m\n\u001b[0;32m--> 291\u001b[0;31m         **kw)\n\u001b[0m\u001b[1;32m    292\u001b[0m \u001b[0;34m\u001b[0m\u001b[0m\n\u001b[1;32m    293\u001b[0m \u001b[0;34m\u001b[0m\u001b[0m\n",
      "\u001b[0;32m/usr/lib/python2.7/json/__init__.pyc\u001b[0m in \u001b[0;36mloads\u001b[0;34m(s, encoding, cls, object_hook, parse_float, parse_int, parse_constant, object_pairs_hook, **kw)\u001b[0m\n\u001b[1;32m    337\u001b[0m             \u001b[0mparse_int\u001b[0m \u001b[0;32mis\u001b[0m \u001b[0mNone\u001b[0m \u001b[0;32mand\u001b[0m \u001b[0mparse_float\u001b[0m \u001b[0;32mis\u001b[0m \u001b[0mNone\u001b[0m \u001b[0;32mand\u001b[0m\u001b[0;34m\u001b[0m\u001b[0m\n\u001b[1;32m    338\u001b[0m             parse_constant is None and object_pairs_hook is None and not kw):\n\u001b[0;32m--> 339\u001b[0;31m         \u001b[0;32mreturn\u001b[0m \u001b[0m_default_decoder\u001b[0m\u001b[0;34m.\u001b[0m\u001b[0mdecode\u001b[0m\u001b[0;34m(\u001b[0m\u001b[0ms\u001b[0m\u001b[0;34m)\u001b[0m\u001b[0;34m\u001b[0m\u001b[0m\n\u001b[0m\u001b[1;32m    340\u001b[0m     \u001b[0;32mif\u001b[0m \u001b[0mcls\u001b[0m \u001b[0;32mis\u001b[0m \u001b[0mNone\u001b[0m\u001b[0;34m:\u001b[0m\u001b[0;34m\u001b[0m\u001b[0m\n\u001b[1;32m    341\u001b[0m         \u001b[0mcls\u001b[0m \u001b[0;34m=\u001b[0m \u001b[0mJSONDecoder\u001b[0m\u001b[0;34m\u001b[0m\u001b[0m\n",
      "\u001b[0;32m/usr/lib/python2.7/json/decoder.pyc\u001b[0m in \u001b[0;36mdecode\u001b[0;34m(self, s, _w)\u001b[0m\n\u001b[1;32m    362\u001b[0m \u001b[0;34m\u001b[0m\u001b[0m\n\u001b[1;32m    363\u001b[0m         \"\"\"\n\u001b[0;32m--> 364\u001b[0;31m         \u001b[0mobj\u001b[0m\u001b[0;34m,\u001b[0m \u001b[0mend\u001b[0m \u001b[0;34m=\u001b[0m \u001b[0mself\u001b[0m\u001b[0;34m.\u001b[0m\u001b[0mraw_decode\u001b[0m\u001b[0;34m(\u001b[0m\u001b[0ms\u001b[0m\u001b[0;34m,\u001b[0m \u001b[0midx\u001b[0m\u001b[0;34m=\u001b[0m\u001b[0m_w\u001b[0m\u001b[0;34m(\u001b[0m\u001b[0ms\u001b[0m\u001b[0;34m,\u001b[0m \u001b[0;36m0\u001b[0m\u001b[0;34m)\u001b[0m\u001b[0;34m.\u001b[0m\u001b[0mend\u001b[0m\u001b[0;34m(\u001b[0m\u001b[0;34m)\u001b[0m\u001b[0;34m)\u001b[0m\u001b[0;34m\u001b[0m\u001b[0m\n\u001b[0m\u001b[1;32m    365\u001b[0m         \u001b[0mend\u001b[0m \u001b[0;34m=\u001b[0m \u001b[0m_w\u001b[0m\u001b[0;34m(\u001b[0m\u001b[0ms\u001b[0m\u001b[0;34m,\u001b[0m \u001b[0mend\u001b[0m\u001b[0;34m)\u001b[0m\u001b[0;34m.\u001b[0m\u001b[0mend\u001b[0m\u001b[0;34m(\u001b[0m\u001b[0;34m)\u001b[0m\u001b[0;34m\u001b[0m\u001b[0m\n\u001b[1;32m    366\u001b[0m         \u001b[0;32mif\u001b[0m \u001b[0mend\u001b[0m \u001b[0;34m!=\u001b[0m \u001b[0mlen\u001b[0m\u001b[0;34m(\u001b[0m\u001b[0ms\u001b[0m\u001b[0;34m)\u001b[0m\u001b[0;34m:\u001b[0m\u001b[0;34m\u001b[0m\u001b[0m\n",
      "\u001b[0;32m/usr/lib/python2.7/json/decoder.pyc\u001b[0m in \u001b[0;36mraw_decode\u001b[0;34m(self, s, idx)\u001b[0m\n\u001b[1;32m    380\u001b[0m             \u001b[0mobj\u001b[0m\u001b[0;34m,\u001b[0m \u001b[0mend\u001b[0m \u001b[0;34m=\u001b[0m \u001b[0mself\u001b[0m\u001b[0;34m.\u001b[0m\u001b[0mscan_once\u001b[0m\u001b[0;34m(\u001b[0m\u001b[0ms\u001b[0m\u001b[0;34m,\u001b[0m \u001b[0midx\u001b[0m\u001b[0;34m)\u001b[0m\u001b[0;34m\u001b[0m\u001b[0m\n\u001b[1;32m    381\u001b[0m         \u001b[0;32mexcept\u001b[0m \u001b[0mStopIteration\u001b[0m\u001b[0;34m:\u001b[0m\u001b[0;34m\u001b[0m\u001b[0m\n\u001b[0;32m--> 382\u001b[0;31m             \u001b[0;32mraise\u001b[0m \u001b[0mValueError\u001b[0m\u001b[0;34m(\u001b[0m\u001b[0;34m\"No JSON object could be decoded\"\u001b[0m\u001b[0;34m)\u001b[0m\u001b[0;34m\u001b[0m\u001b[0m\n\u001b[0m\u001b[1;32m    383\u001b[0m         \u001b[0;32mreturn\u001b[0m \u001b[0mobj\u001b[0m\u001b[0;34m,\u001b[0m \u001b[0mend\u001b[0m\u001b[0;34m\u001b[0m\u001b[0m\n",
      "\u001b[0;31mValueError\u001b[0m: No JSON object could be decoded"
     ]
    }
   ],
   "source": [
    "spam_json = json.load(open('data/spam_train.json'))\n",
    "spam = parse(x for x in spam_json if valid(x))\n",
    "spam[:20]"
   ]
  },
  {
   "cell_type": "code",
   "execution_count": null,
   "metadata": {
    "collapsed": true
   },
   "outputs": [],
   "source": [
    "def key_barplot(p, limit = 0):\n",
    "    from operator import itemgetter\n",
    "    keys = __builtin__.sum((Counter(x.keys()) for x in p), Counter())\n",
    "    vals = sorted(((x, y) for x, y in keys.iteritems() if y > limit), key = itemgetter(1))\n",
    "    pyplot.xticks(rotation = 90)\n",
    "    seaborn.barplot(map(itemgetter(0), vals), map(itemgetter(1), vals))"
   ]
  },
  {
   "cell_type": "code",
   "execution_count": null,
   "metadata": {
    "collapsed": false
   },
   "outputs": [],
   "source": [
    "key_barplot(ham, limit = 5)"
   ]
  },
  {
   "cell_type": "code",
   "execution_count": null,
   "metadata": {
    "collapsed": false
   },
   "outputs": [],
   "source": [
    "key_barplot(spam, limit = 0)"
   ]
  },
  {
   "cell_type": "markdown",
   "metadata": {},
   "source": [
    "# Testing"
   ]
  },
  {
   "cell_type": "code",
   "execution_count": 43,
   "metadata": {
    "collapsed": true
   },
   "outputs": [],
   "source": [
    "import re"
   ]
  },
  {
   "cell_type": "code",
   "execution_count": 14,
   "metadata": {
    "collapsed": false
   },
   "outputs": [],
   "source": [
    "def parse(t):\n",
    "    headers, msg = \n",
    "    return [\n",
    "        tuple(x.split(':', 1)) if re.match(r'\\S*:', x) else ('message', x)\n",
    "        # tuple(x.split(':', 1))\n",
    "        for x in t.split('\\r\\n')\n",
    "    ]"
   ]
  },
  {
   "cell_type": "code",
   "execution_count": 7,
   "metadata": {
    "collapsed": false
   },
   "outputs": [],
   "source": [
    "ham_json = json.load(open('data/ham_train.json'))"
   ]
  },
  {
   "cell_type": "code",
   "execution_count": 15,
   "metadata": {
    "collapsed": true
   },
   "outputs": [],
   "source": [
    "ham = map(parse, ham_json)"
   ]
  },
  {
   "cell_type": "code",
   "execution_count": 18,
   "metadata": {
    "collapsed": false
   },
   "outputs": [
    {
     "name": "stdout",
     "output_type": "stream",
     "text": [
      "message-id: <2011334.1075840007235.javamail.evans#####>\r\n",
      "date: wed, 10 oct 2001 16:24:31 -0700 (pdt)\r\n",
      "from: kysa.alport#####\r\n",
      "to: shift.dl-portland#####\r\n",
      "subject: real time deals for october 11th\r\n",
      "mime-version: 1.0\r\n",
      "content-type: text/plain; charset=us-ascii\r\n",
      "content-transfer-encoding: 7bit\r\n",
      "x-from: alport, kysa </o=#####/ou=na/cn=recipients/cn=kalport>\r\n",
      "x-to: dl-portland real time shift </o=#####/ou=na/cn=recipients/cn=dl-portlandrealtimeshift>\r\n",
      "x-cc: \r\n",
      "x-bcc: \r\n",
      "x-origin: williams-w3\r\n",
      "x-filename: \r\n",
      "\r\n",
      " \t  \t  \t  \t  \t  \t  \t  \t  \t  \t  \t  \t  \t  \t \n",
      "desk\t short term northwest\t short term california\t short term southwest\t short term west bom\t  \t \n",
      "flow date\t 10/11/2001\t 10/11/2001\t 10/11/2001\t 10/11/2001\t 10/11/2001\t 10/11/2001\t 10/11/2001\t 10/11/2001\t 10/11/2001\t 10/11/2001\t 10/11/2001\t 10/11/2001\t  \t \n",
      "deal number\t 812532\t 812531\t  \t nothing to real time\t nothing to real time\t 812559\t  \t  \t  \t \n",
      "delivery point\t mid c\t mid c\t  \t  \t  \t  \t  \t  \t  \t sp-15\t  \t  \t  \t \n",
      "ctpy\t pge\t pge\t  \t  \t  \t  \t  \t  \t  \t ca imbalance\t  \t  \t  \t \n",
      "mwh\t 19\t 75\t  \t  \t  \t  \t  \t  \t  \t 50\t  \t  \t  \t \n",
      "position\t short\t short\t  \t  \t  \t  \t  \t  \t  \t long\t  \t  \t  \t \n",
      "hours\t off peak\t peak\t  \t  \t  \t  \t  \t  \t  \t super peak\t  \t  \t  \t \n",
      " price \t n/a \t n/a \t \t  \t  \t  \t  \t  \t  \t  $                         25.85 \t \t  \t  \t \n",
      " \t  \t  \t  \t \n",
      " \t short term northwest\t short term california\t short term southwest\t short term west bom\t  \t \n",
      "1\t (19.00)\t 0.00 \t0.00 \t0.00 \t0.00 \t0.00 \t0.00 \t0.00 \t0.00 \t0.00 \t0.00 \t0.00 \t \t \n",
      "2\t (19.00)\t 0.00 \t0.00 \t0.00 \t0.00 \t0.00 \t0.00 \t0.00 \t0.00 \t0.00 \t0.00 \t0.00 \t \t \n",
      "3\t (19.00)\t 0.00 \t0.00 \t0.00 \t0.00 \t0.00 \t0.00 \t0.00 \t0.00 \t0.00 \t0.00 \t0.00 \t \t \n",
      "4\t (19.00)\t 0.00 \t0.00 \t0.00 \t0.00 \t0.00 \t0.00 \t0.00 \t0.00 \t0.00 \t0.00 \t0.00 \t \t \n",
      "5\t (19.00)\t 0.00 \t0.00 \t0.00 \t0.00 \t0.00 \t0.00 \t0.00 \t0.00 \t0.00 \t0.00 \t0.00 \t \t \n",
      "6\t (19.00)\t 0.00 \t0.00 \t0.00 \t0.00 \t0.00 \t0.00 \t0.00 \t0.00 \t0.00 \t0.00 \t0.00 \t \t \n",
      "7\t 0.00 \t(75.00)\t 0.00 \t0.00 \t0.00 \t0.00 \t0.00 \t0.00 \t0.00 \t0.00 \t0.00 \t0.00 \t \t \n",
      "8\t 0.00 \t(75.00)\t 0.00 \t0.00 \t0.00 \t0.00 \t0.00 \t0.00 \t0.00 \t0.00 \t0.00 \t0.00 \t \t \n",
      "9\t 0.00 \t(75.00)\t 0.00 \t0.00 \t0.00 \t0.00 \t0.00 \t0.00 \t0.00 \t0.00 \t0.00 \t0.00 \t \t \n",
      "10\t 0.00 \t(75.00)\t 0.00 \t0.00 \t0.00 \t0.00 \t0.00 \t0.00 \t0.00 \t0.00 \t0.00 \t0.00 \t \t \n",
      "11\t 0.00 \t(75.00)\t 0.00 \t0.00 \t0.00 \t0.00 \t0.00 \t0.00 \t0.00 \t0.00 \t0.00 \t0.00 \t \t \n",
      "12\t 0.00 \t(75.00)\t 0.00 \t0.00 \t0.00 \t0.00 \t0.00 \t0.00 \t0.00 \t0.00 \t0.00 \t0.00 \t \t \n",
      "13\t 0.00 \t(75.00)\t 0.00 \t0.00 \t0.00 \t0.00 \t0.00 \t0.00 \t0.00 \t50.00 \t0.00 \t0.00 \t \t \n",
      "14\t 0.00 \t(75.00)\t 0.00 \t0.00 \t0.00 \t0.00 \t0.00 \t0.00 \t0.00 \t50.00 \t0.00 \t0.00 \t \t \n",
      "15\t 0.00 \t(75.00)\t 0.00 \t0.00 \t0.00 \t0.00 \t0.00 \t0.00 \t0.00 \t50.00 \t0.00 \t0.00 \t \t \n",
      "16\t 0.00 \t(75.00)\t 0.00 \t0.00 \t0.00 \t0.00 \t0.00 \t0.00 \t0.00 \t50.00 \t0.00 \t0.00 \t \t \n",
      "17\t 0.00 \t(75.00)\t 0.00 \t0.00 \t0.00 \t0.00 \t0.00 \t0.00 \t0.00 \t50.00 \t0.00 \t0.00 \t \t \n",
      "18\t 0.00 \t(75.00)\t 0.00 \t0.00 \t0.00 \t0.00 \t0.00 \t0.00 \t0.00 \t50.00 \t0.00 \t0.00 \t \t \n",
      "19\t 0.00 \t(75.00)\t 0.00 \t0.00 \t0.00 \t0.00 \t0.00 \t0.00 \t0.00 \t50.00 \t0.00 \t0.00 \t \t \n",
      "20\t 0.00 \t(75.00)\t 0.00 \t0.00 \t0.00 \t0.00 \t0.00 \t0.00 \t0.00 \t50.00 \t0.00 \t0.00 \t \t \n",
      "21\t 0.00 \t(75.00)\t 0.00 \t0.00 \t0.00 \t0.00 \t0.00 \t0.00 \t0.00 \t0.00 \t0.00 \t0.00 \t \t \n",
      "22\t 0.00 \t(75.00)\t 0.00 \t0.00 \t0.00 \t0.00 \t0.00 \t0.00 \t0.00 \t0.00 \t0.00 \t0.00 \t \t \n",
      "23\t (19.00)\t 0.00 \t0.00 \t0.00 \t0.00 \t0.00 \t0.00 \t0.00 \t0.00 \t0.00 \t0.00 \t0.00 \t \t \n",
      "24\t (19.00)\t 0.00 \t0.00 \t0.00 \t0.00 \t0.00 \t0.00 \t0.00 \t0.00 \t0.00 \t0.00 \t0.00 \t \t \n",
      "total\t (152.00)\t (1200.00)\t 0.00 \t0.00 \t0.00 \t0.00 \t0.00 \t0.00 \t0.00 \t400.00 \t0.00 \t0.00 \t \t \n",
      " \t  \t  \t \n",
      "\t\t\t\n",
      "\t\t\t\n",
      "\t\t\t\n",
      "\t\t\t\n",
      "\t\t\t\n",
      "\t\t\t\n",
      "\t\t\t\n",
      "\t\t\t\n",
      "\t\t\t\n",
      "\t\t\t\n",
      "\t\t\t\n",
      "\t\t\t\n",
      "\t\t\n",
      "\t\t\n",
      "\t\t\n",
      "\t\t\n",
      "\t\t\n",
      "\t\t\n",
      "\t\t\n",
      "\t\t\n",
      "\t\t\n",
      "\t\t\t\t\t\t\t\t\t\t\t\t\t\t\n"
     ]
    }
   ],
   "source": [
    "print(ham_json[1])"
   ]
  },
  {
   "cell_type": "code",
   "execution_count": 16,
   "metadata": {
    "collapsed": false
   },
   "outputs": [
    {
     "data": {
      "text/plain": [
       "[(u'message-id', u' <2011334.1075840007235.javamail.evans#####>'),\n",
       " (u'date', u' wed, 10 oct 2001 16:24:31 -0700 (pdt)'),\n",
       " (u'from', u' kysa.alport#####'),\n",
       " (u'to', u' shift.dl-portland#####'),\n",
       " (u'subject', u' real time deals for october 11th'),\n",
       " (u'mime-version', u' 1.0'),\n",
       " (u'content-type', u' text/plain; charset=us-ascii'),\n",
       " (u'content-transfer-encoding', u' 7bit'),\n",
       " (u'x-from', u' alport, kysa </o=#####/ou=na/cn=recipients/cn=kalport>'),\n",
       " (u'x-to',\n",
       "  u' dl-portland real time shift </o=#####/ou=na/cn=recipients/cn=dl-portlandrealtimeshift>'),\n",
       " (u'x-cc', u' '),\n",
       " (u'x-bcc', u' '),\n",
       " (u'x-origin', u' williams-w3'),\n",
       " (u'x-filename', u' '),\n",
       " ('message', u''),\n",
       " ('message',\n",
       "  u' \\t  \\t  \\t  \\t  \\t  \\t  \\t  \\t  \\t  \\t  \\t  \\t  \\t  \\t \\ndesk\\t short term northwest\\t short term california\\t short term southwest\\t short term west bom\\t  \\t \\nflow date\\t 10/11/2001\\t 10/11/2001\\t 10/11/2001\\t 10/11/2001\\t 10/11/2001\\t 10/11/2001\\t 10/11/2001\\t 10/11/2001\\t 10/11/2001\\t 10/11/2001\\t 10/11/2001\\t 10/11/2001\\t  \\t \\ndeal number\\t 812532\\t 812531\\t  \\t nothing to real time\\t nothing to real time\\t 812559\\t  \\t  \\t  \\t \\ndelivery point\\t mid c\\t mid c\\t  \\t  \\t  \\t  \\t  \\t  \\t  \\t sp-15\\t  \\t  \\t  \\t \\nctpy\\t pge\\t pge\\t  \\t  \\t  \\t  \\t  \\t  \\t  \\t ca imbalance\\t  \\t  \\t  \\t \\nmwh\\t 19\\t 75\\t  \\t  \\t  \\t  \\t  \\t  \\t  \\t 50\\t  \\t  \\t  \\t \\nposition\\t short\\t short\\t  \\t  \\t  \\t  \\t  \\t  \\t  \\t long\\t  \\t  \\t  \\t \\nhours\\t off peak\\t peak\\t  \\t  \\t  \\t  \\t  \\t  \\t  \\t super peak\\t  \\t  \\t  \\t \\n price \\t n/a \\t n/a \\t \\t  \\t  \\t  \\t  \\t  \\t  \\t  $                         25.85 \\t \\t  \\t  \\t \\n \\t  \\t  \\t  \\t \\n \\t short term northwest\\t short term california\\t short term southwest\\t short term west bom\\t  \\t \\n1\\t (19.00)\\t 0.00 \\t0.00 \\t0.00 \\t0.00 \\t0.00 \\t0.00 \\t0.00 \\t0.00 \\t0.00 \\t0.00 \\t0.00 \\t \\t \\n2\\t (19.00)\\t 0.00 \\t0.00 \\t0.00 \\t0.00 \\t0.00 \\t0.00 \\t0.00 \\t0.00 \\t0.00 \\t0.00 \\t0.00 \\t \\t \\n3\\t (19.00)\\t 0.00 \\t0.00 \\t0.00 \\t0.00 \\t0.00 \\t0.00 \\t0.00 \\t0.00 \\t0.00 \\t0.00 \\t0.00 \\t \\t \\n4\\t (19.00)\\t 0.00 \\t0.00 \\t0.00 \\t0.00 \\t0.00 \\t0.00 \\t0.00 \\t0.00 \\t0.00 \\t0.00 \\t0.00 \\t \\t \\n5\\t (19.00)\\t 0.00 \\t0.00 \\t0.00 \\t0.00 \\t0.00 \\t0.00 \\t0.00 \\t0.00 \\t0.00 \\t0.00 \\t0.00 \\t \\t \\n6\\t (19.00)\\t 0.00 \\t0.00 \\t0.00 \\t0.00 \\t0.00 \\t0.00 \\t0.00 \\t0.00 \\t0.00 \\t0.00 \\t0.00 \\t \\t \\n7\\t 0.00 \\t(75.00)\\t 0.00 \\t0.00 \\t0.00 \\t0.00 \\t0.00 \\t0.00 \\t0.00 \\t0.00 \\t0.00 \\t0.00 \\t \\t \\n8\\t 0.00 \\t(75.00)\\t 0.00 \\t0.00 \\t0.00 \\t0.00 \\t0.00 \\t0.00 \\t0.00 \\t0.00 \\t0.00 \\t0.00 \\t \\t \\n9\\t 0.00 \\t(75.00)\\t 0.00 \\t0.00 \\t0.00 \\t0.00 \\t0.00 \\t0.00 \\t0.00 \\t0.00 \\t0.00 \\t0.00 \\t \\t \\n10\\t 0.00 \\t(75.00)\\t 0.00 \\t0.00 \\t0.00 \\t0.00 \\t0.00 \\t0.00 \\t0.00 \\t0.00 \\t0.00 \\t0.00 \\t \\t \\n11\\t 0.00 \\t(75.00)\\t 0.00 \\t0.00 \\t0.00 \\t0.00 \\t0.00 \\t0.00 \\t0.00 \\t0.00 \\t0.00 \\t0.00 \\t \\t \\n12\\t 0.00 \\t(75.00)\\t 0.00 \\t0.00 \\t0.00 \\t0.00 \\t0.00 \\t0.00 \\t0.00 \\t0.00 \\t0.00 \\t0.00 \\t \\t \\n13\\t 0.00 \\t(75.00)\\t 0.00 \\t0.00 \\t0.00 \\t0.00 \\t0.00 \\t0.00 \\t0.00 \\t50.00 \\t0.00 \\t0.00 \\t \\t \\n14\\t 0.00 \\t(75.00)\\t 0.00 \\t0.00 \\t0.00 \\t0.00 \\t0.00 \\t0.00 \\t0.00 \\t50.00 \\t0.00 \\t0.00 \\t \\t \\n15\\t 0.00 \\t(75.00)\\t 0.00 \\t0.00 \\t0.00 \\t0.00 \\t0.00 \\t0.00 \\t0.00 \\t50.00 \\t0.00 \\t0.00 \\t \\t \\n16\\t 0.00 \\t(75.00)\\t 0.00 \\t0.00 \\t0.00 \\t0.00 \\t0.00 \\t0.00 \\t0.00 \\t50.00 \\t0.00 \\t0.00 \\t \\t \\n17\\t 0.00 \\t(75.00)\\t 0.00 \\t0.00 \\t0.00 \\t0.00 \\t0.00 \\t0.00 \\t0.00 \\t50.00 \\t0.00 \\t0.00 \\t \\t \\n18\\t 0.00 \\t(75.00)\\t 0.00 \\t0.00 \\t0.00 \\t0.00 \\t0.00 \\t0.00 \\t0.00 \\t50.00 \\t0.00 \\t0.00 \\t \\t \\n19\\t 0.00 \\t(75.00)\\t 0.00 \\t0.00 \\t0.00 \\t0.00 \\t0.00 \\t0.00 \\t0.00 \\t50.00 \\t0.00 \\t0.00 \\t \\t \\n20\\t 0.00 \\t(75.00)\\t 0.00 \\t0.00 \\t0.00 \\t0.00 \\t0.00 \\t0.00 \\t0.00 \\t50.00 \\t0.00 \\t0.00 \\t \\t \\n21\\t 0.00 \\t(75.00)\\t 0.00 \\t0.00 \\t0.00 \\t0.00 \\t0.00 \\t0.00 \\t0.00 \\t0.00 \\t0.00 \\t0.00 \\t \\t \\n22\\t 0.00 \\t(75.00)\\t 0.00 \\t0.00 \\t0.00 \\t0.00 \\t0.00 \\t0.00 \\t0.00 \\t0.00 \\t0.00 \\t0.00 \\t \\t \\n23\\t (19.00)\\t 0.00 \\t0.00 \\t0.00 \\t0.00 \\t0.00 \\t0.00 \\t0.00 \\t0.00 \\t0.00 \\t0.00 \\t0.00 \\t \\t \\n24\\t (19.00)\\t 0.00 \\t0.00 \\t0.00 \\t0.00 \\t0.00 \\t0.00 \\t0.00 \\t0.00 \\t0.00 \\t0.00 \\t0.00 \\t \\t \\ntotal\\t (152.00)\\t (1200.00)\\t 0.00 \\t0.00 \\t0.00 \\t0.00 \\t0.00 \\t0.00 \\t0.00 \\t400.00 \\t0.00 \\t0.00 \\t \\t \\n \\t  \\t  \\t \\n\\t\\t\\t\\n\\t\\t\\t\\n\\t\\t\\t\\n\\t\\t\\t\\n\\t\\t\\t\\n\\t\\t\\t\\n\\t\\t\\t\\n\\t\\t\\t\\n\\t\\t\\t\\n\\t\\t\\t\\n\\t\\t\\t\\n\\t\\t\\t\\n\\t\\t\\n\\t\\t\\n\\t\\t\\n\\t\\t\\n\\t\\t\\n\\t\\t\\n\\t\\t\\n\\t\\t\\n\\t\\t\\n\\t\\t\\t\\t\\t\\t\\t\\t\\t\\t\\t\\t\\t\\t')]"
      ]
     },
     "execution_count": 16,
     "metadata": {},
     "output_type": "execute_result"
    }
   ],
   "source": [
    "ham[1]"
   ]
  },
  {
   "cell_type": "code",
   "execution_count": null,
   "metadata": {
    "collapsed": true
   },
   "outputs": [],
   "source": []
  },
  {
   "cell_type": "markdown",
   "metadata": {},
   "source": [
    "&nbsp;\n",
    "\n",
    "&nbsp;\n",
    "\n",
    "&nbsp;\n",
    "\n",
    "&nbsp;\n",
    "\n",
    "&nbsp;\n",
    "\n",
    "&nbsp;\n",
    "\n",
    "&nbsp;\n",
    "\n",
    "&nbsp;\n",
    "\n",
    "&nbsp;\n",
    "\n",
    "&nbsp;\n",
    "\n",
    "&nbsp;\n",
    "\n",
    "&nbsp;\n",
    "\n",
    "&nbsp;\n",
    "\n",
    "&nbsp;\n",
    "\n",
    "&nbsp;\n",
    "\n",
    "&nbsp;\n",
    "\n",
    "&nbsp;\n",
    "\n",
    "&nbsp;\n",
    "\n",
    "&nbsp;\n",
    "\n",
    "&nbsp;\n",
    "\n",
    "&nbsp;\n",
    "\n",
    "&nbsp;\n",
    "\n",
    "&nbsp;\n",
    "\n",
    "&nbsp;\n",
    "\n",
    "&nbsp;\n",
    "\n",
    "&nbsp;\n",
    "\n",
    "&nbsp;\n",
    "\n",
    "&nbsp;\n",
    "\n",
    "&nbsp;\n",
    "\n",
    "&nbsp;\n",
    "\n",
    "&nbsp;\n",
    "\n",
    "&nbsp;\n",
    "\n",
    "&nbsp;\n",
    "\n",
    "&nbsp;\n",
    "\n",
    "&nbsp;\n",
    "\n",
    "&nbsp;\n",
    "\n",
    "&nbsp;\n",
    "\n",
    "&nbsp;\n",
    "\n",
    "&nbsp;\n",
    "\n",
    "&nbsp;\n",
    "\n",
    "&nbsp;\n",
    "\n",
    "&nbsp;\n",
    "\n",
    "&nbsp;\n",
    "\n",
    "&nbsp;\n",
    "\n",
    "&nbsp;\n",
    "\n",
    "&nbsp;\n",
    "\n",
    "&nbsp;\n",
    "\n",
    "&nbsp;\n",
    "\n",
    "&nbsp;\n",
    "\n",
    "&nbsp;\n",
    "\n",
    "&nbsp;\n",
    "\n",
    "&nbsp;\n",
    "\n",
    "&nbsp;\n",
    "\n",
    "&nbsp;\n",
    "\n"
   ]
  }
 ],
 "metadata": {
  "kernelspec": {
   "display_name": "Python 2",
   "language": "python2",
   "name": "python2"
  },
  "language_info": {
   "codemirror_mode": {
    "name": "ipython",
    "version": 2
   },
   "file_extension": ".py",
   "mimetype": "text/x-python",
   "name": "python",
   "nbconvert_exporter": "python",
   "pygments_lexer": "ipython2",
   "version": "2.7.12"
  }
 },
 "nbformat": 4,
 "nbformat_minor": 1
}

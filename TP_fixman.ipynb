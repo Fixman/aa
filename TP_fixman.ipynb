{
 "cells": [
  {
   "cell_type": "code",
   "execution_count": 1,
   "metadata": {
    "ExecuteTime": {
     "end_time": "2016-09-21T14:23:03.160319",
     "start_time": "2016-09-21T14:23:02.622940"
    },
    "collapsed": false,
    "init_cell": true
   },
   "outputs": [
    {
     "name": "stdout",
     "output_type": "stream",
     "text": [
      "Populating the interactive namespace from numpy and matplotlib\n"
     ]
    }
   ],
   "source": [
    "%pylab inline\n",
    "\n",
    "from __future__ import print_function\n",
    "from __future__ import division\n",
    "\n",
    "import sklearn\n",
    "import numpy\n",
    "import scipy\n",
    "import pandas\n",
    "import matplotlib\n",
    "import seaborn\n",
    "\n",
    "import json\n",
    "import re\n",
    "\n",
    "from matplotlib import pyplot\n",
    "from collections import Counter"
   ]
  },
  {
   "cell_type": "code",
   "execution_count": 2,
   "metadata": {
    "ExecuteTime": {
     "end_time": "2016-09-21T14:23:03.166683",
     "start_time": "2016-09-21T14:23:03.162293"
    },
    "collapsed": false,
    "init_cell": true
   },
   "outputs": [],
   "source": [
    "rcParams['figure.figsize'] = 15, 8"
   ]
  },
  {
   "cell_type": "markdown",
   "metadata": {},
   "source": [
    "# Useful functions"
   ]
  },
  {
   "cell_type": "code",
   "execution_count": 3,
   "metadata": {
    "ExecuteTime": {
     "end_time": "2016-09-21T14:23:03.285472",
     "start_time": "2016-09-21T14:23:03.168863"
    },
    "collapsed": false,
    "init_cell": true
   },
   "outputs": [],
   "source": [
    "def avg(x):\n",
    "    return sum(x) / len(x)"
   ]
  },
  {
   "cell_type": "markdown",
   "metadata": {},
   "source": [
    "# Getting messages"
   ]
  },
  {
   "cell_type": "code",
   "execution_count": 4,
   "metadata": {
    "ExecuteTime": {
     "end_time": "2016-09-21T14:23:03.396795",
     "start_time": "2016-09-21T14:23:03.287526"
    },
    "collapsed": false,
    "init_cell": true
   },
   "outputs": [],
   "source": [
    "def getlinesep(mail):\n",
    "    lineseps = ['\\r\\n', '\\n']\n",
    "    return next(x for x in lineseps if 2 * x in mail)\n",
    "\n",
    "def parse(mail):\n",
    "    ls = getlinesep(mail)\n",
    "    bs = 2 * ls\n",
    "    \n",
    "    header, body = mail.split(bs, 1)\n",
    "    header = header.replace(ls + '\\t', ' ').replace(ls + ' ', ' ')\n",
    "    \n",
    "    header = [(str(x).replace('_', '--'), y) for x, y in [z.split(':', 1) for z in header.split(ls)]]\n",
    "    body = ('body', body)\n",
    "    \n",
    "    return header + [body] + [('my_linesep', ls)]\n",
    "\n",
    "def try_parse(mail):\n",
    "    try:\n",
    "        return parse(mail)\n",
    "    except ValueError:\n",
    "        return {'my_unparseable': True, 'my_reason': 'badheader'}\n",
    "    except StopIteration:\n",
    "        return {'my_unparseable': True, 'my_reason': 'nosep'}"
   ]
  },
  {
   "cell_type": "code",
   "execution_count": 5,
   "metadata": {
    "ExecuteTime": {
     "end_time": "2016-09-21T14:01:03.221177",
     "start_time": "2016-09-21T14:00:53.177518"
    },
    "collapsed": false,
    "init_cell": false
   },
   "outputs": [
    {
     "name": "stdout",
     "output_type": "stream",
     "text": [
      "0/40500 unparseable messages\n"
     ]
    }
   ],
   "source": [
    "ham_json = json.load(open('data/ham_train.json'))\n",
    "ham = map(try_parse, ham_json)\n",
    "print('{}/{} unparseable messages'.format(len([x for x in ham if 'unparseable' in x]), len(ham_json)))\n",
    "\n",
    "%xdel ham_json"
   ]
  },
  {
   "cell_type": "code",
   "execution_count": 16,
   "metadata": {
    "ExecuteTime": {
     "end_time": "2016-09-21T12:22:57.999325",
     "start_time": "2016-09-21T12:22:42.105798"
    },
    "collapsed": false
   },
   "outputs": [],
   "source": [
    "pandas.DataFrame(map(dict, ham)).to_csv('data/ham_train.csv', index = True, header = True, encoding = 'utf-8', index_label = 'num')"
   ]
  },
  {
   "cell_type": "code",
   "execution_count": 6,
   "metadata": {
    "ExecuteTime": {
     "end_time": "2016-09-21T14:01:09.311728",
     "start_time": "2016-09-21T14:01:03.223112"
    },
    "collapsed": false,
    "init_cell": false
   },
   "outputs": [
    {
     "name": "stdout",
     "output_type": "stream",
     "text": [
      "0/40500 unparseable messages\n"
     ]
    }
   ],
   "source": [
    "spam_json = json.load(open('data/spam_train.json'))\n",
    "spam = map(try_parse, spam_json)\n",
    "print('{}/{} unparseable messages'.format(len([x for x in spam if 'unparseable' in x]), len(spam_json)))\n",
    "\n",
    "%xdel spam_json"
   ]
  },
  {
   "cell_type": "code",
   "execution_count": 8,
   "metadata": {
    "ExecuteTime": {
     "end_time": "2016-09-21T13:17:47.052351",
     "start_time": "2016-09-21T13:17:25.636956"
    },
    "collapsed": true
   },
   "outputs": [],
   "source": [
    "ham_messages = 40499\n",
    "pandas.DataFrame(map(dict, spam), index = range(ham_messages + 1, ham_messages + len(spam) + 1)).to_csv('data/spam_train.csv', index = True, header = True, encoding = 'utf-8', index_label = 'num')"
   ]
  },
  {
   "cell_type": "code",
   "execution_count": 7,
   "metadata": {
    "ExecuteTime": {
     "end_time": "2016-09-21T14:02:29.233286",
     "start_time": "2016-09-21T14:01:37.897284"
    },
    "collapsed": true
   },
   "outputs": [],
   "source": [
    "pandas.DataFrame(map(dict, ham + spam)).to_csv('data/train.csv', index = True, header = True, encoding = 'utf-8', index_label = 'num')"
   ]
  },
  {
   "cell_type": "markdown",
   "metadata": {},
   "source": [
    "# Feature extraction"
   ]
  },
  {
   "cell_type": "code",
   "execution_count": 15,
   "metadata": {
    "ExecuteTime": {
     "end_time": "2016-09-21T12:07:44.853752",
     "start_time": "2016-09-21T12:07:44.792747"
    },
    "collapsed": false
   },
   "outputs": [],
   "source": [
    "table = pandas.DataFrame(map(dict, ham + spam))\n",
    "answers = pandas.Series(['ham'] * len(ham) + ['spam'] * len(spam))\n",
    "%xdel ham\n",
    "%xdel spam"
   ]
  },
  {
   "cell_type": "code",
   "execution_count": 24,
   "metadata": {
    "ExecuteTime": {
     "end_time": "2016-09-21T12:11:22.085104",
     "start_time": "2016-09-21T12:11:22.075159"
    },
    "collapsed": false
   },
   "outputs": [],
   "source": [
    "# Agregar a table cierta transformación de algunas de sus columnas.\n",
    "def addColFeatures(name, f, colsF = lambda x: True, objects_only = True, source = table, sink = table):\n",
    "    if not any([x.endswith('_' + name) for x in source.columns]):\n",
    "        cols = source.columns\n",
    "        if objects_only:\n",
    "            # Perdón Wilkinson\n",
    "            cols = cols[cols.map(lambda x: isinstance(source[x].dropna().iloc[0], basestring))]\n",
    "\n",
    "        cols = cols[cols.map(colsF)]\n",
    "        sink[cols + '_' + name] = source[cols].apply(lambda x: f(x.dropna()))\n",
    "        \n",
    "        print('Added feature {}'.format(name))"
   ]
  },
  {
   "cell_type": "markdown",
   "metadata": {},
   "source": [
    "## Length"
   ]
  },
  {
   "cell_type": "code",
   "execution_count": 17,
   "metadata": {
    "ExecuteTime": {
     "end_time": "2016-09-21T12:07:49.153864",
     "start_time": "2016-09-21T12:07:48.979874"
    },
    "collapsed": false
   },
   "outputs": [
    {
     "name": "stdout",
     "output_type": "stream",
     "text": [
      "Added feature length\n"
     ]
    }
   ],
   "source": [
    "addColFeatures('length', lambda x: x.str.len())"
   ]
  },
  {
   "cell_type": "markdown",
   "metadata": {},
   "source": [
    "## Separation"
   ]
  },
  {
   "cell_type": "markdown",
   "metadata": {},
   "source": [
    "El único buen separador encontrado parece ser la coma."
   ]
  },
  {
   "cell_type": "code",
   "execution_count": 18,
   "metadata": {
    "ExecuteTime": {
     "end_time": "2016-09-21T12:08:10.817032",
     "start_time": "2016-09-21T12:08:10.574015"
    },
    "collapsed": false
   },
   "outputs": [
    {
     "name": "stdout",
     "output_type": "stream",
     "text": [
      "Added feature fields\n"
     ]
    }
   ],
   "source": [
    "sep = ','\n",
    "addColFeatures(\n",
    "    'fields',\n",
    "    lambda x: x.str.count(sep) + 1,\n",
    "    lambda x: table[x].str.contains(sep).any()\n",
    ")"
   ]
  },
  {
   "cell_type": "code",
   "execution_count": 19,
   "metadata": {
    "ExecuteTime": {
     "end_time": "2016-09-21T12:08:17.863942",
     "start_time": "2016-09-21T12:08:17.534284"
    },
    "collapsed": false
   },
   "outputs": [
    {
     "name": "stdout",
     "output_type": "stream",
     "text": [
      "Added feature avgFieldLength\n"
     ]
    }
   ],
   "source": [
    "addColFeatures(\n",
    "    'avgFieldLength',\n",
    "    lambda x: x.str.split(sep).apply(lambda x: avg(map(len, x))),\n",
    "    lambda x: table[x].str.contains(sep).any()\n",
    ")"
   ]
  },
  {
   "cell_type": "markdown",
   "metadata": {},
   "source": [
    "## Wordcount"
   ]
  },
  {
   "cell_type": "code",
   "execution_count": 20,
   "metadata": {
    "ExecuteTime": {
     "end_time": "2016-09-21T12:08:43.072254",
     "start_time": "2016-09-21T12:08:42.701811"
    },
    "collapsed": false
   },
   "outputs": [
    {
     "name": "stdout",
     "output_type": "stream",
     "text": [
      "Added feature words\n"
     ]
    }
   ],
   "source": [
    "addColFeatures(\n",
    "    'words',\n",
    "    lambda x: x.str.strip().str.count(' ') + 1,\n",
    "    lambda x: table[x].str.strip().str.contains(' ').any()\n",
    ")"
   ]
  },
  {
   "cell_type": "code",
   "execution_count": 21,
   "metadata": {
    "ExecuteTime": {
     "end_time": "2016-09-21T12:08:48.074053",
     "start_time": "2016-09-21T12:08:47.473068"
    },
    "collapsed": false
   },
   "outputs": [
    {
     "name": "stdout",
     "output_type": "stream",
     "text": [
      "Added feature avgWordLength\n"
     ]
    }
   ],
   "source": [
    "addColFeatures(\n",
    "    'avgWordLength',\n",
    "    lambda x: x.str.strip().str.split(' ').apply(lambda x: avg(map(len, x))),\n",
    "    lambda x: table[x].str.strip().str.contains(' ').any()\n",
    ")"
   ]
  },
  {
   "cell_type": "markdown",
   "metadata": {},
   "source": [
    "## Existence"
   ]
  },
  {
   "cell_type": "code",
   "execution_count": 22,
   "metadata": {
    "ExecuteTime": {
     "end_time": "2016-09-21T12:08:56.790683",
     "start_time": "2016-09-21T12:08:56.523355"
    },
    "collapsed": false
   },
   "outputs": [
    {
     "name": "stdout",
     "output_type": "stream",
     "text": [
      "Added feature exists\n"
     ]
    }
   ],
   "source": [
    "addColFeatures(\n",
    "    'exists',\n",
    "    lambda x: x.notnull()\n",
    ")"
   ]
  },
  {
   "cell_type": "markdown",
   "metadata": {},
   "source": [
    "## All of them by chunks"
   ]
  },
  {
   "cell_type": "markdown",
   "metadata": {},
   "source": [
    "### Parsing the stuff"
   ]
  },
  {
   "cell_type": "code",
   "execution_count": 5,
   "metadata": {
    "ExecuteTime": {
     "end_time": "2016-09-21T14:23:03.531117",
     "start_time": "2016-09-21T14:23:03.398574"
    },
    "collapsed": false,
    "init_cell": true
   },
   "outputs": [],
   "source": [
    "class ExtractedFeature(object):\n",
    "    def __init__(self, name, trans, filt = lambda x: True, fillna = numpy.nan):\n",
    "        self.name = name\n",
    "        self.trans = trans\n",
    "        self.filt = filt\n",
    "        self.fillna = fillna\n",
    "    \n",
    "    def extractFrom(self, table):\n",
    "        # cols = [x for x in table.columns if isinstance(table[x].dropna().iloc[0], basestring)]\n",
    "        cols = table.columns.difference(table._get_numeric_data().columns)\n",
    "        cols = pandas.Index(x for x in cols if table[x].notnull().any() and self.filt(table[x].dropna()))\n",
    "        \n",
    "        return (\n",
    "            table[cols].apply(lambda x: self.trans(x.dropna()))\n",
    "            .rename(columns = lambda x: x + '_' + self.name)\n",
    "            .fillna(self.fillna)\n",
    "        )"
   ]
  },
  {
   "cell_type": "code",
   "execution_count": 6,
   "metadata": {
    "ExecuteTime": {
     "end_time": "2016-09-21T14:23:03.676107",
     "start_time": "2016-09-21T14:23:03.532527"
    },
    "collapsed": false,
    "init_cell": true
   },
   "outputs": [],
   "source": [
    "sep = ','\n",
    "\n",
    "features = [\n",
    "    ExtractedFeature('length', lambda x: x.str.len()),\n",
    "    ExtractedFeature('fields', lambda x: x.str.count(sep) + 1, lambda x: x.str.contains(sep).any()),\n",
    "    ExtractedFeature('avgFieldLength', lambda x: x.str.split(sep).apply(lambda x: avg(map(len, x))), lambda x: x.str.contains(sep).any()),\n",
    "    ExtractedFeature('words', lambda x: x.str.strip().str.count(' ') + 1, lambda x: x.str.strip().str.contains(' ').any()),\n",
    "    ExtractedFeature('avgWordLength', lambda x: x.str.strip().str.split(' ').apply(lambda x: avg(map(len, x))), lambda x: x.str.strip().str.contains(' ').any()),\n",
    "    ExtractedFeature('exists', lambda x: x.notnull(), fillna = False),\n",
    "]\n",
    "\n",
    "def extractAll(table):\n",
    "    return pandas.concat(map(lambda x: x.extractFrom(table), features), axis = 1)"
   ]
  },
  {
   "cell_type": "markdown",
   "metadata": {},
   "source": [
    "### Getting the data"
   ]
  },
  {
   "cell_type": "code",
   "execution_count": 10,
   "metadata": {
    "ExecuteTime": {
     "end_time": "2016-09-21T14:47:58.469871",
     "start_time": "2016-09-21T14:47:05.435513"
    },
    "collapsed": false
   },
   "outputs": [
    {
     "name": "stdout",
     "output_type": "stream",
     "text": [
      "Exception \"Reindexing only valid with uniquely valued Index objects\" on chunk 4\n",
      "Exception \"cannot reindex from a duplicate axis\" on chunk 5\n",
      "Exception \"cannot reindex from a duplicate axis\" on chunk 6\n",
      "Exception \"cannot reindex from a duplicate axis\" on chunk 7\n"
     ]
    }
   ],
   "source": [
    "train = pandas.read_csv('data/train.csv', index_col = 'num', encoding = 'utf-8', chunksize = 10000, dtype = object)\n",
    "\n",
    "first = True\n",
    "for e, chunk in enumerate(train):\n",
    "    try:\n",
    "        t = extractAll(chunk)\n",
    "        t['spam'] = t.index >= 40500\n",
    "        # Ugly hack: if b : Bool, b * 1 : Int\n",
    "        (t * 1).to_csv('dev/features.csv', index = True, header = first, mode = 'w' if first else 'a')\n",
    "        first = False\n",
    "    except Exception as t:\n",
    "        print('Exception \"{}\" on chunk {}'.format(t, e))"
   ]
  },
  {
   "cell_type": "code",
   "execution_count": null,
   "metadata": {
    "collapsed": true
   },
   "outputs": [],
   "source": [
    "lim = 40500\n",
    "pandas.DataFrame(''"
   ]
  },
  {
   "cell_type": "markdown",
   "metadata": {},
   "source": [
    "# Downloading"
   ]
  },
  {
   "cell_type": "code",
   "execution_count": 16,
   "metadata": {
    "ExecuteTime": {
     "end_time": "2016-09-18T20:53:13.343208",
     "start_time": "2016-09-18T20:51:52.896624"
    },
    "collapsed": false
   },
   "outputs": [],
   "source": [
    "table[[x for x in table.columns if '_' in x]].to_csv('features50k.csv', index = True, header = True, index_label = 'n50k')\n",
    "answers.to_frame('answer').to_csv('answers20k.csv', index = True, header = True, index_label = 'n50k')"
   ]
  },
  {
   "cell_type": "markdown",
   "metadata": {},
   "source": [
    "# Analysis"
   ]
  },
  {
   "cell_type": "code",
   "execution_count": 18,
   "metadata": {
    "ExecuteTime": {
     "end_time": "2016-09-18T19:13:25.024578",
     "start_time": "2016-09-18T19:13:24.128279"
    },
    "collapsed": false
   },
   "outputs": [
    {
     "data": {
      "text/html": [
       "<div>\n",
       "<table border=\"1\" class=\"dataframe\">\n",
       "  <thead>\n",
       "    <tr style=\"text-align: right;\">\n",
       "      <th></th>\n",
       "      <th>alternate-recipient</th>\n",
       "      <th>approved</th>\n",
       "      <th>auto-submitted</th>\n",
       "      <th>bcc</th>\n",
       "      <th>body</th>\n",
       "      <th>cc</th>\n",
       "      <th>comments</th>\n",
       "      <th>content-alias</th>\n",
       "      <th>content-class</th>\n",
       "      <th>content-disposition</th>\n",
       "      <th>...</th>\n",
       "      <th>x-from_avgWordSize</th>\n",
       "      <th>x-ironport-av_avgWordSize</th>\n",
       "      <th>x-mailer_avgWordSize</th>\n",
       "      <th>x-mdav-processed_avgWordSize</th>\n",
       "      <th>x-mimetrack_avgWordSize</th>\n",
       "      <th>x-originalarrivaltime_avgWordSize</th>\n",
       "      <th>x-spam-processed_avgWordSize</th>\n",
       "      <th>x-spam-status_avgWordSize</th>\n",
       "      <th>x-to_avgWordSize</th>\n",
       "      <th>x-webmail-time_avgWordSize</th>\n",
       "    </tr>\n",
       "  </thead>\n",
       "  <tbody>\n",
       "    <tr>\n",
       "      <th>count</th>\n",
       "      <td>6</td>\n",
       "      <td>4</td>\n",
       "      <td>15</td>\n",
       "      <td>2197</td>\n",
       "      <td>9989</td>\n",
       "      <td>2394</td>\n",
       "      <td>12</td>\n",
       "      <td>1</td>\n",
       "      <td>9</td>\n",
       "      <td>15</td>\n",
       "      <td>...</td>\n",
       "      <td>5001.000000</td>\n",
       "      <td>1.0</td>\n",
       "      <td>860.000000</td>\n",
       "      <td>1.0</td>\n",
       "      <td>1.0</td>\n",
       "      <td>24.000000</td>\n",
       "      <td>1.000000</td>\n",
       "      <td>5.000000</td>\n",
       "      <td>5000.000000</td>\n",
       "      <td>4.000000</td>\n",
       "    </tr>\n",
       "    <tr>\n",
       "      <th>unique</th>\n",
       "      <td>2</td>\n",
       "      <td>1</td>\n",
       "      <td>2</td>\n",
       "      <td>1174</td>\n",
       "      <td>9768</td>\n",
       "      <td>1325</td>\n",
       "      <td>1</td>\n",
       "      <td>1</td>\n",
       "      <td>1</td>\n",
       "      <td>11</td>\n",
       "      <td>...</td>\n",
       "      <td>NaN</td>\n",
       "      <td>NaN</td>\n",
       "      <td>NaN</td>\n",
       "      <td>NaN</td>\n",
       "      <td>NaN</td>\n",
       "      <td>NaN</td>\n",
       "      <td>NaN</td>\n",
       "      <td>NaN</td>\n",
       "      <td>NaN</td>\n",
       "      <td>NaN</td>\n",
       "    </tr>\n",
       "    <tr>\n",
       "      <th>top</th>\n",
       "      <td>allowed</td>\n",
       "      <td>yes (127.0.0.1)</td>\n",
       "      <td>auto-generated (failure)</td>\n",
       "      <td>albert.meyers#####, bill.williams#####, craig...</td>\n",
       "      <td>&lt;!doctype html public \"-//w3c//dtd html 3.2//e...</td>\n",
       "      <td>albert.meyers#####, bill.williams#####, craig...</td>\n",
       "      <td>this is a test</td>\n",
       "      <td>9506728538872388031</td>\n",
       "      <td>urn:content-classes:message</td>\n",
       "      <td>inline</td>\n",
       "      <td>...</td>\n",
       "      <td>NaN</td>\n",
       "      <td>NaN</td>\n",
       "      <td>NaN</td>\n",
       "      <td>NaN</td>\n",
       "      <td>NaN</td>\n",
       "      <td>NaN</td>\n",
       "      <td>NaN</td>\n",
       "      <td>NaN</td>\n",
       "      <td>NaN</td>\n",
       "      <td>NaN</td>\n",
       "    </tr>\n",
       "    <tr>\n",
       "      <th>freq</th>\n",
       "      <td>3</td>\n",
       "      <td>4</td>\n",
       "      <td>9</td>\n",
       "      <td>389</td>\n",
       "      <td>25</td>\n",
       "      <td>389</td>\n",
       "      <td>12</td>\n",
       "      <td>1</td>\n",
       "      <td>9</td>\n",
       "      <td>3</td>\n",
       "      <td>...</td>\n",
       "      <td>NaN</td>\n",
       "      <td>NaN</td>\n",
       "      <td>NaN</td>\n",
       "      <td>NaN</td>\n",
       "      <td>NaN</td>\n",
       "      <td>NaN</td>\n",
       "      <td>NaN</td>\n",
       "      <td>NaN</td>\n",
       "      <td>NaN</td>\n",
       "      <td>NaN</td>\n",
       "    </tr>\n",
       "    <tr>\n",
       "      <th>mean</th>\n",
       "      <td>NaN</td>\n",
       "      <td>NaN</td>\n",
       "      <td>NaN</td>\n",
       "      <td>NaN</td>\n",
       "      <td>NaN</td>\n",
       "      <td>NaN</td>\n",
       "      <td>NaN</td>\n",
       "      <td>NaN</td>\n",
       "      <td>NaN</td>\n",
       "      <td>NaN</td>\n",
       "      <td>...</td>\n",
       "      <td>11.384580</td>\n",
       "      <td>10.0</td>\n",
       "      <td>11.629779</td>\n",
       "      <td>6.0</td>\n",
       "      <td>7.0</td>\n",
       "      <td>8.890625</td>\n",
       "      <td>6.714286</td>\n",
       "      <td>12.413333</td>\n",
       "      <td>11.383116</td>\n",
       "      <td>4.333333</td>\n",
       "    </tr>\n",
       "    <tr>\n",
       "      <th>std</th>\n",
       "      <td>NaN</td>\n",
       "      <td>NaN</td>\n",
       "      <td>NaN</td>\n",
       "      <td>NaN</td>\n",
       "      <td>NaN</td>\n",
       "      <td>NaN</td>\n",
       "      <td>NaN</td>\n",
       "      <td>NaN</td>\n",
       "      <td>NaN</td>\n",
       "      <td>NaN</td>\n",
       "      <td>...</td>\n",
       "      <td>6.582935</td>\n",
       "      <td>NaN</td>\n",
       "      <td>5.672842</td>\n",
       "      <td>NaN</td>\n",
       "      <td>NaN</td>\n",
       "      <td>1.037187</td>\n",
       "      <td>NaN</td>\n",
       "      <td>0.808840</td>\n",
       "      <td>6.481160</td>\n",
       "      <td>0.000000</td>\n",
       "    </tr>\n",
       "    <tr>\n",
       "      <th>min</th>\n",
       "      <td>NaN</td>\n",
       "      <td>NaN</td>\n",
       "      <td>NaN</td>\n",
       "      <td>NaN</td>\n",
       "      <td>NaN</td>\n",
       "      <td>NaN</td>\n",
       "      <td>NaN</td>\n",
       "      <td>NaN</td>\n",
       "      <td>NaN</td>\n",
       "      <td>NaN</td>\n",
       "      <td>...</td>\n",
       "      <td>2.333333</td>\n",
       "      <td>10.0</td>\n",
       "      <td>0.000000</td>\n",
       "      <td>6.0</td>\n",
       "      <td>7.0</td>\n",
       "      <td>4.333333</td>\n",
       "      <td>6.714286</td>\n",
       "      <td>11.666667</td>\n",
       "      <td>0.000000</td>\n",
       "      <td>4.333333</td>\n",
       "    </tr>\n",
       "    <tr>\n",
       "      <th>25%</th>\n",
       "      <td>NaN</td>\n",
       "      <td>NaN</td>\n",
       "      <td>NaN</td>\n",
       "      <td>NaN</td>\n",
       "      <td>NaN</td>\n",
       "      <td>NaN</td>\n",
       "      <td>NaN</td>\n",
       "      <td>NaN</td>\n",
       "      <td>NaN</td>\n",
       "      <td>NaN</td>\n",
       "      <td>...</td>\n",
       "      <td>NaN</td>\n",
       "      <td>NaN</td>\n",
       "      <td>NaN</td>\n",
       "      <td>NaN</td>\n",
       "      <td>NaN</td>\n",
       "      <td>NaN</td>\n",
       "      <td>NaN</td>\n",
       "      <td>NaN</td>\n",
       "      <td>NaN</td>\n",
       "      <td>NaN</td>\n",
       "    </tr>\n",
       "    <tr>\n",
       "      <th>50%</th>\n",
       "      <td>NaN</td>\n",
       "      <td>NaN</td>\n",
       "      <td>NaN</td>\n",
       "      <td>NaN</td>\n",
       "      <td>NaN</td>\n",
       "      <td>NaN</td>\n",
       "      <td>NaN</td>\n",
       "      <td>NaN</td>\n",
       "      <td>NaN</td>\n",
       "      <td>NaN</td>\n",
       "      <td>...</td>\n",
       "      <td>NaN</td>\n",
       "      <td>NaN</td>\n",
       "      <td>NaN</td>\n",
       "      <td>NaN</td>\n",
       "      <td>NaN</td>\n",
       "      <td>NaN</td>\n",
       "      <td>NaN</td>\n",
       "      <td>NaN</td>\n",
       "      <td>NaN</td>\n",
       "      <td>NaN</td>\n",
       "    </tr>\n",
       "    <tr>\n",
       "      <th>75%</th>\n",
       "      <td>NaN</td>\n",
       "      <td>NaN</td>\n",
       "      <td>NaN</td>\n",
       "      <td>NaN</td>\n",
       "      <td>NaN</td>\n",
       "      <td>NaN</td>\n",
       "      <td>NaN</td>\n",
       "      <td>NaN</td>\n",
       "      <td>NaN</td>\n",
       "      <td>NaN</td>\n",
       "      <td>...</td>\n",
       "      <td>NaN</td>\n",
       "      <td>NaN</td>\n",
       "      <td>NaN</td>\n",
       "      <td>NaN</td>\n",
       "      <td>NaN</td>\n",
       "      <td>NaN</td>\n",
       "      <td>NaN</td>\n",
       "      <td>NaN</td>\n",
       "      <td>NaN</td>\n",
       "      <td>NaN</td>\n",
       "    </tr>\n",
       "    <tr>\n",
       "      <th>max</th>\n",
       "      <td>NaN</td>\n",
       "      <td>NaN</td>\n",
       "      <td>NaN</td>\n",
       "      <td>NaN</td>\n",
       "      <td>NaN</td>\n",
       "      <td>NaN</td>\n",
       "      <td>NaN</td>\n",
       "      <td>NaN</td>\n",
       "      <td>NaN</td>\n",
       "      <td>NaN</td>\n",
       "      <td>...</td>\n",
       "      <td>50.000000</td>\n",
       "      <td>10.0</td>\n",
       "      <td>19.000000</td>\n",
       "      <td>6.0</td>\n",
       "      <td>7.0</td>\n",
       "      <td>9.166667</td>\n",
       "      <td>6.714286</td>\n",
       "      <td>13.800000</td>\n",
       "      <td>49.500000</td>\n",
       "      <td>4.333333</td>\n",
       "    </tr>\n",
       "  </tbody>\n",
       "</table>\n",
       "<p>11 rows × 429 columns</p>\n",
       "</div>"
      ],
      "text/plain": [
       "       alternate-recipient          approved             auto-submitted  \\\n",
       "count                    6                 4                         15   \n",
       "unique                   2                 1                          2   \n",
       "top                allowed   yes (127.0.0.1)   auto-generated (failure)   \n",
       "freq                     3                 4                          9   \n",
       "mean                   NaN               NaN                        NaN   \n",
       "std                    NaN               NaN                        NaN   \n",
       "min                    NaN               NaN                        NaN   \n",
       "25%                    NaN               NaN                        NaN   \n",
       "50%                    NaN               NaN                        NaN   \n",
       "75%                    NaN               NaN                        NaN   \n",
       "max                    NaN               NaN                        NaN   \n",
       "\n",
       "                                                      bcc  \\\n",
       "count                                                2197   \n",
       "unique                                               1174   \n",
       "top      albert.meyers#####, bill.williams#####, craig...   \n",
       "freq                                                  389   \n",
       "mean                                                  NaN   \n",
       "std                                                   NaN   \n",
       "min                                                   NaN   \n",
       "25%                                                   NaN   \n",
       "50%                                                   NaN   \n",
       "75%                                                   NaN   \n",
       "max                                                   NaN   \n",
       "\n",
       "                                                     body  \\\n",
       "count                                                9989   \n",
       "unique                                               9768   \n",
       "top     <!doctype html public \"-//w3c//dtd html 3.2//e...   \n",
       "freq                                                   25   \n",
       "mean                                                  NaN   \n",
       "std                                                   NaN   \n",
       "min                                                   NaN   \n",
       "25%                                                   NaN   \n",
       "50%                                                   NaN   \n",
       "75%                                                   NaN   \n",
       "max                                                   NaN   \n",
       "\n",
       "                                                       cc         comments  \\\n",
       "count                                                2394               12   \n",
       "unique                                               1325                1   \n",
       "top      albert.meyers#####, bill.williams#####, craig...   this is a test   \n",
       "freq                                                  389               12   \n",
       "mean                                                  NaN              NaN   \n",
       "std                                                   NaN              NaN   \n",
       "min                                                   NaN              NaN   \n",
       "25%                                                   NaN              NaN   \n",
       "50%                                                   NaN              NaN   \n",
       "75%                                                   NaN              NaN   \n",
       "max                                                   NaN              NaN   \n",
       "\n",
       "               content-alias                 content-class  \\\n",
       "count                      1                             9   \n",
       "unique                     1                             1   \n",
       "top      9506728538872388031   urn:content-classes:message   \n",
       "freq                       1                             9   \n",
       "mean                     NaN                           NaN   \n",
       "std                      NaN                           NaN   \n",
       "min                      NaN                           NaN   \n",
       "25%                      NaN                           NaN   \n",
       "50%                      NaN                           NaN   \n",
       "75%                      NaN                           NaN   \n",
       "max                      NaN                           NaN   \n",
       "\n",
       "       content-disposition            ...             x-from_avgWordSize  \\\n",
       "count                   15            ...                    5001.000000   \n",
       "unique                  11            ...                            NaN   \n",
       "top                 inline            ...                            NaN   \n",
       "freq                     3            ...                            NaN   \n",
       "mean                   NaN            ...                      11.384580   \n",
       "std                    NaN            ...                       6.582935   \n",
       "min                    NaN            ...                       2.333333   \n",
       "25%                    NaN            ...                            NaN   \n",
       "50%                    NaN            ...                            NaN   \n",
       "75%                    NaN            ...                            NaN   \n",
       "max                    NaN            ...                      50.000000   \n",
       "\n",
       "       x-ironport-av_avgWordSize x-mailer_avgWordSize  \\\n",
       "count                        1.0           860.000000   \n",
       "unique                       NaN                  NaN   \n",
       "top                          NaN                  NaN   \n",
       "freq                         NaN                  NaN   \n",
       "mean                        10.0            11.629779   \n",
       "std                          NaN             5.672842   \n",
       "min                         10.0             0.000000   \n",
       "25%                          NaN                  NaN   \n",
       "50%                          NaN                  NaN   \n",
       "75%                          NaN                  NaN   \n",
       "max                         10.0            19.000000   \n",
       "\n",
       "       x-mdav-processed_avgWordSize x-mimetrack_avgWordSize  \\\n",
       "count                           1.0                     1.0   \n",
       "unique                          NaN                     NaN   \n",
       "top                             NaN                     NaN   \n",
       "freq                            NaN                     NaN   \n",
       "mean                            6.0                     7.0   \n",
       "std                             NaN                     NaN   \n",
       "min                             6.0                     7.0   \n",
       "25%                             NaN                     NaN   \n",
       "50%                             NaN                     NaN   \n",
       "75%                             NaN                     NaN   \n",
       "max                             6.0                     7.0   \n",
       "\n",
       "       x-originalarrivaltime_avgWordSize x-spam-processed_avgWordSize  \\\n",
       "count                          24.000000                     1.000000   \n",
       "unique                               NaN                          NaN   \n",
       "top                                  NaN                          NaN   \n",
       "freq                                 NaN                          NaN   \n",
       "mean                            8.890625                     6.714286   \n",
       "std                             1.037187                          NaN   \n",
       "min                             4.333333                     6.714286   \n",
       "25%                                  NaN                          NaN   \n",
       "50%                                  NaN                          NaN   \n",
       "75%                                  NaN                          NaN   \n",
       "max                             9.166667                     6.714286   \n",
       "\n",
       "       x-spam-status_avgWordSize x-to_avgWordSize x-webmail-time_avgWordSize  \n",
       "count                   5.000000      5000.000000                   4.000000  \n",
       "unique                       NaN              NaN                        NaN  \n",
       "top                          NaN              NaN                        NaN  \n",
       "freq                         NaN              NaN                        NaN  \n",
       "mean                   12.413333        11.383116                   4.333333  \n",
       "std                     0.808840         6.481160                   0.000000  \n",
       "min                    11.666667         0.000000                   4.333333  \n",
       "25%                          NaN              NaN                        NaN  \n",
       "50%                          NaN              NaN                        NaN  \n",
       "75%                          NaN              NaN                        NaN  \n",
       "max                    13.800000        49.500000                   4.333333  \n",
       "\n",
       "[11 rows x 429 columns]"
      ]
     },
     "execution_count": 18,
     "metadata": {},
     "output_type": "execute_result"
    }
   ],
   "source": [
    "table.describe(include = 'all')"
   ]
  },
  {
   "cell_type": "code",
   "execution_count": 10,
   "metadata": {
    "ExecuteTime": {
     "end_time": "2016-09-18T19:28:43.388377",
     "start_time": "2016-09-18T19:28:39.481999"
    },
    "collapsed": false
   },
   "outputs": [
    {
     "data": {
      "text/plain": [
       "<matplotlib.axes._subplots.AxesSubplot at 0x7f3d41268f10>"
      ]
     },
     "execution_count": 10,
     "metadata": {},
     "output_type": "execute_result"
    },
    {
     "data": {
      "image/png": "[encoded data removed]",
      "text/plain": [
       "<matplotlib.figure.Figure at 0x7f3d415d3950>"
      ]
     },
     "metadata": {},
     "output_type": "display_data"
    }
   ],
   "source": [
    "a = table[[x for x in table.columns if '_' not in x]].apply(pandas.Series.nunique)\n",
    "a[a < 100].hist(bins = 100)"
   ]
  },
  {
   "cell_type": "code",
   "execution_count": 67,
   "metadata": {
    "ExecuteTime": {
     "end_time": "2016-09-18T19:43:09.980363",
     "start_time": "2016-09-18T19:43:09.962442"
    },
    "collapsed": false,
    "scrolled": true
   },
   "outputs": [
    {
     "data": {
      "text/plain": [
       "urn:content-classes:message            1184\n",
       "urn:content-classes:appointment         130\n",
       "urn:content-classes:message/text         68\n",
       "urn:content-classes:NEWSLETTER           66\n",
       "urn:content-classes:newsletter           33\n",
       "urn:content-classes:calendarmessage      20\n",
       "urn:content-classes:mdn                   4\n",
       "hh:content-classes:message                1\n",
       "n:content-classes:message                 1\n",
       "nyu:content-classes:message               1\n",
       "ojr:content-classes:message               1\n",
       "w:content-classes:message                 1\n",
       "xa:content-classes:message                1\n",
       "k:content-classes:message                 1\n",
       "odc:content-classes:message               1\n",
       "i:content-classes:message                 1\n",
       "ff:content-classes:message                1\n",
       "ss:content-classes:message                1\n",
       "nls:content-classes:message               1\n",
       "rvn:content-classes:message               1\n",
       "Name: Content-Class, dtype: int64"
      ]
     },
     "execution_count": 67,
     "metadata": {},
     "output_type": "execute_result"
    }
   ],
   "source": [
    "table['Content-Class'].str.strip().value_counts()"
   ]
  },
  {
   "cell_type": "code",
   "execution_count": 45,
   "metadata": {
    "ExecuteTime": {
     "end_time": "2016-09-18T19:38:23.733526",
     "start_time": "2016-09-18T19:38:19.187526"
    },
    "collapsed": false
   },
   "outputs": [],
   "source": [
    "cols = table[[x for x in table.columns if '_' not in x]]\n",
    "a = pandas.DataFrame({\n",
    "        'nunique': cols.apply(pandas.Series.nunique),\n",
    "        'notnull': cols.count()\n",
    "})"
   ]
  },
  {
   "cell_type": "code",
   "execution_count": 66,
   "metadata": {
    "ExecuteTime": {
     "end_time": "2016-09-18T19:43:00.408478",
     "start_time": "2016-09-18T19:43:00.369778"
    },
    "collapsed": false,
    "scrolled": true
   },
   "outputs": [
    {
     "data": {
      "text/html": [
       "<div>\n",
       "<table border=\"1\" class=\"dataframe\">\n",
       "  <thead>\n",
       "    <tr style=\"text-align: right;\">\n",
       "      <th></th>\n",
       "      <th>notnull</th>\n",
       "      <th>nunique</th>\n",
       "    </tr>\n",
       "  </thead>\n",
       "  <tbody>\n",
       "    <tr>\n",
       "      <th>linesep</th>\n",
       "      <td>80841</td>\n",
       "      <td>2</td>\n",
       "    </tr>\n",
       "    <tr>\n",
       "      <th>mime-version</th>\n",
       "      <td>35462</td>\n",
       "      <td>12</td>\n",
       "    </tr>\n",
       "    <tr>\n",
       "      <th>content-transfer-encoding</th>\n",
       "      <td>30458</td>\n",
       "      <td>7</td>\n",
       "    </tr>\n",
       "    <tr>\n",
       "      <th>Content-Transfer-Encoding</th>\n",
       "      <td>24288</td>\n",
       "      <td>16</td>\n",
       "    </tr>\n",
       "    <tr>\n",
       "      <th>x-bcc</th>\n",
       "      <td>17179</td>\n",
       "      <td>7</td>\n",
       "    </tr>\n",
       "    <tr>\n",
       "      <th>x-filename</th>\n",
       "      <td>17179</td>\n",
       "      <td>17</td>\n",
       "    </tr>\n",
       "    <tr>\n",
       "      <th>x-origin</th>\n",
       "      <td>17179</td>\n",
       "      <td>7</td>\n",
       "    </tr>\n",
       "    <tr>\n",
       "      <th>X-MS-Has-Attach</th>\n",
       "      <td>14865</td>\n",
       "      <td>3</td>\n",
       "    </tr>\n",
       "    <tr>\n",
       "      <th>x-priority</th>\n",
       "      <td>14862</td>\n",
       "      <td>9</td>\n",
       "    </tr>\n",
       "    <tr>\n",
       "      <th>content-class</th>\n",
       "      <td>13926</td>\n",
       "      <td>5</td>\n",
       "    </tr>\n",
       "    <tr>\n",
       "      <th>x-msmail-priority</th>\n",
       "      <td>13883</td>\n",
       "      <td>5</td>\n",
       "    </tr>\n",
       "    <tr>\n",
       "      <th>X-Priority</th>\n",
       "      <td>11066</td>\n",
       "      <td>19</td>\n",
       "    </tr>\n",
       "    <tr>\n",
       "      <th>X-MSMail-Priority</th>\n",
       "      <td>8018</td>\n",
       "      <td>7</td>\n",
       "    </tr>\n",
       "    <tr>\n",
       "      <th>Mime-Version</th>\n",
       "      <td>5070</td>\n",
       "      <td>10</td>\n",
       "    </tr>\n",
       "    <tr>\n",
       "      <th>Importance</th>\n",
       "      <td>2047</td>\n",
       "      <td>8</td>\n",
       "    </tr>\n",
       "    <tr>\n",
       "      <th>X-Mimeole</th>\n",
       "      <td>1597</td>\n",
       "      <td>10</td>\n",
       "    </tr>\n",
       "    <tr>\n",
       "      <th>Content-Class</th>\n",
       "      <td>1518</td>\n",
       "      <td>20</td>\n",
       "    </tr>\n",
       "    <tr>\n",
       "      <th>Priority</th>\n",
       "      <td>966</td>\n",
       "      <td>5</td>\n",
       "    </tr>\n",
       "    <tr>\n",
       "      <th>MIME-version</th>\n",
       "      <td>635</td>\n",
       "      <td>1</td>\n",
       "    </tr>\n",
       "    <tr>\n",
       "      <th>x-unsent</th>\n",
       "      <td>584</td>\n",
       "      <td>1</td>\n",
       "    </tr>\n",
       "    <tr>\n",
       "      <th>importance</th>\n",
       "      <td>551</td>\n",
       "      <td>5</td>\n",
       "    </tr>\n",
       "    <tr>\n",
       "      <th>X-Accept-Language</th>\n",
       "      <td>537</td>\n",
       "      <td>10</td>\n",
       "    </tr>\n",
       "    <tr>\n",
       "      <th>Precedence</th>\n",
       "      <td>513</td>\n",
       "      <td>5</td>\n",
       "    </tr>\n",
       "    <tr>\n",
       "      <th>X-Unsent</th>\n",
       "      <td>384</td>\n",
       "      <td>1</td>\n",
       "    </tr>\n",
       "    <tr>\n",
       "      <th>Bcc</th>\n",
       "      <td>365</td>\n",
       "      <td>4</td>\n",
       "    </tr>\n",
       "    <tr>\n",
       "      <th>Mailing-List</th>\n",
       "      <td>250</td>\n",
       "      <td>12</td>\n",
       "    </tr>\n",
       "    <tr>\n",
       "      <th>Content-transfer-encoding</th>\n",
       "      <td>248</td>\n",
       "      <td>6</td>\n",
       "    </tr>\n",
       "    <tr>\n",
       "      <th>X-Commissioner-league</th>\n",
       "      <td>186</td>\n",
       "      <td>5</td>\n",
       "    </tr>\n",
       "    <tr>\n",
       "      <th>X-Commissioner-id</th>\n",
       "      <td>186</td>\n",
       "      <td>8</td>\n",
       "    </tr>\n",
       "    <tr>\n",
       "      <th>Sensitivity</th>\n",
       "      <td>182</td>\n",
       "      <td>10</td>\n",
       "    </tr>\n",
       "    <tr>\n",
       "      <th>...</th>\n",
       "      <td>...</td>\n",
       "      <td>...</td>\n",
       "    </tr>\n",
       "    <tr>\n",
       "      <th>X-NAI-Spam-Level</th>\n",
       "      <td>1</td>\n",
       "      <td>1</td>\n",
       "    </tr>\n",
       "    <tr>\n",
       "      <th>X-NAI-Modified</th>\n",
       "      <td>1</td>\n",
       "      <td>1</td>\n",
       "    </tr>\n",
       "    <tr>\n",
       "      <th>X-Mimer-ProcessedID</th>\n",
       "      <td>1</td>\n",
       "      <td>1</td>\n",
       "    </tr>\n",
       "    <tr>\n",
       "      <th>X-Messageid</th>\n",
       "      <td>1</td>\n",
       "      <td>1</td>\n",
       "    </tr>\n",
       "    <tr>\n",
       "      <th>XMailing-Id</th>\n",
       "      <td>1</td>\n",
       "      <td>1</td>\n",
       "    </tr>\n",
       "    <tr>\n",
       "      <th>Xref</th>\n",
       "      <td>1</td>\n",
       "      <td>1</td>\n",
       "    </tr>\n",
       "    <tr>\n",
       "      <th>X-Mailman-Approved-At</th>\n",
       "      <td>1</td>\n",
       "      <td>1</td>\n",
       "    </tr>\n",
       "    <tr>\n",
       "      <th>auth-sender</th>\n",
       "      <td>1</td>\n",
       "      <td>1</td>\n",
       "    </tr>\n",
       "    <tr>\n",
       "      <th>X-MailSessionID</th>\n",
       "      <td>1</td>\n",
       "      <td>1</td>\n",
       "    </tr>\n",
       "    <tr>\n",
       "      <th>X-MailScanner-SpamCheck</th>\n",
       "      <td>1</td>\n",
       "      <td>1</td>\n",
       "    </tr>\n",
       "    <tr>\n",
       "      <th>bounces-to</th>\n",
       "      <td>1</td>\n",
       "      <td>1</td>\n",
       "    </tr>\n",
       "    <tr>\n",
       "      <th>X-MSmswerzb-Priority</th>\n",
       "      <td>1</td>\n",
       "      <td>1</td>\n",
       "    </tr>\n",
       "    <tr>\n",
       "      <th>X-MMLanguage</th>\n",
       "      <td>1</td>\n",
       "      <td>1</td>\n",
       "    </tr>\n",
       "    <tr>\n",
       "      <th>content-Transfer-Encoding</th>\n",
       "      <td>1</td>\n",
       "      <td>1</td>\n",
       "    </tr>\n",
       "    <tr>\n",
       "      <th>content-Type</th>\n",
       "      <td>1</td>\n",
       "      <td>1</td>\n",
       "    </tr>\n",
       "    <tr>\n",
       "      <th>X-ME-UUID</th>\n",
       "      <td>1</td>\n",
       "      <td>1</td>\n",
       "    </tr>\n",
       "    <tr>\n",
       "      <th>X-Loop-Check</th>\n",
       "      <td>1</td>\n",
       "      <td>1</td>\n",
       "    </tr>\n",
       "    <tr>\n",
       "      <th>X-ListVersion</th>\n",
       "      <td>1</td>\n",
       "      <td>1</td>\n",
       "    </tr>\n",
       "    <tr>\n",
       "      <th>X-ListServer</th>\n",
       "      <td>1</td>\n",
       "      <td>1</td>\n",
       "    </tr>\n",
       "    <tr>\n",
       "      <th>X-ListMember</th>\n",
       "      <td>1</td>\n",
       "      <td>1</td>\n",
       "    </tr>\n",
       "    <tr>\n",
       "      <th>X-LSMTP-Document-Id</th>\n",
       "      <td>1</td>\n",
       "      <td>1</td>\n",
       "    </tr>\n",
       "    <tr>\n",
       "      <th>X-Junkmail-Status</th>\n",
       "      <td>1</td>\n",
       "      <td>1</td>\n",
       "    </tr>\n",
       "    <tr>\n",
       "      <th>eceived</th>\n",
       "      <td>1</td>\n",
       "      <td>1</td>\n",
       "    </tr>\n",
       "    <tr>\n",
       "      <th>X-Junkmail-SD-Raw</th>\n",
       "      <td>1</td>\n",
       "      <td>1</td>\n",
       "    </tr>\n",
       "    <tr>\n",
       "      <th>X-Junkmail</th>\n",
       "      <td>1</td>\n",
       "      <td>1</td>\n",
       "    </tr>\n",
       "    <tr>\n",
       "      <th>iPlanet-SMTP-Warning</th>\n",
       "      <td>1</td>\n",
       "      <td>1</td>\n",
       "    </tr>\n",
       "    <tr>\n",
       "      <th>X-Iden-Server</th>\n",
       "      <td>1</td>\n",
       "      <td>1</td>\n",
       "    </tr>\n",
       "    <tr>\n",
       "      <th>keywords</th>\n",
       "      <td>1</td>\n",
       "      <td>1</td>\n",
       "    </tr>\n",
       "    <tr>\n",
       "      <th>list-archive</th>\n",
       "      <td>1</td>\n",
       "      <td>1</td>\n",
       "    </tr>\n",
       "    <tr>\n",
       "      <th>-Message-Info</th>\n",
       "      <td>1</td>\n",
       "      <td>1</td>\n",
       "    </tr>\n",
       "  </tbody>\n",
       "</table>\n",
       "<p>719 rows × 2 columns</p>\n",
       "</div>"
      ],
      "text/plain": [
       "                           notnull  nunique\n",
       "linesep                      80841        2\n",
       "mime-version                 35462       12\n",
       "content-transfer-encoding    30458        7\n",
       "Content-Transfer-Encoding    24288       16\n",
       "x-bcc                        17179        7\n",
       "x-filename                   17179       17\n",
       "x-origin                     17179        7\n",
       "X-MS-Has-Attach              14865        3\n",
       "x-priority                   14862        9\n",
       "content-class                13926        5\n",
       "x-msmail-priority            13883        5\n",
       "X-Priority                   11066       19\n",
       "X-MSMail-Priority             8018        7\n",
       "Mime-Version                  5070       10\n",
       "Importance                    2047        8\n",
       "X-Mimeole                     1597       10\n",
       "Content-Class                 1518       20\n",
       "Priority                       966        5\n",
       "MIME-version                   635        1\n",
       "x-unsent                       584        1\n",
       "importance                     551        5\n",
       "X-Accept-Language              537       10\n",
       "Precedence                     513        5\n",
       "X-Unsent                       384        1\n",
       "Bcc                            365        4\n",
       "Mailing-List                   250       12\n",
       "Content-transfer-encoding      248        6\n",
       "X-Commissioner-league          186        5\n",
       "X-Commissioner-id              186        8\n",
       "Sensitivity                    182       10\n",
       "...                            ...      ...\n",
       "X-NAI-Spam-Level                 1        1\n",
       "X-NAI-Modified                   1        1\n",
       "X-Mimer-ProcessedID              1        1\n",
       "X-Messageid                      1        1\n",
       "XMailing-Id                      1        1\n",
       "Xref                             1        1\n",
       "X-Mailman-Approved-At            1        1\n",
       "auth-sender                      1        1\n",
       "X-MailSessionID                  1        1\n",
       "X-MailScanner-SpamCheck          1        1\n",
       "bounces-to                       1        1\n",
       "X-MSmswerzb-Priority             1        1\n",
       "X-MMLanguage                     1        1\n",
       "content-Transfer-Encoding        1        1\n",
       "content-Type                     1        1\n",
       "X-ME-UUID                        1        1\n",
       "X-Loop-Check                     1        1\n",
       "X-ListVersion                    1        1\n",
       "X-ListServer                     1        1\n",
       "X-ListMember                     1        1\n",
       "X-LSMTP-Document-Id              1        1\n",
       "X-Junkmail-Status                1        1\n",
       "eceived                          1        1\n",
       "X-Junkmail-SD-Raw                1        1\n",
       "X-Junkmail                       1        1\n",
       "iPlanet-SMTP-Warning             1        1\n",
       "X-Iden-Server                    1        1\n",
       "keywords                         1        1\n",
       "list-archive                     1        1\n",
       "-Message-Info                    1        1\n",
       "\n",
       "[719 rows x 2 columns]"
      ]
     },
     "execution_count": 66,
     "metadata": {},
     "output_type": "execute_result"
    }
   ],
   "source": [
    "a[a.nunique <= 20].sort_values(by = 'notnull', ascending = False)"
   ]
  },
  {
   "cell_type": "markdown",
   "metadata": {
    "ExecuteTime": {
     "end_time": "2016-09-18T19:43:43.881478",
     "start_time": "2016-09-18T19:43:43.875454"
    }
   },
   "source": [
    "# Categorization and OneHotEncoding"
   ]
  },
  {
   "cell_type": "code",
   "execution_count": 93,
   "metadata": {
    "ExecuteTime": {
     "end_time": "2016-09-18T19:53:08.850064",
     "start_time": "2016-09-18T19:53:08.846452"
    },
    "collapsed": false
   },
   "outputs": [],
   "source": [
    "from sklearn.preprocessing import OneHotEncoder\n",
    "from sklearn.feature_extraction import DictVectorizer"
   ]
  },
  {
   "cell_type": "code",
   "execution_count": null,
   "metadata": {
    "ExecuteTime": {
     "start_time": "2016-09-18T23:09:28.487Z"
    },
    "collapsed": false
   },
   "outputs": [],
   "source": [
    "smol = table[[x for x in table.columns if\n",
    "    '_' not in x and\n",
    "    'bcc' not in x and\n",
    "    table[x].nunique() <= 20 and\n",
    "    table[x].count() >= 500\n",
    "]]"
   ]
  },
  {
   "cell_type": "code",
   "execution_count": null,
   "metadata": {
    "ExecuteTime": {
     "start_time": "2016-09-18T23:09:28.639Z"
    },
    "collapsed": false
   },
   "outputs": [],
   "source": [
    "dv = DictVectorizer()\n",
    "dicts = dv.fit_transform(smol.fillna('NaN').T.to_dict().values())"
   ]
  },
  {
   "cell_type": "code",
   "execution_count": null,
   "metadata": {
    "ExecuteTime": {
     "start_time": "2016-09-18T23:09:28.797Z"
    },
    "collapsed": false
   },
   "outputs": [],
   "source": [
    "ohe = OneHotEncoder()\n",
    "a = ohe.fit_transform(dicts.toarray())"
   ]
  },
  {
   "cell_type": "code",
   "execution_count": null,
   "metadata": {
    "ExecuteTime": {
     "start_time": "2016-09-18T23:09:28.992Z"
    },
    "collapsed": false
   },
   "outputs": [],
   "source": [
    "a[:5, :5].toarray()"
   ]
  },
  {
   "cell_type": "code",
   "execution_count": null,
   "metadata": {
    "ExecuteTime": {
     "start_time": "2016-09-18T23:09:30.917Z"
    },
    "collapsed": false
   },
   "outputs": [],
   "source": [
    "a"
   ]
  },
  {
   "cell_type": "code",
   "execution_count": null,
   "metadata": {
    "ExecuteTime": {
     "start_time": "2016-09-18T23:09:31.259Z"
    },
    "collapsed": false
   },
   "outputs": [],
   "source": [
    "len(dv.vocabulary_)"
   ]
  },
  {
   "cell_type": "markdown",
   "metadata": {},
   "source": [
    "# Whitespace"
   ]
  },
  {
   "cell_type": "markdown",
   "metadata": {},
   "source": [
    "&nbsp;\n",
    "\n",
    "&nbsp;\n",
    "\n",
    "&nbsp;\n",
    "\n",
    "&nbsp;\n",
    "\n",
    "&nbsp;\n",
    "\n",
    "&nbsp;\n",
    "\n",
    "&nbsp;\n",
    "\n",
    "&nbsp;\n",
    "\n",
    "&nbsp;\n",
    "\n",
    "&nbsp;\n",
    "\n",
    "&nbsp;\n",
    "\n",
    "&nbsp;\n",
    "\n",
    "&nbsp;\n",
    "\n",
    "&nbsp;\n",
    "\n",
    "&nbsp;\n",
    "\n",
    "&nbsp;\n",
    "\n",
    "&nbsp;\n",
    "\n",
    "&nbsp;\n",
    "\n",
    "&nbsp;\n",
    "\n",
    "&nbsp;\n",
    "\n",
    "&nbsp;\n",
    "\n",
    "&nbsp;\n",
    "\n",
    "&nbsp;\n",
    "\n",
    "&nbsp;\n",
    "\n",
    "&nbsp;\n",
    "\n",
    "&nbsp;\n",
    "\n",
    "&nbsp;\n",
    "\n",
    "&nbsp;\n",
    "\n",
    "&nbsp;\n",
    "\n",
    "&nbsp;\n",
    "\n",
    "&nbsp;\n",
    "\n",
    "&nbsp;\n",
    "\n",
    "&nbsp;\n",
    "\n",
    "&nbsp;\n",
    "\n",
    "&nbsp;\n",
    "\n",
    "&nbsp;\n",
    "\n",
    "&nbsp;\n",
    "\n",
    "&nbsp;\n",
    "\n",
    "&nbsp;\n",
    "\n",
    "&nbsp;\n",
    "\n",
    "&nbsp;\n",
    "\n",
    "&nbsp;\n",
    "\n",
    "&nbsp;\n",
    "\n",
    "&nbsp;\n",
    "\n",
    "&nbsp;\n",
    "\n",
    "&nbsp;\n",
    "\n",
    "&nbsp;\n",
    "\n",
    "&nbsp;\n",
    "\n",
    "&nbsp;\n",
    "\n",
    "&nbsp;\n",
    "\n",
    "&nbsp;\n",
    "\n",
    "&nbsp;\n",
    "\n",
    "&nbsp;\n",
    "\n",
    "&nbsp;\n",
    "\n"
   ]
  }
 ],
 "metadata": {
  "kernelspec": {
   "display_name": "Python 2",
   "language": "python2",
   "name": "python2"
  },
  "language_info": {
   "codemirror_mode": {
    "name": "ipython",
    "version": 2
   },
   "file_extension": ".py",
   "mimetype": "text/x-python",
   "name": "python",
   "nbconvert_exporter": "python",
   "pygments_lexer": "ipython2",
   "version": "2.7.12"
  },
  "latex_envs": {
   "bibliofile": "biblio.bib",
   "cite_by": "apalike",
   "current_citInitial": 1,
   "eqLabelWithNumbers": true,
   "eqNumInitial": 0
  },
  "notify_time": "10"
 },
 "nbformat": 4,
 "nbformat_minor": 1
}

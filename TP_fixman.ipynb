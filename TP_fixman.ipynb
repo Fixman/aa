{
 "cells": [
  {
   "cell_type": "code",
   "execution_count": 2,
   "metadata": {
    "collapsed": false
   },
   "outputs": [
    {
     "name": "stderr",
     "output_type": "stream",
     "text": [
      "/media/libre/venv/local/lib/python2.7/site-packages/matplotlib/font_manager.py:273: UserWarning: Matplotlib is building the font cache using fc-list. This may take a moment.\n",
      "  warnings.warn('Matplotlib is building the font cache using fc-list. This may take a moment.')\n"
     ]
    },
    {
     "name": "stdout",
     "output_type": "stream",
     "text": [
      "Populating the interactive namespace from numpy and matplotlib\n"
     ]
    }
   ],
   "source": [
    "%pylab inline\n",
    "\n",
    "from __future__ import print_function\n",
    "from __future__ import division\n",
    "\n",
    "import sklearn\n",
    "import numpy\n",
    "import scipy\n",
    "import pandas\n",
    "import matplotlib\n",
    "import seaborn\n",
    "\n",
    "import json\n",
    "import re\n",
    "\n",
    "from matplotlib import pyplot\n",
    "from collections import Counter"
   ]
  },
  {
   "cell_type": "code",
   "execution_count": 3,
   "metadata": {
    "collapsed": true
   },
   "outputs": [],
   "source": [
    "rcParams['figure.figsize'] = 15, 8"
   ]
  },
  {
   "cell_type": "markdown",
   "metadata": {},
   "source": [
    "# Getting messages"
   ]
  },
  {
   "cell_type": "code",
   "execution_count": 115,
   "metadata": {
    "collapsed": false
   },
   "outputs": [],
   "source": [
    "def getlinesep(mail):\n",
    "    lineseps = ['\\r\\n', '\\n']\n",
    "    return next(x for x in lineseps if 2 * x in mail)\n",
    "\n",
    "def parse(mail):\n",
    "    ls = getlinesep(mail)\n",
    "    bs = 2 * ls\n",
    "    \n",
    "    header, body = mail.split(bs, 1)\n",
    "    header = header.replace(ls + '\\t', ' ').replace(ls + ' ', ' ')\n",
    "    \n",
    "    header = [(x, y) for x, y in [z.split(':', 1) for z in header.split(ls)]]\n",
    "    body = ('body', body)\n",
    "    \n",
    "    return header + [body] + [('linesep', ls)]\n",
    "\n",
    "def try_parse(mail):\n",
    "    try:\n",
    "        return parse(mail)\n",
    "    except ValueError:\n",
    "        return {'unparseable': True, 'reason': 'badheader'}\n",
    "    except StopIteration:\n",
    "        return {'unparseable': True, 'reason': 'nosep'}"
   ]
  },
  {
   "cell_type": "markdown",
   "metadata": {},
   "source": [
    "## End test"
   ]
  },
  {
   "cell_type": "code",
   "execution_count": null,
   "metadata": {
    "collapsed": false
   },
   "outputs": [],
   "source": [
    "ham_json = json.load(open('data/ham_train.json'))\n",
    "ham = map(try_parse, ham_json)\n",
    "print('{}/{} unparseable messages'.format(len([x for x in ham if 'unparseable' in x]), len(ham_json)))"
   ]
  },
  {
   "cell_type": "code",
   "execution_count": null,
   "metadata": {
    "collapsed": false
   },
   "outputs": [],
   "source": [
    "spam_json = json.load(open('data/spam_train.json'))\n",
    "spam = map(try_parse, spam_json)\n",
    "print('{}/{} unparseable messages'.format(len([x for x in spam if 'unparseable' in x])), len(spam_json))"
   ]
  },
  {
   "cell_type": "code",
   "execution_count": null,
   "metadata": {
    "collapsed": true
   },
   "outputs": [],
   "source": [
    "def key_barplot(p, limit = 0):\n",
    "    from operator import itemgetter\n",
    "    keys = __builtin__.sum((Counter(x.keys()) for x in p), Counter())\n",
    "    vals = sorted(((x, y) for x, y in keys.iteritems() if y > limit), key = itemgetter(1))\n",
    "    pyplot.xticks(rotation = 90)\n",
    "    seaborn.barplot(map(itemgetter(0), vals), map(itemgetter(1), vals))"
   ]
  },
  {
   "cell_type": "code",
   "execution_count": null,
   "metadata": {
    "collapsed": false
   },
   "outputs": [],
   "source": [
    "key_barplot(ham, limit = 5)"
   ]
  },
  {
   "cell_type": "code",
   "execution_count": null,
   "metadata": {
    "collapsed": false
   },
   "outputs": [],
   "source": [
    "key_barplot(spam, limit = 0)"
   ]
  },
  {
   "cell_type": "markdown",
   "metadata": {},
   "source": [
    "# Testing"
   ]
  },
  {
   "cell_type": "code",
   "execution_count": 43,
   "metadata": {
    "collapsed": true
   },
   "outputs": [],
   "source": [
    "import re"
   ]
  },
  {
   "cell_type": "code",
   "execution_count": 1,
   "metadata": {
    "collapsed": false
   },
   "outputs": [],
   "source": [
    "def parse(t):\n",
    "    return [\n",
    "        # tuple(x.rsplit(':', 1)) if re.match(r'\\S*:', x) else ('message', x)\n",
    "        tuple(x.rsplit(':', 1))\n",
    "        for x in t.split('\\r\\n')\n",
    "    ]"
   ]
  },
  {
   "cell_type": "code",
   "execution_count": 51,
   "metadata": {
    "collapsed": false
   },
   "outputs": [
    {
     "data": {
      "text/plain": [
       "[(u'message-id', u' <13247446.1075856567056.javamail.evans#####>'),\n",
       " (u'date: mon, 26 jun 2000 14:22', u'00 -0700 (pdt)'),\n",
       " (u'from', u' vkaminski#####'),\n",
       " (u'to', u' chris#####'),\n",
       " (u'subject: re', u' eprm articles'),\n",
       " (u'cc', u' vkaminski#####, vkamins#####'),\n",
       " (u'mime-version', u' 1.0'),\n",
       " (u'content-type', u' text/plain; charset=us-ascii'),\n",
       " (u'content-transfer-encoding', u' 7bit'),\n",
       " (u'bcc', u' vkaminski#####, vkamins#####'),\n",
       " (u'x-from', u' vkaminski#####'),\n",
       " (u'x-to', u' chris#####'),\n",
       " (u'x-cc', u' vkaminski#####, vkamins#####'),\n",
       " (u'x-bcc', u' '),\n",
       " (u'x-origin', u' kaminski-v'),\n",
       " (u'x-filename', u' vkamins.nsf'),\n",
       " (u'',),\n",
       " (u\"chris,\\n\\nthanks for the invitation. the evening of july the 18th is fine  with me.\\n\\nthe list looks fine and it can be easily expanded, if the first set of\\narticles is well received. i shall prepare a list of topics that occupy us\\nevery day and that we could write about without revealing the details of our\\nproprietary research.\\n\\nplease, feel free to send the message from lacima. i think that it's better\\nfor us to sign the articles with our names, giving our respective\\naffiliations. in this way, ##### gets the credit, but not the liability if\\nthere is any error in an article.\\n\\nhope to see you soon.\\n\\nvince\",)]"
      ]
     },
     "execution_count": 51,
     "metadata": {},
     "output_type": "execute_result"
    }
   ],
   "source": [
    "parse(ham_json[0])"
   ]
  },
  {
   "cell_type": "code",
   "execution_count": 53,
   "metadata": {
    "collapsed": false
   },
   "outputs": [
    {
     "data": {
      "text/plain": [
       "[u'message-id: <13247446.1075856567056.javamail.evans#####>',\n",
       " u'date: mon, 26 jun 2000 14:22:00 -0700 (pdt)',\n",
       " u'from: vkaminski#####',\n",
       " u'to: chris#####',\n",
       " u'subject: re: eprm articles',\n",
       " u'cc: vkaminski#####, vkamins#####',\n",
       " u'mime-version: 1.0',\n",
       " u'content-type: text/plain; charset=us-ascii',\n",
       " u'content-transfer-encoding: 7bit',\n",
       " u'bcc: vkaminski#####, vkamins#####',\n",
       " u'x-from: vkaminski#####',\n",
       " u'x-to: chris#####',\n",
       " u'x-cc: vkaminski#####, vkamins#####',\n",
       " u'x-bcc: ',\n",
       " u'x-origin: kaminski-v',\n",
       " u'x-filename: vkamins.nsf',\n",
       " u'',\n",
       " u\"chris,\\n\\nthanks for the invitation. the evening of july the 18th is fine  with me.\\n\\nthe list looks fine and it can be easily expanded, if the first set of\\narticles is well received. i shall prepare a list of topics that occupy us\\nevery day and that we could write about without revealing the details of our\\nproprietary research.\\n\\nplease, feel free to send the message from lacima. i think that it's better\\nfor us to sign the articles with our names, giving our respective\\naffiliations. in this way, ##### gets the credit, but not the liability if\\nthere is any error in an article.\\n\\nhope to see you soon.\\n\\nvince\"]"
      ]
     },
     "execution_count": 53,
     "metadata": {},
     "output_type": "execute_result"
    }
   ],
   "source": [
    "ham_json[0].split('\\r\\n')"
   ]
  },
  {
   "cell_type": "code",
   "execution_count": 55,
   "metadata": {
    "collapsed": false
   },
   "outputs": [
    {
     "data": {
      "text/plain": [
       "u\"message-id: <13247446.1075856567056.javamail.evans#####>\\ndate: mon, 26 jun 2000 14:22:00 -0700 (pdt)\\nfrom: vkaminski#####\\nto: chris#####\\nsubject: re: eprm articles\\ncc: vkaminski#####, vkamins#####\\nmime-version: 1.0\\ncontent-type: text/plain; charset=us-ascii\\ncontent-transfer-encoding: 7bit\\nbcc: vkaminski#####, vkamins#####\\nx-from: vkaminski#####\\nx-to: chris#####\\nx-cc: vkaminski#####, vkamins#####\\nx-bcc: \\nx-origin: kaminski-v\\nx-filename: vkamins.nsf\\n\\nchris,\\n\\nthanks for the invitation. the evening of july the 18th is fine  with me.\\n\\nthe list looks fine and it can be easily expanded, if the first set of\\narticles is well received. i shall prepare a list of topics that occupy us\\nevery day and that we could write about without revealing the details of our\\nproprietary research.\\n\\nplease, feel free to send the message from lacima. i think that it's better\\nfor us to sign the articles with our names, giving our respective\\naffiliations. in this way, ##### gets the credit, but not the liability if\\nthere is any error in an article.\\n\\nhope to see you soon.\\n\\nvince\""
      ]
     },
     "execution_count": 55,
     "metadata": {},
     "output_type": "execute_result"
    }
   ],
   "source": [
    "ham_json[0].replace('\\r\\n', '\\')"
   ]
  },
  {
   "cell_type": "code",
   "execution_count": null,
   "metadata": {
    "collapsed": true
   },
   "outputs": [],
   "source": []
  },
  {
   "cell_type": "markdown",
   "metadata": {},
   "source": [
    "&nbsp;\n",
    "\n",
    "&nbsp;\n",
    "\n",
    "&nbsp;\n",
    "\n",
    "&nbsp;\n",
    "\n",
    "&nbsp;\n",
    "\n",
    "&nbsp;\n",
    "\n",
    "&nbsp;\n",
    "\n",
    "&nbsp;\n",
    "\n",
    "&nbsp;\n",
    "\n",
    "&nbsp;\n",
    "\n",
    "&nbsp;\n",
    "\n",
    "&nbsp;\n",
    "\n",
    "&nbsp;\n",
    "\n",
    "&nbsp;\n",
    "\n",
    "&nbsp;\n",
    "\n",
    "&nbsp;\n",
    "\n",
    "&nbsp;\n",
    "\n",
    "&nbsp;\n",
    "\n",
    "&nbsp;\n",
    "\n",
    "&nbsp;\n",
    "\n",
    "&nbsp;\n",
    "\n",
    "&nbsp;\n",
    "\n",
    "&nbsp;\n",
    "\n",
    "&nbsp;\n",
    "\n",
    "&nbsp;\n",
    "\n",
    "&nbsp;\n",
    "\n",
    "&nbsp;\n",
    "\n",
    "&nbsp;\n",
    "\n",
    "&nbsp;\n",
    "\n",
    "&nbsp;\n",
    "\n",
    "&nbsp;\n",
    "\n",
    "&nbsp;\n",
    "\n",
    "&nbsp;\n",
    "\n",
    "&nbsp;\n",
    "\n",
    "&nbsp;\n",
    "\n",
    "&nbsp;\n",
    "\n",
    "&nbsp;\n",
    "\n",
    "&nbsp;\n",
    "\n",
    "&nbsp;\n",
    "\n",
    "&nbsp;\n",
    "\n",
    "&nbsp;\n",
    "\n",
    "&nbsp;\n",
    "\n",
    "&nbsp;\n",
    "\n",
    "&nbsp;\n",
    "\n",
    "&nbsp;\n",
    "\n",
    "&nbsp;\n",
    "\n",
    "&nbsp;\n",
    "\n",
    "&nbsp;\n",
    "\n",
    "&nbsp;\n",
    "\n",
    "&nbsp;\n",
    "\n",
    "&nbsp;\n",
    "\n",
    "&nbsp;\n",
    "\n",
    "&nbsp;\n",
    "\n",
    "&nbsp;\n",
    "\n"
   ]
  }
 ],
 "metadata": {
  "kernelspec": {
   "display_name": "Python 2",
   "language": "python",
   "name": "python2"
  },
  "language_info": {
   "codemirror_mode": {
    "name": "ipython",
    "version": 2
   },
   "file_extension": ".py",
   "mimetype": "text/x-python",
   "name": "python",
   "nbconvert_exporter": "python",
   "pygments_lexer": "ipython2",
   "version": "2.7.6"
  }
 },
 "nbformat": 4,
 "nbformat_minor": 1
}

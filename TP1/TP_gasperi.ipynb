{
 "cells": [
  {
   "cell_type": "code",
   "execution_count": 2,
   "metadata": {
    "collapsed": false
   },
   "outputs": [
    {
     "name": "stderr",
     "output_type": "stream",
     "text": [
      "/usr/local/lib/python2.7/site-packages/matplotlib/font_manager.py:273: UserWarning: Matplotlib is building the font cache using fc-list. This may take a moment.\n",
      "  warnings.warn('Matplotlib is building the font cache using fc-list. This may take a moment.')\n"
     ]
    },
    {
     "name": "stdout",
     "output_type": "stream",
     "text": [
      "Populating the interactive namespace from numpy and matplotlib\n"
     ]
    }
   ],
   "source": [
    "%pylab inline\n",
    "\n",
    "from __future__ import print_function\n",
    "from __future__ import division\n",
    "\n",
    "import sklearn\n",
    "import numpy\n",
    "import scipy\n",
    "import pandas\n",
    "import matplotlib\n",
    "import seaborn\n",
    "\n",
    "import json\n",
    "import re\n",
    "\n",
    "from matplotlib import pyplot\n",
    "from collections import Counter"
   ]
  },
  {
   "cell_type": "code",
   "execution_count": 3,
   "metadata": {
    "collapsed": true
   },
   "outputs": [],
   "source": [
    "rcParams['figure.figsize'] = 15, 8"
   ]
  },
  {
   "cell_type": "markdown",
   "metadata": {},
   "source": [
    "Los mails se componen de varios campos entre los que está el emisor, el destinatario y el mensaje. Primero, procesaremos todos los mensajes para identificar cada uno de esos campos y su correspondiente valor.\n",
    "\n",
    "Cosas que quiero testear si se cumplen para todos los mensajes\n",
    "--------------------------------------------------------------\n",
    "\n",
    "- todos los campos tienen un nombre excepto el mensaje\n",
    "- separador de campos: '\\r\\n'\n",
    "- separador del mensaje del resto de los campos: 2*sep_campos\n",
    "- separador entre nombre de campo y campo: ':'\n",
    "\n",
    "Preguntas\n",
    "---------\n",
    "\n",
    "- el mensaje siempre es el último campo ?\n",
    "- Los mensajes están mezclados? Puedo usar el tail como test?\n",
    "\n",
    "\n",
    "Atributos posibles\n",
    "------------------\n",
    "\n",
    "- qué están atributos presentes\n",
    "- orden de los atributos\n",
    "- largo del mensaje\n",
    "- propiedades sobre ciertos atributos:\n",
    "    - emisor\n",
    "        - dominio de la dirección\n",
    "        - largo de la dirección\n",
    "    - destinatario\n",
    "        - cantidad direcciones\n",
    "    - asunto\n",
    "        - largo\n",
    "        - análisis parecido al mensaje: palabras presentes, etc.\n",
    "- si hay manera de identificar si el mail fue forwardeado creo que sería bueno, casi nadie debe forwardea spam\n"
   ]
  },
  {
   "cell_type": "code",
   "execution_count": 4,
   "metadata": {
    "collapsed": false
   },
   "outputs": [],
   "source": [
    "linesep = '\\r\\n'\n",
    "bodysep = linesep * 2 \n",
    "\n",
    "def parse(t):\n",
    "    extra = []\n",
    "    \n",
    "    if 2*linesep in t:\n",
    "        ls = linesep\n",
    "    else:\n",
    "        extra.append(('rfc','no'))\n",
    "        ls = '\\n'\n",
    "\n",
    "    bs = 2 * ls\n",
    "    \n",
    "    try:\n",
    "        headers, msg = t.split(bs, 1)\n",
    "    except ValueError:\n",
    "        extra.append(('parseable', 'no'))\n",
    "        return extra\n",
    "    \n",
    "    assert all(':' in x for x in headers)\n",
    "    return [tuple(x.split(':')) for x in headers.split(ls)] + [('message', msg)] + extra\n",
    "    "
   ]
  },
  {
   "cell_type": "code",
   "execution_count": 5,
   "metadata": {
    "collapsed": false
   },
   "outputs": [
    {
     "data": {
      "text/plain": [
       "[(u'received',\n",
       "  u' from unknown (helo 0.0.0.0) (61.99.107.222)\\n  by #####mailserver with smtp; 21 jul 2005 18'),\n",
       " (u'from', u' \"awesome computer\" <wiltonsingh#####>'),\n",
       " (u'to', u' <paliourg#####>'),\n",
       " (u'subject', u' free computer- find out how to get it! '),\n",
       " (u'date', u' mon, 27 sep 2004 07'),\n",
       " (u'mime-version', u' 1.0'),\n",
       " (u'content-type', u' text/html;'),\n",
       " u'\\tcharset=\"iso-8859-7\"',\n",
       " (u'content-transfer-encoding', u' quoted-printable'),\n",
       " (u'x-priority', u' 3'),\n",
       " (u'x-msmail-priority', u' normal'),\n",
       " (u'x-mimeole', u' produced by microsoft mimeole v6.00.2900.2527'),\n",
       " u'',\n",
       " u'',\n",
       " u'<html>',\n",
       " u'</head>',\n",
       " u'<body>',\n",
       " u'<p align=3d\"center\">',\n",
       " u'<a =',\n",
       " (u'href=3d\"http',\n",
       "  u'//kumuw.improvedfreestuff.com/ibm/?x=3dq0777687370767c796l&n=')]"
      ]
     },
     "execution_count": 5,
     "metadata": {},
     "output_type": "execute_result"
    }
   ],
   "source": []
  },
  {
   "cell_type": "code",
   "execution_count": 6,
   "metadata": {
    "collapsed": false
   },
   "outputs": [
    {
     "ename": "IOError",
     "evalue": "[Errno 2] No such file or directory: 'data/spam_train.json'",
     "output_type": "error",
     "traceback": [
      "\u001b[0;31m---------------------------------------------------------------------------\u001b[0m",
      "\u001b[0;31mIOError\u001b[0m                                   Traceback (most recent call last)",
      "\u001b[0;32m<ipython-input-6-b2ab0acee6e8>\u001b[0m in \u001b[0;36m<module>\u001b[0;34m()\u001b[0m\n\u001b[0;32m----> 1\u001b[0;31m \u001b[0mspam_json\u001b[0m \u001b[0;34m=\u001b[0m \u001b[0mjson\u001b[0m\u001b[0;34m.\u001b[0m\u001b[0mload\u001b[0m\u001b[0;34m(\u001b[0m\u001b[0mopen\u001b[0m\u001b[0;34m(\u001b[0m\u001b[0;34m'data/spam_train.json'\u001b[0m\u001b[0;34m)\u001b[0m\u001b[0;34m)\u001b[0m\u001b[0;34m\u001b[0m\u001b[0m\n\u001b[0m\u001b[1;32m      2\u001b[0m \u001b[0mspam\u001b[0m \u001b[0;34m=\u001b[0m \u001b[0mparse\u001b[0m\u001b[0;34m(\u001b[0m\u001b[0mx\u001b[0m \u001b[0;32mfor\u001b[0m \u001b[0mx\u001b[0m \u001b[0;32min\u001b[0m \u001b[0mspam_json\u001b[0m \u001b[0;32mif\u001b[0m \u001b[0mvalid\u001b[0m\u001b[0;34m(\u001b[0m\u001b[0mx\u001b[0m\u001b[0;34m)\u001b[0m\u001b[0;34m)\u001b[0m\u001b[0;34m\u001b[0m\u001b[0m\n\u001b[1;32m      3\u001b[0m \u001b[0mspam\u001b[0m\u001b[0;34m[\u001b[0m\u001b[0;34m:\u001b[0m\u001b[0;36m20\u001b[0m\u001b[0;34m]\u001b[0m\u001b[0;34m\u001b[0m\u001b[0m\n",
      "\u001b[0;31mIOError\u001b[0m: [Errno 2] No such file or directory: 'data/spam_train.json'"
     ]
    }
   ],
   "source": [
    "spam_json = json.load(open('data/spam_train.json'))\n",
    "spam = parse(x for x in spam_json if valid(x))\n",
    "spam[:20]"
   ]
  },
  {
   "cell_type": "code",
   "execution_count": null,
   "metadata": {
    "collapsed": true
   },
   "outputs": [],
   "source": [
    "def key_barplot(p, limit = 0):\n",
    "    from operator import itemgetter\n",
    "    keys = __builtin__.sum((Counter(x.keys()) for x in p), Counter())\n",
    "    vals = sorted(((x, y) for x, y in keys.iteritems() if y > limit), key = itemgetter(1))\n",
    "    pyplot.xticks(rotation = 90)\n",
    "    seaborn.barplot(map(itemgetter(0), vals), map(itemgetter(1), vals))"
   ]
  },
  {
   "cell_type": "code",
   "execution_count": null,
   "metadata": {
    "collapsed": false
   },
   "outputs": [],
   "source": [
    "key_barplot(ham, limit = 5)"
   ]
  },
  {
   "cell_type": "code",
   "execution_count": null,
   "metadata": {
    "collapsed": false
   },
   "outputs": [],
   "source": [
    "key_barplot(spam, limit = 0)"
   ]
  },
  {
   "cell_type": "markdown",
   "metadata": {},
   "source": [
    "# Testing"
   ]
  },
  {
   "cell_type": "code",
   "execution_count": null,
   "metadata": {
    "collapsed": true
   },
   "outputs": [],
   "source": [
    "import re"
   ]
  },
  {
   "cell_type": "code",
   "execution_count": null,
   "metadata": {
    "collapsed": false
   },
   "outputs": [],
   "source": [
    "def parse(t):\n",
    "    return [\n",
    "        # tuple(x.rsplit(':', 1)) if re.match(r'\\S*:', x) else ('message', x)\n",
    "        tuple(x.rsplit(':', 1))\n",
    "        for x in t.split('\\r\\n')\n",
    "    ]"
   ]
  },
  {
   "cell_type": "code",
   "execution_count": null,
   "metadata": {
    "collapsed": false
   },
   "outputs": [],
   "source": [
    "parse(ham_json[0])"
   ]
  },
  {
   "cell_type": "code",
   "execution_count": null,
   "metadata": {
    "collapsed": false
   },
   "outputs": [],
   "source": [
    "ham_json[0].split('\\r\\n')"
   ]
  },
  {
   "cell_type": "code",
   "execution_count": null,
   "metadata": {
    "collapsed": false
   },
   "outputs": [],
   "source": [
    "ham_json[0].replace('\\r\\n', '\\')"
   ]
  },
  {
   "cell_type": "code",
   "execution_count": null,
   "metadata": {
    "collapsed": true
   },
   "outputs": [],
   "source": []
  },
  {
   "cell_type": "markdown",
   "metadata": {},
   "source": [
    "&nbsp;\n",
    "\n",
    "&nbsp;\n",
    "\n",
    "&nbsp;\n",
    "\n",
    "&nbsp;\n",
    "\n",
    "&nbsp;\n",
    "\n",
    "&nbsp;\n",
    "\n",
    "&nbsp;\n",
    "\n",
    "&nbsp;\n",
    "\n",
    "&nbsp;\n",
    "\n",
    "&nbsp;\n",
    "\n",
    "&nbsp;\n",
    "\n",
    "&nbsp;\n",
    "\n",
    "&nbsp;\n",
    "\n",
    "&nbsp;\n",
    "\n",
    "&nbsp;\n",
    "\n",
    "&nbsp;\n",
    "\n",
    "&nbsp;\n",
    "\n",
    "&nbsp;\n",
    "\n",
    "&nbsp;\n",
    "\n",
    "&nbsp;\n",
    "\n",
    "&nbsp;\n",
    "\n",
    "&nbsp;\n",
    "\n",
    "&nbsp;\n",
    "\n",
    "&nbsp;\n",
    "\n",
    "&nbsp;\n",
    "\n",
    "&nbsp;\n",
    "\n",
    "&nbsp;\n",
    "\n",
    "&nbsp;\n",
    "\n",
    "&nbsp;\n",
    "\n",
    "&nbsp;\n",
    "\n",
    "&nbsp;\n",
    "\n",
    "&nbsp;\n",
    "\n",
    "&nbsp;\n",
    "\n",
    "&nbsp;\n",
    "\n",
    "&nbsp;\n",
    "\n",
    "&nbsp;\n",
    "\n",
    "&nbsp;\n",
    "\n",
    "&nbsp;\n",
    "\n",
    "&nbsp;\n",
    "\n",
    "&nbsp;\n",
    "\n",
    "&nbsp;\n",
    "\n",
    "&nbsp;\n",
    "\n",
    "&nbsp;\n",
    "\n",
    "&nbsp;\n",
    "\n",
    "&nbsp;\n",
    "\n",
    "&nbsp;\n",
    "\n",
    "&nbsp;\n",
    "\n",
    "&nbsp;\n",
    "\n",
    "&nbsp;\n",
    "\n",
    "&nbsp;\n",
    "\n",
    "&nbsp;\n",
    "\n",
    "&nbsp;\n",
    "\n",
    "&nbsp;\n",
    "\n",
    "&nbsp;\n",
    "\n"
   ]
  }
 ],
 "metadata": {
  "kernelspec": {
   "display_name": "Python 2",
   "language": "python",
   "name": "python2"
  },
  "language_info": {
   "codemirror_mode": {
    "name": "ipython",
    "version": 2
   },
   "file_extension": ".py",
   "mimetype": "text/x-python",
   "name": "python",
   "nbconvert_exporter": "python",
   "pygments_lexer": "ipython2",
   "version": "2.7.11"
  }
 },
 "nbformat": 4,
 "nbformat_minor": 1
}

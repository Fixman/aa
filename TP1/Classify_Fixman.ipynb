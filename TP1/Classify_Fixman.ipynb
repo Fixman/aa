{
 "cells": [
  {
   "cell_type": "code",
   "execution_count": 1,
   "metadata": {
    "ExecuteTime": {
     "end_time": "2016-09-28T13:50:15.555483",
     "start_time": "2016-09-28T13:50:14.620815"
    },
    "collapsed": false,
    "init_cell": true
   },
   "outputs": [
    {
     "name": "stdout",
     "output_type": "stream",
     "text": [
      "Populating the interactive namespace from numpy and matplotlib\n"
     ]
    }
   ],
   "source": [
    "%pylab inline\n",
    "\n",
    "from __future__ import print_function\n",
    "from __future__ import division\n",
    "\n",
    "import pandas\n",
    "import numpy\n",
    "import matplotlib\n",
    "import seaborn\n",
    "import sklearn\n",
    "import sys\n",
    "\n",
    "from matplotlib import pyplot"
   ]
  },
  {
   "cell_type": "code",
   "execution_count": 2,
   "metadata": {
    "ExecuteTime": {
     "end_time": "2016-09-28T13:50:15.560346",
     "start_time": "2016-09-28T13:50:15.557253"
    },
    "collapsed": false,
    "init_cell": true
   },
   "outputs": [],
   "source": [
    "def index_merge(a, b):\n",
    "    return a.merge(b, left_index = True, right_index = True)\n",
    "pandas.DataFrame.index_merge = index_merge"
   ]
  },
  {
   "cell_type": "code",
   "execution_count": 18,
   "metadata": {
    "ExecuteTime": {
     "end_time": "2016-09-27T08:15:18.345433",
     "start_time": "2016-09-27T08:15:18.340152"
    },
    "collapsed": false
   },
   "outputs": [],
   "source": [
    "from pylab import rcParams\n",
    "rcParams['figure.figsize'] = 12, 5"
   ]
  },
  {
   "cell_type": "markdown",
   "metadata": {},
   "source": [
    "# Limiting memory use"
   ]
  },
  {
   "cell_type": "code",
   "execution_count": 3,
   "metadata": {
    "ExecuteTime": {
     "end_time": "2016-09-28T13:50:15.657472",
     "start_time": "2016-09-28T13:50:15.561773"
    },
    "collapsed": false,
    "init_cell": true
   },
   "outputs": [],
   "source": [
    "import resource\n",
    "\n",
    "# Limit the memory usage to 6GByte.\n",
    "resource.setrlimit(resource.RLIMIT_AS, (6e9, 6e9))"
   ]
  },
  {
   "cell_type": "markdown",
   "metadata": {},
   "source": [
    "# Merging"
   ]
  },
  {
   "cell_type": "code",
   "execution_count": 47,
   "metadata": {
    "ExecuteTime": {
     "end_time": "2016-09-25T02:22:01.018424",
     "start_time": "2016-09-25T02:21:57.900100"
    },
    "collapsed": false
   },
   "outputs": [],
   "source": [
    "subject_words = pandas.read_csv('dev/subject_word_features.csv', index_col = 'num')\n",
    "body_words = pandas.read_csv('dev/body_word_features.csv', index_col = 'num')\n",
    "features = features.index_merge(subject_words).index_merge(body_words)"
   ]
  },
  {
   "cell_type": "code",
   "execution_count": null,
   "metadata": {
    "ExecuteTime": {
     "start_time": "2016-09-25T05:22:48.353Z"
    },
    "collapsed": false
   },
   "outputs": [],
   "source": [
    "features.to_csv('dev/features.csv', index = True, header = True)"
   ]
  },
  {
   "cell_type": "markdown",
   "metadata": {},
   "source": [
    "# Getting Features"
   ]
  },
  {
   "cell_type": "code",
   "execution_count": 4,
   "metadata": {
    "ExecuteTime": {
     "end_time": "2016-09-28T13:50:23.465644",
     "start_time": "2016-09-28T13:50:15.659100"
    },
    "collapsed": false,
    "init_cell": true
   },
   "outputs": [],
   "source": [
    "features = pandas.read_csv('dev/features.csv', index_col = 'num').sample(frac = 1, random_state = 0)"
   ]
  },
  {
   "cell_type": "markdown",
   "metadata": {},
   "source": [
    "# Testing different methods"
   ]
  },
  {
   "cell_type": "code",
   "execution_count": 5,
   "metadata": {
    "ExecuteTime": {
     "end_time": "2016-09-28T13:50:23.489250",
     "start_time": "2016-09-28T13:50:23.467209"
    },
    "collapsed": false,
    "init_cell": true
   },
   "outputs": [],
   "source": [
    "from sklearn.cross_validation import train_test_split, cross_val_score, cross_val_predict\n",
    "from sklearn.tree import DecisionTreeClassifier"
   ]
  },
  {
   "cell_type": "code",
   "execution_count": 6,
   "metadata": {
    "ExecuteTime": {
     "end_time": "2016-09-28T13:50:23.709046",
     "start_time": "2016-09-28T13:50:23.491455"
    },
    "collapsed": false,
    "init_cell": true
   },
   "outputs": [],
   "source": [
    "X = features.drop('spam', axis = 1)\n",
    "y = features.spam\n",
    "%xdel features"
   ]
  },
  {
   "cell_type": "code",
   "execution_count": 7,
   "metadata": {
    "ExecuteTime": {
     "end_time": "2016-09-28T13:50:24.861485",
     "start_time": "2016-09-28T13:50:23.710485"
    },
    "collapsed": false,
    "init_cell": true
   },
   "outputs": [],
   "source": [
    "word_bag = X.columns[X.columns.str.contains('_contains_')]\n",
    "existence = X.columns[X.columns.str.contains('_exists')]\n",
    "categorization = X.columns[X.columns.str.contains('=')]\n",
    "\n",
    "features = ['_length', '_words', '_fields', '_avgWordLength', '_avgFieldLength']\n",
    "header_features = X.columns[reduce(lambda x, y: x | y, map(X.columns.str.contains, features))]\n",
    "binary = X.columns[X.apply(lambda x: x.nunique() == 2)]\n",
    "\n",
    "assert (X.columns ^ (word_bag | header_features | existence | categorization)).size == 0, 'Not all features were categorized!'"
   ]
  },
  {
   "cell_type": "code",
   "execution_count": 14,
   "metadata": {
    "ExecuteTime": {
     "end_time": "2016-09-27T06:56:08.323109",
     "start_time": "2016-09-27T06:56:07.739291"
    },
    "collapsed": false,
    "init_cell": false
   },
   "outputs": [],
   "source": [
    "X_train, X_test, y_train, y_test = train_test_split(X, y, random_state = 0)"
   ]
  },
  {
   "cell_type": "code",
   "execution_count": 8,
   "metadata": {
    "ExecuteTime": {
     "end_time": "2016-09-28T13:50:24.865191",
     "start_time": "2016-09-28T13:50:24.862941"
    },
    "collapsed": false,
    "init_cell": true
   },
   "outputs": [],
   "source": [
    "folds = 10"
   ]
  },
  {
   "cell_type": "code",
   "execution_count": 9,
   "metadata": {
    "ExecuteTime": {
     "end_time": "2016-09-28T13:50:24.967067",
     "start_time": "2016-09-28T13:50:24.866562"
    },
    "collapsed": false,
    "init_cell": true
   },
   "outputs": [],
   "source": [
    "def data(a):\n",
    "    # print(u'µ = {}\\nσ = {}\\nmin = {}\\nmax = {}\\nmedian = {}'.format(a.mean(), a.std(), a.min(), a.max(), numpy.median(a)))\n",
    "    print(pandas.Series(a).describe(percentiles = [.5]).drop('count'))\n",
    "    return a"
   ]
  },
  {
   "cell_type": "code",
   "execution_count": null,
   "metadata": {
    "collapsed": false
   },
   "outputs": [],
   "source": [
    "def scoring(classifier):\n",
    "    classifier.fit(X_train, y_train)\n",
    "    \n",
    "    categ_proba = classifier.predict_proba(X_test)\n",
    "    y_pred = categ_proba.argmax(axis = 1)\n",
    "    y_proba = categ_proba[:, 1]\n",
    "    \n",
    "    return pandas.DataFrame.from_items([\n",
    "            ('accuracy', [(y_pred == y_test).mean()]),\n",
    "            ('auc': [sklearn.metrics.roc_auc_score(y_test, )])\n",
    "        ])"
   ]
  },
  {
   "cell_type": "markdown",
   "metadata": {},
   "source": [
    "## Decision Tree"
   ]
  },
  {
   "cell_type": "markdown",
   "metadata": {
    "heading_collapsed": true
   },
   "source": [
    "### As large as possible"
   ]
  },
  {
   "cell_type": "code",
   "execution_count": 10,
   "metadata": {
    "ExecuteTime": {
     "end_time": "2016-09-25T14:54:01.975754",
     "start_time": "2016-09-25T14:52:50.354383"
    },
    "collapsed": false,
    "hidden": true
   },
   "outputs": [
    {
     "ename": "KeyboardInterrupt",
     "evalue": "",
     "output_type": "error",
     "traceback": [
      "\u001b[0;31m---------------------------------------------------------------------------\u001b[0m",
      "\u001b[0;31mKeyboardInterrupt\u001b[0m                         Traceback (most recent call last)",
      "\u001b[0;32m<ipython-input-10-abfa07e115bf>\u001b[0m in \u001b[0;36m<module>\u001b[0;34m()\u001b[0m\n\u001b[1;32m      1\u001b[0m \u001b[0mdt\u001b[0m \u001b[0;34m=\u001b[0m \u001b[0mDecisionTreeClassifier\u001b[0m\u001b[0;34m(\u001b[0m\u001b[0mrandom_state\u001b[0m \u001b[0;34m=\u001b[0m \u001b[0;36m0\u001b[0m\u001b[0;34m)\u001b[0m\u001b[0;34m\u001b[0m\u001b[0m\n\u001b[0;32m----> 2\u001b[0;31m \u001b[0mdata\u001b[0m\u001b[0;34m(\u001b[0m\u001b[0mcross_val_score\u001b[0m\u001b[0;34m(\u001b[0m\u001b[0mdt\u001b[0m\u001b[0;34m,\u001b[0m \u001b[0mX\u001b[0m\u001b[0;34m,\u001b[0m \u001b[0my\u001b[0m\u001b[0;34m,\u001b[0m \u001b[0mcv\u001b[0m \u001b[0;34m=\u001b[0m \u001b[0mfolds\u001b[0m\u001b[0;34m)\u001b[0m\u001b[0;34m)\u001b[0m\u001b[0;34m\u001b[0m\u001b[0m\n\u001b[0m",
      "\u001b[0;32m/usr/lib/python2.7/site-packages/sklearn/cross_validation.pyc\u001b[0m in \u001b[0;36mcross_val_score\u001b[0;34m(estimator, X, y, scoring, cv, n_jobs, verbose, fit_params, pre_dispatch)\u001b[0m\n\u001b[1;32m   1431\u001b[0m                                               \u001b[0mtrain\u001b[0m\u001b[0;34m,\u001b[0m \u001b[0mtest\u001b[0m\u001b[0;34m,\u001b[0m \u001b[0mverbose\u001b[0m\u001b[0;34m,\u001b[0m \u001b[0mNone\u001b[0m\u001b[0;34m,\u001b[0m\u001b[0;34m\u001b[0m\u001b[0m\n\u001b[1;32m   1432\u001b[0m                                               fit_params)\n\u001b[0;32m-> 1433\u001b[0;31m                       for train, test in cv)\n\u001b[0m\u001b[1;32m   1434\u001b[0m     \u001b[0;32mreturn\u001b[0m \u001b[0mnp\u001b[0m\u001b[0;34m.\u001b[0m\u001b[0marray\u001b[0m\u001b[0;34m(\u001b[0m\u001b[0mscores\u001b[0m\u001b[0;34m)\u001b[0m\u001b[0;34m[\u001b[0m\u001b[0;34m:\u001b[0m\u001b[0;34m,\u001b[0m \u001b[0;36m0\u001b[0m\u001b[0;34m]\u001b[0m\u001b[0;34m\u001b[0m\u001b[0m\n\u001b[1;32m   1435\u001b[0m \u001b[0;34m\u001b[0m\u001b[0m\n",
      "\u001b[0;32m/usr/lib/python2.7/site-packages/sklearn/externals/joblib/parallel.pyc\u001b[0m in \u001b[0;36m__call__\u001b[0;34m(self, iterable)\u001b[0m\n\u001b[1;32m    798\u001b[0m             \u001b[0;31m# was dispatched. In particular this covers the edge\u001b[0m\u001b[0;34m\u001b[0m\u001b[0;34m\u001b[0m\u001b[0m\n\u001b[1;32m    799\u001b[0m             \u001b[0;31m# case of Parallel used with an exhausted iterator.\u001b[0m\u001b[0;34m\u001b[0m\u001b[0;34m\u001b[0m\u001b[0m\n\u001b[0;32m--> 800\u001b[0;31m             \u001b[0;32mwhile\u001b[0m \u001b[0mself\u001b[0m\u001b[0;34m.\u001b[0m\u001b[0mdispatch_one_batch\u001b[0m\u001b[0;34m(\u001b[0m\u001b[0miterator\u001b[0m\u001b[0;34m)\u001b[0m\u001b[0;34m:\u001b[0m\u001b[0;34m\u001b[0m\u001b[0m\n\u001b[0m\u001b[1;32m    801\u001b[0m                 \u001b[0mself\u001b[0m\u001b[0;34m.\u001b[0m\u001b[0m_iterating\u001b[0m \u001b[0;34m=\u001b[0m \u001b[0mTrue\u001b[0m\u001b[0;34m\u001b[0m\u001b[0m\n\u001b[1;32m    802\u001b[0m             \u001b[0;32melse\u001b[0m\u001b[0;34m:\u001b[0m\u001b[0;34m\u001b[0m\u001b[0m\n",
      "\u001b[0;32m/usr/lib/python2.7/site-packages/sklearn/externals/joblib/parallel.pyc\u001b[0m in \u001b[0;36mdispatch_one_batch\u001b[0;34m(self, iterator)\u001b[0m\n\u001b[1;32m    656\u001b[0m                 \u001b[0;32mreturn\u001b[0m \u001b[0mFalse\u001b[0m\u001b[0;34m\u001b[0m\u001b[0m\n\u001b[1;32m    657\u001b[0m             \u001b[0;32melse\u001b[0m\u001b[0;34m:\u001b[0m\u001b[0;34m\u001b[0m\u001b[0m\n\u001b[0;32m--> 658\u001b[0;31m                 \u001b[0mself\u001b[0m\u001b[0;34m.\u001b[0m\u001b[0m_dispatch\u001b[0m\u001b[0;34m(\u001b[0m\u001b[0mtasks\u001b[0m\u001b[0;34m)\u001b[0m\u001b[0;34m\u001b[0m\u001b[0m\n\u001b[0m\u001b[1;32m    659\u001b[0m                 \u001b[0;32mreturn\u001b[0m \u001b[0mTrue\u001b[0m\u001b[0;34m\u001b[0m\u001b[0m\n\u001b[1;32m    660\u001b[0m \u001b[0;34m\u001b[0m\u001b[0m\n",
      "\u001b[0;32m/usr/lib/python2.7/site-packages/sklearn/externals/joblib/parallel.pyc\u001b[0m in \u001b[0;36m_dispatch\u001b[0;34m(self, batch)\u001b[0m\n\u001b[1;32m    564\u001b[0m \u001b[0;34m\u001b[0m\u001b[0m\n\u001b[1;32m    565\u001b[0m         \u001b[0;32mif\u001b[0m \u001b[0mself\u001b[0m\u001b[0;34m.\u001b[0m\u001b[0m_pool\u001b[0m \u001b[0;32mis\u001b[0m \u001b[0mNone\u001b[0m\u001b[0;34m:\u001b[0m\u001b[0;34m\u001b[0m\u001b[0m\n\u001b[0;32m--> 566\u001b[0;31m             \u001b[0mjob\u001b[0m \u001b[0;34m=\u001b[0m \u001b[0mImmediateComputeBatch\u001b[0m\u001b[0;34m(\u001b[0m\u001b[0mbatch\u001b[0m\u001b[0;34m)\u001b[0m\u001b[0;34m\u001b[0m\u001b[0m\n\u001b[0m\u001b[1;32m    567\u001b[0m             \u001b[0mself\u001b[0m\u001b[0;34m.\u001b[0m\u001b[0m_jobs\u001b[0m\u001b[0;34m.\u001b[0m\u001b[0mappend\u001b[0m\u001b[0;34m(\u001b[0m\u001b[0mjob\u001b[0m\u001b[0;34m)\u001b[0m\u001b[0;34m\u001b[0m\u001b[0m\n\u001b[1;32m    568\u001b[0m             \u001b[0mself\u001b[0m\u001b[0;34m.\u001b[0m\u001b[0mn_dispatched_batches\u001b[0m \u001b[0;34m+=\u001b[0m \u001b[0;36m1\u001b[0m\u001b[0;34m\u001b[0m\u001b[0m\n",
      "\u001b[0;32m/usr/lib/python2.7/site-packages/sklearn/externals/joblib/parallel.pyc\u001b[0m in \u001b[0;36m__init__\u001b[0;34m(self, batch)\u001b[0m\n\u001b[1;32m    178\u001b[0m         \u001b[0;31m# Don't delay the application, to avoid keeping the input\u001b[0m\u001b[0;34m\u001b[0m\u001b[0;34m\u001b[0m\u001b[0m\n\u001b[1;32m    179\u001b[0m         \u001b[0;31m# arguments in memory\u001b[0m\u001b[0;34m\u001b[0m\u001b[0;34m\u001b[0m\u001b[0m\n\u001b[0;32m--> 180\u001b[0;31m         \u001b[0mself\u001b[0m\u001b[0;34m.\u001b[0m\u001b[0mresults\u001b[0m \u001b[0;34m=\u001b[0m \u001b[0mbatch\u001b[0m\u001b[0;34m(\u001b[0m\u001b[0;34m)\u001b[0m\u001b[0;34m\u001b[0m\u001b[0m\n\u001b[0m\u001b[1;32m    181\u001b[0m \u001b[0;34m\u001b[0m\u001b[0m\n\u001b[1;32m    182\u001b[0m     \u001b[0;32mdef\u001b[0m \u001b[0mget\u001b[0m\u001b[0;34m(\u001b[0m\u001b[0mself\u001b[0m\u001b[0;34m)\u001b[0m\u001b[0;34m:\u001b[0m\u001b[0;34m\u001b[0m\u001b[0m\n",
      "\u001b[0;32m/usr/lib/python2.7/site-packages/sklearn/externals/joblib/parallel.pyc\u001b[0m in \u001b[0;36m__call__\u001b[0;34m(self)\u001b[0m\n\u001b[1;32m     70\u001b[0m \u001b[0;34m\u001b[0m\u001b[0m\n\u001b[1;32m     71\u001b[0m     \u001b[0;32mdef\u001b[0m \u001b[0m__call__\u001b[0m\u001b[0;34m(\u001b[0m\u001b[0mself\u001b[0m\u001b[0;34m)\u001b[0m\u001b[0;34m:\u001b[0m\u001b[0;34m\u001b[0m\u001b[0m\n\u001b[0;32m---> 72\u001b[0;31m         \u001b[0;32mreturn\u001b[0m \u001b[0;34m[\u001b[0m\u001b[0mfunc\u001b[0m\u001b[0;34m(\u001b[0m\u001b[0;34m*\u001b[0m\u001b[0margs\u001b[0m\u001b[0;34m,\u001b[0m \u001b[0;34m**\u001b[0m\u001b[0mkwargs\u001b[0m\u001b[0;34m)\u001b[0m \u001b[0;32mfor\u001b[0m \u001b[0mfunc\u001b[0m\u001b[0;34m,\u001b[0m \u001b[0margs\u001b[0m\u001b[0;34m,\u001b[0m \u001b[0mkwargs\u001b[0m \u001b[0;32min\u001b[0m \u001b[0mself\u001b[0m\u001b[0;34m.\u001b[0m\u001b[0mitems\u001b[0m\u001b[0;34m]\u001b[0m\u001b[0;34m\u001b[0m\u001b[0m\n\u001b[0m\u001b[1;32m     73\u001b[0m \u001b[0;34m\u001b[0m\u001b[0m\n\u001b[1;32m     74\u001b[0m     \u001b[0;32mdef\u001b[0m \u001b[0m__len__\u001b[0m\u001b[0;34m(\u001b[0m\u001b[0mself\u001b[0m\u001b[0;34m)\u001b[0m\u001b[0;34m:\u001b[0m\u001b[0;34m\u001b[0m\u001b[0m\n",
      "\u001b[0;32m/usr/lib/python2.7/site-packages/sklearn/cross_validation.pyc\u001b[0m in \u001b[0;36m_fit_and_score\u001b[0;34m(estimator, X, y, scorer, train, test, verbose, parameters, fit_params, return_train_score, return_parameters, error_score)\u001b[0m\n\u001b[1;32m   1529\u001b[0m             \u001b[0mestimator\u001b[0m\u001b[0;34m.\u001b[0m\u001b[0mfit\u001b[0m\u001b[0;34m(\u001b[0m\u001b[0mX_train\u001b[0m\u001b[0;34m,\u001b[0m \u001b[0;34m**\u001b[0m\u001b[0mfit_params\u001b[0m\u001b[0;34m)\u001b[0m\u001b[0;34m\u001b[0m\u001b[0m\n\u001b[1;32m   1530\u001b[0m         \u001b[0;32melse\u001b[0m\u001b[0;34m:\u001b[0m\u001b[0;34m\u001b[0m\u001b[0m\n\u001b[0;32m-> 1531\u001b[0;31m             \u001b[0mestimator\u001b[0m\u001b[0;34m.\u001b[0m\u001b[0mfit\u001b[0m\u001b[0;34m(\u001b[0m\u001b[0mX_train\u001b[0m\u001b[0;34m,\u001b[0m \u001b[0my_train\u001b[0m\u001b[0;34m,\u001b[0m \u001b[0;34m**\u001b[0m\u001b[0mfit_params\u001b[0m\u001b[0;34m)\u001b[0m\u001b[0;34m\u001b[0m\u001b[0m\n\u001b[0m\u001b[1;32m   1532\u001b[0m \u001b[0;34m\u001b[0m\u001b[0m\n\u001b[1;32m   1533\u001b[0m     \u001b[0;32mexcept\u001b[0m \u001b[0mException\u001b[0m \u001b[0;32mas\u001b[0m \u001b[0me\u001b[0m\u001b[0;34m:\u001b[0m\u001b[0;34m\u001b[0m\u001b[0m\n",
      "\u001b[0;32m/usr/lib/python2.7/site-packages/sklearn/tree/tree.pyc\u001b[0m in \u001b[0;36mfit\u001b[0;34m(self, X, y, sample_weight, check_input, X_idx_sorted)\u001b[0m\n\u001b[1;32m    348\u001b[0m                                            max_leaf_nodes)\n\u001b[1;32m    349\u001b[0m \u001b[0;34m\u001b[0m\u001b[0m\n\u001b[0;32m--> 350\u001b[0;31m         \u001b[0mbuilder\u001b[0m\u001b[0;34m.\u001b[0m\u001b[0mbuild\u001b[0m\u001b[0;34m(\u001b[0m\u001b[0mself\u001b[0m\u001b[0;34m.\u001b[0m\u001b[0mtree_\u001b[0m\u001b[0;34m,\u001b[0m \u001b[0mX\u001b[0m\u001b[0;34m,\u001b[0m \u001b[0my\u001b[0m\u001b[0;34m,\u001b[0m \u001b[0msample_weight\u001b[0m\u001b[0;34m,\u001b[0m \u001b[0mX_idx_sorted\u001b[0m\u001b[0;34m)\u001b[0m\u001b[0;34m\u001b[0m\u001b[0m\n\u001b[0m\u001b[1;32m    351\u001b[0m \u001b[0;34m\u001b[0m\u001b[0m\n\u001b[1;32m    352\u001b[0m         \u001b[0;32mif\u001b[0m \u001b[0mself\u001b[0m\u001b[0;34m.\u001b[0m\u001b[0mn_outputs_\u001b[0m \u001b[0;34m==\u001b[0m \u001b[0;36m1\u001b[0m\u001b[0;34m:\u001b[0m\u001b[0;34m\u001b[0m\u001b[0m\n",
      "\u001b[0;31mKeyboardInterrupt\u001b[0m: "
     ]
    }
   ],
   "source": [
    "# This takes WAY too long!\n",
    "\n",
    "dt = DecisionTreeClassifier(random_state = 0)\n",
    "data(cross_val_score(dt, X, y, cv = folds))"
   ]
  },
  {
   "cell_type": "markdown",
   "metadata": {},
   "source": [
    "### A little more comprehensive"
   ]
  },
  {
   "cell_type": "code",
   "execution_count": 10,
   "metadata": {
    "ExecuteTime": {
     "end_time": "2016-09-28T13:50:30.998651",
     "start_time": "2016-09-28T13:50:24.968400"
    },
    "collapsed": false,
    "init_cell": true
   },
   "outputs": [
    {
     "name": "stdout",
     "output_type": "stream",
     "text": [
      "mean    0.973877\n",
      "std     0.001656\n",
      "min     0.971481\n",
      "50%     0.973951\n",
      "max     0.976543\n",
      "dtype: float64\n"
     ]
    },
    {
     "data": {
      "text/plain": [
       "array([ 0.97506173,  0.97259259,  0.97419753,  0.97148148,  0.97493827,\n",
       "        0.9737037 ,  0.97555556,  0.97234568,  0.97654321,  0.97234568])"
      ]
     },
     "execution_count": 10,
     "metadata": {},
     "output_type": "execute_result"
    }
   ],
   "source": [
    "dt = DecisionTreeClassifier(max_features = 'sqrt', max_leaf_nodes = 15, max_depth = 7, random_state = 0)\n",
    "data(cross_val_score(dt, X, y, cv = folds))"
   ]
  },
  {
   "cell_type": "code",
   "execution_count": 52,
   "metadata": {
    "ExecuteTime": {
     "end_time": "2016-09-25T20:07:44.334871",
     "start_time": "2016-09-25T20:07:43.354630"
    },
    "collapsed": false
   },
   "outputs": [],
   "source": [
    "X_train, X_test, y_train, y_test = train_test_split(X, y)\n",
    "dt.fit(X_train, y_train)\n",
    "sklearn.tree.export_graphviz(\n",
    "    dt.tree_,\n",
    "    feature_names = X.columns,\n",
    "    class_names = ['ham', 'spam'],\n",
    "    filled = True,\n",
    "    proportion = True,\n",
    "    impurity = False,\n",
    "    label = 'all'\n",
    ")"
   ]
  },
  {
   "cell_type": "code",
   "execution_count": 27,
   "metadata": {
    "ExecuteTime": {
     "end_time": "2016-09-26T21:55:50.270962",
     "start_time": "2016-09-26T21:55:49.867862"
    },
    "collapsed": false
   },
   "outputs": [
    {
     "data": {
      "text/plain": [
       "0.99905699916177704"
      ]
     },
     "execution_count": 27,
     "metadata": {},
     "output_type": "execute_result"
    }
   ],
   "source": [
    "dt = DecisionTreeClassifier(max_features = 'sqrt', max_leaf_nodes = 15, max_depth = 7, random_state = 0)\n",
    "dt.fit(X_train, y_train)\n",
    "sklearn.metrics.precision_score(y_test, dt.predict(X_test))"
   ]
  },
  {
   "cell_type": "markdown",
   "metadata": {
    "heading_collapsed": true
   },
   "source": [
    "## Random Forest"
   ]
  },
  {
   "cell_type": "code",
   "execution_count": 12,
   "metadata": {
    "ExecuteTime": {
     "end_time": "2016-09-25T18:17:06.986289",
     "start_time": "2016-09-25T18:17:06.923687"
    },
    "collapsed": false,
    "hidden": true
   },
   "outputs": [],
   "source": [
    "from sklearn.ensemble import RandomForestClassifier"
   ]
  },
  {
   "cell_type": "code",
   "execution_count": 14,
   "metadata": {
    "ExecuteTime": {
     "end_time": "2016-09-25T18:17:52.781620",
     "start_time": "2016-09-25T18:17:36.444218"
    },
    "collapsed": false,
    "hidden": true
   },
   "outputs": [
    {
     "name": "stdout",
     "output_type": "stream",
     "text": [
      "mean    0.993148\n",
      "std     0.001312\n",
      "min     0.991111\n",
      "50%     0.993210\n",
      "max     0.995432\n",
      "dtype: float64\n"
     ]
    },
    {
     "data": {
      "text/plain": [
       "array([ 0.99382716,  0.99469136,  0.99259259,  0.99197531,  0.99197531,\n",
       "        0.99111111,  0.9954321 ,  0.99345679,  0.99296296,  0.99345679])"
      ]
     },
     "execution_count": 14,
     "metadata": {},
     "output_type": "execute_result"
    }
   ],
   "source": [
    "rf = RandomForestClassifier(max_depth = 15)\n",
    "data(cross_val_score(rf, X, y, cv = folds))"
   ]
  },
  {
   "cell_type": "markdown",
   "metadata": {},
   "source": [
    "## Naïve Bayes"
   ]
  },
  {
   "cell_type": "code",
   "execution_count": 11,
   "metadata": {
    "ExecuteTime": {
     "end_time": "2016-09-28T13:50:31.003971",
     "start_time": "2016-09-28T13:50:31.000498"
    },
    "collapsed": false,
    "init_cell": true
   },
   "outputs": [],
   "source": [
    "from sklearn.naive_bayes import GaussianNB, BernoulliNB, MultinomialNB"
   ]
  },
  {
   "cell_type": "markdown",
   "metadata": {},
   "source": [
    "### Gaussian"
   ]
  },
  {
   "cell_type": "code",
   "execution_count": 26,
   "metadata": {
    "ExecuteTime": {
     "end_time": "2016-09-25T15:06:08.569120",
     "start_time": "2016-09-25T15:05:50.287342"
    },
    "collapsed": false
   },
   "outputs": [
    {
     "name": "stdout",
     "output_type": "stream",
     "text": [
      "mean    0.914012\n",
      "std     0.002359\n",
      "min     0.911111\n",
      "50%     0.913642\n",
      "max     0.917407\n",
      "dtype: float64\n"
     ]
    },
    {
     "data": {
      "text/plain": [
       "array([ 0.91185185,  0.91358025,  0.91148148,  0.91740741,  0.91283951,\n",
       "        0.91432099,  0.91111111,  0.91641975,  0.9137037 ,  0.91740741])"
      ]
     },
     "execution_count": 26,
     "metadata": {},
     "output_type": "execute_result"
    }
   ],
   "source": [
    "nb = GaussianNB()\n",
    "data(cross_val_score(nb, X, y, cv = folds))"
   ]
  },
  {
   "cell_type": "markdown",
   "metadata": {},
   "source": [
    "### Multinomial"
   ]
  },
  {
   "cell_type": "code",
   "execution_count": 31,
   "metadata": {
    "ExecuteTime": {
     "end_time": "2016-09-25T15:12:03.308471",
     "start_time": "2016-09-25T15:11:55.393628"
    },
    "collapsed": false
   },
   "outputs": [
    {
     "name": "stdout",
     "output_type": "stream",
     "text": [
      "mean    0.903457\n",
      "std     0.002926\n",
      "min     0.898642\n",
      "50%     0.903025\n",
      "max     0.908395\n",
      "dtype: float64\n"
     ]
    },
    {
     "data": {
      "text/plain": [
       "array([ 0.90246914,  0.90061728,  0.89864198,  0.90530864,  0.9037037 ,\n",
       "        0.90320988,  0.90283951,  0.90839506,  0.90209877,  0.90728395])"
      ]
     },
     "execution_count": 31,
     "metadata": {},
     "output_type": "execute_result"
    }
   ],
   "source": [
    "nb = MultinomialNB(alpha = 1, fit_prior = False)\n",
    "data(cross_val_score(nb, X, y, cv = folds))"
   ]
  },
  {
   "cell_type": "markdown",
   "metadata": {},
   "source": [
    "### Bernoulli"
   ]
  },
  {
   "cell_type": "code",
   "execution_count": 13,
   "metadata": {
    "ExecuteTime": {
     "end_time": "2016-09-27T06:55:14.943271",
     "start_time": "2016-09-27T06:54:58.855044"
    },
    "collapsed": false
   },
   "outputs": [
    {
     "name": "stdout",
     "output_type": "stream",
     "text": [
      "mean    0.951210\n",
      "std     0.001046\n",
      "min     0.949877\n",
      "50%     0.951049\n",
      "max     0.953086\n",
      "dtype: float64\n"
     ]
    },
    {
     "data": {
      "text/plain": [
       "array([ 0.95012346,  0.95271605,  0.95148148,  0.95308642,  0.95061728,\n",
       "        0.95135802,  0.95148148,  0.94987654,  0.95061728,  0.95074074])"
      ]
     },
     "execution_count": 13,
     "metadata": {},
     "output_type": "execute_result"
    }
   ],
   "source": [
    "nb = BernoulliNB(alpha = 1, fit_prior = True)\n",
    "data(cross_val_score(nb, X, y, cv = folds))"
   ]
  },
  {
   "cell_type": "code",
   "execution_count": 35,
   "metadata": {
    "ExecuteTime": {
     "end_time": "2016-09-27T07:03:18.243918",
     "start_time": "2016-09-27T07:03:16.780855"
    },
    "collapsed": false
   },
   "outputs": [
    {
     "data": {
      "text/plain": [
       "0.5024691358024691"
      ]
     },
     "execution_count": 35,
     "metadata": {},
     "output_type": "execute_result"
    }
   ],
   "source": [
    "nb = BernoulliNB(alpha = 0, fit_prior = True)\n",
    "nb.fit(X_train, y_train)\n",
    "nb.score(X_test, y_test)"
   ]
  },
  {
   "cell_type": "code",
   "execution_count": 40,
   "metadata": {
    "ExecuteTime": {
     "end_time": "2016-09-27T07:04:36.516432",
     "start_time": "2016-09-27T07:04:35.098683"
    },
    "collapsed": false
   },
   "outputs": [
    {
     "data": {
      "text/plain": [
       "0.95387654320987658"
      ]
     },
     "execution_count": 40,
     "metadata": {},
     "output_type": "execute_result"
    }
   ],
   "source": [
    "nb = BernoulliNB(alpha = .000000000000000000000000000001, fit_prior = True)\n",
    "nb.fit(X_train, y_train)\n",
    "\n",
    "nb.score(X_test, y_test)"
   ]
  },
  {
   "cell_type": "code",
   "execution_count": 33,
   "metadata": {
    "ExecuteTime": {
     "end_time": "2016-09-27T07:02:38.710419",
     "start_time": "2016-09-27T07:02:38.703590"
    },
    "collapsed": false
   },
   "outputs": [
    {
     "data": {
      "text/plain": [
       "[0.006737946999085467,\n",
       " 0.015503853599009314,\n",
       " 0.035673993347252408,\n",
       " 0.0820849986238988,\n",
       " 0.18887560283756186,\n",
       " 0.43459820850707837,\n",
       " 1.0,\n",
       " 2.3009758908928264,\n",
       " 5.2944900504700305,\n",
       " 12.182493960703473,\n",
       " 28.03162489452615,\n",
       " 64.500093064855832,\n",
       " 148.4131591025766]"
      ]
     },
     "execution_count": 33,
     "metadata": {},
     "output_type": "execute_result"
    }
   ],
   "source": [
    "[numpy.exp(x) for x in numpy.linspace(-5, 5, 13)]"
   ]
  },
  {
   "cell_type": "code",
   "execution_count": 14,
   "metadata": {
    "ExecuteTime": {
     "end_time": "2016-09-27T08:00:54.233990",
     "start_time": "2016-09-27T08:00:54.229933"
    },
    "collapsed": false
   },
   "outputs": [
    {
     "data": {
      "text/plain": [
       "1"
      ]
     },
     "execution_count": 14,
     "metadata": {},
     "output_type": "execute_result"
    }
   ],
   "source": [
    "1"
   ]
  },
  {
   "cell_type": "code",
   "execution_count": 19,
   "metadata": {
    "ExecuteTime": {
     "end_time": "2016-09-27T08:16:07.139384",
     "start_time": "2016-09-27T08:15:22.452718"
    },
    "collapsed": false
   },
   "outputs": [
    {
     "data": {
      "image/png": "[encoded data removed]",
      "text/plain": [
       "<matplotlib.figure.Figure at 0x7fdada851dd0>"
      ]
     },
     "metadata": {},
     "output_type": "display_data"
    }
   ],
   "source": [
    "def test_alpha(a, X_train, X_test, y_train, y_test):\n",
    "    nb = BernoulliNB(alpha = a, fit_prior = True)\n",
    "    nb.fit(X_train, y_train)\n",
    "    return nb.score(X_test, y_test)\n",
    "\n",
    "def plot_categ(p):\n",
    "    X_train, X_test, y_train, y_test = sklearn.cross_validation.train_test_split(X[p], y)\n",
    "    q = [numpy.exp(x) for x in numpy.linspace(-5, 5, 11)]\n",
    "    w = [test_alpha(x, X_train, X_test, y_train, y_test) for x in q]\n",
    "    return q, w\n",
    "\n",
    "pyplot.xlabel(r'$\\alpha$')\n",
    "pyplot.ylabel('Accuracy')\n",
    "pyplot.xscale('log')\n",
    "\n",
    "subsets = {'all': X.columns, 'word_bag': word_bag, 'existence': existence, 'categorization': categorization, 'header features': header_features, 'binary': binary}\n",
    "for name, categ in subsets.iteritems():\n",
    "    q, w = plot_categ(categ)\n",
    "    pyplot.plot(q, w, label = name)\n",
    "    \n",
    "pyplot.legend(loc = 0)\n",
    "pyplot.savefig('informe/figures/bayes.png', bbox_inches = 'tight')"
   ]
  },
  {
   "cell_type": "code",
   "execution_count": 18,
   "metadata": {
    "ExecuteTime": {
     "end_time": "2016-09-27T07:21:18.248956",
     "start_time": "2016-09-27T07:20:50.790455"
    },
    "collapsed": false
   },
   "outputs": [
    {
     "data": {
      "text/plain": [
       "<matplotlib.legend.Legend at 0x7f6ba3b09450>"
      ]
     },
     "execution_count": 18,
     "metadata": {},
     "output_type": "execute_result"
    },
    {
     "data": {
      "image/png": "[encoded data removed]",
      "text/plain": [
       "<matplotlib.figure.Figure at 0x7f6ba57aff50>"
      ]
     },
     "metadata": {},
     "output_type": "display_data"
    }
   ],
   "source": [
    "def test_alpha(a, X_train, X_test, y_train, y_test):\n",
    "    nb = BernoulliNB(alpha = a, fit_prior = True)\n",
    "    nb.fit(X_train, y_train)\n",
    "    return nb.score(X_test, y_test)\n",
    "\n",
    "def plot_categ(p):\n",
    "    X_train, X_test, y_train, y_test = sklearn.cross_validation.train_test_split(X[p], y)\n",
    "    q = [numpy.exp(x) for x in numpy.linspace(-5, 5, 11)]\n",
    "    w = [test_alpha(x, X_train, X_test, y_train, y_test) for x in q]\n",
    "    return q, w\n",
    "\n",
    "pyplot.xlabel(r'$\\alpha$')\n",
    "pyplot.ylabel('Accuracy')\n",
    "pyplot.xscale('log')\n",
    "\n",
    "subsets = {'all': X.columns, 'binary': binary}\n",
    "for name, categ in subsets.iteritems():\n",
    "    q, w = plot_categ(categ)\n",
    "    pyplot.plot(q, w, label = name)\n",
    "    \n",
    "pyplot.legend(loc = 0)"
   ]
  },
  {
   "cell_type": "code",
   "execution_count": 24,
   "metadata": {
    "ExecuteTime": {
     "end_time": "2016-09-26T21:53:06.096286",
     "start_time": "2016-09-26T21:53:04.621465"
    },
    "collapsed": false
   },
   "outputs": [
    {
     "data": {
      "text/plain": [
       "(array([ 0.       ,  0.0829484,  1.       ]),\n",
       " array([ 0.        ,  0.98699752,  1.        ]),\n",
       " array([2, 1, 0]))"
      ]
     },
     "execution_count": 24,
     "metadata": {},
     "output_type": "execute_result"
    }
   ],
   "source": [
    "nb = BernoulliNB(alpha = 1, fit_prior = True)\n",
    "nb.fit(X_train, y_train)\n",
    "\n",
    "sklearn.metrics.roc_curve(y_test, nb.predict(X_test))"
   ]
  },
  {
   "cell_type": "code",
   "execution_count": 28,
   "metadata": {
    "ExecuteTime": {
     "end_time": "2016-09-26T22:05:20.662730",
     "start_time": "2016-09-26T22:05:20.276852"
    },
    "collapsed": false
   },
   "outputs": [],
   "source": [
    "y_pred = nb.predict(X_test)\n"
   ]
  },
  {
   "cell_type": "code",
   "execution_count": 53,
   "metadata": {
    "ExecuteTime": {
     "end_time": "2016-09-26T09:04:18.627228",
     "start_time": "2016-09-26T09:04:08.006510"
    },
    "collapsed": false
   },
   "outputs": [
    {
     "name": "stdout",
     "output_type": "stream",
     "text": [
      "mean    0.952185\n",
      "std     0.001748\n",
      "min     0.948765\n",
      "50%     0.952160\n",
      "max     0.955185\n",
      "dtype: float64\n"
     ]
    },
    {
     "data": {
      "text/plain": [
       "array([ 0.95135802,  0.95333333,  0.94876543,  0.95518519,  0.95209877,\n",
       "        0.95283951,  0.95222222,  0.95111111,  0.9537037 ,  0.95123457])"
      ]
     },
     "execution_count": 53,
     "metadata": {},
     "output_type": "execute_result"
    }
   ],
   "source": [
    "nb = BernoulliNB(alpha = 1, fit_prior = True)\n",
    "data(cross_val_score(nb, X[binary], y, cv = folds))"
   ]
  },
  {
   "cell_type": "code",
   "execution_count": 62,
   "metadata": {
    "ExecuteTime": {
     "end_time": "2016-09-26T09:15:09.265866",
     "start_time": "2016-09-26T09:15:08.185282"
    },
    "collapsed": false
   },
   "outputs": [
    {
     "data": {
      "text/plain": [
       "BernoulliNB(alpha=1, binarize=0.0, class_prior=None, fit_prior=True)"
      ]
     },
     "execution_count": 62,
     "metadata": {},
     "output_type": "execute_result"
    }
   ],
   "source": [
    "nb = BernoulliNB(alpha = 1, fit_prior = True)\n",
    "nb.fit(X_train, y_train)"
   ]
  },
  {
   "cell_type": "code",
   "execution_count": 74,
   "metadata": {
    "ExecuteTime": {
     "end_time": "2016-09-26T09:16:24.237354",
     "start_time": "2016-09-26T09:16:23.479357"
    },
    "collapsed": false
   },
   "outputs": [
    {
     "data": {
      "text/plain": [
       "True"
      ]
     },
     "execution_count": 74,
     "metadata": {},
     "output_type": "execute_result"
    }
   ],
   "source": [
    "(nb.predict_proba(X_test).argmax(axis = 1)== nb.predict(X_test)).all()"
   ]
  },
  {
   "cell_type": "code",
   "execution_count": 56,
   "metadata": {
    "ExecuteTime": {
     "end_time": "2016-09-26T09:05:09.772130",
     "start_time": "2016-09-26T09:05:09.767295"
    },
    "collapsed": false
   },
   "outputs": [
    {
     "data": {
      "text/plain": [
       "0.95120987654320988"
      ]
     },
     "execution_count": 56,
     "metadata": {},
     "output_type": "execute_result"
    }
   ],
   "source": [
    "(a == y).mean()"
   ]
  },
  {
   "cell_type": "markdown",
   "metadata": {},
   "source": [
    "## Neighbours"
   ]
  },
  {
   "cell_type": "code",
   "execution_count": 12,
   "metadata": {
    "ExecuteTime": {
     "end_time": "2016-09-28T13:50:31.096122",
     "start_time": "2016-09-28T13:50:31.005600"
    },
    "collapsed": false,
    "init_cell": true
   },
   "outputs": [],
   "source": [
    "from sklearn.neighbors import KNeighborsClassifier, NearestCentroid"
   ]
  },
  {
   "cell_type": "markdown",
   "metadata": {},
   "source": [
    "### K Nearest Neighbors"
   ]
  },
  {
   "cell_type": "code",
   "execution_count": 29,
   "metadata": {
    "ExecuteTime": {
     "end_time": "2016-09-27T07:32:42.997219",
     "start_time": "2016-09-27T07:32:42.992291"
    },
    "collapsed": false
   },
   "outputs": [],
   "source": [
    "folds = 3"
   ]
  },
  {
   "cell_type": "code",
   "execution_count": 30,
   "metadata": {
    "ExecuteTime": {
     "end_time": "2016-09-27T07:36:21.893818",
     "start_time": "2016-09-27T07:32:43.884530"
    },
    "collapsed": false
   },
   "outputs": [
    {
     "ename": "KeyboardInterrupt",
     "evalue": "",
     "output_type": "error",
     "traceback": [
      "\u001b[0;31m---------------------------------------------------------------------------\u001b[0m",
      "\u001b[0;31mKeyboardInterrupt\u001b[0m                         Traceback (most recent call last)",
      "\u001b[0;32m<ipython-input-30-03259dad0934>\u001b[0m in \u001b[0;36m<module>\u001b[0;34m()\u001b[0m\n\u001b[1;32m      1\u001b[0m \u001b[0mkn\u001b[0m \u001b[0;34m=\u001b[0m \u001b[0mKNeighborsClassifier\u001b[0m\u001b[0;34m(\u001b[0m\u001b[0;36m5\u001b[0m\u001b[0;34m,\u001b[0m \u001b[0mweights\u001b[0m \u001b[0;34m=\u001b[0m \u001b[0;34m'uniform'\u001b[0m\u001b[0;34m)\u001b[0m\u001b[0;34m\u001b[0m\u001b[0m\n\u001b[0;32m----> 2\u001b[0;31m \u001b[0mdata\u001b[0m\u001b[0;34m(\u001b[0m\u001b[0mcross_val_score\u001b[0m\u001b[0;34m(\u001b[0m\u001b[0mkn\u001b[0m\u001b[0;34m,\u001b[0m \u001b[0mX\u001b[0m\u001b[0;34m,\u001b[0m \u001b[0my\u001b[0m\u001b[0;34m,\u001b[0m \u001b[0mcv\u001b[0m \u001b[0;34m=\u001b[0m \u001b[0mfolds\u001b[0m\u001b[0;34m)\u001b[0m\u001b[0;34m)\u001b[0m\u001b[0;34m\u001b[0m\u001b[0m\n\u001b[0m",
      "\u001b[0;32m/usr/lib/python2.7/site-packages/sklearn/cross_validation.pyc\u001b[0m in \u001b[0;36mcross_val_score\u001b[0;34m(estimator, X, y, scoring, cv, n_jobs, verbose, fit_params, pre_dispatch)\u001b[0m\n\u001b[1;32m   1431\u001b[0m                                               \u001b[0mtrain\u001b[0m\u001b[0;34m,\u001b[0m \u001b[0mtest\u001b[0m\u001b[0;34m,\u001b[0m \u001b[0mverbose\u001b[0m\u001b[0;34m,\u001b[0m \u001b[0mNone\u001b[0m\u001b[0;34m,\u001b[0m\u001b[0;34m\u001b[0m\u001b[0m\n\u001b[1;32m   1432\u001b[0m                                               fit_params)\n\u001b[0;32m-> 1433\u001b[0;31m                       for train, test in cv)\n\u001b[0m\u001b[1;32m   1434\u001b[0m     \u001b[0;32mreturn\u001b[0m \u001b[0mnp\u001b[0m\u001b[0;34m.\u001b[0m\u001b[0marray\u001b[0m\u001b[0;34m(\u001b[0m\u001b[0mscores\u001b[0m\u001b[0;34m)\u001b[0m\u001b[0;34m[\u001b[0m\u001b[0;34m:\u001b[0m\u001b[0;34m,\u001b[0m \u001b[0;36m0\u001b[0m\u001b[0;34m]\u001b[0m\u001b[0;34m\u001b[0m\u001b[0m\n\u001b[1;32m   1435\u001b[0m \u001b[0;34m\u001b[0m\u001b[0m\n",
      "\u001b[0;32m/usr/lib/python2.7/site-packages/sklearn/externals/joblib/parallel.pyc\u001b[0m in \u001b[0;36m__call__\u001b[0;34m(self, iterable)\u001b[0m\n\u001b[1;32m    798\u001b[0m             \u001b[0;31m# was dispatched. In particular this covers the edge\u001b[0m\u001b[0;34m\u001b[0m\u001b[0;34m\u001b[0m\u001b[0m\n\u001b[1;32m    799\u001b[0m             \u001b[0;31m# case of Parallel used with an exhausted iterator.\u001b[0m\u001b[0;34m\u001b[0m\u001b[0;34m\u001b[0m\u001b[0m\n\u001b[0;32m--> 800\u001b[0;31m             \u001b[0;32mwhile\u001b[0m \u001b[0mself\u001b[0m\u001b[0;34m.\u001b[0m\u001b[0mdispatch_one_batch\u001b[0m\u001b[0;34m(\u001b[0m\u001b[0miterator\u001b[0m\u001b[0;34m)\u001b[0m\u001b[0;34m:\u001b[0m\u001b[0;34m\u001b[0m\u001b[0m\n\u001b[0m\u001b[1;32m    801\u001b[0m                 \u001b[0mself\u001b[0m\u001b[0;34m.\u001b[0m\u001b[0m_iterating\u001b[0m \u001b[0;34m=\u001b[0m \u001b[0mTrue\u001b[0m\u001b[0;34m\u001b[0m\u001b[0m\n\u001b[1;32m    802\u001b[0m             \u001b[0;32melse\u001b[0m\u001b[0;34m:\u001b[0m\u001b[0;34m\u001b[0m\u001b[0m\n",
      "\u001b[0;32m/usr/lib/python2.7/site-packages/sklearn/externals/joblib/parallel.pyc\u001b[0m in \u001b[0;36mdispatch_one_batch\u001b[0;34m(self, iterator)\u001b[0m\n\u001b[1;32m    656\u001b[0m                 \u001b[0;32mreturn\u001b[0m \u001b[0mFalse\u001b[0m\u001b[0;34m\u001b[0m\u001b[0m\n\u001b[1;32m    657\u001b[0m             \u001b[0;32melse\u001b[0m\u001b[0;34m:\u001b[0m\u001b[0;34m\u001b[0m\u001b[0m\n\u001b[0;32m--> 658\u001b[0;31m                 \u001b[0mself\u001b[0m\u001b[0;34m.\u001b[0m\u001b[0m_dispatch\u001b[0m\u001b[0;34m(\u001b[0m\u001b[0mtasks\u001b[0m\u001b[0;34m)\u001b[0m\u001b[0;34m\u001b[0m\u001b[0m\n\u001b[0m\u001b[1;32m    659\u001b[0m                 \u001b[0;32mreturn\u001b[0m \u001b[0mTrue\u001b[0m\u001b[0;34m\u001b[0m\u001b[0m\n\u001b[1;32m    660\u001b[0m \u001b[0;34m\u001b[0m\u001b[0m\n",
      "\u001b[0;32m/usr/lib/python2.7/site-packages/sklearn/externals/joblib/parallel.pyc\u001b[0m in \u001b[0;36m_dispatch\u001b[0;34m(self, batch)\u001b[0m\n\u001b[1;32m    564\u001b[0m \u001b[0;34m\u001b[0m\u001b[0m\n\u001b[1;32m    565\u001b[0m         \u001b[0;32mif\u001b[0m \u001b[0mself\u001b[0m\u001b[0;34m.\u001b[0m\u001b[0m_pool\u001b[0m \u001b[0;32mis\u001b[0m \u001b[0mNone\u001b[0m\u001b[0;34m:\u001b[0m\u001b[0;34m\u001b[0m\u001b[0m\n\u001b[0;32m--> 566\u001b[0;31m             \u001b[0mjob\u001b[0m \u001b[0;34m=\u001b[0m \u001b[0mImmediateComputeBatch\u001b[0m\u001b[0;34m(\u001b[0m\u001b[0mbatch\u001b[0m\u001b[0;34m)\u001b[0m\u001b[0;34m\u001b[0m\u001b[0m\n\u001b[0m\u001b[1;32m    567\u001b[0m             \u001b[0mself\u001b[0m\u001b[0;34m.\u001b[0m\u001b[0m_jobs\u001b[0m\u001b[0;34m.\u001b[0m\u001b[0mappend\u001b[0m\u001b[0;34m(\u001b[0m\u001b[0mjob\u001b[0m\u001b[0;34m)\u001b[0m\u001b[0;34m\u001b[0m\u001b[0m\n\u001b[1;32m    568\u001b[0m             \u001b[0mself\u001b[0m\u001b[0;34m.\u001b[0m\u001b[0mn_dispatched_batches\u001b[0m \u001b[0;34m+=\u001b[0m \u001b[0;36m1\u001b[0m\u001b[0;34m\u001b[0m\u001b[0m\n",
      "\u001b[0;32m/usr/lib/python2.7/site-packages/sklearn/externals/joblib/parallel.pyc\u001b[0m in \u001b[0;36m__init__\u001b[0;34m(self, batch)\u001b[0m\n\u001b[1;32m    178\u001b[0m         \u001b[0;31m# Don't delay the application, to avoid keeping the input\u001b[0m\u001b[0;34m\u001b[0m\u001b[0;34m\u001b[0m\u001b[0m\n\u001b[1;32m    179\u001b[0m         \u001b[0;31m# arguments in memory\u001b[0m\u001b[0;34m\u001b[0m\u001b[0;34m\u001b[0m\u001b[0m\n\u001b[0;32m--> 180\u001b[0;31m         \u001b[0mself\u001b[0m\u001b[0;34m.\u001b[0m\u001b[0mresults\u001b[0m \u001b[0;34m=\u001b[0m \u001b[0mbatch\u001b[0m\u001b[0;34m(\u001b[0m\u001b[0;34m)\u001b[0m\u001b[0;34m\u001b[0m\u001b[0m\n\u001b[0m\u001b[1;32m    181\u001b[0m \u001b[0;34m\u001b[0m\u001b[0m\n\u001b[1;32m    182\u001b[0m     \u001b[0;32mdef\u001b[0m \u001b[0mget\u001b[0m\u001b[0;34m(\u001b[0m\u001b[0mself\u001b[0m\u001b[0;34m)\u001b[0m\u001b[0;34m:\u001b[0m\u001b[0;34m\u001b[0m\u001b[0m\n",
      "\u001b[0;32m/usr/lib/python2.7/site-packages/sklearn/externals/joblib/parallel.pyc\u001b[0m in \u001b[0;36m__call__\u001b[0;34m(self)\u001b[0m\n\u001b[1;32m     70\u001b[0m \u001b[0;34m\u001b[0m\u001b[0m\n\u001b[1;32m     71\u001b[0m     \u001b[0;32mdef\u001b[0m \u001b[0m__call__\u001b[0m\u001b[0;34m(\u001b[0m\u001b[0mself\u001b[0m\u001b[0;34m)\u001b[0m\u001b[0;34m:\u001b[0m\u001b[0;34m\u001b[0m\u001b[0m\n\u001b[0;32m---> 72\u001b[0;31m         \u001b[0;32mreturn\u001b[0m \u001b[0;34m[\u001b[0m\u001b[0mfunc\u001b[0m\u001b[0;34m(\u001b[0m\u001b[0;34m*\u001b[0m\u001b[0margs\u001b[0m\u001b[0;34m,\u001b[0m \u001b[0;34m**\u001b[0m\u001b[0mkwargs\u001b[0m\u001b[0;34m)\u001b[0m \u001b[0;32mfor\u001b[0m \u001b[0mfunc\u001b[0m\u001b[0;34m,\u001b[0m \u001b[0margs\u001b[0m\u001b[0;34m,\u001b[0m \u001b[0mkwargs\u001b[0m \u001b[0;32min\u001b[0m \u001b[0mself\u001b[0m\u001b[0;34m.\u001b[0m\u001b[0mitems\u001b[0m\u001b[0;34m]\u001b[0m\u001b[0;34m\u001b[0m\u001b[0m\n\u001b[0m\u001b[1;32m     73\u001b[0m \u001b[0;34m\u001b[0m\u001b[0m\n\u001b[1;32m     74\u001b[0m     \u001b[0;32mdef\u001b[0m \u001b[0m__len__\u001b[0m\u001b[0;34m(\u001b[0m\u001b[0mself\u001b[0m\u001b[0;34m)\u001b[0m\u001b[0;34m:\u001b[0m\u001b[0;34m\u001b[0m\u001b[0m\n",
      "\u001b[0;32m/usr/lib/python2.7/site-packages/sklearn/cross_validation.pyc\u001b[0m in \u001b[0;36m_fit_and_score\u001b[0;34m(estimator, X, y, scorer, train, test, verbose, parameters, fit_params, return_train_score, return_parameters, error_score)\u001b[0m\n\u001b[1;32m   1548\u001b[0m \u001b[0;34m\u001b[0m\u001b[0m\n\u001b[1;32m   1549\u001b[0m     \u001b[0;32melse\u001b[0m\u001b[0;34m:\u001b[0m\u001b[0;34m\u001b[0m\u001b[0m\n\u001b[0;32m-> 1550\u001b[0;31m         \u001b[0mtest_score\u001b[0m \u001b[0;34m=\u001b[0m \u001b[0m_score\u001b[0m\u001b[0;34m(\u001b[0m\u001b[0mestimator\u001b[0m\u001b[0;34m,\u001b[0m \u001b[0mX_test\u001b[0m\u001b[0;34m,\u001b[0m \u001b[0my_test\u001b[0m\u001b[0;34m,\u001b[0m \u001b[0mscorer\u001b[0m\u001b[0;34m)\u001b[0m\u001b[0;34m\u001b[0m\u001b[0m\n\u001b[0m\u001b[1;32m   1551\u001b[0m         \u001b[0;32mif\u001b[0m \u001b[0mreturn_train_score\u001b[0m\u001b[0;34m:\u001b[0m\u001b[0;34m\u001b[0m\u001b[0m\n\u001b[1;32m   1552\u001b[0m             \u001b[0mtrain_score\u001b[0m \u001b[0;34m=\u001b[0m \u001b[0m_score\u001b[0m\u001b[0;34m(\u001b[0m\u001b[0mestimator\u001b[0m\u001b[0;34m,\u001b[0m \u001b[0mX_train\u001b[0m\u001b[0;34m,\u001b[0m \u001b[0my_train\u001b[0m\u001b[0;34m,\u001b[0m \u001b[0mscorer\u001b[0m\u001b[0;34m)\u001b[0m\u001b[0;34m\u001b[0m\u001b[0m\n",
      "\u001b[0;32m/usr/lib/python2.7/site-packages/sklearn/cross_validation.pyc\u001b[0m in \u001b[0;36m_score\u001b[0;34m(estimator, X_test, y_test, scorer)\u001b[0m\n\u001b[1;32m   1604\u001b[0m         \u001b[0mscore\u001b[0m \u001b[0;34m=\u001b[0m \u001b[0mscorer\u001b[0m\u001b[0;34m(\u001b[0m\u001b[0mestimator\u001b[0m\u001b[0;34m,\u001b[0m \u001b[0mX_test\u001b[0m\u001b[0;34m)\u001b[0m\u001b[0;34m\u001b[0m\u001b[0m\n\u001b[1;32m   1605\u001b[0m     \u001b[0;32melse\u001b[0m\u001b[0;34m:\u001b[0m\u001b[0;34m\u001b[0m\u001b[0m\n\u001b[0;32m-> 1606\u001b[0;31m         \u001b[0mscore\u001b[0m \u001b[0;34m=\u001b[0m \u001b[0mscorer\u001b[0m\u001b[0;34m(\u001b[0m\u001b[0mestimator\u001b[0m\u001b[0;34m,\u001b[0m \u001b[0mX_test\u001b[0m\u001b[0;34m,\u001b[0m \u001b[0my_test\u001b[0m\u001b[0;34m)\u001b[0m\u001b[0;34m\u001b[0m\u001b[0m\n\u001b[0m\u001b[1;32m   1607\u001b[0m     \u001b[0;32mif\u001b[0m \u001b[0;32mnot\u001b[0m \u001b[0misinstance\u001b[0m\u001b[0;34m(\u001b[0m\u001b[0mscore\u001b[0m\u001b[0;34m,\u001b[0m \u001b[0mnumbers\u001b[0m\u001b[0;34m.\u001b[0m\u001b[0mNumber\u001b[0m\u001b[0;34m)\u001b[0m\u001b[0;34m:\u001b[0m\u001b[0;34m\u001b[0m\u001b[0m\n\u001b[1;32m   1608\u001b[0m         raise ValueError(\"scoring must return a number, got %s (%s) instead.\"\n",
      "\u001b[0;32m/usr/lib/python2.7/site-packages/sklearn/metrics/scorer.pyc\u001b[0m in \u001b[0;36m_passthrough_scorer\u001b[0;34m(estimator, *args, **kwargs)\u001b[0m\n\u001b[1;32m    203\u001b[0m \u001b[0;32mdef\u001b[0m \u001b[0m_passthrough_scorer\u001b[0m\u001b[0;34m(\u001b[0m\u001b[0mestimator\u001b[0m\u001b[0;34m,\u001b[0m \u001b[0;34m*\u001b[0m\u001b[0margs\u001b[0m\u001b[0;34m,\u001b[0m \u001b[0;34m**\u001b[0m\u001b[0mkwargs\u001b[0m\u001b[0;34m)\u001b[0m\u001b[0;34m:\u001b[0m\u001b[0;34m\u001b[0m\u001b[0m\n\u001b[1;32m    204\u001b[0m     \u001b[0;34m\"\"\"Function that wraps estimator.score\"\"\"\u001b[0m\u001b[0;34m\u001b[0m\u001b[0m\n\u001b[0;32m--> 205\u001b[0;31m     \u001b[0;32mreturn\u001b[0m \u001b[0mestimator\u001b[0m\u001b[0;34m.\u001b[0m\u001b[0mscore\u001b[0m\u001b[0;34m(\u001b[0m\u001b[0;34m*\u001b[0m\u001b[0margs\u001b[0m\u001b[0;34m,\u001b[0m \u001b[0;34m**\u001b[0m\u001b[0mkwargs\u001b[0m\u001b[0;34m)\u001b[0m\u001b[0;34m\u001b[0m\u001b[0m\n\u001b[0m\u001b[1;32m    206\u001b[0m \u001b[0;34m\u001b[0m\u001b[0m\n\u001b[1;32m    207\u001b[0m \u001b[0;34m\u001b[0m\u001b[0m\n",
      "\u001b[0;32m/usr/lib/python2.7/site-packages/sklearn/base.pyc\u001b[0m in \u001b[0;36mscore\u001b[0;34m(self, X, y, sample_weight)\u001b[0m\n\u001b[1;32m    308\u001b[0m         \"\"\"\n\u001b[1;32m    309\u001b[0m         \u001b[0;32mfrom\u001b[0m \u001b[0;34m.\u001b[0m\u001b[0mmetrics\u001b[0m \u001b[0;32mimport\u001b[0m \u001b[0maccuracy_score\u001b[0m\u001b[0;34m\u001b[0m\u001b[0m\n\u001b[0;32m--> 310\u001b[0;31m         \u001b[0;32mreturn\u001b[0m \u001b[0maccuracy_score\u001b[0m\u001b[0;34m(\u001b[0m\u001b[0my\u001b[0m\u001b[0;34m,\u001b[0m \u001b[0mself\u001b[0m\u001b[0;34m.\u001b[0m\u001b[0mpredict\u001b[0m\u001b[0;34m(\u001b[0m\u001b[0mX\u001b[0m\u001b[0;34m)\u001b[0m\u001b[0;34m,\u001b[0m \u001b[0msample_weight\u001b[0m\u001b[0;34m=\u001b[0m\u001b[0msample_weight\u001b[0m\u001b[0;34m)\u001b[0m\u001b[0;34m\u001b[0m\u001b[0m\n\u001b[0m\u001b[1;32m    311\u001b[0m \u001b[0;34m\u001b[0m\u001b[0m\n\u001b[1;32m    312\u001b[0m \u001b[0;34m\u001b[0m\u001b[0m\n",
      "\u001b[0;32m/usr/lib/python2.7/site-packages/sklearn/neighbors/classification.pyc\u001b[0m in \u001b[0;36mpredict\u001b[0;34m(self, X)\u001b[0m\n\u001b[1;32m    145\u001b[0m         \u001b[0mX\u001b[0m \u001b[0;34m=\u001b[0m \u001b[0mcheck_array\u001b[0m\u001b[0;34m(\u001b[0m\u001b[0mX\u001b[0m\u001b[0;34m,\u001b[0m \u001b[0maccept_sparse\u001b[0m\u001b[0;34m=\u001b[0m\u001b[0;34m'csr'\u001b[0m\u001b[0;34m)\u001b[0m\u001b[0;34m\u001b[0m\u001b[0m\n\u001b[1;32m    146\u001b[0m \u001b[0;34m\u001b[0m\u001b[0m\n\u001b[0;32m--> 147\u001b[0;31m         \u001b[0mneigh_dist\u001b[0m\u001b[0;34m,\u001b[0m \u001b[0mneigh_ind\u001b[0m \u001b[0;34m=\u001b[0m \u001b[0mself\u001b[0m\u001b[0;34m.\u001b[0m\u001b[0mkneighbors\u001b[0m\u001b[0;34m(\u001b[0m\u001b[0mX\u001b[0m\u001b[0;34m)\u001b[0m\u001b[0;34m\u001b[0m\u001b[0m\n\u001b[0m\u001b[1;32m    148\u001b[0m \u001b[0;34m\u001b[0m\u001b[0m\n\u001b[1;32m    149\u001b[0m         \u001b[0mclasses_\u001b[0m \u001b[0;34m=\u001b[0m \u001b[0mself\u001b[0m\u001b[0;34m.\u001b[0m\u001b[0mclasses_\u001b[0m\u001b[0;34m\u001b[0m\u001b[0m\n",
      "\u001b[0;32m/usr/lib/python2.7/site-packages/sklearn/neighbors/base.pyc\u001b[0m in \u001b[0;36mkneighbors\u001b[0;34m(self, X, n_neighbors, return_distance)\u001b[0m\n\u001b[1;32m    397\u001b[0m                 delayed(self._tree.query, check_pickle=False)(\n\u001b[1;32m    398\u001b[0m                     X[s], n_neighbors, return_distance)\n\u001b[0;32m--> 399\u001b[0;31m                 \u001b[0;32mfor\u001b[0m \u001b[0ms\u001b[0m \u001b[0;32min\u001b[0m \u001b[0mgen_even_slices\u001b[0m\u001b[0;34m(\u001b[0m\u001b[0mX\u001b[0m\u001b[0;34m.\u001b[0m\u001b[0mshape\u001b[0m\u001b[0;34m[\u001b[0m\u001b[0;36m0\u001b[0m\u001b[0;34m]\u001b[0m\u001b[0;34m,\u001b[0m \u001b[0mn_jobs\u001b[0m\u001b[0;34m)\u001b[0m\u001b[0;34m\u001b[0m\u001b[0m\n\u001b[0m\u001b[1;32m    400\u001b[0m             )\n\u001b[1;32m    401\u001b[0m             \u001b[0;32mif\u001b[0m \u001b[0mreturn_distance\u001b[0m\u001b[0;34m:\u001b[0m\u001b[0;34m\u001b[0m\u001b[0m\n",
      "\u001b[0;32m/usr/lib/python2.7/site-packages/sklearn/externals/joblib/parallel.pyc\u001b[0m in \u001b[0;36m__call__\u001b[0;34m(self, iterable)\u001b[0m\n\u001b[1;32m    798\u001b[0m             \u001b[0;31m# was dispatched. In particular this covers the edge\u001b[0m\u001b[0;34m\u001b[0m\u001b[0;34m\u001b[0m\u001b[0m\n\u001b[1;32m    799\u001b[0m             \u001b[0;31m# case of Parallel used with an exhausted iterator.\u001b[0m\u001b[0;34m\u001b[0m\u001b[0;34m\u001b[0m\u001b[0m\n\u001b[0;32m--> 800\u001b[0;31m             \u001b[0;32mwhile\u001b[0m \u001b[0mself\u001b[0m\u001b[0;34m.\u001b[0m\u001b[0mdispatch_one_batch\u001b[0m\u001b[0;34m(\u001b[0m\u001b[0miterator\u001b[0m\u001b[0;34m)\u001b[0m\u001b[0;34m:\u001b[0m\u001b[0;34m\u001b[0m\u001b[0m\n\u001b[0m\u001b[1;32m    801\u001b[0m                 \u001b[0mself\u001b[0m\u001b[0;34m.\u001b[0m\u001b[0m_iterating\u001b[0m \u001b[0;34m=\u001b[0m \u001b[0mTrue\u001b[0m\u001b[0;34m\u001b[0m\u001b[0m\n\u001b[1;32m    802\u001b[0m             \u001b[0;32melse\u001b[0m\u001b[0;34m:\u001b[0m\u001b[0;34m\u001b[0m\u001b[0m\n",
      "\u001b[0;32m/usr/lib/python2.7/site-packages/sklearn/externals/joblib/parallel.pyc\u001b[0m in \u001b[0;36mdispatch_one_batch\u001b[0;34m(self, iterator)\u001b[0m\n\u001b[1;32m    656\u001b[0m                 \u001b[0;32mreturn\u001b[0m \u001b[0mFalse\u001b[0m\u001b[0;34m\u001b[0m\u001b[0m\n\u001b[1;32m    657\u001b[0m             \u001b[0;32melse\u001b[0m\u001b[0;34m:\u001b[0m\u001b[0;34m\u001b[0m\u001b[0m\n\u001b[0;32m--> 658\u001b[0;31m                 \u001b[0mself\u001b[0m\u001b[0;34m.\u001b[0m\u001b[0m_dispatch\u001b[0m\u001b[0;34m(\u001b[0m\u001b[0mtasks\u001b[0m\u001b[0;34m)\u001b[0m\u001b[0;34m\u001b[0m\u001b[0m\n\u001b[0m\u001b[1;32m    659\u001b[0m                 \u001b[0;32mreturn\u001b[0m \u001b[0mTrue\u001b[0m\u001b[0;34m\u001b[0m\u001b[0m\n\u001b[1;32m    660\u001b[0m \u001b[0;34m\u001b[0m\u001b[0m\n",
      "\u001b[0;32m/usr/lib/python2.7/site-packages/sklearn/externals/joblib/parallel.pyc\u001b[0m in \u001b[0;36m_dispatch\u001b[0;34m(self, batch)\u001b[0m\n\u001b[1;32m    564\u001b[0m \u001b[0;34m\u001b[0m\u001b[0m\n\u001b[1;32m    565\u001b[0m         \u001b[0;32mif\u001b[0m \u001b[0mself\u001b[0m\u001b[0;34m.\u001b[0m\u001b[0m_pool\u001b[0m \u001b[0;32mis\u001b[0m \u001b[0mNone\u001b[0m\u001b[0;34m:\u001b[0m\u001b[0;34m\u001b[0m\u001b[0m\n\u001b[0;32m--> 566\u001b[0;31m             \u001b[0mjob\u001b[0m \u001b[0;34m=\u001b[0m \u001b[0mImmediateComputeBatch\u001b[0m\u001b[0;34m(\u001b[0m\u001b[0mbatch\u001b[0m\u001b[0;34m)\u001b[0m\u001b[0;34m\u001b[0m\u001b[0m\n\u001b[0m\u001b[1;32m    567\u001b[0m             \u001b[0mself\u001b[0m\u001b[0;34m.\u001b[0m\u001b[0m_jobs\u001b[0m\u001b[0;34m.\u001b[0m\u001b[0mappend\u001b[0m\u001b[0;34m(\u001b[0m\u001b[0mjob\u001b[0m\u001b[0;34m)\u001b[0m\u001b[0;34m\u001b[0m\u001b[0m\n\u001b[1;32m    568\u001b[0m             \u001b[0mself\u001b[0m\u001b[0;34m.\u001b[0m\u001b[0mn_dispatched_batches\u001b[0m \u001b[0;34m+=\u001b[0m \u001b[0;36m1\u001b[0m\u001b[0;34m\u001b[0m\u001b[0m\n",
      "\u001b[0;32m/usr/lib/python2.7/site-packages/sklearn/externals/joblib/parallel.pyc\u001b[0m in \u001b[0;36m__init__\u001b[0;34m(self, batch)\u001b[0m\n\u001b[1;32m    178\u001b[0m         \u001b[0;31m# Don't delay the application, to avoid keeping the input\u001b[0m\u001b[0;34m\u001b[0m\u001b[0;34m\u001b[0m\u001b[0m\n\u001b[1;32m    179\u001b[0m         \u001b[0;31m# arguments in memory\u001b[0m\u001b[0;34m\u001b[0m\u001b[0;34m\u001b[0m\u001b[0m\n\u001b[0;32m--> 180\u001b[0;31m         \u001b[0mself\u001b[0m\u001b[0;34m.\u001b[0m\u001b[0mresults\u001b[0m \u001b[0;34m=\u001b[0m \u001b[0mbatch\u001b[0m\u001b[0;34m(\u001b[0m\u001b[0;34m)\u001b[0m\u001b[0;34m\u001b[0m\u001b[0m\n\u001b[0m\u001b[1;32m    181\u001b[0m \u001b[0;34m\u001b[0m\u001b[0m\n\u001b[1;32m    182\u001b[0m     \u001b[0;32mdef\u001b[0m \u001b[0mget\u001b[0m\u001b[0;34m(\u001b[0m\u001b[0mself\u001b[0m\u001b[0;34m)\u001b[0m\u001b[0;34m:\u001b[0m\u001b[0;34m\u001b[0m\u001b[0m\n",
      "\u001b[0;32m/usr/lib/python2.7/site-packages/sklearn/externals/joblib/parallel.pyc\u001b[0m in \u001b[0;36m__call__\u001b[0;34m(self)\u001b[0m\n\u001b[1;32m     70\u001b[0m \u001b[0;34m\u001b[0m\u001b[0m\n\u001b[1;32m     71\u001b[0m     \u001b[0;32mdef\u001b[0m \u001b[0m__call__\u001b[0m\u001b[0;34m(\u001b[0m\u001b[0mself\u001b[0m\u001b[0;34m)\u001b[0m\u001b[0;34m:\u001b[0m\u001b[0;34m\u001b[0m\u001b[0m\n\u001b[0;32m---> 72\u001b[0;31m         \u001b[0;32mreturn\u001b[0m \u001b[0;34m[\u001b[0m\u001b[0mfunc\u001b[0m\u001b[0;34m(\u001b[0m\u001b[0;34m*\u001b[0m\u001b[0margs\u001b[0m\u001b[0;34m,\u001b[0m \u001b[0;34m**\u001b[0m\u001b[0mkwargs\u001b[0m\u001b[0;34m)\u001b[0m \u001b[0;32mfor\u001b[0m \u001b[0mfunc\u001b[0m\u001b[0;34m,\u001b[0m \u001b[0margs\u001b[0m\u001b[0;34m,\u001b[0m \u001b[0mkwargs\u001b[0m \u001b[0;32min\u001b[0m \u001b[0mself\u001b[0m\u001b[0;34m.\u001b[0m\u001b[0mitems\u001b[0m\u001b[0;34m]\u001b[0m\u001b[0;34m\u001b[0m\u001b[0m\n\u001b[0m\u001b[1;32m     73\u001b[0m \u001b[0;34m\u001b[0m\u001b[0m\n\u001b[1;32m     74\u001b[0m     \u001b[0;32mdef\u001b[0m \u001b[0m__len__\u001b[0m\u001b[0;34m(\u001b[0m\u001b[0mself\u001b[0m\u001b[0;34m)\u001b[0m\u001b[0;34m:\u001b[0m\u001b[0;34m\u001b[0m\u001b[0m\n",
      "\u001b[0;31mKeyboardInterrupt\u001b[0m: "
     ]
    }
   ],
   "source": [
    "kn = KNeighborsClassifier(5, weights = 'uniform')\n",
    "data(cross_val_score(kn, X, y, cv = folds))"
   ]
  },
  {
   "cell_type": "markdown",
   "metadata": {},
   "source": [
    "#### Grid Search"
   ]
  },
  {
   "cell_type": "code",
   "execution_count": 43,
   "metadata": {
    "ExecuteTime": {
     "end_time": "2016-09-27T07:37:50.669713",
     "start_time": "2016-09-27T07:37:50.573673"
    },
    "collapsed": false
   },
   "outputs": [],
   "source": [
    "Xs = X.sample(frac = 1/10, random_state = 0)\n",
    "ys = y.sample(frac = 1/10, random_state = 0)\n",
    "\n",
    "assert (Xs.index == ys.index).all()"
   ]
  },
  {
   "cell_type": "code",
   "execution_count": 52,
   "metadata": {
    "ExecuteTime": {
     "end_time": "2016-09-27T07:47:18.102062",
     "start_time": "2016-09-27T07:46:27.756315"
    },
    "collapsed": false
   },
   "outputs": [
    {
     "name": "stdout",
     "output_type": "stream",
     "text": [
      "Fitting 3 folds for each of 6 candidates, totalling 18 fits\n",
      "[CV] n_neighbors=3, weights=uniform ..................................\n",
      "[CV] ......................... n_neighbors=3, weights=uniform -   2.6s\n",
      "[CV] n_neighbors=3, weights=uniform ..................................\n",
      "[CV] ......................... n_neighbors=3, weights=uniform -   2.6s\n",
      "[CV] n_neighbors=3, weights=uniform ..................................\n",
      "[CV] ......................... n_neighbors=3, weights=uniform -   2.4s\n",
      "[CV] n_neighbors=3, weights=distance .................................\n",
      "[CV] ........................ n_neighbors=3, weights=distance -   2.6s\n",
      "[CV] n_neighbors=3, weights=distance .................................\n",
      "[CV] ........................ n_neighbors=3, weights=distance -   2.6s\n",
      "[CV] n_neighbors=3, weights=distance .................................\n",
      "[CV] ........................ n_neighbors=3, weights=distance -   2.3s\n",
      "[CV] n_neighbors=5, weights=uniform ..................................\n",
      "[CV] ......................... n_neighbors=5, weights=uniform -   2.8s\n",
      "[CV] n_neighbors=5, weights=uniform ..................................\n",
      "[CV] ......................... n_neighbors=5, weights=uniform -   2.8s\n",
      "[CV] n_neighbors=5, weights=uniform ..................................\n",
      "[CV] ......................... n_neighbors=5, weights=uniform -   2.8s\n",
      "[CV] n_neighbors=5, weights=distance .................................\n",
      "[CV] ........................ n_neighbors=5, weights=distance -   3.4s\n",
      "[CV] n_neighbors=5, weights=distance .................................\n",
      "[CV] ........................ n_neighbors=5, weights=distance -   2.8s\n",
      "[CV] n_neighbors=5, weights=distance .................................\n",
      "[CV] ........................ n_neighbors=5, weights=distance -   2.6s\n",
      "[CV] n_neighbors=7, weights=uniform ..................................\n",
      "[CV] ......................... n_neighbors=7, weights=uniform -   3.0s\n",
      "[CV] n_neighbors=7, weights=uniform ..................................\n",
      "[CV] ......................... n_neighbors=7, weights=uniform -   3.1s\n",
      "[CV] n_neighbors=7, weights=uniform ..................................\n",
      "[CV] ......................... n_neighbors=7, weights=uniform -   2.8s\n",
      "[CV] n_neighbors=7, weights=distance .................................\n",
      "[CV] ........................ n_neighbors=7, weights=distance -   3.0s\n",
      "[CV] n_neighbors=7, weights=distance .................................\n",
      "[CV] ........................ n_neighbors=7, weights=distance -   3.0s\n",
      "[CV] n_neighbors=7, weights=distance .................................\n",
      "[CV] ........................ n_neighbors=7, weights=distance -   2.8s\n"
     ]
    },
    {
     "name": "stderr",
     "output_type": "stream",
     "text": [
      "[Parallel(n_jobs=1)]: Done  18 out of  18 | elapsed:   50.0s finished\n"
     ]
    },
    {
     "data": {
      "text/plain": [
       "GridSearchCV(cv=None, error_score='raise',\n",
       "       estimator=KNeighborsClassifier(algorithm='auto', leaf_size=30, metric='minkowski',\n",
       "           metric_params=None, n_jobs=1, n_neighbors=5, p=2,\n",
       "           weights='uniform'),\n",
       "       fit_params={}, iid=True, n_jobs=1,\n",
       "       param_grid={'n_neighbors': [3, 5, 7], 'weights': ['uniform', 'distance']},\n",
       "       pre_dispatch='2*n_jobs', refit=True, scoring=None, verbose=2)"
      ]
     },
     "execution_count": 52,
     "metadata": {},
     "output_type": "execute_result"
    }
   ],
   "source": [
    "from sklearn.grid_search import GridSearchCV\n",
    "\n",
    "cvn = GridSearchCV(\n",
    "    KNeighborsClassifier(),\n",
    "    param_grid = {\n",
    "        'n_neighbors': [3, 5, 7],\n",
    "        'weights': ['uniform', 'distance'],\n",
    "    },\n",
    "    verbose = 2\n",
    ")\n",
    "cvn.fit(Xs, ys)"
   ]
  },
  {
   "cell_type": "code",
   "execution_count": 55,
   "metadata": {
    "ExecuteTime": {
     "end_time": "2016-09-27T07:50:51.491574",
     "start_time": "2016-09-27T07:50:51.484719"
    },
    "collapsed": false
   },
   "outputs": [
    {
     "data": {
      "text/plain": [
       "KNeighborsClassifier(algorithm='auto', leaf_size=30, metric='minkowski',\n",
       "           metric_params=None, n_jobs=1, n_neighbors=3, p=2,\n",
       "           weights='distance')"
      ]
     },
     "execution_count": 55,
     "metadata": {},
     "output_type": "execute_result"
    }
   ],
   "source": [
    "cvn.best_estimator_"
   ]
  },
  {
   "cell_type": "code",
   "execution_count": 56,
   "metadata": {
    "ExecuteTime": {
     "end_time": "2016-09-27T07:50:54.611330",
     "start_time": "2016-09-27T07:50:54.601141"
    },
    "collapsed": false
   },
   "outputs": [
    {
     "data": {
      "text/plain": [
       "[mean: 0.91765, std: 0.00451, params: {'n_neighbors': 3, 'weights': 'uniform'},\n",
       " mean: 0.92062, std: 0.00408, params: {'n_neighbors': 3, 'weights': 'distance'},\n",
       " mean: 0.90988, std: 0.00276, params: {'n_neighbors': 5, 'weights': 'uniform'},\n",
       " mean: 0.91778, std: 0.00214, params: {'n_neighbors': 5, 'weights': 'distance'},\n",
       " mean: 0.90815, std: 0.00134, params: {'n_neighbors': 7, 'weights': 'uniform'},\n",
       " mean: 0.91679, std: 0.00048, params: {'n_neighbors': 7, 'weights': 'distance'}]"
      ]
     },
     "execution_count": 56,
     "metadata": {},
     "output_type": "execute_result"
    }
   ],
   "source": [
    "cvn.grid_scores_"
   ]
  },
  {
   "cell_type": "code",
   "execution_count": 49,
   "metadata": {
    "ExecuteTime": {
     "end_time": "2016-09-27T07:40:24.599937",
     "start_time": "2016-09-27T07:40:24.593842"
    },
    "collapsed": false
   },
   "outputs": [
    {
     "data": {
      "text/plain": [
       "0.92061728395061726"
      ]
     },
     "execution_count": 49,
     "metadata": {},
     "output_type": "execute_result"
    }
   ],
   "source": [
    "cv.best_score_"
   ]
  },
  {
   "cell_type": "code",
   "execution_count": 50,
   "metadata": {
    "ExecuteTime": {
     "end_time": "2016-09-27T07:46:04.601348",
     "start_time": "2016-09-27T07:40:54.235392"
    },
    "collapsed": false
   },
   "outputs": [
    {
     "name": "stdout",
     "output_type": "stream",
     "text": [
      "Fitting 3 folds for each of 6 candidates, totalling 18 fits\n",
      "[CV] n_neighbors=3, weights=uniform ..................................\n",
      "[CV] ......................... n_neighbors=3, weights=uniform -  14.5s\n",
      "[CV] n_neighbors=3, weights=uniform ..................................\n",
      "[CV] ......................... n_neighbors=3, weights=uniform -  14.0s\n",
      "[CV] n_neighbors=3, weights=uniform ..................................\n",
      "[CV] ......................... n_neighbors=3, weights=uniform -  19.0s\n",
      "[CV] n_neighbors=3, weights=distance .................................\n",
      "[CV] ........................ n_neighbors=3, weights=distance -  14.5s\n",
      "[CV] n_neighbors=3, weights=distance .................................\n",
      "[CV] ........................ n_neighbors=3, weights=distance -  14.1s\n",
      "[CV] n_neighbors=3, weights=distance .................................\n",
      "[CV] ........................ n_neighbors=3, weights=distance -  19.6s\n",
      "[CV] n_neighbors=5, weights=uniform ..................................\n",
      "[CV] ......................... n_neighbors=5, weights=uniform -  15.6s\n",
      "[CV] n_neighbors=5, weights=uniform ..................................\n",
      "[CV] ......................... n_neighbors=5, weights=uniform -  15.4s\n",
      "[CV] n_neighbors=5, weights=uniform ..................................\n",
      "[CV] ......................... n_neighbors=5, weights=uniform -  20.5s\n",
      "[CV] n_neighbors=5, weights=distance .................................\n",
      "[CV] ........................ n_neighbors=5, weights=distance -  15.7s\n",
      "[CV] n_neighbors=5, weights=distance .................................\n",
      "[CV] ........................ n_neighbors=5, weights=distance -  15.6s\n",
      "[CV] n_neighbors=5, weights=distance .................................\n",
      "[CV] ........................ n_neighbors=5, weights=distance -  21.0s\n",
      "[CV] n_neighbors=7, weights=uniform ..................................\n",
      "[CV] ......................... n_neighbors=7, weights=uniform -  16.5s\n",
      "[CV] n_neighbors=7, weights=uniform ..................................\n",
      "[CV] ......................... n_neighbors=7, weights=uniform -  16.5s\n",
      "[CV] n_neighbors=7, weights=uniform ..................................\n",
      "[CV] ......................... n_neighbors=7, weights=uniform -  22.0s\n",
      "[CV] n_neighbors=7, weights=distance .................................\n",
      "[CV] ........................ n_neighbors=7, weights=distance -  16.9s\n",
      "[CV] n_neighbors=7, weights=distance .................................\n",
      "[CV] ........................ n_neighbors=7, weights=distance -  16.5s\n",
      "[CV] n_neighbors=7, weights=distance .................................\n",
      "[CV] ........................ n_neighbors=7, weights=distance -  21.9s\n"
     ]
    },
    {
     "name": "stderr",
     "output_type": "stream",
     "text": [
      "[Parallel(n_jobs=1)]: Done  18 out of  18 | elapsed:  5.2min finished\n"
     ]
    },
    {
     "data": {
      "text/plain": [
       "GridSearchCV(cv=None, error_score='raise',\n",
       "       estimator=KNeighborsClassifier(algorithm='auto', leaf_size=30, metric='minkowski',\n",
       "           metric_params=None, n_jobs=1, n_neighbors=5, p=2,\n",
       "           weights='uniform'),\n",
       "       fit_params={}, iid=True, n_jobs=1,\n",
       "       param_grid={'n_neighbors': [3, 5, 7], 'weights': ['uniform', 'distance']},\n",
       "       pre_dispatch='2*n_jobs', refit=True, scoring=None, verbose=2)"
      ]
     },
     "execution_count": 50,
     "metadata": {},
     "output_type": "execute_result"
    }
   ],
   "source": [
    "from sklearn.grid_search import GridSearchCV\n",
    "\n",
    "cv = GridSearchCV(\n",
    "    KNeighborsClassifier(),\n",
    "    param_grid = {\n",
    "        'n_neighbors': [3, 5, 7],\n",
    "        'weights': ['uniform', 'distance'],\n",
    "    },\n",
    "    verbose = 2\n",
    ")\n",
    "cv.fit(sklearn.preprocessing.scale(Xs), ys)"
   ]
  },
  {
   "cell_type": "code",
   "execution_count": 51,
   "metadata": {
    "ExecuteTime": {
     "end_time": "2016-09-27T07:46:13.650411",
     "start_time": "2016-09-27T07:46:13.640795"
    },
    "collapsed": false
   },
   "outputs": [
    {
     "data": {
      "text/plain": [
       "KNeighborsClassifier(algorithm='auto', leaf_size=30, metric='minkowski',\n",
       "           metric_params=None, n_jobs=1, n_neighbors=7, p=2,\n",
       "           weights='distance')"
      ]
     },
     "execution_count": 51,
     "metadata": {},
     "output_type": "execute_result"
    }
   ],
   "source": [
    "cv.best_estimator_"
   ]
  },
  {
   "cell_type": "code",
   "execution_count": 18,
   "metadata": {
    "ExecuteTime": {
     "end_time": "2016-09-25T16:21:51.496289",
     "start_time": "2016-09-25T16:21:51.491954"
    },
    "collapsed": false
   },
   "outputs": [],
   "source": [
    "kn = KNeighborsClassifier(5, weights = 'uniform')\n"
   ]
  },
  {
   "cell_type": "code",
   "execution_count": 14,
   "metadata": {
    "ExecuteTime": {
     "end_time": "2016-09-25T16:18:03.274730",
     "start_time": "2016-09-25T16:18:02.641038"
    },
    "collapsed": false
   },
   "outputs": [],
   "source": [
    "X_train, X_test, y_train, y_test = train_test_split(X, y)"
   ]
  },
  {
   "cell_type": "code",
   "execution_count": 19,
   "metadata": {
    "ExecuteTime": {
     "end_time": "2016-09-25T16:21:59.255157",
     "start_time": "2016-09-25T16:21:52.294696"
    },
    "collapsed": false
   },
   "outputs": [
    {
     "data": {
      "text/plain": [
       "KNeighborsClassifier(algorithm='auto', leaf_size=30, metric='minkowski',\n",
       "           metric_params=None, n_jobs=1, n_neighbors=5, p=2,\n",
       "           weights='uniform')"
      ]
     },
     "execution_count": 19,
     "metadata": {},
     "output_type": "execute_result"
    }
   ],
   "source": [
    "kn.fit(X_train, y_train)"
   ]
  },
  {
   "cell_type": "code",
   "execution_count": 72,
   "metadata": {
    "ExecuteTime": {
     "end_time": "2016-09-25T16:03:57.073813",
     "start_time": "2016-09-25T16:00:20.452824"
    },
    "collapsed": false
   },
   "outputs": [
    {
     "name": "stdout",
     "output_type": "stream",
     "text": [
      "1 loop, best of 3: 52.8 s per loop\n"
     ]
    }
   ],
   "source": [
    "%timeit kn.score(X_test, y_test)"
   ]
  },
  {
   "cell_type": "code",
   "execution_count": 15,
   "metadata": {
    "ExecuteTime": {
     "end_time": "2016-09-25T16:18:05.975158",
     "start_time": "2016-09-25T16:18:05.965337"
    },
    "collapsed": false
   },
   "outputs": [],
   "source": [
    "kn4 = KNeighborsClassifier(4, weights = 'uniform')\n",
    "# data(cross_val_score(kn, X, y, cv = folds))"
   ]
  },
  {
   "cell_type": "code",
   "execution_count": 16,
   "metadata": {
    "ExecuteTime": {
     "end_time": "2016-09-25T16:18:10.380493",
     "start_time": "2016-09-25T16:18:06.131402"
    },
    "collapsed": false
   },
   "outputs": [
    {
     "data": {
      "text/plain": [
       "KNeighborsClassifier(algorithm='auto', leaf_size=30, metric='minkowski',\n",
       "           metric_params=None, n_jobs=1, n_neighbors=4, p=2,\n",
       "           weights='uniform')"
      ]
     },
     "execution_count": 16,
     "metadata": {},
     "output_type": "execute_result"
    }
   ],
   "source": [
    "kn4.fit(X_train, y_train)"
   ]
  },
  {
   "cell_type": "code",
   "execution_count": 17,
   "metadata": {
    "ExecuteTime": {
     "end_time": "2016-09-25T16:21:43.761467",
     "start_time": "2016-09-25T16:18:10.382204"
    },
    "collapsed": false
   },
   "outputs": [
    {
     "name": "stdout",
     "output_type": "stream",
     "text": [
      "1 loop, best of 3: 53 s per loop\n"
     ]
    }
   ],
   "source": [
    "%timeit kn4.score(X_test, y_test)"
   ]
  },
  {
   "cell_type": "code",
   "execution_count": 20,
   "metadata": {
    "ExecuteTime": {
     "end_time": "2016-09-25T16:23:01.757013",
     "start_time": "2016-09-25T16:22:06.198879"
    },
    "collapsed": false
   },
   "outputs": [
    {
     "data": {
      "text/plain": [
       "0.95703703703703702"
      ]
     },
     "execution_count": 20,
     "metadata": {},
     "output_type": "execute_result"
    }
   ],
   "source": [
    "kn.score(X_test, y_test)"
   ]
  },
  {
   "cell_type": "code",
   "execution_count": 21,
   "metadata": {
    "ExecuteTime": {
     "end_time": "2016-09-25T16:23:54.389955",
     "start_time": "2016-09-25T16:23:01.759358"
    },
    "collapsed": false
   },
   "outputs": [
    {
     "data": {
      "text/plain": [
       "0.95772839506172835"
      ]
     },
     "execution_count": 21,
     "metadata": {},
     "output_type": "execute_result"
    }
   ],
   "source": [
    "kn4.score(X_test, y_test)"
   ]
  },
  {
   "cell_type": "markdown",
   "metadata": {},
   "source": [
    "### Nearest Centroid"
   ]
  },
  {
   "cell_type": "code",
   "execution_count": 17,
   "metadata": {
    "ExecuteTime": {
     "end_time": "2016-09-25T16:55:27.253456",
     "start_time": "2016-09-25T16:55:17.964364"
    },
    "collapsed": false
   },
   "outputs": [
    {
     "name": "stdout",
     "output_type": "stream",
     "text": [
      "mean    0.471185\n",
      "std     0.003756\n",
      "min     0.463951\n",
      "50%     0.471173\n",
      "max     0.476420\n",
      "dtype: float64\n"
     ]
    },
    {
     "data": {
      "text/plain": [
       "array([ 0.47358025,  0.46395062,  0.47111111,  0.46703704,  0.47123457,\n",
       "        0.46987654,  0.47641975,  0.47395062,  0.46987654,  0.47481481])"
      ]
     },
     "execution_count": 17,
     "metadata": {},
     "output_type": "execute_result"
    }
   ],
   "source": [
    "nc = NearestCentroid()\n",
    "data(cross_val_score(nc, X, y, cv = folds))"
   ]
  },
  {
   "cell_type": "markdown",
   "metadata": {},
   "source": [
    "## Support Vector Machines"
   ]
  },
  {
   "cell_type": "code",
   "execution_count": 13,
   "metadata": {
    "ExecuteTime": {
     "end_time": "2016-09-28T13:50:31.240771",
     "start_time": "2016-09-28T13:50:31.097812"
    },
    "collapsed": false,
    "init_cell": true
   },
   "outputs": [],
   "source": [
    "from sklearn.svm import SVC, LinearSVC"
   ]
  },
  {
   "cell_type": "markdown",
   "metadata": {},
   "source": [
    "### Linear kernel"
   ]
  },
  {
   "cell_type": "code",
   "execution_count": 12,
   "metadata": {
    "ExecuteTime": {
     "end_time": "2016-09-25T17:21:57.609086",
     "start_time": "2016-09-25T17:21:24.322580"
    },
    "collapsed": false
   },
   "outputs": [
    {
     "data": {
      "text/plain": [
       "LinearSVC(C=1.0, class_weight=None, dual=True, fit_intercept=True,\n",
       "     intercept_scaling=1, loss='squared_hinge', max_iter=1000,\n",
       "     multi_class='ovr', penalty='l2', random_state=None, tol=0.0001,\n",
       "     verbose=0)"
      ]
     },
     "execution_count": 12,
     "metadata": {},
     "output_type": "execute_result"
    }
   ],
   "source": [
    "lsvc = LinearSVC()\n",
    "lsvc.fit(X_train, y_train)"
   ]
  },
  {
   "cell_type": "code",
   "execution_count": 13,
   "metadata": {
    "ExecuteTime": {
     "end_time": "2016-09-25T17:21:57.703497",
     "start_time": "2016-09-25T17:21:57.610524"
    },
    "collapsed": false
   },
   "outputs": [
    {
     "data": {
      "text/plain": [
       "0.97511111111111115"
      ]
     },
     "execution_count": 13,
     "metadata": {},
     "output_type": "execute_result"
    }
   ],
   "source": [
    "lsvc.score(X_test, y_test)"
   ]
  },
  {
   "cell_type": "code",
   "execution_count": 14,
   "metadata": {
    "ExecuteTime": {
     "end_time": "2016-09-25T17:22:51.394855",
     "start_time": "2016-09-25T17:21:57.705498"
    },
    "collapsed": false
   },
   "outputs": [
    {
     "data": {
      "text/plain": [
       "0.9790123456790123"
      ]
     },
     "execution_count": 14,
     "metadata": {},
     "output_type": "execute_result"
    }
   ],
   "source": [
    "primalsvc = LinearSVC(dual = False).fit(X_train, y_train)\n",
    "primalsvc.score(X_test, y_test)"
   ]
  },
  {
   "cell_type": "code",
   "execution_count": 12,
   "metadata": {
    "ExecuteTime": {
     "end_time": "2016-09-25T17:38:24.978293",
     "start_time": "2016-09-25T17:26:31.135218"
    },
    "collapsed": false
   },
   "outputs": [
    {
     "name": "stdout",
     "output_type": "stream",
     "text": [
      "mean    0.968210\n",
      "std     0.002235\n",
      "min     0.964938\n",
      "50%     0.968333\n",
      "max     0.973457\n",
      "dtype: float64\n"
     ]
    },
    {
     "data": {
      "text/plain": [
       "array([ 0.96851852,  0.96703704,  0.96691358,  0.96876543,  0.9691358 ,\n",
       "        0.96666667,  0.97345679,  0.96839506,  0.96493827,  0.9682716 ])"
      ]
     },
     "execution_count": 12,
     "metadata": {},
     "output_type": "execute_result"
    }
   ],
   "source": [
    "data(cross_val_score(LinearSVC(dual = False), X, y, cv = folds))"
   ]
  },
  {
   "cell_type": "markdown",
   "metadata": {},
   "source": [
    "### Pipelining some normalization"
   ]
  },
  {
   "cell_type": "code",
   "execution_count": 14,
   "metadata": {
    "ExecuteTime": {
     "end_time": "2016-09-28T13:50:31.321634",
     "start_time": "2016-09-28T13:50:31.242303"
    },
    "collapsed": false,
    "init_cell": true
   },
   "outputs": [],
   "source": [
    "from sklearn.pipeline import Pipeline\n",
    "from sklearn.preprocessing import StandardScaler, Normalizer, FunctionTransformer"
   ]
  },
  {
   "cell_type": "code",
   "execution_count": 13,
   "metadata": {
    "ExecuteTime": {
     "end_time": "2016-09-25T19:12:10.179377",
     "start_time": "2016-09-25T19:12:10.115414"
    },
    "collapsed": false
   },
   "outputs": [
    {
     "ename": "NameError",
     "evalue": "name 'X_train' is not defined",
     "output_type": "error",
     "traceback": [
      "\u001b[0;31m---------------------------------------------------------------------------\u001b[0m",
      "\u001b[0;31mNameError\u001b[0m                                 Traceback (most recent call last)",
      "\u001b[0;32m<ipython-input-13-fbae3b132bbf>\u001b[0m in \u001b[0;36m<module>\u001b[0;34m()\u001b[0m\n\u001b[1;32m      3\u001b[0m     \u001b[0;34m(\u001b[0m\u001b[0;34m'vector'\u001b[0m\u001b[0;34m,\u001b[0m \u001b[0mLinearSVC\u001b[0m\u001b[0;34m(\u001b[0m\u001b[0mdual\u001b[0m \u001b[0;34m=\u001b[0m \u001b[0mFalse\u001b[0m\u001b[0;34m)\u001b[0m\u001b[0;34m)\u001b[0m\u001b[0;34m\u001b[0m\u001b[0m\n\u001b[1;32m      4\u001b[0m ])\n\u001b[0;32m----> 5\u001b[0;31m \u001b[0mpipe\u001b[0m\u001b[0;34m.\u001b[0m\u001b[0mfit\u001b[0m\u001b[0;34m(\u001b[0m\u001b[0mX_train\u001b[0m\u001b[0;34m,\u001b[0m \u001b[0my_train\u001b[0m\u001b[0;34m)\u001b[0m\u001b[0;34m\u001b[0m\u001b[0m\n\u001b[0m",
      "\u001b[0;31mNameError\u001b[0m: name 'X_train' is not defined"
     ]
    }
   ],
   "source": [
    "pipe = Pipeline([\n",
    "    ('scale', StandardScaler()),\n",
    "    ('vector', LinearSVC(dual = False))\n",
    "])\n",
    "pipe.fit(X_train, y_train)"
   ]
  },
  {
   "cell_type": "code",
   "execution_count": 19,
   "metadata": {
    "ExecuteTime": {
     "end_time": "2016-09-25T18:57:01.168097",
     "start_time": "2016-09-25T18:57:00.956072"
    },
    "collapsed": false
   },
   "outputs": [
    {
     "data": {
      "text/plain": [
       "0.99244444444444446"
      ]
     },
     "execution_count": 19,
     "metadata": {},
     "output_type": "execute_result"
    }
   ],
   "source": [
    "pipe.score(X_test, y_test)"
   ]
  },
  {
   "cell_type": "code",
   "execution_count": 14,
   "metadata": {
    "ExecuteTime": {
     "end_time": "2016-09-26T10:17:59.943404",
     "start_time": "2016-09-26T10:17:59.938852"
    },
    "collapsed": false
   },
   "outputs": [],
   "source": [
    "pipe = Pipeline([\n",
    "    ('transform', FunctionTransformer(numpy.log1p)),\n",
    "    ('scale', StandardScaler()),\n",
    "    ('vector', LinearSVC(dual = False))\n",
    "])\n",
    "# pipe.fit(X_train, y_train)\n",
    "# pipe.score(X_test, y_test)"
   ]
  },
  {
   "cell_type": "code",
   "execution_count": 15,
   "metadata": {
    "ExecuteTime": {
     "end_time": "2016-09-26T10:18:06.460859",
     "start_time": "2016-09-26T10:18:06.456265"
    },
    "collapsed": false
   },
   "outputs": [
    {
     "data": {
      "text/plain": [
       "'Pipeline'"
      ]
     },
     "execution_count": 15,
     "metadata": {},
     "output_type": "execute_result"
    }
   ],
   "source": [
    "pipe.__class__.__name__"
   ]
  },
  {
   "cell_type": "markdown",
   "metadata": {
    "heading_collapsed": true
   },
   "source": [
    "### Estimating C"
   ]
  },
  {
   "cell_type": "code",
   "execution_count": 15,
   "metadata": {
    "ExecuteTime": {
     "end_time": "2016-09-28T13:50:31.409928",
     "start_time": "2016-09-28T13:50:31.323498"
    },
    "collapsed": false,
    "hidden": true,
    "init_cell": true
   },
   "outputs": [],
   "source": [
    "from sklearn.grid_search import GridSearchCV"
   ]
  },
  {
   "cell_type": "code",
   "execution_count": 57,
   "metadata": {
    "ExecuteTime": {
     "end_time": "2016-09-27T08:45:54.630755",
     "start_time": "2016-09-27T08:45:54.623826"
    },
    "collapsed": false,
    "hidden": true
   },
   "outputs": [],
   "source": [
    "estimator = Pipeline([\n",
    "    ('scale', StandardScaler()),\n",
    "    ('vector', LinearSVC(dual = False, random_state = 0))\n",
    "])\n",
    "\n",
    "gs = GridSearchCV(\n",
    "    estimator,\n",
    "    {\n",
    "        'vector__loss': ['squared_hinge'],\n",
    "        'vector__penalty': ['l1', 'l2'],\n",
    "        'vector__C': [.01, .1, 1, 10, 100]\n",
    "    },\n",
    "    cv = 3,\n",
    "    refit = False,\n",
    "    verbose = 2\n",
    ")"
   ]
  },
  {
   "cell_type": "code",
   "execution_count": 58,
   "metadata": {
    "ExecuteTime": {
     "end_time": "2016-09-27T08:48:43.155484",
     "start_time": "2016-09-27T08:46:30.602499"
    },
    "collapsed": false,
    "hidden": true
   },
   "outputs": [
    {
     "name": "stdout",
     "output_type": "stream",
     "text": [
      "Fitting 3 folds for each of 10 candidates, totalling 30 fits\n",
      "[CV] vector__loss=squared_hinge, vector__penalty=l1, vector__C=0.01 ..\n",
      "[CV]  vector__loss=squared_hinge, vector__penalty=l1, vector__C=0.01 -   2.4s\n",
      "[CV] vector__loss=squared_hinge, vector__penalty=l1, vector__C=0.01 ..\n",
      "[CV]  vector__loss=squared_hinge, vector__penalty=l1, vector__C=0.01 -   3.7s\n",
      "[CV] vector__loss=squared_hinge, vector__penalty=l1, vector__C=0.01 ..\n",
      "[CV]  vector__loss=squared_hinge, vector__penalty=l1, vector__C=0.01 -   1.8s\n",
      "[CV] vector__loss=squared_hinge, vector__penalty=l2, vector__C=0.01 ..\n",
      "[CV]  vector__loss=squared_hinge, vector__penalty=l2, vector__C=0.01 -   1.1s\n",
      "[CV] vector__loss=squared_hinge, vector__penalty=l2, vector__C=0.01 ..\n",
      "[CV]  vector__loss=squared_hinge, vector__penalty=l2, vector__C=0.01 -   1.1s\n",
      "[CV] vector__loss=squared_hinge, vector__penalty=l2, vector__C=0.01 ..\n",
      "[CV]  vector__loss=squared_hinge, vector__penalty=l2, vector__C=0.01 -   1.1s\n",
      "[CV] vector__loss=squared_hinge, vector__penalty=l1, vector__C=0.1 ...\n",
      "[CV]  vector__loss=squared_hinge, vector__penalty=l1, vector__C=0.1 -   3.4s\n",
      "[CV] vector__loss=squared_hinge, vector__penalty=l1, vector__C=0.1 ...\n",
      "[CV]  vector__loss=squared_hinge, vector__penalty=l1, vector__C=0.1 -   3.3s\n",
      "[CV] vector__loss=squared_hinge, vector__penalty=l1, vector__C=0.1 ...\n",
      "[CV]  vector__loss=squared_hinge, vector__penalty=l1, vector__C=0.1 -   2.8s\n",
      "[CV] vector__loss=squared_hinge, vector__penalty=l2, vector__C=0.1 ...\n",
      "[CV]  vector__loss=squared_hinge, vector__penalty=l2, vector__C=0.1 -   2.7s\n",
      "[CV] vector__loss=squared_hinge, vector__penalty=l2, vector__C=0.1 ...\n",
      "[CV]  vector__loss=squared_hinge, vector__penalty=l2, vector__C=0.1 -   2.3s\n",
      "[CV] vector__loss=squared_hinge, vector__penalty=l2, vector__C=0.1 ...\n",
      "[CV]  vector__loss=squared_hinge, vector__penalty=l2, vector__C=0.1 -   2.4s\n",
      "[CV] vector__loss=squared_hinge, vector__penalty=l1, vector__C=1 .....\n",
      "[CV]  vector__loss=squared_hinge, vector__penalty=l1, vector__C=1 -   5.1s\n",
      "[CV] vector__loss=squared_hinge, vector__penalty=l1, vector__C=1 .....\n",
      "[CV]  vector__loss=squared_hinge, vector__penalty=l1, vector__C=1 -   5.4s\n",
      "[CV] vector__loss=squared_hinge, vector__penalty=l1, vector__C=1 .....\n",
      "[CV]  vector__loss=squared_hinge, vector__penalty=l1, vector__C=1 -   5.1s\n",
      "[CV] vector__loss=squared_hinge, vector__penalty=l2, vector__C=1 .....\n",
      "[CV]  vector__loss=squared_hinge, vector__penalty=l2, vector__C=1 -   3.2s\n",
      "[CV] vector__loss=squared_hinge, vector__penalty=l2, vector__C=1 .....\n",
      "[CV]  vector__loss=squared_hinge, vector__penalty=l2, vector__C=1 -   4.2s\n",
      "[CV] vector__loss=squared_hinge, vector__penalty=l2, vector__C=1 .....\n",
      "[CV]  vector__loss=squared_hinge, vector__penalty=l2, vector__C=1 -   5.5s\n",
      "[CV] vector__loss=squared_hinge, vector__penalty=l1, vector__C=10 ....\n",
      "[CV]  vector__loss=squared_hinge, vector__penalty=l1, vector__C=10 -   7.6s\n",
      "[CV] vector__loss=squared_hinge, vector__penalty=l1, vector__C=10 ....\n",
      "[CV]  vector__loss=squared_hinge, vector__penalty=l1, vector__C=10 -   8.8s\n",
      "[CV] vector__loss=squared_hinge, vector__penalty=l1, vector__C=10 ....\n",
      "[CV]  vector__loss=squared_hinge, vector__penalty=l1, vector__C=10 -   8.3s\n",
      "[CV] vector__loss=squared_hinge, vector__penalty=l2, vector__C=10 ....\n",
      "[CV]  vector__loss=squared_hinge, vector__penalty=l2, vector__C=10 -   4.6s\n",
      "[CV] vector__loss=squared_hinge, vector__penalty=l2, vector__C=10 ....\n",
      "[CV]  vector__loss=squared_hinge, vector__penalty=l2, vector__C=10 -   5.0s\n",
      "[CV] vector__loss=squared_hinge, vector__penalty=l2, vector__C=10 ....\n",
      "[CV]  vector__loss=squared_hinge, vector__penalty=l2, vector__C=10 -   6.5s\n",
      "[CV] vector__loss=squared_hinge, vector__penalty=l1, vector__C=100 ...\n",
      "[CV]  vector__loss=squared_hinge, vector__penalty=l1, vector__C=100 -   4.5s\n",
      "[CV] vector__loss=squared_hinge, vector__penalty=l1, vector__C=100 ...\n",
      "[CV]  vector__loss=squared_hinge, vector__penalty=l1, vector__C=100 -   5.8s\n",
      "[CV] vector__loss=squared_hinge, vector__penalty=l1, vector__C=100 ...\n",
      "[CV]  vector__loss=squared_hinge, vector__penalty=l1, vector__C=100 -   5.8s\n",
      "[CV] vector__loss=squared_hinge, vector__penalty=l2, vector__C=100 ...\n",
      "[CV]  vector__loss=squared_hinge, vector__penalty=l2, vector__C=100 -   4.7s\n",
      "[CV] vector__loss=squared_hinge, vector__penalty=l2, vector__C=100 ...\n",
      "[CV]  vector__loss=squared_hinge, vector__penalty=l2, vector__C=100 -   6.5s\n",
      "[CV] vector__loss=squared_hinge, vector__penalty=l2, vector__C=100 ...\n",
      "[CV]  vector__loss=squared_hinge, vector__penalty=l2, vector__C=100 -   7.5s\n"
     ]
    },
    {
     "name": "stderr",
     "output_type": "stream",
     "text": [
      "[Parallel(n_jobs=1)]: Done  30 out of  30 | elapsed:  2.2min finished\n"
     ]
    },
    {
     "data": {
      "text/plain": [
       "GridSearchCV(cv=3, error_score='raise',\n",
       "       estimator=Pipeline(steps=[('scale', StandardScaler(copy=True, with_mean=True, with_std=True)), ('vector', LinearSVC(C=1.0, class_weight=None, dual=False, fit_intercept=True,\n",
       "     intercept_scaling=1, loss='squared_hinge', max_iter=1000,\n",
       "     multi_class='ovr', penalty='l2', random_state=0, tol=0.0001,\n",
       "     verbose=0))]),\n",
       "       fit_params={}, iid=True, n_jobs=1,\n",
       "       param_grid={'vector__loss': ['squared_hinge'], 'vector__penalty': ['l1', 'l2'], 'vector__C': [0.01, 0.1, 1, 10, 100]},\n",
       "       pre_dispatch='2*n_jobs', refit=False, scoring=None, verbose=2)"
      ]
     },
     "execution_count": 58,
     "metadata": {},
     "output_type": "execute_result"
    }
   ],
   "source": [
    "Xsample = X.sample(frac = 1/10, random_state = 0)\n",
    "ysample = y.sample(frac = 1/10, random_state = 0)\n",
    "assert (Xsample.index == ysample.index).all()\n",
    "\n",
    "gs.fit(Xsample, ysample)"
   ]
  },
  {
   "cell_type": "code",
   "execution_count": 59,
   "metadata": {
    "ExecuteTime": {
     "end_time": "2016-09-27T08:48:43.160800",
     "start_time": "2016-09-27T08:48:43.157019"
    },
    "collapsed": false,
    "hidden": true
   },
   "outputs": [
    {
     "data": {
      "text/plain": [
       "{'vector__C': 0.1, 'vector__loss': 'squared_hinge', 'vector__penalty': 'l1'}"
      ]
     },
     "execution_count": 59,
     "metadata": {},
     "output_type": "execute_result"
    }
   ],
   "source": [
    "gs.best_params_"
   ]
  },
  {
   "cell_type": "code",
   "execution_count": 60,
   "metadata": {
    "ExecuteTime": {
     "end_time": "2016-09-27T08:48:43.310256",
     "start_time": "2016-09-27T08:48:43.162267"
    },
    "collapsed": false,
    "hidden": true
   },
   "outputs": [
    {
     "data": {
      "text/plain": [
       "[mean: 0.97864, std: 0.00310, params: {'vector__loss': 'squared_hinge', 'vector__penalty': 'l1', 'vector__C': 0.01},\n",
       " mean: 0.98519, std: 0.00052, params: {'vector__loss': 'squared_hinge', 'vector__penalty': 'l2', 'vector__C': 0.01},\n",
       " mean: 0.98556, std: 0.00181, params: {'vector__loss': 'squared_hinge', 'vector__penalty': 'l1', 'vector__C': 0.1},\n",
       " mean: 0.98284, std: 0.00114, params: {'vector__loss': 'squared_hinge', 'vector__penalty': 'l2', 'vector__C': 0.1},\n",
       " mean: 0.98296, std: 0.00160, params: {'vector__loss': 'squared_hinge', 'vector__penalty': 'l1', 'vector__C': 1},\n",
       " mean: 0.98136, std: 0.00114, params: {'vector__loss': 'squared_hinge', 'vector__penalty': 'l2', 'vector__C': 1},\n",
       " mean: 0.98259, std: 0.00297, params: {'vector__loss': 'squared_hinge', 'vector__penalty': 'l1', 'vector__C': 10},\n",
       " mean: 0.98198, std: 0.00149, params: {'vector__loss': 'squared_hinge', 'vector__penalty': 'l2', 'vector__C': 10},\n",
       " mean: 0.98296, std: 0.00181, params: {'vector__loss': 'squared_hinge', 'vector__penalty': 'l1', 'vector__C': 100},\n",
       " mean: 0.98160, std: 0.00155, params: {'vector__loss': 'squared_hinge', 'vector__penalty': 'l2', 'vector__C': 100}]"
      ]
     },
     "execution_count": 60,
     "metadata": {},
     "output_type": "execute_result"
    }
   ],
   "source": [
    "gs.grid_scores_"
   ]
  },
  {
   "cell_type": "code",
   "execution_count": 61,
   "metadata": {
    "ExecuteTime": {
     "end_time": "2016-09-27T08:48:54.294300",
     "start_time": "2016-09-27T08:48:43.312897"
    },
    "collapsed": false,
    "hidden": true
   },
   "outputs": [
    {
     "name": "stdout",
     "output_type": "stream",
     "text": [
      "Fitting 3 folds for each of 5 candidates, totalling 15 fits\n",
      "[CV] vector__loss=hinge, vector__penalty=l2, vector__C=0.01 ..........\n",
      "[CV] . vector__loss=hinge, vector__penalty=l2, vector__C=0.01 -   0.7s\n",
      "[CV] vector__loss=hinge, vector__penalty=l2, vector__C=0.01 ..........\n",
      "[CV] . vector__loss=hinge, vector__penalty=l2, vector__C=0.01 -   0.7s\n",
      "[CV] vector__loss=hinge, vector__penalty=l2, vector__C=0.01 ..........\n",
      "[CV] . vector__loss=hinge, vector__penalty=l2, vector__C=0.01 -   0.7s\n",
      "[CV] vector__loss=hinge, vector__penalty=l2, vector__C=0.1 ...........\n",
      "[CV] .. vector__loss=hinge, vector__penalty=l2, vector__C=0.1 -   0.7s\n",
      "[CV] vector__loss=hinge, vector__penalty=l2, vector__C=0.1 ...........\n",
      "[CV] .. vector__loss=hinge, vector__penalty=l2, vector__C=0.1 -   0.8s\n",
      "[CV] vector__loss=hinge, vector__penalty=l2, vector__C=0.1 ...........\n",
      "[CV] .. vector__loss=hinge, vector__penalty=l2, vector__C=0.1 -   0.7s\n",
      "[CV] vector__loss=hinge, vector__penalty=l2, vector__C=1 .............\n",
      "[CV] .... vector__loss=hinge, vector__penalty=l2, vector__C=1 -   0.7s\n",
      "[CV] vector__loss=hinge, vector__penalty=l2, vector__C=1 .............\n",
      "[CV] .... vector__loss=hinge, vector__penalty=l2, vector__C=1 -   0.8s\n",
      "[CV] vector__loss=hinge, vector__penalty=l2, vector__C=1 .............\n",
      "[CV] .... vector__loss=hinge, vector__penalty=l2, vector__C=1 -   0.7s\n",
      "[CV] vector__loss=hinge, vector__penalty=l2, vector__C=10 ............\n",
      "[CV] ... vector__loss=hinge, vector__penalty=l2, vector__C=10 -   0.7s\n",
      "[CV] vector__loss=hinge, vector__penalty=l2, vector__C=10 ............\n",
      "[CV] ... vector__loss=hinge, vector__penalty=l2, vector__C=10 -   0.8s\n",
      "[CV] vector__loss=hinge, vector__penalty=l2, vector__C=10 ............\n",
      "[CV] ... vector__loss=hinge, vector__penalty=l2, vector__C=10 -   0.8s\n",
      "[CV] vector__loss=hinge, vector__penalty=l2, vector__C=100 ...........\n",
      "[CV] .. vector__loss=hinge, vector__penalty=l2, vector__C=100 -   0.7s\n",
      "[CV] vector__loss=hinge, vector__penalty=l2, vector__C=100 ...........\n",
      "[CV] .. vector__loss=hinge, vector__penalty=l2, vector__C=100 -   0.8s\n",
      "[CV] vector__loss=hinge, vector__penalty=l2, vector__C=100 ...........\n",
      "[CV] .. vector__loss=hinge, vector__penalty=l2, vector__C=100 -   0.7s\n"
     ]
    },
    {
     "name": "stderr",
     "output_type": "stream",
     "text": [
      "[Parallel(n_jobs=1)]: Done  15 out of  15 | elapsed:   10.9s finished\n"
     ]
    },
    {
     "data": {
      "text/plain": [
       "GridSearchCV(cv=3, error_score='raise',\n",
       "       estimator=Pipeline(steps=[('scale', StandardScaler(copy=True, with_mean=True, with_std=True)), ('vector', LinearSVC(C=1.0, class_weight=None, dual=True, fit_intercept=True,\n",
       "     intercept_scaling=1, loss='squared_hinge', max_iter=1000,\n",
       "     multi_class='ovr', penalty='l2', random_state=0, tol=0.0001,\n",
       "     verbose=0))]),\n",
       "       fit_params={}, iid=True, n_jobs=1,\n",
       "       param_grid={'vector__loss': ['hinge'], 'vector__penalty': ['l2'], 'vector__C': [0.01, 0.1, 1, 10, 100]},\n",
       "       pre_dispatch='2*n_jobs', refit=False, scoring=None, verbose=2)"
      ]
     },
     "execution_count": 61,
     "metadata": {},
     "output_type": "execute_result"
    }
   ],
   "source": [
    "estimator = Pipeline([\n",
    "    ('scale', StandardScaler()),\n",
    "    ('vector', LinearSVC(dual = True, random_state = 0))\n",
    "])\n",
    "\n",
    "gs2 = GridSearchCV(\n",
    "    estimator,\n",
    "    {\n",
    "        'vector__loss': ['hinge'],\n",
    "        'vector__penalty': ['l2'],\n",
    "        'vector__C': [.01, .1, 1, 10, 100]\n",
    "    },\n",
    "    cv = 3,\n",
    "    refit = False,\n",
    "    verbose = 2\n",
    ")\n",
    "gs2.fit(Xsample, ysample)"
   ]
  },
  {
   "cell_type": "code",
   "execution_count": 63,
   "metadata": {
    "ExecuteTime": {
     "end_time": "2016-09-27T08:50:18.941325",
     "start_time": "2016-09-27T08:50:18.937413"
    },
    "collapsed": false,
    "hidden": true
   },
   "outputs": [
    {
     "data": {
      "text/plain": [
       "{'vector__C': 0.01, 'vector__loss': 'hinge', 'vector__penalty': 'l2'}"
      ]
     },
     "execution_count": 63,
     "metadata": {},
     "output_type": "execute_result"
    }
   ],
   "source": [
    "gs2.best_params_"
   ]
  },
  {
   "cell_type": "code",
   "execution_count": 64,
   "metadata": {
    "ExecuteTime": {
     "end_time": "2016-09-27T08:50:19.134091",
     "start_time": "2016-09-27T08:50:19.128451"
    },
    "collapsed": false,
    "hidden": true
   },
   "outputs": [
    {
     "data": {
      "text/plain": [
       "[mean: 0.98506, std: 0.00227, params: {'vector__loss': 'hinge', 'vector__penalty': 'l2', 'vector__C': 0.01},\n",
       " mean: 0.98284, std: 0.00106, params: {'vector__loss': 'hinge', 'vector__penalty': 'l2', 'vector__C': 0.1},\n",
       " mean: 0.97840, std: 0.00251, params: {'vector__loss': 'hinge', 'vector__penalty': 'l2', 'vector__C': 1},\n",
       " mean: 0.97901, std: 0.00274, params: {'vector__loss': 'hinge', 'vector__penalty': 'l2', 'vector__C': 10},\n",
       " mean: 0.97901, std: 0.00274, params: {'vector__loss': 'hinge', 'vector__penalty': 'l2', 'vector__C': 100}]"
      ]
     },
     "execution_count": 64,
     "metadata": {},
     "output_type": "execute_result"
    }
   ],
   "source": [
    "gs2.grid_scores_"
   ]
  },
  {
   "cell_type": "code",
   "execution_count": 41,
   "metadata": {
    "ExecuteTime": {
     "end_time": "2016-09-27T08:34:25.924669",
     "start_time": "2016-09-27T08:34:25.891486"
    },
    "collapsed": false,
    "hidden": true
   },
   "outputs": [
    {
     "data": {
      "text/html": [
       "<div>\n",
       "<table border=\"1\" class=\"dataframe\">\n",
       "  <thead>\n",
       "    <tr style=\"text-align: right;\">\n",
       "      <th></th>\n",
       "      <th>parameters</th>\n",
       "      <th>mean_validation_score</th>\n",
       "      <th>cv_validation_scores</th>\n",
       "    </tr>\n",
       "  </thead>\n",
       "  <tbody>\n",
       "    <tr>\n",
       "      <th>0</th>\n",
       "      <td>{u'vector__loss': u'squared_hinge', u'vector__...</td>\n",
       "      <td>0.978642</td>\n",
       "      <td>[0.974453905961, 0.981851851852, 0.979622082253]</td>\n",
       "    </tr>\n",
       "    <tr>\n",
       "      <th>1</th>\n",
       "      <td>{u'vector__loss': u'squared_hinge', u'vector__...</td>\n",
       "      <td>0.986173</td>\n",
       "      <td>[0.984450203628, 0.987407407407, 0.986661726565]</td>\n",
       "    </tr>\n",
       "    <tr>\n",
       "      <th>2</th>\n",
       "      <td>{u'vector__loss': u'squared_hinge', u'vector__...</td>\n",
       "      <td>0.985556</td>\n",
       "      <td>[0.983339503887, 0.985555555556, 0.987773249352]</td>\n",
       "    </tr>\n",
       "    <tr>\n",
       "      <th>3</th>\n",
       "      <td>{u'vector__loss': u'squared_hinge', u'vector__...</td>\n",
       "      <td>0.983951</td>\n",
       "      <td>[0.982228804147, 0.984074074074, 0.985550203779]</td>\n",
       "    </tr>\n",
       "    <tr>\n",
       "      <th>4</th>\n",
       "      <td>{u'vector__loss': u'squared_hinge', u'vector__...</td>\n",
       "      <td>0.983827</td>\n",
       "      <td>[0.981118104406, 0.983703703704, 0.986661726565]</td>\n",
       "    </tr>\n",
       "    <tr>\n",
       "      <th>5</th>\n",
       "      <td>{u'vector__loss': u'squared_hinge', u'vector__...</td>\n",
       "      <td>0.982593</td>\n",
       "      <td>[0.981118104406, 0.982222222222, 0.984438680993]</td>\n",
       "    </tr>\n",
       "    <tr>\n",
       "      <th>6</th>\n",
       "      <td>{u'vector__loss': u'squared_hinge', u'vector__...</td>\n",
       "      <td>0.982963</td>\n",
       "      <td>[0.980747871159, 0.981851851852, 0.98629121897]</td>\n",
       "    </tr>\n",
       "    <tr>\n",
       "      <th>7</th>\n",
       "      <td>{u'vector__loss': u'squared_hinge', u'vector__...</td>\n",
       "      <td>0.982716</td>\n",
       "      <td>[0.980377637912, 0.982222222222, 0.985550203779]</td>\n",
       "    </tr>\n",
       "    <tr>\n",
       "      <th>8</th>\n",
       "      <td>{u'vector__loss': u'squared_hinge', u'vector__...</td>\n",
       "      <td>0.984198</td>\n",
       "      <td>[0.981118104406, 0.984814814815, 0.986661726565]</td>\n",
       "    </tr>\n",
       "    <tr>\n",
       "      <th>9</th>\n",
       "      <td>{u'vector__loss': u'squared_hinge', u'vector__...</td>\n",
       "      <td>0.982593</td>\n",
       "      <td>[0.980377637912, 0.982222222222, 0.985179696184]</td>\n",
       "    </tr>\n",
       "  </tbody>\n",
       "</table>\n",
       "</div>"
      ],
      "text/plain": [
       "                                          parameters  mean_validation_score  \\\n",
       "0  {u'vector__loss': u'squared_hinge', u'vector__...               0.978642   \n",
       "1  {u'vector__loss': u'squared_hinge', u'vector__...               0.986173   \n",
       "2  {u'vector__loss': u'squared_hinge', u'vector__...               0.985556   \n",
       "3  {u'vector__loss': u'squared_hinge', u'vector__...               0.983951   \n",
       "4  {u'vector__loss': u'squared_hinge', u'vector__...               0.983827   \n",
       "5  {u'vector__loss': u'squared_hinge', u'vector__...               0.982593   \n",
       "6  {u'vector__loss': u'squared_hinge', u'vector__...               0.982963   \n",
       "7  {u'vector__loss': u'squared_hinge', u'vector__...               0.982716   \n",
       "8  {u'vector__loss': u'squared_hinge', u'vector__...               0.984198   \n",
       "9  {u'vector__loss': u'squared_hinge', u'vector__...               0.982593   \n",
       "\n",
       "                               cv_validation_scores  \n",
       "0  [0.974453905961, 0.981851851852, 0.979622082253]  \n",
       "1  [0.984450203628, 0.987407407407, 0.986661726565]  \n",
       "2  [0.983339503887, 0.985555555556, 0.987773249352]  \n",
       "3  [0.982228804147, 0.984074074074, 0.985550203779]  \n",
       "4  [0.981118104406, 0.983703703704, 0.986661726565]  \n",
       "5  [0.981118104406, 0.982222222222, 0.984438680993]  \n",
       "6   [0.980747871159, 0.981851851852, 0.98629121897]  \n",
       "7  [0.980377637912, 0.982222222222, 0.985550203779]  \n",
       "8  [0.981118104406, 0.984814814815, 0.986661726565]  \n",
       "9  [0.980377637912, 0.982222222222, 0.985179696184]  "
      ]
     },
     "execution_count": 41,
     "metadata": {},
     "output_type": "execute_result"
    }
   ],
   "source": [
    "pandas.DataFrame.from_dict(gs.grid_scores_)"
   ]
  },
  {
   "cell_type": "code",
   "execution_count": 20,
   "metadata": {
    "ExecuteTime": {
     "end_time": "2016-09-25T19:52:25.355598",
     "start_time": "2016-09-25T19:30:58.903913"
    },
    "collapsed": false,
    "hidden": true
   },
   "outputs": [
    {
     "name": "stdout",
     "output_type": "stream",
     "text": [
      "Fitting 3 folds for each of 3 candidates, totalling 9 fits\n",
      "[CV] vector__penalty=l1, vector__C=1 .................................\n",
      "[CV] ........................ vector__penalty=l1, vector__C=1 - 2.0min\n",
      "[CV] vector__penalty=l1, vector__C=1 .................................\n",
      "[CV] ........................ vector__penalty=l1, vector__C=1 - 1.9min\n",
      "[CV] vector__penalty=l1, vector__C=1 .................................\n",
      "[CV] ........................ vector__penalty=l1, vector__C=1 - 1.8min\n",
      "[CV] vector__penalty=l1, vector__C=10 ................................\n",
      "[CV] ....................... vector__penalty=l1, vector__C=10 - 2.6min\n",
      "[CV] vector__penalty=l1, vector__C=10 ................................\n",
      "[CV] ....................... vector__penalty=l1, vector__C=10 - 2.4min\n",
      "[CV] vector__penalty=l1, vector__C=10 ................................\n",
      "[CV] ....................... vector__penalty=l1, vector__C=10 - 2.4min\n",
      "[CV] vector__penalty=l1, vector__C=25 ................................\n",
      "[CV] ....................... vector__penalty=l1, vector__C=25 - 2.9min\n",
      "[CV] vector__penalty=l1, vector__C=25 ................................\n",
      "[CV] ....................... vector__penalty=l1, vector__C=25 - 2.8min\n",
      "[CV] vector__penalty=l1, vector__C=25 ................................\n",
      "[CV] ....................... vector__penalty=l1, vector__C=25 - 2.6min\n"
     ]
    },
    {
     "name": "stderr",
     "output_type": "stream",
     "text": [
      "[Parallel(n_jobs=1)]: Done   9 out of   9 | elapsed: 21.4min finished\n"
     ]
    },
    {
     "data": {
      "text/plain": [
       "GridSearchCV(cv=3, error_score='raise',\n",
       "       estimator=Pipeline(steps=[('scale', StandardScaler(copy=True, with_mean=True, with_std=True)), ('vector', LinearSVC(C=1.0, class_weight=None, dual=False, fit_intercept=True,\n",
       "     intercept_scaling=1, loss='squared_hinge', max_iter=1000,\n",
       "     multi_class='ovr', penalty='l2', random_state=0, tol=0.0001,\n",
       "     verbose=0))]),\n",
       "       fit_params={}, iid=True, n_jobs=1,\n",
       "       param_grid={'vector__penalty': ['l1'], 'vector__C': [1, 10, 25]},\n",
       "       pre_dispatch='2*n_jobs', refit=False, scoring=None, verbose=2)"
      ]
     },
     "execution_count": 20,
     "metadata": {},
     "output_type": "execute_result"
    }
   ],
   "source": [
    "estimator = Pipeline([\n",
    "    ('scale', StandardScaler()),\n",
    "    ('vector', LinearSVC(dual = False, random_state = 0))\n",
    "])\n",
    "\n",
    "gs2 = GridSearchCV(\n",
    "    estimator,\n",
    "    {\n",
    "        'vector__penalty': ['l1'],\n",
    "        'vector__C': [1, 10, 25]\n",
    "    },\n",
    "    cv = 3,\n",
    "    refit = False,\n",
    "    verbose = 2\n",
    ")\n",
    "gs2.fit(X, y)"
   ]
  },
  {
   "cell_type": "code",
   "execution_count": 23,
   "metadata": {
    "ExecuteTime": {
     "end_time": "2016-09-25T19:53:05.477629",
     "start_time": "2016-09-25T19:53:05.472885"
    },
    "collapsed": false,
    "hidden": true
   },
   "outputs": [
    {
     "data": {
      "text/plain": [
       "{'vector__C': 1, 'vector__penalty': 'l1'}"
      ]
     },
     "execution_count": 23,
     "metadata": {},
     "output_type": "execute_result"
    }
   ],
   "source": [
    "gs2.best_params_"
   ]
  },
  {
   "cell_type": "code",
   "execution_count": 24,
   "metadata": {
    "ExecuteTime": {
     "end_time": "2016-09-25T19:53:08.913870",
     "start_time": "2016-09-25T19:53:08.905672"
    },
    "collapsed": false,
    "hidden": true
   },
   "outputs": [
    {
     "data": {
      "text/plain": [
       "[mean: 0.99258, std: 0.00024, params: {'vector__penalty': 'l1', 'vector__C': 1},\n",
       " mean: 0.99241, std: 0.00024, params: {'vector__penalty': 'l1', 'vector__C': 10},\n",
       " mean: 0.99237, std: 0.00026, params: {'vector__penalty': 'l1', 'vector__C': 25}]"
      ]
     },
     "execution_count": 24,
     "metadata": {},
     "output_type": "execute_result"
    }
   ],
   "source": [
    "gs2.grid_scores_"
   ]
  },
  {
   "cell_type": "code",
   "execution_count": 51,
   "metadata": {
    "ExecuteTime": {
     "end_time": "2016-09-27T08:42:33.657955",
     "start_time": "2016-09-27T08:42:33.652356"
    },
    "collapsed": false,
    "hidden": true
   },
   "outputs": [
    {
     "data": {
      "text/plain": [
       "{'vector__C': 0.01, 'vector__loss': 'squared_hinge', 'vector__penalty': 'l2'}"
      ]
     },
     "execution_count": 51,
     "metadata": {},
     "output_type": "execute_result"
    }
   ],
   "source": [
    "gs.best_params_"
   ]
  },
  {
   "cell_type": "code",
   "execution_count": 52,
   "metadata": {
    "ExecuteTime": {
     "end_time": "2016-09-27T08:42:39.677698",
     "start_time": "2016-09-27T08:42:39.673441"
    },
    "collapsed": false,
    "hidden": true
   },
   "outputs": [
    {
     "data": {
      "text/plain": [
       "{'vector__C': 0.01, 'vector__loss': 'hinge', 'vector__penalty': 'l2'}"
      ]
     },
     "execution_count": 52,
     "metadata": {},
     "output_type": "execute_result"
    }
   ],
   "source": [
    "gs2.best_params_"
   ]
  },
  {
   "cell_type": "markdown",
   "metadata": {
    "ExecuteTime": {
     "end_time": "2016-09-25T17:48:17.274098",
     "start_time": "2016-09-25T17:48:17.185263"
    }
   },
   "source": [
    "### Polynomial kernel"
   ]
  },
  {
   "cell_type": "code",
   "execution_count": 66,
   "metadata": {
    "ExecuteTime": {
     "end_time": "2016-09-27T08:56:03.253440",
     "start_time": "2016-09-27T08:55:36.851924"
    },
    "collapsed": false
   },
   "outputs": [
    {
     "data": {
      "text/plain": [
       "SVC(C=1.0, cache_size=200, class_weight=None, coef0=0.0,\n",
       "  decision_function_shape=None, degree=3, gamma='auto', kernel='poly',\n",
       "  max_iter=-1, probability=False, random_state=None, shrinking=True,\n",
       "  tol=0.001, verbose=False)"
      ]
     },
     "execution_count": 66,
     "metadata": {},
     "output_type": "execute_result"
    }
   ],
   "source": [
    "psvc = SVC(kernel = 'poly')\n",
    "psvc.fit(Xsample, ysample)"
   ]
  },
  {
   "cell_type": "code",
   "execution_count": 67,
   "metadata": {
    "ExecuteTime": {
     "end_time": "2016-09-27T08:57:19.461116",
     "start_time": "2016-09-27T08:56:54.440056"
    },
    "collapsed": false
   },
   "outputs": [
    {
     "data": {
      "text/plain": [
       "0.96209876543209871"
      ]
     },
     "execution_count": 67,
     "metadata": {},
     "output_type": "execute_result"
    }
   ],
   "source": [
    "psvc.score(Xsample, ysample)"
   ]
  },
  {
   "cell_type": "code",
   "execution_count": 69,
   "metadata": {
    "ExecuteTime": {
     "end_time": "2016-09-27T09:00:23.006499",
     "start_time": "2016-09-27T09:00:22.952041"
    },
    "collapsed": false
   },
   "outputs": [],
   "source": [
    "Xsample = X.sample(frac = 1/20, random_state = 0)\n",
    "ysample = y.sample(frac = 1/20, random_state = 0)\n",
    "\n",
    "assert (Xsample.index == ysample.index).all()"
   ]
  },
  {
   "cell_type": "code",
   "execution_count": 70,
   "metadata": {
    "ExecuteTime": {
     "end_time": "2016-09-27T09:03:59.286764",
     "start_time": "2016-09-27T09:00:28.029436"
    },
    "collapsed": false
   },
   "outputs": [
    {
     "name": "stdout",
     "output_type": "stream",
     "text": [
      "Fitting 3 folds for each of 10 candidates, totalling 30 fits\n",
      "[CV] vector__degree=2, vector__C=0.01 ................................\n",
      "[CV] ....................... vector__degree=2, vector__C=0.01 -  13.0s\n",
      "[CV] vector__degree=2, vector__C=0.01 ................................\n",
      "[CV] ....................... vector__degree=2, vector__C=0.01 -  12.9s\n",
      "[CV] vector__degree=2, vector__C=0.01 ................................\n",
      "[CV] ....................... vector__degree=2, vector__C=0.01 -  12.9s\n",
      "[CV] vector__degree=3, vector__C=0.01 ................................\n",
      "[CV] ....................... vector__degree=3, vector__C=0.01 -  12.9s\n",
      "[CV] vector__degree=3, vector__C=0.01 ................................\n",
      "[CV] ....................... vector__degree=3, vector__C=0.01 -  13.0s\n",
      "[CV] vector__degree=3, vector__C=0.01 ................................\n",
      "[CV] ....................... vector__degree=3, vector__C=0.01 -  12.7s\n",
      "[CV] vector__degree=2, vector__C=0.1 .................................\n",
      "[CV] ........................ vector__degree=2, vector__C=0.1 -   9.4s\n",
      "[CV] vector__degree=2, vector__C=0.1 .................................\n",
      "[CV] ........................ vector__degree=2, vector__C=0.1 -   9.4s\n",
      "[CV] vector__degree=2, vector__C=0.1 .................................\n",
      "[CV] ........................ vector__degree=2, vector__C=0.1 -   9.4s\n",
      "[CV] vector__degree=3, vector__C=0.1 .................................\n",
      "[CV] ........................ vector__degree=3, vector__C=0.1 -  11.4s\n",
      "[CV] vector__degree=3, vector__C=0.1 .................................\n",
      "[CV] ........................ vector__degree=3, vector__C=0.1 -  11.6s\n",
      "[CV] vector__degree=3, vector__C=0.1 .................................\n",
      "[CV] ........................ vector__degree=3, vector__C=0.1 -  11.6s\n",
      "[CV] vector__degree=2, vector__C=1 ...................................\n",
      "[CV] .......................... vector__degree=2, vector__C=1 -   4.3s\n",
      "[CV] vector__degree=2, vector__C=1 ...................................\n",
      "[CV] .......................... vector__degree=2, vector__C=1 -   4.3s\n",
      "[CV] vector__degree=2, vector__C=1 ...................................\n",
      "[CV] .......................... vector__degree=2, vector__C=1 -   4.2s\n",
      "[CV] vector__degree=3, vector__C=1 ...................................\n",
      "[CV] .......................... vector__degree=3, vector__C=1 -   7.3s\n",
      "[CV] vector__degree=3, vector__C=1 ...................................\n",
      "[CV] .......................... vector__degree=3, vector__C=1 -   7.2s\n",
      "[CV] vector__degree=3, vector__C=1 ...................................\n",
      "[CV] .......................... vector__degree=3, vector__C=1 -   7.2s\n",
      "[CV] vector__degree=2, vector__C=10 ..................................\n",
      "[CV] ......................... vector__degree=2, vector__C=10 -   2.9s\n",
      "[CV] vector__degree=2, vector__C=10 ..................................\n",
      "[CV] ......................... vector__degree=2, vector__C=10 -   3.0s\n",
      "[CV] vector__degree=2, vector__C=10 ..................................\n",
      "[CV] ......................... vector__degree=2, vector__C=10 -   2.7s\n",
      "[CV] vector__degree=3, vector__C=10 ..................................\n",
      "[CV] ......................... vector__degree=3, vector__C=10 -   4.0s\n",
      "[CV] vector__degree=3, vector__C=10 ..................................\n",
      "[CV] ......................... vector__degree=3, vector__C=10 -   3.8s\n",
      "[CV] vector__degree=3, vector__C=10 ..................................\n",
      "[CV] ......................... vector__degree=3, vector__C=10 -   3.9s\n",
      "[CV] vector__degree=2, vector__C=100 .................................\n",
      "[CV] ........................ vector__degree=2, vector__C=100 -   2.3s\n",
      "[CV] vector__degree=2, vector__C=100 .................................\n",
      "[CV] ........................ vector__degree=2, vector__C=100 -   2.3s\n",
      "[CV] vector__degree=2, vector__C=100 .................................\n",
      "[CV] ........................ vector__degree=2, vector__C=100 -   2.4s\n",
      "[CV] vector__degree=3, vector__C=100 .................................\n",
      "[CV] ........................ vector__degree=3, vector__C=100 -   3.0s\n",
      "[CV] vector__degree=3, vector__C=100 .................................\n",
      "[CV] ........................ vector__degree=3, vector__C=100 -   3.2s\n",
      "[CV] vector__degree=3, vector__C=100 .................................\n",
      "[CV] ........................ vector__degree=3, vector__C=100 -   3.0s\n"
     ]
    },
    {
     "name": "stderr",
     "output_type": "stream",
     "text": [
      "[Parallel(n_jobs=1)]: Done  30 out of  30 | elapsed:  3.5min finished\n"
     ]
    },
    {
     "data": {
      "text/plain": [
       "GridSearchCV(cv=3, error_score='raise',\n",
       "       estimator=Pipeline(steps=[('scale', StandardScaler(copy=True, with_mean=True, with_std=True)), ('vector', SVC(C=1.0, cache_size=200, class_weight=None, coef0=0.0,\n",
       "  decision_function_shape=None, degree=3, gamma='auto', kernel='poly',\n",
       "  max_iter=-1, probability=False, random_state=0, shrinking=True,\n",
       "  tol=0.001, verbose=False))]),\n",
       "       fit_params={}, iid=True, n_jobs=1,\n",
       "       param_grid={'vector__degree': [2, 3], 'vector__C': [0.01, 0.1, 1, 10, 100]},\n",
       "       pre_dispatch='2*n_jobs', refit=False, scoring=None, verbose=2)"
      ]
     },
     "execution_count": 70,
     "metadata": {},
     "output_type": "execute_result"
    }
   ],
   "source": [
    "estimator = Pipeline([\n",
    "    ('scale', StandardScaler()),\n",
    "    ('vector', SVC(kernel = 'poly', random_state = 0))\n",
    "])\n",
    "\n",
    "gs = GridSearchCV(\n",
    "    estimator,\n",
    "    {\n",
    "        'vector__C': [.01, .1, 1, 10, 100],\n",
    "        'vector__degree': [2, 3],\n",
    "    },\n",
    "    cv = 3,\n",
    "    refit = False,\n",
    "    verbose = 2\n",
    ")\n",
    "gs.fit(Xsample, ysample)"
   ]
  },
  {
   "cell_type": "code",
   "execution_count": 71,
   "metadata": {
    "ExecuteTime": {
     "end_time": "2016-09-27T09:03:59.293100",
     "start_time": "2016-09-27T09:03:59.288830"
    },
    "collapsed": false
   },
   "outputs": [
    {
     "data": {
      "text/plain": [
       "{'vector__C': 10, 'vector__degree': 2}"
      ]
     },
     "execution_count": 71,
     "metadata": {},
     "output_type": "execute_result"
    }
   ],
   "source": [
    "gs.best_params_"
   ]
  },
  {
   "cell_type": "code",
   "execution_count": 72,
   "metadata": {
    "ExecuteTime": {
     "end_time": "2016-09-27T09:03:59.410731",
     "start_time": "2016-09-27T09:03:59.295054"
    },
    "collapsed": false
   },
   "outputs": [
    {
     "data": {
      "text/plain": [
       "[mean: 0.57975, std: 0.01614, params: {'vector__degree': 2, 'vector__C': 0.01},\n",
       " mean: 0.55037, std: 0.00939, params: {'vector__degree': 3, 'vector__C': 0.01},\n",
       " mean: 0.94000, std: 0.00682, params: {'vector__degree': 2, 'vector__C': 0.1},\n",
       " mean: 0.88370, std: 0.01782, params: {'vector__degree': 3, 'vector__C': 0.1},\n",
       " mean: 0.95679, std: 0.00635, params: {'vector__degree': 2, 'vector__C': 1},\n",
       " mean: 0.94691, std: 0.00609, params: {'vector__degree': 3, 'vector__C': 1},\n",
       " mean: 0.98420, std: 0.00194, params: {'vector__degree': 2, 'vector__C': 10},\n",
       " mean: 0.96247, std: 0.00286, params: {'vector__degree': 3, 'vector__C': 10},\n",
       " mean: 0.98370, std: 0.00264, params: {'vector__degree': 2, 'vector__C': 100},\n",
       " mean: 0.98420, std: 0.00140, params: {'vector__degree': 3, 'vector__C': 100}]"
      ]
     },
     "execution_count": 72,
     "metadata": {},
     "output_type": "execute_result"
    }
   ],
   "source": [
    "gs.grid_scores_"
   ]
  },
  {
   "cell_type": "code",
   "execution_count": 78,
   "metadata": {
    "ExecuteTime": {
     "end_time": "2016-09-27T09:07:37.244899",
     "start_time": "2016-09-27T09:05:58.035288"
    },
    "collapsed": false
   },
   "outputs": [
    {
     "name": "stdout",
     "output_type": "stream",
     "text": [
      "Fitting 3 folds for each of 4 candidates, totalling 12 fits\n",
      "[CV] vector__degree=2, vector__C=0.001 ...............................\n",
      "[CV] ...................... vector__degree=2, vector__C=0.001 -  13.6s\n",
      "[CV] vector__degree=2, vector__C=0.001 ...............................\n",
      "[CV] ...................... vector__degree=2, vector__C=0.001 -  13.4s\n",
      "[CV] vector__degree=2, vector__C=0.001 ...............................\n",
      "[CV] ...................... vector__degree=2, vector__C=0.001 -  13.4s\n",
      "[CV] vector__degree=3, vector__C=0.001 ...............................\n",
      "[CV] ...................... vector__degree=3, vector__C=0.001 -  13.3s\n",
      "[CV] vector__degree=3, vector__C=0.001 ...............................\n",
      "[CV] ...................... vector__degree=3, vector__C=0.001 -  13.4s\n",
      "[CV] vector__degree=3, vector__C=0.001 ...............................\n",
      "[CV] ...................... vector__degree=3, vector__C=0.001 -  13.4s\n",
      "[CV] vector__degree=2, vector__C=1000 ................................\n",
      "[CV] ....................... vector__degree=2, vector__C=1000 -   3.1s\n",
      "[CV] vector__degree=2, vector__C=1000 ................................\n",
      "[CV] ....................... vector__degree=2, vector__C=1000 -   3.0s\n",
      "[CV] vector__degree=2, vector__C=1000 ................................\n",
      "[CV] ....................... vector__degree=2, vector__C=1000 -   3.1s\n",
      "[CV] vector__degree=3, vector__C=1000 ................................\n",
      "[CV] ....................... vector__degree=3, vector__C=1000 -   3.2s\n",
      "[CV] vector__degree=3, vector__C=1000 ................................\n",
      "[CV] ....................... vector__degree=3, vector__C=1000 -   3.1s\n",
      "[CV] vector__degree=3, vector__C=1000 ................................\n",
      "[CV] ....................... vector__degree=3, vector__C=1000 -   3.2s\n"
     ]
    },
    {
     "name": "stderr",
     "output_type": "stream",
     "text": [
      "[Parallel(n_jobs=1)]: Done  12 out of  12 | elapsed:  1.7min finished\n"
     ]
    },
    {
     "data": {
      "text/plain": [
       "GridSearchCV(cv=3, error_score='raise',\n",
       "       estimator=Pipeline(steps=[('scale', StandardScaler(copy=True, with_mean=True, with_std=True)), ('vector', SVC(C=1.0, cache_size=200, class_weight=None, coef0=0.0,\n",
       "  decision_function_shape=None, degree=3, gamma='auto', kernel='rbf',\n",
       "  max_iter=-1, probability=False, random_state=0, shrinking=True,\n",
       "  tol=0.001, verbose=False))]),\n",
       "       fit_params={}, iid=True, n_jobs=1,\n",
       "       param_grid={'vector__degree': [2, 3], 'vector__C': [0.001, 1000]},\n",
       "       pre_dispatch='2*n_jobs', refit=False, scoring=None, verbose=2)"
      ]
     },
     "execution_count": 78,
     "metadata": {},
     "output_type": "execute_result"
    }
   ],
   "source": [
    "gsplus = GridSearchCV(\n",
    "    estimator,\n",
    "    {\n",
    "        'vector__C': [.001, 1000],\n",
    "        'vector__degree': [2, 3],\n",
    "    },\n",
    "    cv = 3,\n",
    "    refit = False,\n",
    "    verbose = 2\n",
    ")\n",
    "gsplus.fit(Xsample, ysample)"
   ]
  },
  {
   "cell_type": "code",
   "execution_count": 79,
   "metadata": {
    "ExecuteTime": {
     "end_time": "2016-09-27T09:07:37.250802",
     "start_time": "2016-09-27T09:07:37.246922"
    },
    "collapsed": false
   },
   "outputs": [
    {
     "data": {
      "text/plain": [
       "{'vector__C': 1000, 'vector__degree': 2}"
      ]
     },
     "execution_count": 79,
     "metadata": {},
     "output_type": "execute_result"
    }
   ],
   "source": [
    "gsplus.best_params_"
   ]
  },
  {
   "cell_type": "code",
   "execution_count": 80,
   "metadata": {
    "ExecuteTime": {
     "end_time": "2016-09-27T09:07:37.351648",
     "start_time": "2016-09-27T09:07:37.252711"
    },
    "collapsed": false
   },
   "outputs": [
    {
     "data": {
      "text/plain": [
       "[mean: 0.50222, std: 0.00000, params: {'vector__degree': 2, 'vector__C': 0.001},\n",
       " mean: 0.50222, std: 0.00000, params: {'vector__degree': 3, 'vector__C': 0.001},\n",
       " mean: 0.98222, std: 0.00277, params: {'vector__degree': 2, 'vector__C': 1000},\n",
       " mean: 0.98222, std: 0.00277, params: {'vector__degree': 3, 'vector__C': 1000},\n",
       " mean: 0.57975, std: 0.01614, params: {'vector__degree': 2, 'vector__C': 0.01},\n",
       " mean: 0.55037, std: 0.00939, params: {'vector__degree': 3, 'vector__C': 0.01},\n",
       " mean: 0.94000, std: 0.00682, params: {'vector__degree': 2, 'vector__C': 0.1},\n",
       " mean: 0.88370, std: 0.01782, params: {'vector__degree': 3, 'vector__C': 0.1},\n",
       " mean: 0.95679, std: 0.00635, params: {'vector__degree': 2, 'vector__C': 1},\n",
       " mean: 0.94691, std: 0.00609, params: {'vector__degree': 3, 'vector__C': 1},\n",
       " mean: 0.98420, std: 0.00194, params: {'vector__degree': 2, 'vector__C': 10},\n",
       " mean: 0.96247, std: 0.00286, params: {'vector__degree': 3, 'vector__C': 10},\n",
       " mean: 0.98370, std: 0.00264, params: {'vector__degree': 2, 'vector__C': 100},\n",
       " mean: 0.98420, std: 0.00140, params: {'vector__degree': 3, 'vector__C': 100}]"
      ]
     },
     "execution_count": 80,
     "metadata": {},
     "output_type": "execute_result"
    }
   ],
   "source": [
    "gsplus.grid_scores_ + gs.grid_scores_"
   ]
  },
  {
   "cell_type": "markdown",
   "metadata": {},
   "source": [
    "### rbf kernel"
   ]
  },
  {
   "cell_type": "code",
   "execution_count": 81,
   "metadata": {
    "ExecuteTime": {
     "end_time": "2016-09-27T09:09:32.041621",
     "start_time": "2016-09-27T09:07:49.759034"
    },
    "collapsed": false
   },
   "outputs": [
    {
     "name": "stdout",
     "output_type": "stream",
     "text": [
      "Fitting 3 folds for each of 6 candidates, totalling 18 fits\n",
      "[CV] vector__C=0.01 ..................................................\n",
      "[CV] ......................................... vector__C=0.01 -  13.8s\n",
      "[CV] vector__C=0.01 ..................................................\n",
      "[CV] ......................................... vector__C=0.01 -  13.5s\n",
      "[CV] vector__C=0.01 ..................................................\n",
      "[CV] ......................................... vector__C=0.01 -  13.5s\n",
      "[CV] vector__C=0.1 ...................................................\n",
      "[CV] .......................................... vector__C=0.1 -   6.9s\n",
      "[CV] vector__C=0.1 ...................................................\n",
      "[CV] .......................................... vector__C=0.1 -   7.3s\n",
      "[CV] vector__C=0.1 ...................................................\n",
      "[CV] .......................................... vector__C=0.1 -   6.9s\n",
      "[CV] vector__C=1 .....................................................\n",
      "[CV] ............................................ vector__C=1 -   4.0s\n",
      "[CV] vector__C=1 .....................................................\n",
      "[CV] ............................................ vector__C=1 -   3.9s\n",
      "[CV] vector__C=1 .....................................................\n",
      "[CV] ............................................ vector__C=1 -   4.0s\n",
      "[CV] vector__C=10 ....................................................\n",
      "[CV] ........................................... vector__C=10 -   3.4s\n",
      "[CV] vector__C=10 ....................................................\n",
      "[CV] ........................................... vector__C=10 -   3.2s\n",
      "[CV] vector__C=10 ....................................................\n",
      "[CV] ........................................... vector__C=10 -   3.3s\n",
      "[CV] vector__C=100 ...................................................\n",
      "[CV] .......................................... vector__C=100 -   3.1s\n",
      "[CV] vector__C=100 ...................................................\n",
      "[CV] .......................................... vector__C=100 -   3.0s\n",
      "[CV] vector__C=100 ...................................................\n",
      "[CV] .......................................... vector__C=100 -   3.2s\n",
      "[CV] vector__C=1000 ..................................................\n",
      "[CV] ......................................... vector__C=1000 -   3.1s\n",
      "[CV] vector__C=1000 ..................................................\n",
      "[CV] ......................................... vector__C=1000 -   3.0s\n",
      "[CV] vector__C=1000 ..................................................\n",
      "[CV] ......................................... vector__C=1000 -   3.1s\n"
     ]
    },
    {
     "name": "stderr",
     "output_type": "stream",
     "text": [
      "[Parallel(n_jobs=1)]: Done  18 out of  18 | elapsed:  1.7min finished\n"
     ]
    },
    {
     "data": {
      "text/plain": [
       "GridSearchCV(cv=3, error_score='raise',\n",
       "       estimator=Pipeline(steps=[('scale', StandardScaler(copy=True, with_mean=True, with_std=True)), ('vector', SVC(C=1.0, cache_size=200, class_weight=None, coef0=0.0,\n",
       "  decision_function_shape=None, degree=3, gamma='auto', kernel='rbf',\n",
       "  max_iter=-1, probability=False, random_state=0, shrinking=True,\n",
       "  tol=0.001, verbose=False))]),\n",
       "       fit_params={}, iid=True, n_jobs=1,\n",
       "       param_grid={'vector__C': [0.01, 0.1, 1, 10, 100, 1000]},\n",
       "       pre_dispatch='2*n_jobs', refit=False, scoring=None, verbose=2)"
      ]
     },
     "execution_count": 81,
     "metadata": {},
     "output_type": "execute_result"
    }
   ],
   "source": [
    "estimator = Pipeline([\n",
    "    ('scale', StandardScaler()),\n",
    "    ('vector', SVC(kernel = 'rbf', random_state = 0))\n",
    "])\n",
    "\n",
    "gsr = GridSearchCV(\n",
    "    estimator,\n",
    "    {\n",
    "        'vector__C': [.01, .1, 1, 10, 100, 1000]\n",
    "    },\n",
    "    cv = 3,\n",
    "    refit = False,\n",
    "    verbose = 2\n",
    ")\n",
    "gsr.fit(Xsample, ysample)"
   ]
  },
  {
   "cell_type": "code",
   "execution_count": 82,
   "metadata": {
    "ExecuteTime": {
     "end_time": "2016-09-27T09:09:32.048225",
     "start_time": "2016-09-27T09:09:32.043529"
    },
    "collapsed": false
   },
   "outputs": [
    {
     "data": {
      "text/plain": [
       "{'vector__C': 100}"
      ]
     },
     "execution_count": 82,
     "metadata": {},
     "output_type": "execute_result"
    }
   ],
   "source": [
    "gsr.best_params_"
   ]
  },
  {
   "cell_type": "code",
   "execution_count": 83,
   "metadata": {
    "ExecuteTime": {
     "end_time": "2016-09-27T09:09:32.122281",
     "start_time": "2016-09-27T09:09:32.050114"
    },
    "collapsed": false
   },
   "outputs": [
    {
     "data": {
      "text/plain": [
       "[mean: 0.87605, std: 0.00817, params: {'vector__C': 0.01},\n",
       " mean: 0.92864, std: 0.01347, params: {'vector__C': 0.1},\n",
       " mean: 0.97531, std: 0.00344, params: {'vector__C': 1},\n",
       " mean: 0.98222, std: 0.00060, params: {'vector__C': 10},\n",
       " mean: 0.98272, std: 0.00252, params: {'vector__C': 100},\n",
       " mean: 0.98222, std: 0.00277, params: {'vector__C': 1000}]"
      ]
     },
     "execution_count": 83,
     "metadata": {},
     "output_type": "execute_result"
    }
   ],
   "source": [
    "gsr.grid_scores_"
   ]
  },
  {
   "cell_type": "markdown",
   "metadata": {},
   "source": [
    "## Voting Classifier"
   ]
  },
  {
   "cell_type": "code",
   "execution_count": 11,
   "metadata": {
    "ExecuteTime": {
     "end_time": "2016-09-25T18:47:25.936556",
     "start_time": "2016-09-25T18:47:25.814691"
    },
    "collapsed": false
   },
   "outputs": [],
   "source": [
    "from sklearn.ensemble import VotingClassifier, RandomForestClassifier\n",
    "from sklearn.tree import DecisionTreeClassifier\n",
    "from sklearn.naive_bayes import BernoulliNB\n",
    "from sklearn.svm import SVC, LinearSVC\n",
    "from sklearn.neighbors import KNeighborsClassifier, NearestCentroid"
   ]
  },
  {
   "cell_type": "markdown",
   "metadata": {},
   "source": [
    "### With a Decision Tree"
   ]
  },
  {
   "cell_type": "code",
   "execution_count": 15,
   "metadata": {
    "ExecuteTime": {
     "end_time": "2016-09-25T18:42:22.276763",
     "start_time": "2016-09-25T18:42:16.738401"
    },
    "collapsed": false
   },
   "outputs": [
    {
     "data": {
      "text/plain": [
       "VotingClassifier(estimators=[('tree', DecisionTreeClassifier(class_weight=None, criterion='gini', max_depth=5,\n",
       "            max_features='sqrt', max_leaf_nodes=None, min_samples_leaf=1,\n",
       "            min_samples_split=2, min_weight_fraction_leaf=0.0,\n",
       "            presort=False, random_state=None, splitter='best')), ('ba...owski',\n",
       "           metric_params=None, n_jobs=1, n_neighbors=5, p=2,\n",
       "           weights='uniform'))],\n",
       "         voting='soft', weights=None)"
      ]
     },
     "execution_count": 15,
     "metadata": {},
     "output_type": "execute_result"
    }
   ],
   "source": [
    "vc = VotingClassifier(\n",
    "    [\n",
    "        ('tree', DecisionTreeClassifier(max_features = 'sqrt', max_depth = 5)),\n",
    "        ('bayes', BernoulliNB()),\n",
    "        # ('vector', SVC(kernel = 'linear', probability = True)),\n",
    "        ('neighbours', KNeighborsClassifier(5, weights = 'uniform'))\n",
    "    ],\n",
    "    voting = 'soft'\n",
    ")\n",
    "vc.fit(X_train, y_train)"
   ]
  },
  {
   "cell_type": "code",
   "execution_count": 16,
   "metadata": {
    "ExecuteTime": {
     "end_time": "2016-09-25T18:43:21.451932",
     "start_time": "2016-09-25T18:42:22.278294"
    },
    "collapsed": false
   },
   "outputs": [
    {
     "data": {
      "text/plain": [
       "0.97990123456790124"
      ]
     },
     "execution_count": 16,
     "metadata": {},
     "output_type": "execute_result"
    }
   ],
   "source": [
    "vc.score(X_test, y_test)"
   ]
  },
  {
   "cell_type": "markdown",
   "metadata": {},
   "source": [
    "### With a Random Forest"
   ]
  },
  {
   "cell_type": "code",
   "execution_count": 25,
   "metadata": {
    "ExecuteTime": {
     "end_time": "2016-09-25T18:51:15.535935",
     "start_time": "2016-09-25T18:51:11.095084"
    },
    "collapsed": false
   },
   "outputs": [
    {
     "data": {
      "text/plain": [
       "VotingClassifier(estimators=[('forest', RandomForestClassifier(bootstrap=True, class_weight=None, criterion='gini',\n",
       "            max_depth=None, max_features='auto', max_leaf_nodes=None,\n",
       "            min_samples_leaf=1, min_samples_split=2,\n",
       "            min_weight_fraction_leaf=0.0, n_estimators=40, n_jobs=1,\n",
       "            oob_score=False, random_state=None, verbose=0,\n",
       "            warm_start=False)), ('bayes', BernoulliNB(alpha=1.0, binarize=0.0, class_prior=None, fit_prior=True))],\n",
       "         voting='soft', weights=None)"
      ]
     },
     "execution_count": 25,
     "metadata": {},
     "output_type": "execute_result"
    }
   ],
   "source": [
    "vc = VotingClassifier(\n",
    "    [\n",
    "        ('forest', RandomForestClassifier(n_estimators = 40)),\n",
    "        ('bayes', BernoulliNB()),\n",
    "        # ('neighbours', KNeighborsClassifier(5, weights = 'uniform'))\n",
    "    ],\n",
    "    voting = 'soft'\n",
    ")\n",
    "vc.fit(X_train, y_train)"
   ]
  },
  {
   "cell_type": "code",
   "execution_count": 26,
   "metadata": {
    "ExecuteTime": {
     "end_time": "2016-09-25T18:51:16.095413",
     "start_time": "2016-09-25T18:51:15.537827"
    },
    "collapsed": false
   },
   "outputs": [
    {
     "data": {
      "text/plain": [
       "0.97851851851851857"
      ]
     },
     "execution_count": 26,
     "metadata": {},
     "output_type": "execute_result"
    }
   ],
   "source": [
    "vc.score(X_test, y_test)"
   ]
  },
  {
   "cell_type": "code",
   "execution_count": 24,
   "metadata": {
    "ExecuteTime": {
     "end_time": "2016-09-25T18:51:07.732381",
     "start_time": "2016-09-25T18:51:04.191316"
    },
    "collapsed": false
   },
   "outputs": [
    {
     "data": {
      "text/plain": [
       "RandomForestClassifier(bootstrap=True, class_weight=None, criterion='gini',\n",
       "            max_depth=None, max_features='auto', max_leaf_nodes=None,\n",
       "            min_samples_leaf=1, min_samples_split=2,\n",
       "            min_weight_fraction_leaf=0.0, n_estimators=40, n_jobs=1,\n",
       "            oob_score=False, random_state=None, verbose=0,\n",
       "            warm_start=False)"
      ]
     },
     "execution_count": 24,
     "metadata": {},
     "output_type": "execute_result"
    }
   ],
   "source": [
    "rf = RandomForestClassifier(n_estimators = 40, criterion = 'gini')\n",
    "rf.fit(X_train, y_train)"
   ]
  },
  {
   "cell_type": "code",
   "execution_count": 23,
   "metadata": {
    "ExecuteTime": {
     "end_time": "2016-09-25T18:50:53.014563",
     "start_time": "2016-09-25T18:50:52.833407"
    },
    "collapsed": false
   },
   "outputs": [
    {
     "data": {
      "text/plain": [
       "0.99683950617283945"
      ]
     },
     "execution_count": 23,
     "metadata": {},
     "output_type": "execute_result"
    }
   ],
   "source": [
    "rf.score(X_test, y_test)"
   ]
  },
  {
   "cell_type": "markdown",
   "metadata": {},
   "source": [
    "# Principal Component Analysis"
   ]
  },
  {
   "cell_type": "code",
   "execution_count": 11,
   "metadata": {
    "ExecuteTime": {
     "end_time": "2016-09-26T08:38:33.727776",
     "start_time": "2016-09-26T08:38:33.626923"
    },
    "collapsed": false
   },
   "outputs": [
    {
     "data": {
      "text/plain": [
       "1"
      ]
     },
     "execution_count": 11,
     "metadata": {},
     "output_type": "execute_result"
    }
   ],
   "source": [
    "1"
   ]
  },
  {
   "cell_type": "code",
   "execution_count": 12,
   "metadata": {
    "ExecuteTime": {
     "end_time": "2016-09-26T08:38:56.377108",
     "start_time": "2016-09-26T08:38:56.360524"
    },
    "collapsed": false
   },
   "outputs": [],
   "source": [
    "from sklearn.decomposition import PCA, RandomizedPCA"
   ]
  },
  {
   "cell_type": "code",
   "execution_count": 24,
   "metadata": {
    "ExecuteTime": {
     "end_time": "2016-09-26T08:40:48.521129",
     "start_time": "2016-09-26T08:40:45.000623"
    },
    "collapsed": false
   },
   "outputs": [],
   "source": [
    "pca = PCA(n_components = numpy.ceil(numpy.sqrt(X.shape[1])))\n",
    "fp = pca.fit_transform(X.sample(X.shape[1]))"
   ]
  },
  {
   "cell_type": "code",
   "execution_count": 26,
   "metadata": {
    "ExecuteTime": {
     "end_time": "2016-09-26T08:41:02.638005",
     "start_time": "2016-09-26T08:41:02.624606"
    },
    "collapsed": false
   },
   "outputs": [
    {
     "data": {
      "text/plain": [
       "array([[  1.22524993e-05,   5.71667241e-05,   5.01140314e-06, ...,\n",
       "         -5.05746857e-07,  -5.23525508e-07,  -1.53505500e-06],\n",
       "       [  2.07577085e-04,  -2.38671918e-04,   1.32994330e-05, ...,\n",
       "         -7.53258790e-06,   2.02788081e-06,  -1.05069041e-05],\n",
       "       [  2.16250770e-04,   1.68193168e-03,   4.08976939e-05, ...,\n",
       "         -1.56123410e-05,  -2.67864733e-06,  -8.72158215e-06],\n",
       "       ..., \n",
       "       [  7.77031806e-03,   9.14940741e-04,   3.10849581e-02, ...,\n",
       "          1.07420120e-05,  -1.14503298e-03,  -4.63228658e-04],\n",
       "       [ -8.61278655e-03,   4.03840107e-03,  -1.84458399e-01, ...,\n",
       "          3.50899101e-04,   2.35146761e-04,  -1.45584748e-03],\n",
       "       [  1.73388568e-02,   1.23569843e-03,  -8.46029310e-02, ...,\n",
       "         -1.22839843e-04,   9.52728256e-04,  -1.16880216e-05]])"
      ]
     },
     "execution_count": 26,
     "metadata": {},
     "output_type": "execute_result"
    }
   ],
   "source": [
    "pca.components_"
   ]
  },
  {
   "cell_type": "code",
   "execution_count": 36,
   "metadata": {
    "ExecuteTime": {
     "end_time": "2016-09-26T08:43:56.573328",
     "start_time": "2016-09-26T08:43:56.558187"
    },
    "collapsed": false
   },
   "outputs": [
    {
     "data": {
      "text/plain": [
       "array([ 0.98589314,  0.99676131,  0.9994246 ,  0.99967968,  0.99986566,\n",
       "        0.99991658,  0.99994384,  0.99995886,  0.99996959,  0.99997589,\n",
       "        0.99997973,  0.99998301,  0.99998594,  0.99998776,  0.99998957,\n",
       "        0.99999112,  0.9999926 ,  0.99999374,  0.99999457,  0.99999535,\n",
       "        0.99999587,  0.99999634,  0.99999671,  0.99999701,  0.99999728,\n",
       "        0.99999753,  0.99999776,  0.99999792,  0.99999807,  0.99999821,\n",
       "        0.99999834,  0.99999845,  0.99999855])"
      ]
     },
     "execution_count": 36,
     "metadata": {},
     "output_type": "execute_result"
    }
   ],
   "source": [
    "pca.explained_variance_ratio_.cumsum()"
   ]
  },
  {
   "cell_type": "code",
   "execution_count": 25,
   "metadata": {
    "ExecuteTime": {
     "end_time": "2016-09-26T08:40:48.529955",
     "start_time": "2016-09-26T08:40:48.522704"
    },
    "collapsed": false
   },
   "outputs": [
    {
     "data": {
      "text/plain": [
       "array([[  2.99403730e+03,   5.23470710e+02,   4.33833830e+01, ...,\n",
       "          2.81167161e-01,  -2.82240149e+00,  -3.87890140e+00],\n",
       "       [  3.11309225e+03,   2.49499446e+02,   1.06097727e+02, ...,\n",
       "          5.83474947e-01,   4.50463007e-01,   2.92711226e+00],\n",
       "       [ -6.38871837e+02,   7.05052922e+02,   1.21769999e+02, ...,\n",
       "          5.24918733e+01,  -7.15207580e+00,   3.27837647e+01],\n",
       "       ..., \n",
       "       [  2.66624391e+03,  -2.20252164e+02,   8.55621342e+01, ...,\n",
       "         -7.22995003e-01,  -1.33330046e+00,   3.29646235e-02],\n",
       "       [  3.62384868e+03,  -2.99568895e+01,   1.38615651e+02, ...,\n",
       "         -4.07426132e+00,  -9.27417562e-01,   1.42269254e+00],\n",
       "       [  1.85272251e+03,  -2.86221743e+02,   1.79010286e+01, ...,\n",
       "         -9.35186439e-01,  -3.64181721e-01,   4.72014576e-01]])"
      ]
     },
     "execution_count": 25,
     "metadata": {},
     "output_type": "execute_result"
    }
   ],
   "source": [
    "fp"
   ]
  },
  {
   "cell_type": "code",
   "execution_count": 10,
   "metadata": {
    "ExecuteTime": {
     "end_time": "2016-09-26T10:05:04.022031",
     "start_time": "2016-09-26T10:05:03.880017"
    },
    "collapsed": false
   },
   "outputs": [
    {
     "ename": "NameError",
     "evalue": "name 'RandomizedPCA' is not defined",
     "output_type": "error",
     "traceback": [
      "\u001b[0;31m---------------------------------------------------------------------------\u001b[0m",
      "\u001b[0;31mNameError\u001b[0m                                 Traceback (most recent call last)",
      "\u001b[0;32m<ipython-input-10-355a74750be3>\u001b[0m in \u001b[0;36m<module>\u001b[0;34m()\u001b[0m\n\u001b[0;32m----> 1\u001b[0;31m \u001b[0mrpca\u001b[0m \u001b[0;34m=\u001b[0m \u001b[0mRandomizedPCA\u001b[0m\u001b[0;34m(\u001b[0m\u001b[0mn_components\u001b[0m \u001b[0;34m=\u001b[0m \u001b[0;36m3\u001b[0m \u001b[0;34m*\u001b[0m \u001b[0mint\u001b[0m\u001b[0;34m(\u001b[0m\u001b[0mnumpy\u001b[0m\u001b[0;34m.\u001b[0m\u001b[0mceil\u001b[0m\u001b[0;34m(\u001b[0m\u001b[0mnumpy\u001b[0m\u001b[0;34m.\u001b[0m\u001b[0msqrt\u001b[0m\u001b[0;34m(\u001b[0m\u001b[0mX\u001b[0m\u001b[0;34m.\u001b[0m\u001b[0mshape\u001b[0m\u001b[0;34m[\u001b[0m\u001b[0;36m1\u001b[0m\u001b[0;34m]\u001b[0m\u001b[0;34m)\u001b[0m\u001b[0;34m)\u001b[0m\u001b[0;34m)\u001b[0m\u001b[0;34m,\u001b[0m \u001b[0mrandom_state\u001b[0m \u001b[0;34m=\u001b[0m \u001b[0;36m0\u001b[0m\u001b[0;34m)\u001b[0m\u001b[0;34m\u001b[0m\u001b[0m\n\u001b[0m\u001b[1;32m      2\u001b[0m \u001b[0mfpr\u001b[0m \u001b[0;34m=\u001b[0m \u001b[0mrpca\u001b[0m\u001b[0;34m.\u001b[0m\u001b[0mfit_transform\u001b[0m\u001b[0;34m(\u001b[0m\u001b[0mX\u001b[0m\u001b[0;34m)\u001b[0m\u001b[0;34m\u001b[0m\u001b[0m\n",
      "\u001b[0;31mNameError\u001b[0m: name 'RandomizedPCA' is not defined"
     ]
    }
   ],
   "source": [
    "rpca = RandomizedPCA(n_components = 3 * int(numpy.ceil(numpy.sqrt(X.shape[1]))), random_state = 0)\n",
    "fpr = rpca.fit_transform(X)"
   ]
  },
  {
   "cell_type": "code",
   "execution_count": 46,
   "metadata": {
    "ExecuteTime": {
     "end_time": "2016-09-26T08:48:53.760298",
     "start_time": "2016-09-26T08:48:53.754374"
    },
    "collapsed": false
   },
   "outputs": [
    {
     "data": {
      "text/plain": [
       "array([[ -2.05162502e-06,   2.36404485e-05,  -2.64861672e-07, ...,\n",
       "          7.61837491e-09,   8.09622764e-09,   1.72307363e-08],\n",
       "       [ -8.84286313e-06,  -8.93584517e-05,  -4.53309653e-07, ...,\n",
       "          1.48547032e-07,   1.98878820e-07,   2.62087185e-07],\n",
       "       [ -8.38299924e-06,   8.40169125e-05,   1.90874004e-06, ...,\n",
       "          2.64659407e-08,  -7.43523161e-08,  -4.61373578e-09],\n",
       "       ..., \n",
       "       [ -1.37934447e-02,  -1.03957309e-02,   6.30458586e-02, ...,\n",
       "          2.07893403e-03,   6.27302292e-03,   5.03634461e-03],\n",
       "       [  5.42659372e-02,  -4.30943428e-02,   1.22493223e-03, ...,\n",
       "         -1.53654704e-03,  -2.79661611e-03,   4.95579849e-03],\n",
       "       [ -1.55946532e-02,  -4.85879567e-03,   7.30231978e-02, ...,\n",
       "         -2.00039693e-03,  -1.79164029e-02,  -5.75955015e-03]])"
      ]
     },
     "execution_count": 46,
     "metadata": {},
     "output_type": "execute_result"
    }
   ],
   "source": [
    "rpca.components_"
   ]
  },
  {
   "cell_type": "code",
   "execution_count": 47,
   "metadata": {
    "ExecuteTime": {
     "end_time": "2016-09-26T08:48:54.575909",
     "start_time": "2016-09-26T08:48:54.570441"
    },
    "collapsed": false
   },
   "outputs": [
    {
     "data": {
      "text/plain": [
       "array([ 0.97203384,  0.99557176,  0.99951615,  0.99986639,  0.99996034,\n",
       "        0.99998018,  0.99998117,  0.99998123,  0.99998124,  0.99998124,\n",
       "        0.99998125,  0.99998125,  0.99998125,  0.99998125,  0.99998125,\n",
       "        0.99998125,  0.99998125,  0.99998125,  0.99998125,  0.99998125,\n",
       "        0.99998125,  0.99998125,  0.99998125,  0.99998125,  0.99998125,\n",
       "        0.99998125,  0.99998125,  0.99998125,  0.99998125,  0.99998125,\n",
       "        0.99998125,  0.99998125,  0.99998125])"
      ]
     },
     "execution_count": 47,
     "metadata": {},
     "output_type": "execute_result"
    }
   ],
   "source": [
    "rpca.explained_variance_ratio_.cumsum()"
   ]
  },
  {
   "cell_type": "code",
   "execution_count": 48,
   "metadata": {
    "ExecuteTime": {
     "end_time": "2016-09-26T08:48:59.610157",
     "start_time": "2016-09-26T08:48:59.603857"
    },
    "collapsed": false
   },
   "outputs": [
    {
     "data": {
      "text/plain": [
       "array([[ -5.57242137e+03,  -6.97726614e+02,  -9.60935185e+01, ...,\n",
       "          4.52502765e+00,   6.08651329e+00,   1.07627157e+01],\n",
       "       [ -6.46434803e+03,  -5.22476422e+02,  -3.72675488e+01, ...,\n",
       "          1.82724639e+00,   1.36608331e-01,  -3.02781270e+00],\n",
       "       [ -5.20094135e+03,  -2.01173976e+02,  -1.22304939e+02, ...,\n",
       "          3.47011293e+02,   2.54346861e+02,   1.31603200e+02],\n",
       "       ..., \n",
       "       [ -3.95062820e+03,  -1.06299365e+02,  -1.22328880e+02, ...,\n",
       "          8.45455705e+00,   9.26241540e+00,  -1.27657605e+01],\n",
       "       [ -4.10767855e+03,  -2.32689062e+02,  -1.22326175e+02, ...,\n",
       "         -2.22668376e+00,  -5.81971603e+00,   1.25110283e+00],\n",
       "       [ -3.05985021e+03,  -1.18832227e+03,  -7.44872687e+01, ...,\n",
       "         -1.04209771e+01,  -2.06468018e+01,  -1.92082303e+01]])"
      ]
     },
     "execution_count": 48,
     "metadata": {},
     "output_type": "execute_result"
    }
   ],
   "source": [
    "fpr"
   ]
  },
  {
   "cell_type": "code",
   "execution_count": null,
   "metadata": {
    "ExecuteTime": {
     "end_time": "2016-09-26T10:05:04.022585",
     "start_time": "2016-09-26T13:04:58.697Z"
    },
    "collapsed": false
   },
   "outputs": [],
   "source": [
    "df = pandas.concat(\n",
    "    [\n",
    "        pandas.DataFrame(fpr, index = X.index, columns = ['component' + str(x) for x in range(fpr.shape[1])]),\n",
    "        y\n",
    "    ],\n",
    "    axis = 1\n",
    ")\n",
    "\n",
    "df.to_csv('dev/features_pc_plus.csv', index = True, header = True)"
   ]
  },
  {
   "cell_type": "markdown",
   "metadata": {},
   "source": [
    "# Whitespace"
   ]
  },
  {
   "cell_type": "markdown",
   "metadata": {},
   "source": [
    "&nbsp;\n",
    "\n",
    "&nbsp;\n",
    "\n",
    "&nbsp;\n",
    "\n",
    "&nbsp;\n",
    "\n",
    "&nbsp;\n",
    "\n",
    "&nbsp;\n",
    "\n",
    "&nbsp;\n",
    "\n",
    "&nbsp;\n",
    "\n",
    "&nbsp;\n",
    "\n",
    "&nbsp;\n",
    "\n",
    "&nbsp;\n",
    "\n",
    "&nbsp;\n",
    "\n",
    "&nbsp;\n",
    "\n",
    "&nbsp;\n",
    "\n",
    "&nbsp;\n",
    "\n",
    "&nbsp;\n",
    "\n",
    "&nbsp;\n",
    "\n",
    "&nbsp;\n",
    "\n",
    "&nbsp;\n",
    "\n",
    "&nbsp;\n",
    "\n",
    "&nbsp;\n",
    "\n",
    "&nbsp;\n",
    "\n",
    "&nbsp;\n",
    "\n",
    "&nbsp;\n",
    "\n"
   ]
  }
 ],
 "metadata": {
  "celltoolbar": "Initialisation Cell",
  "kernelspec": {
   "display_name": "Python 2",
   "language": "python2",
   "name": "python2"
  },
  "language_info": {
   "codemirror_mode": {
    "name": "ipython",
    "version": 2
   },
   "file_extension": ".py",
   "mimetype": "text/x-python",
   "name": "python",
   "nbconvert_exporter": "python",
   "pygments_lexer": "ipython2",
   "version": "2.7.12"
  },
  "notify_time": "10"
 },
 "nbformat": 4,
 "nbformat_minor": 1
}
